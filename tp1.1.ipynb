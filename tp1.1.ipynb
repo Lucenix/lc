{
 "cells": [
  {
   "cell_type": "markdown",
   "id": "c4df44e7-d9dc-482b-9d96-0750075fecef",
   "metadata": {},
   "source": [
    "# TP1 - Grupo 14\n",
    "\n",
    "André Lucena Ribas Ferreira - A94956\n",
    "\n",
    "Paulo André Alegre Pinto - A97391"
   ]
  },
  {
   "cell_type": "markdown",
   "id": "fdce4a3a-e48f-47ff-a8e2-f5d25f22aee7",
   "metadata": {},
   "source": [
    "1. Para cada Timeslot, cada Líder tem de participar do seu próprio Projeto.\n",
    "\n",
    "Isto pode ser traduzido da seguinte maneira:\n",
    "\n",
    "1.1 Para cada Timeslot, cada Colaborador participa de um Projeto se o seu Líder também participar\n",
    "\n",
    "$$ tex $$"
   ]
  },
  {
   "cell_type": "code",
   "execution_count": null,
   "id": "7549c287-036c-49de-bdfc-63029465a3ea",
   "metadata": {},
   "outputs": [],
   "source": [
    "#Cada Líder tem de participar do seu projeto OU SEJA\n",
    "    #Cada Colaborador participa apenas de um projeto se o seu líder participar\n",
    "for t in xDict:\n",
    "    for s in xDict[t]:\n",
    "        for p in xDict[t][s]:\n",
    "            for c in xDict[t][s][p]:\n",
    "                solver.Add(xDict[t][s][p][c] <= xDict[t][s][p][projDict[p]['lider']])"
   ]
  },
  {
   "cell_type": "markdown",
   "id": "1c522e45-900f-42cf-8c06-46f2813aa83b",
   "metadata": {},
   "source": [
    "2. Para cada Timeslot, cada Colaborador participa apenas de um Projeto.\n",
    "$$ tex $$"
   ]
  },
  {
   "cell_type": "code",
   "execution_count": null,
   "id": "785bf75d-5c60-4993-ab1f-496a3f2a1d67",
   "metadata": {},
   "outputs": [],
   "source": []
  },
  {
   "cell_type": "code",
   "execution_count": 23,
   "id": "84e6b73d-fb5b-4757-bce5-f97e23e1eea7",
   "metadata": {},
   "outputs": [
    {
     "ename": "AttributeError",
     "evalue": "type object 'Solver' has no attribute 'Optimal'",
     "output_type": "error",
     "traceback": [
      "\u001b[1;31m---------------------------------------------------------------------------\u001b[0m",
      "\u001b[1;31mAttributeError\u001b[0m                            Traceback (most recent call last)",
      "Input \u001b[1;32mIn [23]\u001b[0m, in \u001b[0;36m<cell line: 106>\u001b[1;34m()\u001b[0m\n\u001b[0;32m    103\u001b[0m     \u001b[38;5;28;01melse\u001b[39;00m:\n\u001b[0;32m    104\u001b[0m         \u001b[38;5;28mprint\u001b[39m(\u001b[38;5;124m\"\u001b[39m\u001b[38;5;124mNao é possivel construir o hórario\u001b[39m\u001b[38;5;124m\"\u001b[39m)\n\u001b[1;32m--> 106\u001b[0m \u001b[43mscheduleStartUp\u001b[49m\u001b[43m(\u001b[49m\u001b[43mS\u001b[49m\u001b[43m,\u001b[49m\u001b[43m \u001b[49m\u001b[43mT\u001b[49m\u001b[43m,\u001b[49m\u001b[43m \u001b[49m\u001b[43mP\u001b[49m\u001b[43m,\u001b[49m\u001b[43m \u001b[49m\u001b[43mC\u001b[49m\u001b[43m,\u001b[49m\u001b[43m \u001b[49m\u001b[43mprojetos\u001b[49m\u001b[43m,\u001b[49m\u001b[43m \u001b[49m\u001b[43mmatrix\u001b[49m\u001b[43m)\u001b[49m\n",
      "Input \u001b[1;32mIn [23]\u001b[0m, in \u001b[0;36mscheduleStartUp\u001b[1;34m(S, T, P, C, projDict, dispMatrix)\u001b[0m\n\u001b[0;32m     71\u001b[0m solver\u001b[38;5;241m.\u001b[39mMaximize(\u001b[38;5;28msum\u001b[39m([xDict[t][s][p][projDict[p][\u001b[38;5;124m'\u001b[39m\u001b[38;5;124mlider\u001b[39m\u001b[38;5;124m'\u001b[39m]] \u001b[38;5;28;01mfor\u001b[39;00m t \u001b[38;5;129;01min\u001b[39;00m xDict \u001b[38;5;28;01mfor\u001b[39;00m s \u001b[38;5;129;01min\u001b[39;00m xDict[t] \u001b[38;5;28;01mfor\u001b[39;00m p \u001b[38;5;129;01min\u001b[39;00m xDict[t][s]]))\n\u001b[0;32m     73\u001b[0m status \u001b[38;5;241m=\u001b[39m solver\u001b[38;5;241m.\u001b[39mSolve()\n\u001b[1;32m---> 74\u001b[0m \u001b[38;5;28;01mif\u001b[39;00m status \u001b[38;5;241m==\u001b[39m \u001b[43mpywraplp\u001b[49m\u001b[38;5;241;43m.\u001b[39;49m\u001b[43mSolver\u001b[49m\u001b[38;5;241;43m.\u001b[39;49m\u001b[43mOptimal\u001b[49m:\n\u001b[0;32m     75\u001b[0m     \u001b[38;5;66;03m#Limitar os mínimos aos máximos descobertos pela solução anterior\u001b[39;00m\n\u001b[0;32m     76\u001b[0m     \u001b[38;5;28;01mfor\u001b[39;00m p \u001b[38;5;129;01min\u001b[39;00m \u001b[38;5;28mrange\u001b[39m(P):\n\u001b[0;32m     77\u001b[0m         solver\u001b[38;5;241m.\u001b[39mAdd(\u001b[38;5;28msum\u001b[39m([xDict[t][s][p][projDict[p][\u001b[38;5;124m'\u001b[39m\u001b[38;5;124mlider\u001b[39m\u001b[38;5;124m'\u001b[39m]] \u001b[38;5;28;01mfor\u001b[39;00m t \u001b[38;5;129;01min\u001b[39;00m xDict \u001b[38;5;28;01mfor\u001b[39;00m s \u001b[38;5;129;01min\u001b[39;00m xDict[t] \u001b[38;5;28;01mif\u001b[39;00m p \u001b[38;5;129;01min\u001b[39;00m xDict[t][s]]) \u001b[38;5;241m>\u001b[39m\u001b[38;5;241m=\u001b[39m \n\u001b[0;32m     78\u001b[0m                    \u001b[38;5;28msum\u001b[39m([xDict[t][s][p][projDict[p][\u001b[38;5;124m'\u001b[39m\u001b[38;5;124mlider\u001b[39m\u001b[38;5;124m'\u001b[39m]]\u001b[38;5;241m.\u001b[39msolution_value() \u001b[38;5;28;01mfor\u001b[39;00m t \u001b[38;5;129;01min\u001b[39;00m xDict \u001b[38;5;28;01mfor\u001b[39;00m s \u001b[38;5;129;01min\u001b[39;00m xDict[t] \u001b[38;5;28;01mif\u001b[39;00m p \u001b[38;5;129;01min\u001b[39;00m xDict[t][s]]))\n",
      "\u001b[1;31mAttributeError\u001b[0m: type object 'Solver' has no attribute 'Optimal'"
     ]
    }
   ],
   "source": [
    "from ortools.linear_solver import pywraplp\n",
    "\n",
    "T, S, P, C = 4, 2, 3, 5    #período de 8 horas; 2 salas\n",
    "\n",
    "projetos = {}\n",
    "projetos[0] = {'colaboradores':[0,1,2,4], 'lider':4, 'min':1}\n",
    "projetos[1] = {'colaboradores':[1,2,3], 'lider':1, 'min':2}\n",
    "projetos[2] = {'colaboradores':[0,2,3,4], 'lider':3, 'min':2}\n",
    "\n",
    "matrix = {}\n",
    "matrix[0] = [1,0,1,1]\n",
    "matrix[1] = [1,1,1,1]\n",
    "matrix[2] = [1,1,0,1]\n",
    "matrix[3] = [1,1,1,0]\n",
    "matrix[4] = [1,1,1,0]\n",
    "\n",
    "def scheduleStartUp(S, T, P, C, projDict, dispMatrix):\n",
    "    xDict = {}\n",
    "    result = dict()\n",
    "    solver = pywraplp.Solver.CreateSolver('SCIP')\n",
    "    #dicionário com T*P*C*S variáveis -> xDict[t][p][c][s] == 1 sse c estará presente na reunião do projeto p no timeslot t na sala s.\n",
    "    for t in range(T):\n",
    "        xDict[t] = {}\n",
    "        for s in range(S):\n",
    "            xDict[t][s] = {}\n",
    "            for p in range(P):\n",
    "                if dispMatrix[projDict[p]['lider']][t] == 1:\n",
    "                    xDict[t][s][p] = {}\n",
    "                    #Cada Colaborador apenas pode participar dos seus projetos -> Obrigatório pela definição dos dicionários\n",
    "                    for c in projDict[p]['colaboradores']:\n",
    "                        #Cada Colaborador tem de ter horário -> Obrigatório pela definição dos dicionários\n",
    "                        if dispMatrix[c][t] == 1:\n",
    "                            xDict[t][s][p][c] = solver.BoolVar('x[%i][%i][%i}[%i]' % (t,s,p,c))\n",
    "                \n",
    "    #Para cada Timeslot,\n",
    "    for t in xDict:\n",
    "        #Cada Sala apenas pode ter um projeto\n",
    "        for s in xDict[t]:\n",
    "            solver.Add(sum([xDict[t][s][p][projDict[p]['lider']] for p in xDict[t][s]]) <= 1)\n",
    "            \n",
    "        #Cada Colaborador possível nesse timeslot pode ter, no máximo, 1 reunião\n",
    "        for c in range(C):\n",
    "            solver.Add(sum([xDict[t][s][p][c] for s in xDict[t] for p in xDict[t][s] if c in xDict[t][s][p]]) <= 1)\n",
    "            \n",
    "        #Cada Colaborador tem de ter horário -> Obrigatório pela definição dos dicionários\n",
    "        #Cada Colaborador apenas pode participar dos seus projetos -> Obrigatório pela definição dos dicionários\n",
    "        \n",
    "        #Cada Líder tem de participar do seu projeto OU SEJA\n",
    "            #Cada Colaborador participa apenas de um projeto se o seu líder participar\n",
    "        for s in xDict[t]:\n",
    "            for p in xDict[t][s]:\n",
    "                for c in xDict[t][s][p]:\n",
    "                    solver.Add(xDict[t][s][p][c] <= xDict[t][s][p][projDict[p]['lider']])\n",
    "                    \n",
    "        #Cada Projeto apenas pode ser selecionado se houver 'quórum', o projeto só existe se o líder existe\n",
    "            #Apenas se pode olhar para uma dada sala, ou podemos ver salas de outros projetos para algum colaborador\n",
    "            #Número de participantes efetivos / total de colaboradores >= 1 / 2\n",
    "            #Com cálculos chega-se a: 2*Número de participantes efetivos >= total de colaboradores\n",
    "                #É necessário multiplicar pelo valor do líder para que não obriguemos a ter um somatório de 0's (pessoas não vão) >= quorum\n",
    "        for p in range(P):\n",
    "            for s in xDict[t]:\n",
    "                if p in xDict[t][s]:\n",
    "                    solver.Add(2*sum([xDict[t][s][p][c] for c in xDict[t][s][p]]) >= \n",
    "                               len(projDict[p]['colaboradores']) * xDict[t][s][p][projDict[p]['lider']])\n",
    "        \n",
    "    #Para cada Projeto, o número de vezes que foi selecionado tem de ser igual ou maior ao seu mínimo\n",
    "    for p in range(P):\n",
    "        solver.Add(sum([xDict[t][s][p][projDict[p]['lider']] for t in xDict for s in xDict[t] if p in xDict[t][s]]) >= projDict[p]['min'])\n",
    "    \n",
    "    #Número total de reuniões realizadas\n",
    "    solver.Maximize(sum([xDict[t][s][p][projDict[p]['lider']] for t in xDict for s in xDict[t] for p in xDict[t][s]]))\n",
    "    \n",
    "    status = solver.Solve()\n",
    "    if status == pywraplp.Solver.OPTIMAL:\n",
    "        #Limitar os mínimos aos máximos descobertos pela solução anterior\n",
    "        for p in range(P):\n",
    "            solver.Add(sum([xDict[t][s][p][projDict[p]['lider']] for t in xDict for s in xDict[t] if p in xDict[t][s]]) >= \n",
    "                       sum([xDict[t][s][p][projDict[p]['lider']].solution_value() for t in xDict for s in xDict[t] if p in xDict[t][s]]))\n",
    "    \n",
    "        #Média das reuniões por participante (total de participações / total de participantes, que é constante)\n",
    "        solver.Minimize(sum([xDict[t][s][p][c] for t in xDict for s in xDict[t] for p in xDict[t][s] for c in xDict[t][s][p]]))\n",
    "    \n",
    "        status = solver.Solve()\n",
    "    \n",
    "    if status == pywraplp.Solver.OPTIMAL:\n",
    "        count = 0\n",
    "        for t in xDict:\n",
    "            print(f'Slot: {t}')\n",
    "            for s in xDict[t]:\n",
    "                for p in xDict[t][s]:\n",
    "                    if projDict[p]['lider'] in xDict[t][s][p] and xDict[t][s][p][projDict[p]['lider']].solution_value() == 1:\n",
    "                        l = projDict[p]['lider']\n",
    "                        print(f'Projeto {p} de líder {l} na Sala {s}')\n",
    "                        print(\"Colaboradores:\")\n",
    "                        for c in xDict[t][s][p]:\n",
    "                            if xDict[t][s][p][c].solution_value() == 1:\n",
    "                                print(f'{c}')\n",
    "                                count += 1\n",
    "                        print(\"\")\n",
    "            print(\"\")\n",
    "        print(\"Número médio de reuniões por colaborador: \")\n",
    "        print(f\"{count/C}\")\n",
    "    else:\n",
    "        print(\"Nao é possivel construir o hórario\")\n",
    "        \n",
    "scheduleStartUp(S, T, P, C, projetos, matrix)"
   ]
  },
  {
   "cell_type": "code",
   "execution_count": null,
   "id": "b840db87-663c-47c2-9911-0b0377c525ac",
   "metadata": {},
   "outputs": [],
   "source": []
  },
  {
   "cell_type": "code",
   "execution_count": null,
   "id": "d7c0f369-2627-476b-917e-49c40b826058",
   "metadata": {},
   "outputs": [],
   "source": []
  }
 ],
 "metadata": {
  "kernelspec": {
   "display_name": "Python 3 (ipykernel)",
   "language": "python",
   "name": "python3"
  },
  "language_info": {
   "codemirror_mode": {
    "name": "ipython",
    "version": 3
   },
   "file_extension": ".py",
   "mimetype": "text/x-python",
   "name": "python",
   "nbconvert_exporter": "python",
   "pygments_lexer": "ipython3",
   "version": "3.10.4"
  }
 },
 "nbformat": 4,
 "nbformat_minor": 5
}
