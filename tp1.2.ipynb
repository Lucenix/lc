{
 "cells": [
  {
   "cell_type": "code",
   "execution_count": 16,
   "id": "e68b5981-a63b-463f-a987-f59a51d01030",
   "metadata": {},
   "outputs": [
    {
     "name": "stdout",
     "output_type": "stream",
     "text": [
      "[[ 18 -15 -13 ...  39 -46  16]\n",
      " [-33  26   6 ...  -7 -58  31]\n",
      " [ 59 -15  19 ... -22   6 -63]\n",
      " ...\n",
      " [-55  32  33 ...  20 -51 -64]\n",
      " [ 39  46 -63 ...  14 -58 -42]\n",
      " [-29 -56  39 ...  43  22   3]]\n"
     ]
    },
    {
     "ename": "TypeError",
     "evalue": "bad operand type for abs(): 'Variable'",
     "output_type": "error",
     "traceback": [
      "\u001b[1;31m---------------------------------------------------------------------------\u001b[0m",
      "\u001b[1;31mTypeError\u001b[0m                                 Traceback (most recent call last)",
      "Input \u001b[1;32mIn [16]\u001b[0m, in \u001b[0;36m<cell line: 29>\u001b[1;34m()\u001b[0m\n\u001b[0;32m     26\u001b[0m     \u001b[38;5;28;01mfor\u001b[39;00m i \u001b[38;5;129;01min\u001b[39;00m \u001b[38;5;28mrange\u001b[39m(n):\n\u001b[0;32m     27\u001b[0m         solver\u001b[38;5;241m.\u001b[39mAdd((\u001b[38;5;28msum\u001b[39m([e[j] \u001b[38;5;241m*\u001b[39m L[j][i] \u001b[38;5;28;01mfor\u001b[39;00m j \u001b[38;5;129;01min\u001b[39;00m \u001b[38;5;28mrange\u001b[39m(m)]) \u001b[38;5;241m%\u001b[39m q) \u001b[38;5;241m==\u001b[39m \u001b[38;5;241m0\u001b[39m)\n\u001b[1;32m---> 29\u001b[0m \u001b[43mSVP\u001b[49m\u001b[43m(\u001b[49m\u001b[43mm\u001b[49m\u001b[43m,\u001b[49m\u001b[43mn\u001b[49m\u001b[43m,\u001b[49m\u001b[43mq\u001b[49m\u001b[43m)\u001b[49m\n",
      "Input \u001b[1;32mIn [16]\u001b[0m, in \u001b[0;36mSVP\u001b[1;34m(m, n, q)\u001b[0m\n\u001b[0;32m     19\u001b[0m     e[i] \u001b[38;5;241m=\u001b[39m solver\u001b[38;5;241m.\u001b[39mIntVar(\u001b[38;5;241m-\u001b[39m\u001b[38;5;241m1\u001b[39m,\u001b[38;5;241m1\u001b[39m,\u001b[38;5;124m'\u001b[39m\u001b[38;5;124me[\u001b[39m\u001b[38;5;132;01m%i\u001b[39;00m\u001b[38;5;124m]\u001b[39m\u001b[38;5;124m'\u001b[39m \u001b[38;5;241m%\u001b[39m i)\n\u001b[0;32m     20\u001b[0m \u001b[38;5;66;03m#print(e)\u001b[39;00m\n\u001b[0;32m     21\u001b[0m \n\u001b[0;32m     22\u001b[0m \u001b[38;5;66;03m#Tem de existir um elemento não nulo em e\u001b[39;00m\n\u001b[1;32m---> 23\u001b[0m solver\u001b[38;5;241m.\u001b[39mAdd(\u001b[38;5;28msum\u001b[39m([\u001b[38;5;28mabs\u001b[39m(e[j]) \u001b[38;5;28;01mfor\u001b[39;00m j \u001b[38;5;129;01min\u001b[39;00m \u001b[38;5;28mrange\u001b[39m(m)]) \u001b[38;5;241m>\u001b[39m \u001b[38;5;241m0\u001b[39m)\n\u001b[0;32m     25\u001b[0m \u001b[38;5;66;03m#Multiplicar e por L deve resultar num vetor de múltiplos de q\u001b[39;00m\n\u001b[0;32m     26\u001b[0m \u001b[38;5;28;01mfor\u001b[39;00m i \u001b[38;5;129;01min\u001b[39;00m \u001b[38;5;28mrange\u001b[39m(n):\n",
      "Input \u001b[1;32mIn [16]\u001b[0m, in \u001b[0;36m<listcomp>\u001b[1;34m(.0)\u001b[0m\n\u001b[0;32m     19\u001b[0m     e[i] \u001b[38;5;241m=\u001b[39m solver\u001b[38;5;241m.\u001b[39mIntVar(\u001b[38;5;241m-\u001b[39m\u001b[38;5;241m1\u001b[39m,\u001b[38;5;241m1\u001b[39m,\u001b[38;5;124m'\u001b[39m\u001b[38;5;124me[\u001b[39m\u001b[38;5;132;01m%i\u001b[39;00m\u001b[38;5;124m]\u001b[39m\u001b[38;5;124m'\u001b[39m \u001b[38;5;241m%\u001b[39m i)\n\u001b[0;32m     20\u001b[0m \u001b[38;5;66;03m#print(e)\u001b[39;00m\n\u001b[0;32m     21\u001b[0m \n\u001b[0;32m     22\u001b[0m \u001b[38;5;66;03m#Tem de existir um elemento não nulo em e\u001b[39;00m\n\u001b[1;32m---> 23\u001b[0m solver\u001b[38;5;241m.\u001b[39mAdd(\u001b[38;5;28msum\u001b[39m([\u001b[38;5;28;43mabs\u001b[39;49m\u001b[43m(\u001b[49m\u001b[43me\u001b[49m\u001b[43m[\u001b[49m\u001b[43mj\u001b[49m\u001b[43m]\u001b[49m\u001b[43m)\u001b[49m \u001b[38;5;28;01mfor\u001b[39;00m j \u001b[38;5;129;01min\u001b[39;00m \u001b[38;5;28mrange\u001b[39m(m)]) \u001b[38;5;241m>\u001b[39m \u001b[38;5;241m0\u001b[39m)\n\u001b[0;32m     25\u001b[0m \u001b[38;5;66;03m#Multiplicar e por L deve resultar num vetor de múltiplos de q\u001b[39;00m\n\u001b[0;32m     26\u001b[0m \u001b[38;5;28;01mfor\u001b[39;00m i \u001b[38;5;129;01min\u001b[39;00m \u001b[38;5;28mrange\u001b[39m(n):\n",
      "\u001b[1;31mTypeError\u001b[0m: bad operand type for abs(): 'Variable'"
     ]
    }
   ],
   "source": [
    "from ortools.linear_solver import pywraplp\n",
    "import numpy\n",
    "\n",
    "#  n  > 30\n",
    "# |m| > 1 + |n|\n",
    "# |q| > |m|\n",
    "\n",
    "n = 31\n",
    "m = 64\n",
    "q = 131\n",
    "\n",
    "def SVP(m,n,q):\n",
    "    solver = pywraplp.Solver.CreateSolver('SCIP')\n",
    "    L = numpy.random.randint(-(q-1)/2, (q-1)/2, (m, n))\n",
    "    print(L)\n",
    "    e = {}\n",
    "    #e é um vetor de tamanho m com valores inteiros -1, 0 ou 1\n",
    "    for i in range(m):\n",
    "        e[i] = solver.IntVar(-1,1,'e[%i]' % i)\n",
    "    #print(e)\n",
    "    \n",
    "    #Tem de existir um elemento não nulo em e\n",
    "    solver.Add(sum([abs(e[j]) for j in range(m)]) > 0)\n",
    "    \n",
    "    #Multiplicar e por L deve resultar num vetor de múltiplos de q\n",
    "    for i in range(n):\n",
    "        solver.Add((sum([e[j] * L[j][i] for j in range(m)]) % q) == 0)\n",
    "    \n",
    "SVP(m,n,q)"
   ]
  },
  {
   "cell_type": "code",
   "execution_count": null,
   "id": "1ed663fa-575f-4352-9dc3-35f59dfc29a3",
   "metadata": {},
   "outputs": [],
   "source": []
  }
 ],
 "metadata": {
  "kernelspec": {
   "display_name": "Python 3 (ipykernel)",
   "language": "python",
   "name": "python3"
  },
  "language_info": {
   "codemirror_mode": {
    "name": "ipython",
    "version": 3
   },
   "file_extension": ".py",
   "mimetype": "text/x-python",
   "name": "python",
   "nbconvert_exporter": "python",
   "pygments_lexer": "ipython3",
   "version": "3.10.4"
  }
 },
 "nbformat": 4,
 "nbformat_minor": 5
}
