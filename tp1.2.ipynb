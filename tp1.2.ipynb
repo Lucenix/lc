{
 "cells": [
  {
   "cell_type": "markdown",
   "id": "c86fb674-22aa-4a48-85bf-ca76bca93b0d",
   "metadata": {},
   "source": [
    "# TP1 - Grupo 14\n",
    "\n",
    "André Lucena Ribas Ferreira - A94956\n",
    "\n",
    "Paulo André Alegre Pinto - A97391"
   ]
  },
  {
   "cell_type": "markdown",
   "id": "8919de04-b89b-488a-9b52-bfa2c4686f0b",
   "metadata": {},
   "source": [
    "## Problema 2 - Cálculo do SVP\n",
    "\n",
    "Pretende-se alocar reuniões de Projetos a certas Salas, dentro de determinados 'Timeslots', aos Colaboradores de uma StartUp.\n",
    "\n",
    "Como 'inputs', o problema recebe:\n",
    "1. O número de 'Timeslots' $T$;\n",
    "2. O número de Salas $S$;\n",
    "3. O número de Projetos $P$;\n",
    "4. O número de Colaboradores $C$;\n",
    "5. O conjunto de Colaboradores de cada Projeto, o seu Líder e o número mínimo de reuniões semanais, num dicionário $proj$.\n",
    "6. A disponibilidade de cada Colaborador. Essa disponibilidade é representada numa matriz booleana de acessibilidade $disp$."
   ]
  },
  {
   "cell_type": "markdown",
   "id": "09c713a6-5ade-47d2-8da6-e18e583334d7",
   "metadata": {},
   "source": [
    "### Análise\n",
    "\n",
    "Para resolver o problema do SVP, decidimos usar duas famílias de variáveis, uma binária e outra inteira.\n",
    "\n",
    "A família de variáveis binárias $e_{}$ é definida com a seguinte semântica:\n",
    "\n",
    "colocar isto bonito:\n",
    "e[j][0] se e só se e[j] == -1\n",
    "e[j][1] se e só se e[j] == 0\n",
    "e[j][2] se e só se e[j] == 1\n",
    "\n",
    "A família de variáveis inteiras $k_{}$ servirá para conseguir iterar pelos números inteiros, de modo a se encontrar os múltiplos de $q$ para cada resultado da multiplicação."
   ]
  },
  {
   "cell_type": "code",
   "execution_count": null,
   "id": "e68b5981-a63b-463f-a987-f59a51d01030",
   "metadata": {
    "tags": []
   },
   "outputs": [],
   "source": [
    "from ortools.linear_solver import pywraplp\n",
    "import numpy\n",
    "\n",
    "#  n  > 30\n",
    "# |m| > 1 + |n|\n",
    "# |q| > |m|\n",
    "\n",
    "n = 5\n",
    "m = 16\n",
    "q = 37\n",
    "\n",
    "def SVP(m,n,q):\n",
    "    solver = pywraplp.Solver.CreateSolver('SCIP')\n",
    "    L = numpy.random.randint(-(q-1)/2, (q-1)/2, (m, n))\n",
    "    e = {}\n",
    "    k = {}\n",
    "    #e é um vetor de tamanho m com valores inteiros -1, 0 ou 1\n",
    "    for j in range(m):\n",
    "        e[j] = [solver.BoolVar('e[%i][-1]' % j),\n",
    "                solver.BoolVar('e[%i][0]' % j),\n",
    "                solver.BoolVar('e[%i][1]' % j)]\n",
    "        #e só pode ter um elemento por cada j\n",
    "        solver.Add(e[j][0] + e[j][1] + e[j][2] == 1)\n",
    "    \n",
    "            \n",
    "    #k é um vetor de tamanho n com valores inteiros\n",
    "    for i in range(n):\n",
    "        k[i] = solver.IntVar(-solver.infinity(), solver.infinity(), 'k[%i]' % i)\n",
    "    \n",
    "    #1. Tem de existir um elemento não nulo em e\n",
    "    solver.Add(sum([e[j][1] for j in range(m)]) <= m-1)\n",
    "    \n",
    "    #2. Multiplicar e por L deve resultar num vetor de múltiplos de q\n",
    "    for i in range(n):\n",
    "        solver.Add((sum([(e[j][2] - e[j][0])*L[j][i] for j in range(m)])) == q * k[i])\n",
    "    \n",
    "    solver.Maximize(sum([e[j][1] for j in range(m)]))\n",
    "    status = solver.Solve()\n",
    "    if status == pywraplp.Solver.OPTIMAL:\n",
    "        print(L)\n",
    "        print(\"\")\n",
    "        for i in range(n):\n",
    "            print(k[i].solution_value(), end = \" \")\n",
    "        print(\"\")\n",
    "        for j in range(m):\n",
    "            for k in range(3):\n",
    "                if e[j][k].solution_value():\n",
    "                    print(k-1, end = \" \")\n",
    "        return True\n",
    "    else:\n",
    "        print(L)\n",
    "        print(\"Não é possível resolver o problema\")\n",
    "        return False\n",
    "    \n",
    "count = 0\n",
    "while (not SVP(m,n,q) and count < 10):\n",
    "    count += 1\n",
    "print(f'Falhou {count} vezes.')"
   ]
  },
  {
   "cell_type": "markdown",
   "id": "2786b245-739e-4b99-825b-b6ef7bcda5d6",
   "metadata": {
    "tags": []
   },
   "source": [
    "###### "
   ]
  }
 ],
 "metadata": {
  "kernelspec": {
   "display_name": "Python 3 (ipykernel)",
   "language": "python",
   "name": "python3"
  },
  "language_info": {
   "codemirror_mode": {
    "name": "ipython",
    "version": 3
   },
   "file_extension": ".py",
   "mimetype": "text/x-python",
   "name": "python",
   "nbconvert_exporter": "python",
   "pygments_lexer": "ipython3",
   "version": "3.10.4"
  }
 },
 "nbformat": 4,
 "nbformat_minor": 5
}
