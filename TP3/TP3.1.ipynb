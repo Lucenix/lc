{
 "cells": [
  {
   "cell_type": "markdown",
   "id": "e8fd3824-c46d-4036-ae14-c2f2709e6c74",
   "metadata": {},
   "source": [
    "# TP3 - Grupo 14\n",
    "\n",
    "André Lucena Ribas Ferreira - A94956\n",
    "\n",
    "Paulo André Alegre Pinto - A97391"
   ]
  },
  {
   "cell_type": "markdown",
   "id": "ca0f3495-9158-4071-bfd9-b0406a6582e6",
   "metadata": {},
   "source": [
    "## Enunciado do Problema\n",
    "\n",
    "Pretende-se construir uma implementação simplificada do algoritmo “model checking” orientado aos interpolantes seguindo a estrutura apresentada nos apontamentos onde no passo $(n,m)$ na impossibilidade de encontrar um interpolante invariante se dá ao utilizador a possibilidade de incrementar um dos índices $n$ e $m$ à sua escolha.\n",
    "    \n",
    "Pretende-se aplicar este algoritmo ao problema da da multiplicação de inteiros positivos em `BitVec` (apresentado no TP2).\n",
    "\n",
    "![Algoritmo de Multiplicação](https://paper-attachments.dropboxusercontent.com/s_9896551CC5FAD2B2EB6E4EBC08522545FA66314D29FE6A5BE8E593259F8E8A37_1668181619605_multiplicacao-overflow.png)"
   ]
  },
  {
   "cell_type": "markdown",
   "id": "0e8716ff-2d60-4d16-935a-3bf863e6a191",
   "metadata": {},
   "source": [
    "## Análise\n",
    "\n",
    "A Análise deste problema consiste em definir as diferenças entre o problema resolvido no TP2 e este. Principalmente, a utilização de SFOTS para o descrever, tendo em conta as diferenças nas condições de erro e na notação, tal como visto nas aulas práticas."
   ]
  },
  {
   "cell_type": "markdown",
   "id": "8fcbc63e-91f2-4d3c-a47d-55779d7d08a8",
   "metadata": {},
   "source": [
    "### Definição do SFOTS\n",
    "\n",
    "Dessa forma, o sistema dinâmico será um tuplo:\n",
    "$$ \\sum \\; \\equiv \\; <\\mathcal{T},X,next,I,T,E> $$\n",
    "\n",
    "Onde se verifica o seguinte, para representar o sistema em específico:\n",
    " 1. $\\mathcal{T}$ representa um SMT apropriada, que pertence à FOL, que vamos representar no nosso Solver;\n",
    " 2. $X$ é o conjunto das variáveis base do problema;\n",
    " 3. $next$ é um operador que gera \"clones\" das variáves em $X$;\n",
    " 4. $I$ é um predicado unário que determina quais os estados iniciais;\n",
    " 5. $T$ é um predicado binário que determina as transições entre dois estados;\n",
    " 6. $E$ é um predicado unário que determina os estados de erro.\n",
    "\n",
    "Nesse sentido, o modelo terá 3 variáveis do tipo BitVector, $x$, $y$ e $z$, este último que terminará com o resultado da execução. Para além destes, também terá uma variável inteira $p$ que representa o estado de execução. Definiu-se um inteiro para cada um dos estados, nomeadamente:\n",
    " - $0$ para Estado central (loop). Nele testam-se os casos.\n",
    " - $1$ para Estado de execução se $y$ for par (não zero).\n",
    " - $2$ para Estado de execução se $y$ for ímpar (não zero).\n",
    " - $3$ para Estado Final.\n",
    " \n",
    "As cópias destas variáveis serão dadas pelo operador $next$, cuja notação se pode expandir para incluir qualquer predicado $\\mathsf{P}$ que tenha $X$ como o conjunto das variáveis livres. Assim, $\\,next(X) \\,\\equiv\\, X'\\,$ e $\\,next(\\mathsf{P}) \\equiv \\mathsf{P'}\\equiv\\mathsf{P}\\,\\{X\\,/\\,next(X)\\}$ Esta notação segue a convenção das aulas teóricas, o que lhe permite ficar \"livre de variáveis\".\n",
    "\n",
    "Considerando o estado inicial, manter-se-á a optimização possível à execução do autómato, isto é, definir o valor $b$ o menor dos dois. Isto diminui o número de operações totais necessárias, no pior caso. O estado inicial será então defindo pelo predicado seguinte:\n",
    "\n",
    "$$ I \\quad \\equiv \\quad p = 0 \\wedge x = a \\wedge y = b \\wedge z = 0$$\n",
    "\n",
    "O predicado de transição não terá as transições para os estados de erro, sendo indêntica à anterior nos restantes aspetos.\n",
    "\n",
    "\\begin{array}{c}\n",
    "T \\equiv\\\\\n",
    "(\\mathit{p} = 0 \\wedge y \\equiv 0 \\pmod 2 \\wedge y \\neq 0 \\wedge \\mathit{p}' = 1 \\wedge x' = x \\wedge y' = y \\wedge z' = z) \\\\\n",
    "\\vee\\\\\n",
    "(\\mathit{p} = 0 \\wedge y \\equiv 1 \\pmod 2 \\wedge y \\neq 0 \\wedge \\mathit{p}' = 2 \\wedge x' = x \\wedge y' = y \\wedge z' = z) \\\\\n",
    "\\vee\\\\\n",
    "(\\mathit{p} = 1 \\wedge 2x < 2^n \\wedge \\mathit{p}' = 0 \\wedge x' = 2x \\wedge y' = y/2 \\wedge z' = z)\\\\\n",
    "\\vee\\\\\n",
    "(\\mathit{p} = 2 \\wedge 2^n - 1 - z \\geq x \\wedge \\mathit{p}' = 0 \\wedge x' = x \\wedge y' = y - 1 \\wedge z' = z + x)\\\\\n",
    "\\vee\\\\\n",
    "(\\mathit{p} = 0 \\wedge y = 0 \\wedge \\mathit{p}' = 3 \\wedge x' = x \\wedge y' = y \\wedge z' = z)\\\\\n",
    "\\vee\\\\\n",
    "(\\mathit{p} = 3 \\wedge \\mathit{p}' = 3 \\wedge x' = x \\wedge y' = y \\wedge z' = z)\\\\\n",
    "\\end{array}\n",
    "\n",
    "Como condição de erro, considera-se as retiradas do predicado em cima descrito, mas sem a consideração do estado atual. No entanto, deve-se limitar a esta condição o valor de $y$ ser diferente de $0$, já que não se considera erro occorrer algum possível overflow se este não for efetivamenteo calculado.\n",
    "\n",
    "\\begin{array}{c}\n",
    "E \\equiv \\\\\n",
    "(y \\neq 0 \\wedge 2x \\leq 2^n \\wedge y \\equiv 0 \\pmod 2)\\\\\n",
    "\\vee\\\\\n",
    "(y \\neq 0 \\wedge 2^n - 1 - z < x \\wedge y \\equiv 1 \\pmod 2)\\\\\n",
    "\\end{array}\n",
    "\n",
    "Um traço de execução é uma sequência de estados, onde dois estados consequentes validam um predicado de transição. Tal como no TP2, o número de estados é finito, já que os valores que $a$ e $b$ podem tomar estão limitados pela precisão $n$, e porque as operações executadas tendem para um dos estados de *loop*, qualquer traço de execução deste problema é limitado. Dessa forma, pode-se sempre calcular o traço até ao momento em que um estado transiciona para outro que já ocorreu no traço, descrevendo assim um loop."
   ]
  },
  {
   "cell_type": "markdown",
   "id": "45d465ca-8e0c-4b12-bba1-d267d16f40c9",
   "metadata": {},
   "source": [
    "### Segurança e Acessibilidade\n",
    "\n",
    "Num SFOTS $\\Sigma \\; \\equiv \\; <\\mathcal{T},X,next,I,T,E>$  a  verificação deriva das noções de acessibilidade e insegurança:\n",
    "- Um estado $\\,r\\,$ é acessível em $\\,\\Sigma\\,$ quando $\\,r\\in\\mathsf{I}\\,$ ou quando existe uma transição $\\;(s,r)\\in \\mathsf{T}\\;$ em que $\\,s\\,$ é acessível em $\\,\\Sigma\\,$.\n",
    "- Um estado $\\,u\\,$ é inseguro em $\\,\\Sigma\\,$ quando $\\,u\\in \\mathsf{E}\\,$ ou quando existe uma transição $\\,(u,\\upsilon)\\in \\mathsf{T}\\,$ em que $\\,\\upsilon\\,$ é inseguro em $\\,\\Sigma\\,$.\n",
    "- O SFOTS $\\,\\Sigma\\,$ é inseguro se existe algum estado $\\,s\\,$ que seja simultaneamente acessível e inseguro. Em caso contrário o sistema $\\,\\Sigma\\,$ é seguro.\n",
    "\n",
    "Para ajudar na definição dos estados inseguros, define-se um SFOTS $\\Sigma^T \\; \\equiv \\; <\\mathcal{T},Y,next,E,B,I>$, onde $Y$ é um clone das variáveis de $X$ e $B \\equiv T^{-1}$.\n",
    "\n",
    "Desses dois sistemas, definem-se os predicados $\\;\\mathsf{R}_n\\;\\equiv\\; \\mathsf{I}\\,\\land\\,\\mathsf{T}^n\\,$ e $\\mathsf{U}_m\\;\\equiv\\; \\mathsf{E} \\wedge \\mathsf{B}^m $ que representam traços finitos com $n$, respetivamente $m$, transições cujos estados são acessíveis, respetivamente inseguros.\n",
    "\n",
    "Para avaliar a segurança eventual do sistema $\\;\\Sigma\\;$ é necessário determinar se nenhum estado é simultâneamente acessível e inseguro. Para isso tem que se avaliar se, para todo o $\\,n,\\,m$, a fórmula  $\\:\\:V_{n,m}\\,\\equiv\\,\\mathsf{R}_n\\,\\land\\,(X_n=Y_m) \\,\\land\\,\\mathsf{U}_m\\:\\:$ é insatisfazível, onde $\\;X_n = \\mathsf{top}(\\mathsf{R}_n)\\:\\text{e}\\: Y_m = \\mathsf{top}(\\mathsf{U}_m)$."
   ]
  },
  {
   "cell_type": "markdown",
   "id": "8af88f7b-2473-4356-a792-6eb37f9150b3",
   "metadata": {},
   "source": [
    "### Algoritmo de Interpolantes e Invariantes"
   ]
  },
  {
   "cell_type": "markdown",
   "id": "2bb5c5c2-c245-4058-acd9-5b4f4481588d",
   "metadata": {},
   "source": [
    "## Implementação"
   ]
  },
  {
   "cell_type": "code",
   "execution_count": 1,
   "id": "c6e72272-cd43-4864-9a66-507e5de7c4fa",
   "metadata": {},
   "outputs": [],
   "source": [
    "from pysmt.shortcuts import *\n",
    "from pysmt.typing import INT, BVType\n",
    "\n",
    "import itertools"
   ]
  },
  {
   "cell_type": "code",
   "execution_count": 2,
   "id": "bf82e8f2-0bbc-4f01-a4c5-7b9a01b2c4b7",
   "metadata": {},
   "outputs": [],
   "source": [
    "n = 16"
   ]
  },
  {
   "cell_type": "code",
   "execution_count": 3,
   "id": "a073e5d1-60ce-442f-9ad9-12f7ac7b2a48",
   "metadata": {},
   "outputs": [],
   "source": [
    "def bv_sel(z,i):                    # seleciona o bit i do BitVec \"z\"\n",
    "    return BVExtract(z,start=i,end=i)"
   ]
  },
  {
   "cell_type": "code",
   "execution_count": 4,
   "id": "6072d648-cf45-40a2-a7ca-47b9ddb4c47a",
   "metadata": {},
   "outputs": [],
   "source": [
    "def genState(vars,s,i):\n",
    "    state = {}\n",
    "    for v in vars:\n",
    "        state[v] = Symbol(v+'!'+s+str(i),BVType(n))\n",
    "    return state"
   ]
  },
  {
   "cell_type": "code",
   "execution_count": 19,
   "id": "dabfff54-ee6e-4769-9584-ec5cd8e1c6ad",
   "metadata": {},
   "outputs": [],
   "source": [
    "vars = ['x','y','z','p']\n",
    "\n",
    "def init1(state):\n",
    "    return And(Equals(state['z'],BVZero(n)), Equals(state['p'], BVZero(n)), BVULT(state['y'], state['x']))\n",
    "\n",
    "def init_ab(state, a, b):\n",
    "    if a < b:\n",
    "        a,b = b,a\n",
    "    return And(Equals(state['x'], BV(a,n)), Equals(state['y'], BV(b,n)), Equals(state['z'],BVZero(n)), \n",
    "               Equals(state['p'], BVZero(n)))\n",
    "\n",
    "def error1(state):\n",
    "    err_odd = And(Not(Equals(state['y'], BVZero(n))), Equals(bv_sel(state['y'],0), BVOne(1)), state['x'] > BVSub(BV(2**n-1,n), state['z']))\n",
    "    err_even = And(Not(Equals(state['y'], BVZero(n))), Equals(bv_sel(state['y'],0), BVZero(1)), Equals(bv_sel(state['x'], n-1), BVOne(1)))\n",
    "    return Or(err_odd, err_even)\n",
    "    \n",
    "def trans1(curr, prox):\n",
    "    tend = And(Equals(curr['p'], BVZero(n)), Equals(prox['p'], BV(3,n)), Equals(curr['y'], BVZero(n)),\n",
    "               Equals(curr['x'], prox['x']), Equals(curr['y'], prox['y']), Equals(curr['z'], prox['z']))\n",
    "    tendl = And(Equals(curr['p'], BV(3,n)), Equals(prox['p'], BV(3,n)), \n",
    "                  Equals(curr['x'], prox['x']), Equals(curr['y'], prox['y']), Equals(curr['z'], prox['z']))\n",
    "    todd = And(Equals(curr['p'], BVZero(n)), Equals(prox['p'], BV(2,n)), Equals(bv_sel(curr['y'],0), BVOne(1)),\n",
    "               Equals(curr['x'], prox['x']), Equals(curr['y'], prox['y']), Equals(curr['z'], prox['z']))\n",
    "    toddt = And(Equals(curr['p'], BV(2,n)), Equals(prox['p'], BVZero(n)), Equals(prox['y'], curr['y'] - BVZExt(BVOne(1), n-1)), \n",
    "                Equals(prox['z'], curr['z'] + curr['x']), Equals(prox['x'], curr['x']), Not(curr['x'] > BVSub(BV(2**n-1,n), curr['z'])))\n",
    "    teven = And(Equals(curr['p'], BVZero(n)), Equals(prox['p'], BV(1,n)), Not(Equals(curr['y'], BVZero(n))), Equals(bv_sel(curr['y'],0), BVZero(1)),\n",
    "                Equals(curr['x'], prox['x']), Equals(curr['y'], prox['y']), Equals(curr['z'], prox['z']))\n",
    "    tevent = And(Equals(curr['p'], BV(1,n)), Equals(prox['p'], BVZero(n)), Equals(prox['x'], BVLShl(curr['x'], BVZExt(BVOne(1), n-1))),\n",
    "                 Equals(prox['y'], BVLShr(curr['y'], BVZExt(BVOne(1), n-1))), Equals(curr['z'], prox['z']), Not(Equals(bv_sel(curr['x'], n-1), BVOne(1))))\n",
    "    return Or(tend, tendl, todd, toddt, teven, tevent)"
   ]
  },
  {
   "cell_type": "code",
   "execution_count": 20,
   "id": "188e1f73-53b6-452b-95b7-85cd1a4cd05a",
   "metadata": {},
   "outputs": [],
   "source": [
    "def genTrace(vars,init,trans,error,n):\n",
    "    with Solver(name=\"z3\") as s:\n",
    "        \n",
    "        X = [genState(vars,'X',i) for i in range(n+1)]   # cria n+1 estados (com etiqueta X)\n",
    "        I = init_ab(X[0],10,10)\n",
    "        Tks = [ trans(X[i],X[i+1]) for i in range(n) ]\n",
    "        \n",
    "        if s.solve([I,And(Tks)]):      # testa se I /\\ T^n  é satisfazível\n",
    "            for i in range(n):\n",
    "                print(\"Estado:\",i)\n",
    "                for v in X[i]:\n",
    "                    print(\"          \",v,'=',s.get_value(X[i][v]))"
   ]
  },
  {
   "cell_type": "code",
   "execution_count": 21,
   "id": "babd50ae-81e3-4a72-80a1-3242e6c19b4c",
   "metadata": {},
   "outputs": [
    {
     "name": "stdout",
     "output_type": "stream",
     "text": [
      "Estado: 0\n",
      "           x = 10_16\n",
      "           y = 10_16\n",
      "           z = 0_16\n",
      "           p = 0_16\n",
      "Estado: 1\n",
      "           x = 10_16\n",
      "           y = 10_16\n",
      "           z = 0_16\n",
      "           p = 1_16\n",
      "Estado: 2\n",
      "           x = 20_16\n",
      "           y = 5_16\n",
      "           z = 0_16\n",
      "           p = 0_16\n",
      "Estado: 3\n",
      "           x = 20_16\n",
      "           y = 5_16\n",
      "           z = 0_16\n",
      "           p = 2_16\n",
      "Estado: 4\n",
      "           x = 20_16\n",
      "           y = 4_16\n",
      "           z = 20_16\n",
      "           p = 0_16\n",
      "Estado: 5\n",
      "           x = 20_16\n",
      "           y = 4_16\n",
      "           z = 20_16\n",
      "           p = 1_16\n",
      "Estado: 6\n",
      "           x = 40_16\n",
      "           y = 2_16\n",
      "           z = 20_16\n",
      "           p = 0_16\n",
      "Estado: 7\n",
      "           x = 40_16\n",
      "           y = 2_16\n",
      "           z = 20_16\n",
      "           p = 1_16\n",
      "Estado: 8\n",
      "           x = 80_16\n",
      "           y = 1_16\n",
      "           z = 20_16\n",
      "           p = 0_16\n",
      "Estado: 9\n",
      "           x = 80_16\n",
      "           y = 1_16\n",
      "           z = 20_16\n",
      "           p = 2_16\n"
     ]
    }
   ],
   "source": [
    "genTrace(vars, init1, trans1, error1, 10)"
   ]
  },
  {
   "cell_type": "code",
   "execution_count": 22,
   "id": "314e4988-97a8-458b-8861-e050d79cfca8",
   "metadata": {},
   "outputs": [],
   "source": [
    "def invert(trans):\n",
    "    return (lambda curr,prox: trans(prox, curr))"
   ]
  },
  {
   "cell_type": "code",
   "execution_count": 23,
   "id": "3951acbc-bc8c-4a9d-ba09-a0bb46879d2b",
   "metadata": {},
   "outputs": [],
   "source": [
    "def baseName(s):\n",
    "    return ''.join(list(itertools.takewhile(lambda x: x!='!', s)))\n",
    "\n",
    "def rename(form,state):\n",
    "    vs = get_free_variables(form)\n",
    "    pairs = [ (x,state[baseName(x.symbol_name())]) for x in vs ]\n",
    "    return form.substitute(dict(pairs))\n",
    "\n",
    "def same(state1,state2):\n",
    "    return And([Equals(state1[x],state2[x]) for x in state1])"
   ]
  },
  {
   "cell_type": "code",
   "execution_count": 32,
   "id": "e41c0128-4727-43ab-8f0b-4024141e03e4",
   "metadata": {},
   "outputs": [
    {
     "name": "stdout",
     "output_type": "stream",
     "text": [
      "n = 1 m = 1\n",
      "Unsafe!\n",
      "Estado: 0\n",
      "           x = 32768_16\n",
      "           x' = 32768_16\n",
      "           y = 16385_16\n",
      "           y' = 16384_16\n",
      "           z = 0_16\n",
      "           z' = 32768_16\n",
      "           p = 0_16\n",
      "           p' = 0_16\n"
     ]
    }
   ],
   "source": [
    "def model_checking(vars,init,trans,error,N,M):\n",
    "    with Solver(name=\"msat\") as s:\n",
    "        \n",
    "        # Criar todos os estados que poderão vir a ser necessários.\n",
    "        X = [genState(vars,'X',i) for i in range(N+1)]\n",
    "        Y = [genState(vars,'Y',i) for i in range(M+1)]\n",
    "        \n",
    "        # Estabelecer a ordem pela qual os pares (n,m) vão surgir. Por exemplo:\n",
    "        n = 1\n",
    "        m = 1\n",
    "        \n",
    "        while n<=N and m <= M:\n",
    "            print(\"n =\",n,\"m =\",m)\n",
    "            I = init(X[0])\n",
    "            E = error(Y[0])\n",
    "            Tn = And([trans(X[i], X[i+1]) for i in range(n)])\n",
    "            Bm = And([invert(trans)(Y[j], Y[j+1]) for j in range(m)])\n",
    "            Rn = And(I, Tn)\n",
    "            Um = And(E, Bm)\n",
    "            Vnm = And(Rn, Um, same(X[n], Y[m]))\n",
    "            \n",
    "            #1º Passo\n",
    "            if s.solve([Vnm]):\n",
    "                print(\"Unsafe!\")\n",
    "                for i in range(n):\n",
    "                    print(\"Estado:\",i)\n",
    "                    for v in X[i]:\n",
    "                        print(\"          \",v,'=',s.get_value(X[i][v]))\n",
    "                        print(\"          \",v+'\\'','=',s.get_value(Y[i][v]))\n",
    "                return\n",
    "            \n",
    "            #2º Passo\n",
    "            C = binary_interpolant(And(Rn, same(X[n], Y[m])), Um)\n",
    "            print(\"C:\",C)\n",
    "            if C is None:\n",
    "                print(\"Interpolante None!\")\n",
    "                continue\n",
    "            #3ª Passo\n",
    "            C0 = rename(C, X[0]) #O que é que isto faz?\n",
    "            C1 = rename(C, X[1])\n",
    "            T = trans(X[0], X[1])\n",
    "            if not s.solve([C0, T, Not(C1)]):\n",
    "                print(\"Safe!\")\n",
    "                return\n",
    "            \n",
    "            #4º Passo - gerar o S\n",
    "            S = rename(C, X[n])\n",
    "            while True:\n",
    "                A = And(S, trans(X[n], Y[m]))\n",
    "                if s.solve([A, Um]):\n",
    "                    print(\"Interpolante None!\")\n",
    "                    break\n",
    "                Cnew = binary_interpolant(A, Um)\n",
    "                #if Cnew is None:\n",
    "                #    print(\"Interpolante None!\")\n",
    "                #    break\n",
    "                Cn = rename(Cnew, X[n])\n",
    "                if s.solve([Cn, Not(S)]):\n",
    "                    S = Or(S, Cn)\n",
    "                else:\n",
    "                    print(\"Safe!\")\n",
    "                    break\n",
    "            nm = \"\"\n",
    "            while nm != \"n\" and nm != \"m\":\n",
    "                nm = input(\"Introduza 'n' ou 'm' para incrementar um dos valores.\")\n",
    "            inp = 0\n",
    "            while True:\n",
    "                try:\n",
    "                    inp = int(input(\"Quanto pretende que seja o seu incremento?\"))\n",
    "                except ValueError:\n",
    "                    continue\n",
    "                if inp < 0:\n",
    "                    print(\"Valor inválido\")\n",
    "                    continue\n",
    "                if nm == \"n\":\n",
    "                    n += inp\n",
    "                else:\n",
    "                    m += inp\n",
    "                break\n",
    "            \n",
    "        print(\"unknown\")                   \n",
    "\n",
    "model_checking(vars, init1, trans1, error1, 50, 50)        "
   ]
  },
  {
   "cell_type": "markdown",
   "id": "5c052db4-d159-4ea3-a942-8e160b8e9877",
   "metadata": {},
   "source": [
    "Para testar que o sistema chega ao estado final, isto é $p = 3$, apenas basta definir um predicado \"de erro\" e considerar que se for \"unsafe\" quer dizer que esse estado é acessível, ou seja, que o estado inicial é inseguro para o erro \"terminar\"."
   ]
  },
  {
   "cell_type": "code",
   "execution_count": 25,
   "id": "77f19304-203a-4ee8-b6ae-37a0a4bddfeb",
   "metadata": {},
   "outputs": [],
   "source": [
    "def error2(state):\n",
    "    return(Equals(state['p'],BV(3,n)))"
   ]
  },
  {
   "cell_type": "code",
   "execution_count": 28,
   "id": "18dd9a8c-1325-4377-9f35-58a85c08c00e",
   "metadata": {},
   "outputs": [
    {
     "name": "stdout",
     "output_type": "stream",
     "text": [
      "n = 1 m = 1\n",
      "Unsafe!\n",
      "Estado: 0\n",
      "           x = 32768_16\n",
      "           x' = 32768_16\n",
      "           y = 0_16\n",
      "           y' = 0_16\n",
      "           z = 0_16\n",
      "           z' = 0_16\n",
      "           p = 0_16\n",
      "           p' = 3_16\n"
     ]
    }
   ],
   "source": [
    "model_checking(vars, init1, trans1, error2, 50, 50)"
   ]
  },
  {
   "cell_type": "code",
   "execution_count": null,
   "id": "978b1387-0aaa-4d4d-b7ce-336788c3ec82",
   "metadata": {},
   "outputs": [],
   "source": []
  }
 ],
 "metadata": {
  "kernelspec": {
   "display_name": "Python 3 (ipykernel)",
   "language": "python",
   "name": "python3"
  },
  "language_info": {
   "codemirror_mode": {
    "name": "ipython",
    "version": 3
   },
   "file_extension": ".py",
   "mimetype": "text/x-python",
   "name": "python",
   "nbconvert_exporter": "python",
   "pygments_lexer": "ipython3",
   "version": "3.9.12"
  }
 },
 "nbformat": 4,
 "nbformat_minor": 5
}
