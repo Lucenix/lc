{
 "cells": [
  {
   "cell_type": "markdown",
   "id": "e8fd3824-c46d-4036-ae14-c2f2709e6c74",
   "metadata": {},
   "source": [
    "# TP3 - Grupo 14\n",
    "\n",
    "André Lucena Ribas Ferreira - A94956\n",
    "\n",
    "Paulo André Alegre Pinto - A97391"
   ]
  },
  {
   "cell_type": "markdown",
   "id": "ca0f3495-9158-4071-bfd9-b0406a6582e6",
   "metadata": {},
   "source": [
    "## Enunciado do Problema\n",
    "\n",
    "Pretende-se construir uma implementação simplificada do algoritmo “model checking” orientado aos interpolantes seguindo a estrutura apresentada nos apontamentos onde no passo $(n,m)$ na impossibilidade de encontrar um interpolante invariante se dá ao utilizador a possibilidade de incrementar um dos índices $n$ e $m$ à sua escolha.\n",
    "    \n",
    "Pretende-se aplicar este algoritmo ao problema da da multiplicação de inteiros positivos em `BitVec` (apresentado no TP2).\n",
    "\n",
    "![Algoritmo de Multiplicação](https://paper-attachments.dropboxusercontent.com/s_9896551CC5FAD2B2EB6E4EBC08522545FA66314D29FE6A5BE8E593259F8E8A37_1668181619605_multiplicacao-overflow.png)"
   ]
  },
  {
   "cell_type": "markdown",
   "id": "0e8716ff-2d60-4d16-935a-3bf863e6a191",
   "metadata": {},
   "source": [
    "## Análise\n",
    "\n",
    "A Análise deste problema consiste em definir as diferenças entre o problema resolvido no TP2 e este. Principalmente, a não utilização de um estado de erro de execução, mas sim um predicado de teste de erro.\n",
    "\n",
    "Nesse sentido, o modelo terá 3 variáveis do tipo BitVector, $x$, $y$ e $z$, este último que terminará com o resultado da execução. Para além destes, também terá uma variável inteira $p$ que representa o estado de execução. Definiu-se um inteiro para cada um dos estados, nomeadamente:\n",
    " - $0$ para Estado central (loop). Nele testam-se os casos.\n",
    " - $1$ para Estado de execução se $y$ for par (não zero).\n",
    " - $2$ para Estado de execução se $y$ for ímpar (não zero).\n",
    " - $3$ para Estado Final.\n",
    "\n",
    "Considerando o estado inicial, manter-se-á a optimização possível à execução do autómato, isto é, definir o valor $b$ o menor dos dois. Isto diminui o número de operações totais necessárias, no pior caso. O estado inicial será então defindo pelo predicado seguinte:\n",
    "\n",
    "$$ p = 0 \\wedge x = a \\wedge y = b \\wedge z = 0$$\n",
    "\n",
    "O predicado de transição não terá as transições para os estados de erro, sendo indêntica à anterior nos restantes aspetos.\n",
    "\n",
    "\\begin{array}{c}\n",
    "(\\mathit{p} = 0 \\wedge y \\equiv 0 \\pmod 2 \\wedge y \\neq 0 \\wedge \\mathit{p}' = 1 \\wedge x' = x \\wedge y' = y \\wedge z' = z) \\\\\n",
    "\\vee\\\\\n",
    "(\\mathit{p} = 0 \\wedge y \\equiv 1 \\pmod 2 \\wedge y \\neq 0 \\wedge \\mathit{p}' = 2 \\wedge x' = x \\wedge y' = y \\wedge z' = z) \\\\\n",
    "\\vee\\\\\n",
    "(\\mathit{p} = 1 \\wedge 2x < 2^n \\wedge \\mathit{p}' = 0 \\wedge x' = 2x \\wedge y' = y/2 \\wedge z' = z)\\\\\n",
    "\\vee\\\\\n",
    "(\\mathit{p} = 2 \\wedge 2^n - 1 - z \\geq x \\wedge \\mathit{p}' = 0 \\wedge x' = x \\wedge y' = y - 1 \\wedge z' = z + x)\\\\\n",
    "\\vee\\\\\n",
    "(\\mathit{p} = 0 \\wedge y = 0 \\wedge \\mathit{p}' = 3 \\wedge x' = x \\wedge y' = y \\wedge z' = z)\\\\\n",
    "\\vee\\\\\n",
    "(\\mathit{p} = 3 \\wedge \\mathit{p}' = 3 \\wedge x' = x \\wedge y' = y \\wedge z' = z)\\\\\n",
    "\\end{array}\n",
    "\n",
    "Um traço de execução é uma sequência de estados, onde dois estados consequentes validam um predicado de transição. Como o número de estados é finito, já que os valores que $a$ e $b$ podem tomar estão limitados pela precisão $n$, e porque as operações executadas tendem para um dos estados de *loop*, qualquer traço de execução deste problema é limitado. Dessa forma, pode-se sempre calcular o traço até ao momento em que um estado transiciona para outro que já ocorreu no traço, descrevendo assim um loop."
   ]
  },
  {
   "cell_type": "markdown",
   "id": "2bb5c5c2-c245-4058-acd9-5b4f4481588d",
   "metadata": {},
   "source": [
    "## Implementação"
   ]
  },
  {
   "cell_type": "code",
   "execution_count": null,
   "id": "c6e72272-cd43-4864-9a66-507e5de7c4fa",
   "metadata": {},
   "outputs": [],
   "source": []
  }
 ],
 "metadata": {
  "kernelspec": {
   "display_name": "Python 3 (ipykernel)",
   "language": "python",
   "name": "python3"
  },
  "language_info": {
   "codemirror_mode": {
    "name": "ipython",
    "version": 3
   },
   "file_extension": ".py",
   "mimetype": "text/x-python",
   "name": "python",
   "nbconvert_exporter": "python",
   "pygments_lexer": "ipython3",
   "version": "3.9.12"
  }
 },
 "nbformat": 4,
 "nbformat_minor": 5
}
