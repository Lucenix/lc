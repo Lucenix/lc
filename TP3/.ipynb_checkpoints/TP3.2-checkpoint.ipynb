{
 "cells": [
  {
   "cell_type": "markdown",
   "id": "338dd5de-6d4d-4dde-adef-c3d0e4397023",
   "metadata": {},
   "source": [
    "# TP3 - Grupo 14\n",
    "\n",
    "André Lucena Ribas Ferreira - A94956\n",
    "\n",
    "Paulo André Alegre Pinto - A97391"
   ]
  },
  {
   "cell_type": "markdown",
   "id": "5238c96c-524b-49ee-85b5-4cc437cea53a",
   "metadata": {},
   "source": [
    "## Enunciado do Problema\n",
    "\n",
    "O seguinte sistema dinâmico denota 4 inversores ($A, B, C, D$) que lêm um bit num canal input e escrevem num canal output uma transformação desse bit.\n",
    "\n",
    "![](https://paper-attachments.dropboxusercontent.com/s_9896551CC5FAD2B2EB6E4EBC08522545FA66314D29FE6A5BE8E593259F8E8A37_1669554332522_inversores.png)\n",
    "\n",
    " 1. Cada inversor tem um bit $s$ de estado, inicializado  com um valor aleatório.\n",
    " 2. Cada inversor é regido pelas seguintes transformações:\n",
    " $$\n",
    "   \\mathbf{invert}\\mathtt(in,out) \\\\\n",
    "   x \\gets \\mathsf{read}(\\mathtt{in}) \\\\\n",
    "   s \\gets \\neg x\\;\\;\\|\\;\\; s\\gets s\\oplus x \\\\\n",
    "   \\mathsf{write}(\\mathtt{out},s) \\\\\n",
    " $$\n",
    " 3. A escolha neste comando é sempre determinística; isto é, em cada inversor a escolha do comando a executar é sempre a mesma. Porém qual é essa escolha é determinada aleatoriamente na inicialização do sistema.\n",
    " 4. O estado do sistema é um tuplo definido pelos 4 bits $s$, e é inicializado com um vetor aleatório em $\\{0,1\\}^4\\;$.\n",
    " 5. O sistema termina em ERRO quando o estado do sistema for $(0,0,0,0)$.\n",
    "\n",
    "Prentede-se o seguinte:\n",
    " 1. Construa um SFOTS que descreva este sistema e implemente este sistema, numa abordagem BMC (“bouded model checker”) num traço com $n$ estados.\n",
    " 2. Verifique se o sistema é seguro usando BMC, k-indução ou model checking com interpolantes.\n"
   ]
  },
  {
   "cell_type": "markdown",
   "id": "03ec7fad-4275-48e0-bb3f-664540ca0792",
   "metadata": {},
   "source": [
    "## Análise"
   ]
  },
  {
   "cell_type": "markdown",
   "id": "160680f9-73b3-4bc6-a935-ac7950eb4192",
   "metadata": {},
   "source": [
    "O problema exposto tem certas considerações a ter em conta.\n",
    "\n",
    "Em primeiro lugar, considera-se o $in$ de cada um dos inversores igual ao $out$ do estado anterior, ou seja, o estado anterior com uma rotação cíclica das variáveis, exceto no caso do estado inicial. A ordem da rotação é a descrita nos canais, $a \\rightarrow b \\rightarrow d \\rightarrow c$\n",
    "\n",
    "No caso do estado inicial, decidiu-se gerar o $in$ aleatoriamente tal como se gera o $s$ para cada inversor, isto é, o estado inicial.\n",
    "\n",
    "Em segundo lugar, como cada inversor funciona em paralelo com cada outro inversor, as variáveis de cada estado vão ser apenas cada um dos elementos de cada tuplo de $\\{0,1\\}^4$, não existindo variável que seja considerada o contador do programa. \n",
    "\n",
    "Em terceiro lugar, deve-se definir aleatoriamente cada um dos comportamentos dos inversores, que será mantido durante a execução inteira."
   ]
  },
  {
   "cell_type": "markdown",
   "id": "4ab68a2d-ac95-4101-b258-61b96f077926",
   "metadata": {},
   "source": [
    "### Definição do SFOTS\n",
    "\n",
    "Tal como pretendido, o sistema dinâmico será modelado através um SFOTS, nomeadamente um tuplo:\n",
    "$$ \\Sigma \\; \\equiv \\; <\\mathcal{T},X,next,I,T,E> $$\n",
    "\n",
    "Onde se verifica o seguinte, para representar o sistema em específico:\n",
    " 1. $\\mathcal{T}$ representa um SMT apropriada, que pertence à FOL, que vamos representar no nosso Solver;\n",
    " 2. $X$ é o conjunto das variáveis base do problema;\n",
    " 3. $next$ é um operador que gera \"clones\" das variáves em $X$;\n",
    " 4. $I$ é um predicado unário que determina quais os estados iniciais;\n",
    " 5. $T$ é um predicado binário que determina as transições entre dois estados;\n",
    " 6. $E$ é um predicado unário que determina os estados de erro."
   ]
  },
  {
   "cell_type": "markdown",
   "id": "ae375514-20d5-4416-9ec3-bdc4850ffe7d",
   "metadata": {},
   "source": [
    "$X$ neste caso é constituído por uma variável binária para cada um dos estados dos inversores, $\\{s_a,s_b,s_c,s_d\\}$. Dependendo da transição ciclica, um dos estados de um dos inversores será considerado o valor de entrada de outro. Ou seja, $in_a = s_c$, $in_b = s_a$, $in_c = s_d$ e $in_d = s_b$.\n",
    "\n",
    "Considerando o estado inicial, não existem condições que limitam as variáveis, já que é possível o primeiro estado ser um estado de erro. No entanto, isto invalida o interesse da definição aleatória do comportamento dos inversores no que diz respeito à verificação de segurança. Nesse sentido, deverá ser possível evitar começar num estado de erro:\n",
    "\n",
    "$$ I \\quad \\equiv \\quad s_a \\neq 0 \\wedge s_b \\neq 0 \\wedge s_c \\neq 0 \\wedge s_d \\neq 0$$\n",
    "\n",
    "O predicado de transição depende da definição aleatória no início da execução. No seu geral, é definido por uma conjunção entre todos os inversores, cada um que pode ser um de dois predicados. Por exemplo, para o inversor $A$:\n",
    "\n",
    "$$ T_a \\; \\equiv \\; s_a' = \\neg\\; s_c \\quad \\text{ou} \\quad T_a \\; \\equiv \\; s_a' = s_a \\oplus s_c$$\n",
    "\n",
    "O estado de erro, tal como definido no enunciado, ocorre quando cada um dos $s$ é igual a $0$.\n",
    "\n",
    "$$ E \\quad \\equiv \\quad s_a = 0 \\wedge s_b = 0 \\wedge s_c = 0 \\wedge s_d = 0$$"
   ]
  },
  {
   "cell_type": "markdown",
   "id": "e61f1c12-8651-4617-8ba7-fe7997bb5bd4",
   "metadata": {},
   "source": [
    "## Implementação"
   ]
  },
  {
   "cell_type": "code",
   "execution_count": 28,
   "id": "64177754-0d16-48a2-98ce-5eeffb9ad1d0",
   "metadata": {},
   "outputs": [],
   "source": [
    "from pysmt.shortcuts import *\n",
    "from pysmt.typing import BOOL\n",
    "\n",
    "from numpy.random import binomial\n",
    "import itertools "
   ]
  },
  {
   "cell_type": "code",
   "execution_count": 2,
   "id": "9e1b549e-7a1d-40f1-9ac4-6638286514a7",
   "metadata": {},
   "outputs": [],
   "source": [
    "def genState(vars,s,i):\n",
    "    state = {}\n",
    "    for v in vars:\n",
    "        state[v] = Symbol(v+'!'+s+str(i),BOOL)\n",
    "    return state"
   ]
  },
  {
   "cell_type": "code",
   "execution_count": 51,
   "id": "fb1e46d1-3d63-4c73-bb58-0a2e2e2cef57",
   "metadata": {},
   "outputs": [],
   "source": [
    "vars = ['s_a','s_b','s_c','s_d'] #in_a = s_c, in_b = s_a, in_c = s_d, in_d = s_b\n",
    "\n",
    "def init1(state):\n",
    "    a = binomial(1,0.5) == 1\n",
    "    b = binomial(1,0.5) == 1\n",
    "    c = binomial(1,0.5) == 1\n",
    "    d = binomial(1,0.5) == 1\n",
    "    print(\"Estados inciais:\",a,b,c,d)\n",
    "    return And(Iff(state['s_a'], Bool(a)), Iff(state['s_b'], Bool(b)), \n",
    "               Iff(state['s_c'], Bool(c)), Iff(state['s_d'], Bool(d)))\n",
    "    \n",
    "def error1(state):\n",
    "    return And(Iff(state['s_a'], Bool(False)),Iff(state['s_b'], Bool(False)), \n",
    "               Iff(state['s_c'], Bool(False)), Iff(state['s_d'], Bool(False)))\n",
    "    \n",
    "def trans1(curr, prox, a, b, c, d):\n",
    "    t_a = Iff(Not(curr['s_c']), prox['s_a']) if a else Iff(Xor(curr['s_c'], curr['s_a']), prox['s_a'])\n",
    "    t_b = Iff(Not(curr['s_a']), prox['s_b']) if b else Iff(Xor(curr['s_a'], curr['s_b']), prox['s_b'])\n",
    "    t_c = Iff(Not(curr['s_d']), prox['s_c']) if c else Iff(Xor(curr['s_d'], curr['s_c']), prox['s_c'])\n",
    "    t_d = Iff(Not(curr['s_b']), prox['s_d']) if d else Iff(Xor(curr['s_b'], curr['s_d']), prox['s_d'])\n",
    "    #in_cond = And(Iff(curr['in_a'], prox['in_b']), Iff(curr['in_b'], prox['in_d']), Iff(curr['in_c'], prox['in_a']), Iff(curr['in_d'], prox['in_c']))\n",
    "    return And(t_a, t_b, t_c, t_d)"
   ]
  },
  {
   "cell_type": "code",
   "execution_count": 56,
   "id": "3e7c4f2d-868a-489e-9661-993b5e4fdf95",
   "metadata": {},
   "outputs": [],
   "source": [
    "def genTrace(vars,init,trans,error,n):\n",
    "    a = binomial(1,0.5) == 1\n",
    "    b = binomial(1,0.5) == 1\n",
    "    c = binomial(1,0.5) == 1\n",
    "    d = binomial(1,0.5) == 1\n",
    "    print(\"Transição Determinada:\", a, b, c, d)\n",
    "    with Solver(name=\"z3\") as s:\n",
    "        \n",
    "        X = [genState(vars,'X',i) for i in range(n+1)]   # cria n+1 estados (com etiqueta X)\n",
    "        I = init(X[0])\n",
    "        Tks = [ trans(X[i],X[i+1],a,b,c,d) for i in range(n) ]\n",
    "        \n",
    "        if s.solve([I,And(Tks)]):      # testa se I /\\ T^n  é satisfazível\n",
    "            for i in range(n):\n",
    "                print(\"Estado:\",i)\n",
    "                for v in X[i]:\n",
    "                    print(\"          \",v,'=',s.get_value(X[i][v]))"
   ]
  },
  {
   "cell_type": "code",
   "execution_count": 57,
   "id": "a2f150f0-9f07-40e8-bc25-3a143d13c35f",
   "metadata": {},
   "outputs": [
    {
     "name": "stdout",
     "output_type": "stream",
     "text": [
      "Transição Determinada: False True False True\n",
      "Estados inciais: False True True True\n",
      "Estado: 0\n",
      "           s_a = False\n",
      "           s_b = True\n",
      "           s_c = True\n",
      "           s_d = True\n",
      "Estado: 1\n",
      "           s_a = True\n",
      "           s_b = True\n",
      "           s_c = False\n",
      "           s_d = False\n",
      "Estado: 2\n",
      "           s_a = True\n",
      "           s_b = False\n",
      "           s_c = False\n",
      "           s_d = False\n",
      "Estado: 3\n",
      "           s_a = True\n",
      "           s_b = False\n",
      "           s_c = False\n",
      "           s_d = True\n",
      "Estado: 4\n",
      "           s_a = True\n",
      "           s_b = False\n",
      "           s_c = True\n",
      "           s_d = True\n",
      "Estado: 5\n",
      "           s_a = False\n",
      "           s_b = False\n",
      "           s_c = False\n",
      "           s_d = True\n",
      "Estado: 6\n",
      "           s_a = False\n",
      "           s_b = True\n",
      "           s_c = True\n",
      "           s_d = True\n",
      "Estado: 7\n",
      "           s_a = True\n",
      "           s_b = True\n",
      "           s_c = False\n",
      "           s_d = False\n",
      "Estado: 8\n",
      "           s_a = True\n",
      "           s_b = False\n",
      "           s_c = False\n",
      "           s_d = False\n",
      "Estado: 9\n",
      "           s_a = True\n",
      "           s_b = False\n",
      "           s_c = False\n",
      "           s_d = True\n"
     ]
    }
   ],
   "source": [
    "genTrace(vars, init1, trans1, error1, 10)"
   ]
  },
  {
   "cell_type": "markdown",
   "id": "3d71f7a6-ddc0-4402-8d80-3ca09a2fa55b",
   "metadata": {},
   "source": [
    "## Verificação"
   ]
  },
  {
   "cell_type": "markdown",
   "id": "59aa78a6-d674-40f1-a910-b00fe4cf1ceb",
   "metadata": {},
   "source": [
    "### Verificação de Segurança"
   ]
  },
  {
   "cell_type": "markdown",
   "id": "3a7dd597-ca7b-4963-8c9e-a2d017d99141",
   "metadata": {},
   "source": []
  },
  {
   "cell_type": "code",
   "execution_count": null,
   "id": "67e419e0-9473-40d5-a13e-41a6f672279e",
   "metadata": {},
   "outputs": [],
   "source": []
  }
 ],
 "metadata": {
  "kernelspec": {
   "display_name": "Python 3 (ipykernel)",
   "language": "python",
   "name": "python3"
  },
  "language_info": {
   "codemirror_mode": {
    "name": "ipython",
    "version": 3
   },
   "file_extension": ".py",
   "mimetype": "text/x-python",
   "name": "python",
   "nbconvert_exporter": "python",
   "pygments_lexer": "ipython3",
   "version": "3.9.12"
  }
 },
 "nbformat": 4,
 "nbformat_minor": 5
}
