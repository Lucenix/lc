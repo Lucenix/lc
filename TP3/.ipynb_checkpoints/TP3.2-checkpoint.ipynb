{
 "cells": [
  {
   "cell_type": "markdown",
   "id": "338dd5de-6d4d-4dde-adef-c3d0e4397023",
   "metadata": {},
   "source": [
    "# TP3 - Grupo 14\n",
    "\n",
    "André Lucena Ribas Ferreira - A94956\n",
    "\n",
    "Paulo André Alegre Pinto - A97391"
   ]
  },
  {
   "cell_type": "markdown",
   "id": "5238c96c-524b-49ee-85b5-4cc437cea53a",
   "metadata": {},
   "source": [
    "## Enunciado do Problema\n",
    "\n",
    "O seguinte sistema dinâmico denota 4 inversores ($A, B, C, D$) que lêm um bit num canal input e escrevem num canal output uma transformação desse bit.\n",
    "\n",
    "![](https://paper-attachments.dropboxusercontent.com/s_9896551CC5FAD2B2EB6E4EBC08522545FA66314D29FE6A5BE8E593259F8E8A37_1669554332522_inversores.png)\n",
    "\n",
    " 1. Cada inversor tem um bit $s$ de estado, inicializado  com um valor aleatório.\n",
    " 2. Cada inversor é regido pelas seguintes transformações:\n",
    " $$\n",
    "   \\mathbf{invert}\\mathtt(in,out) \\\\\n",
    "   x \\gets \\mathsf{read}(\\mathtt{in}) \\\\\n",
    "   s \\gets \\neg x\\;\\;\\|\\;\\; s\\gets s\\oplus x \\\\\n",
    "   \\mathsf{write}(\\mathtt{out},s) \\\\\n",
    " $$\n",
    " 3. A escolha neste comando é sempre determinística; isto é, em cada inversor a escolha do comando a executar é sempre a mesma. Porém qual é essa escolha é determinada aleatoriamente na inicialização do sistema.\n",
    " 4. O estado do sistema é um tuplo definido pelos 4 bits $s$, e é inicializado com um vetor aleatório em $\\{0,1\\}^4\\;$.\n",
    " 5. O sistema termina em ERRO quando o estado do sistema for $(0,0,0,0)$.\n",
    "\n",
    "Prentede-se o seguinte:\n",
    " 1. Construa um SFOTS que descreva este sistema e implemente este sistema, numa abordagem BMC (“bouded model checker”) num traço com $n$ estados.\n",
    " 2. Verifique se o sistema é seguro usando BMC, k-indução ou model checking com interpolantes.\n"
   ]
  },
  {
   "cell_type": "markdown",
   "id": "03ec7fad-4275-48e0-bb3f-664540ca0792",
   "metadata": {},
   "source": [
    "## Análise"
   ]
  },
  {
   "cell_type": "markdown",
   "id": "160680f9-73b3-4bc6-a935-ac7950eb4192",
   "metadata": {},
   "source": [
    "O problema exposto tem certas considerações a ter em conta.\n",
    "\n",
    "Em primeiro lugar, considera-se o $in$ de cada um dos inversores igual ao $out$ do estado anterior, ou seja, o estado anterior com uma rotação cíclica das variáveis, exceto no caso do estado inicial. A ordem da rotação é a descrita nos canais, $a \\rightarrow b \\rightarrow d \\rightarrow c$\n",
    "\n",
    "No caso do estado inicial, decidiu-se gerar o $in$ aleatoriamente tal como se gera o $s$ para cada inversor, isto é, o estado inicial.\n",
    "\n",
    "Em segundo lugar, como cada inversor funciona em paralelo com cada outro inversor, as variáveis de cada estado vão ser apenas cada um dos elementos de cada tuplo de $\\{0,1\\}^4$, não existindo variável que seja considerada o contador do programa. \n",
    "\n",
    "Em terceiro lugar, deve-se definir aleatoriamente cada um dos comportamentos dos inversores, que será mantido durante a execução inteira."
   ]
  },
  {
   "cell_type": "markdown",
   "id": "4ab68a2d-ac95-4101-b258-61b96f077926",
   "metadata": {},
   "source": [
    "### Definição do SFOTS\n",
    "\n",
    "Tal como pretendido, o sistema dinâmico será modelado através um SFOTS, nomeadamente um tuplo:\n",
    "$$ \\Sigma \\; \\equiv \\; <\\mathcal{T},X,next,I,T,E> $$\n",
    "\n",
    "Onde se verifica o seguinte, para representar o sistema em específico:\n",
    " 1. $\\mathcal{T}$ representa um SMT apropriada, que pertence à FOL, que vamos representar no nosso Solver;\n",
    " 2. $X$ é o conjunto das variáveis base do problema;\n",
    " 3. $next$ é um operador que gera \"clones\" das variáves em $X$;\n",
    " 4. $I$ é um predicado unário que determina quais os estados iniciais;\n",
    " 5. $T$ é um predicado binário que determina as transições entre dois estados;\n",
    " 6. $E$ é um predicado unário que determina os estados de erro."
   ]
  },
  {
   "cell_type": "markdown",
   "id": "ae375514-20d5-4416-9ec3-bdc4850ffe7d",
   "metadata": {},
   "source": [
    "$X$ neste caso é constituído por uma variável binária para cada um dos estados dos inversores, $\\{s_a,s_b,s_c,s_d\\}$. Dependendo da transição ciclica, um dos estados de um dos inversores será considerado o valor de entrada de outro. Ou seja, $in_a = s_c$, $in_b = s_a$, $in_c = s_d$ e $in_d = s_b$.\n",
    "\n",
    "Considerando o estado inicial, não existem condições que limitam as variáveis, já que é possível o primeiro estado ser um estado de erro.\n",
    "\n",
    "O predicado de transição depende da definição aleatória no início da execução. No seu geral, é definido por uma conjunção entre todos os inversores, cada um que pode ser um de dois predicados. Por exemplo, para o inversor $A$:\n",
    "\n",
    "$$ T_a \\; \\equiv \\; s_a' = \\neg\\; s_c \\quad \\text{ou} \\quad T_a \\; \\equiv \\; s_a' = s_a \\oplus s_c$$\n",
    "\n",
    "O estado de erro, tal como definido no enunciado, ocorre quando cada um dos $s$ é igual a $0$.\n",
    "\n",
    "$$ E \\quad \\equiv \\quad s_a = 0 \\wedge s_b = 0 \\wedge s_c = 0 \\wedge s_d = 0$$"
   ]
  },
  {
   "cell_type": "markdown",
   "id": "e61f1c12-8651-4617-8ba7-fe7997bb5bd4",
   "metadata": {},
   "source": [
    "## Implementação"
   ]
  },
  {
   "cell_type": "markdown",
   "id": "468c80b0-a396-4d79-9521-8224991c2734",
   "metadata": {},
   "source": [
    "Para a resolução do problema em questão, decidiu-se usar o módulo `pysmt.shortcuts`, com as funcionalidades possíveis para a utilização de um SMT Solver. Importam-se também os tipos deste Solver, a partir do módulo `pysmt.typing`. Para modelar este problema, usar-se-ão variáveis binárias, então importamos o tipo `BOOL`. Também importamos a função `binomial` do módulo `numpy.random` para poder gerar lançamentos de moedas aleatórios."
   ]
  },
  {
   "cell_type": "code",
   "execution_count": 1,
   "id": "64177754-0d16-48a2-98ce-5eeffb9ad1d0",
   "metadata": {},
   "outputs": [],
   "source": [
    "from pysmt.shortcuts import *\n",
    "from pysmt.typing import BOOL\n",
    "\n",
    "from numpy.random import binomial\n",
    "import itertools "
   ]
  },
  {
   "cell_type": "markdown",
   "id": "0f55878c-725a-491e-ae02-932deb78fb89",
   "metadata": {},
   "source": [
    "Para gerar os estados, a função `genState(vars,s,i)` recebe as variáveis do problema e, para cada uma, cria-se uma variável binária. Também se marca a variável com uma letra `s` que representa o conjunto de variáveis, nomeadamente $X$ ou $Y$, tal como um número `i` que representa a i-ésima cópia da variável."
   ]
  },
  {
   "cell_type": "code",
   "execution_count": 2,
   "id": "9e1b549e-7a1d-40f1-9ac4-6638286514a7",
   "metadata": {},
   "outputs": [],
   "source": [
    "def genState(vars,s,i):\n",
    "    state = {}\n",
    "    for v in vars:\n",
    "        state[v] = Symbol(v+'!'+s+str(i),BOOL)\n",
    "    return state"
   ]
  },
  {
   "cell_type": "markdown",
   "id": "59b3c7a5-dd2e-4bcb-a51b-3235e3195444",
   "metadata": {},
   "source": [
    "Para se gerar os estados iniciais e as transições, é preciso definir aleatoriamente tanto as variáveis do estado inicial tal como qual das transições será utilizada por cada inversor."
   ]
  },
  {
   "cell_type": "code",
   "execution_count": 3,
   "id": "613983b5-c61f-4b57-91b9-6f6f27b58497",
   "metadata": {},
   "outputs": [],
   "source": [
    "def genInitialRandom():\n",
    "    s = {}\n",
    "    s['a']= binomial(1,0.5) == 1\n",
    "    s['b'] = binomial(1,0.5) == 1\n",
    "    s['c'] = binomial(1,0.5) == 1\n",
    "    s['d'] = binomial(1,0.5) == 1\n",
    "    print(\"Estados inciais:\",s['a'],s['b'],s['c'],s['d'])\n",
    "    return s\n",
    "\n",
    "def genTransRandom():\n",
    "    t = {}\n",
    "    t['a'] = binomial(1,0.5) == 1\n",
    "    t['b'] = binomial(1,0.5) == 1\n",
    "    t['c'] = binomial(1,0.5) == 1\n",
    "    t['d'] = binomial(1,0.5) == 1\n",
    "    print(\"Transição Determinada:\", \"Neg\" if t['a'] else \"XOR\", \"Neg\" if t['b'] else \"XOR\", \"Neg\" if t['c'] else \"XOR\", \"Neg\" if t['d'] else \"XOR\")\n",
    "    return t"
   ]
  },
  {
   "cell_type": "markdown",
   "id": "ff539731-f3a6-4360-83bc-334091b3912d",
   "metadata": {},
   "source": [
    "As variáveis do problema são os estados internos de cada inversor, que coincidem com o seu $out$. Dessa forma, não é necessário definir o $in$ dos inversores.\n"
   ]
  },
  {
   "cell_type": "code",
   "execution_count": 4,
   "id": "001ad01f-ecb6-4b63-89ec-ae9df72eb771",
   "metadata": {},
   "outputs": [],
   "source": [
    "vars = ['s_a','s_b','s_c','s_d'] #in_a = s_c, in_b = s_a, in_c = s_d, in_d = s_b"
   ]
  },
  {
   "cell_type": "markdown",
   "id": "fdc89b6e-a18f-4c62-a9dd-eb3d7c5798d1",
   "metadata": {},
   "source": [
    "A função inicial depende dos valores aleatórios gerados, apenas limitando cada uma das variáveis a esse valor, através de uma equivalência.\n",
    "`init1` gera os valores aleatórios dentro da função enquanto que `init_notrandom` necessita de receber os valores gerados como parâmetro. Desta forma, cada função que as use será diferente na escrita de acordo com a função pretendida."
   ]
  },
  {
   "cell_type": "code",
   "execution_count": 5,
   "id": "b0995d5e-28e9-4113-97b9-24af64bfeda8",
   "metadata": {},
   "outputs": [],
   "source": [
    "def init1(state):\n",
    "    s = genInitialRandom()\n",
    "    return And(Iff(state['s_a'], Bool(s['a'])), Iff(state['s_b'], Bool(s['b'])), \n",
    "               Iff(state['s_c'], Bool(s['c'])), Iff(state['s_d'], Bool(s['d'])))\n",
    "\n",
    "def init_notrandom(state,a,b,c,d):\n",
    "    return And(Iff(state['s_a'], Bool(a)), Iff(state['s_b'], Bool(b)), \n",
    "               Iff(state['s_c'], Bool(c)), Iff(state['s_d'], Bool(d)))"
   ]
  },
  {
   "cell_type": "markdown",
   "id": "88684bc0-2816-41fe-9bf3-485ae2f34d6f",
   "metadata": {},
   "source": [
    "A função `error1` é semelhante às iniciais, mas limita exatamente o estado $(0,0,0,0)$ como o estado de erro."
   ]
  },
  {
   "cell_type": "code",
   "execution_count": 6,
   "id": "ebc75647-9130-472e-9e35-53e78dd7c3f1",
   "metadata": {},
   "outputs": [],
   "source": [
    "def error1(state):\n",
    "    return And(Iff(state['s_a'], Bool(False)), Iff(state['s_b'], Bool(False)), \n",
    "               Iff(state['s_c'], Bool(False)), Iff(state['s_d'], Bool(False)))"
   ]
  },
  {
   "cell_type": "markdown",
   "id": "05d0bba1-b97f-4b9a-a825-9a577df89dea",
   "metadata": {},
   "source": [
    "A função de transição `trans1` depende também dos valores gerados, e que recebe como parâmetro. Para cada um desses valores, escolhe-se uma das transições que será sempre a mesma (já que os valores são gerados apenas uma vez). Neste caso, `True` representa a transição $s \\gets \\neg x\\;\\;$ e `False` a transição $\\;\\; s\\gets s\\oplus x $."
   ]
  },
  {
   "cell_type": "code",
   "execution_count": 7,
   "id": "fb1e46d1-3d63-4c73-bb58-0a2e2e2cef57",
   "metadata": {},
   "outputs": [],
   "source": [
    "def trans1(curr, prox, a, b, c, d):\n",
    "    t_a = Iff(Not(curr['s_c']), prox['s_a']) if a else Iff(Xor(curr['s_c'], curr['s_a']), prox['s_a'])\n",
    "    t_b = Iff(Not(curr['s_a']), prox['s_b']) if b else Iff(Xor(curr['s_a'], curr['s_b']), prox['s_b'])\n",
    "    t_c = Iff(Not(curr['s_d']), prox['s_c']) if c else Iff(Xor(curr['s_d'], curr['s_c']), prox['s_c'])\n",
    "    t_d = Iff(Not(curr['s_b']), prox['s_d']) if d else Iff(Xor(curr['s_b'], curr['s_d']), prox['s_d'])\n",
    "    #in_cond = And(Iff(curr['in_a'], prox['in_b']), Iff(curr['in_b'], prox['in_d']), Iff(curr['in_c'], prox['in_a']), Iff(curr['in_d'], prox['in_c']))\n",
    "    return And(t_a, t_b, t_c, t_d)"
   ]
  },
  {
   "cell_type": "markdown",
   "id": "5a3de97b-bcee-4d7f-82c2-72a1b9969aa3",
   "metadata": {},
   "source": [
    "A função `genTrace` recebe todas estas funções, exceto a do predicado do erro, mais o número `n`, tamanho máximo do traço, e devolve um traço execução sem qualquer consideração pelo estado de erro."
   ]
  },
  {
   "cell_type": "code",
   "execution_count": 8,
   "id": "3e7c4f2d-868a-489e-9661-993b5e4fdf95",
   "metadata": {},
   "outputs": [],
   "source": [
    "def genTrace(vars,init,trans,n,s,t):\n",
    "    with Solver(name=\"z3\") as solver:\n",
    "        X = [genState(vars,'X',i) for i in range(n+1)]   # cria n+1 estados (com etiqueta X)\n",
    "        I = init(X[0],s['a'],s['b'],s['c'],s['d'])\n",
    "        Tks = [ trans(X[i],X[i+1],t['a'],t['b'],t['c'],t['d']) for i in range(n) ]\n",
    "        \n",
    "        if solver.solve([I,And(Tks)]):      # testa se I /\\ T^n  é satisfazível\n",
    "            for i in range(n):\n",
    "                print(\"Estado:\",i)\n",
    "                for v in X[i]:\n",
    "                    print(\"          \",v,'=',solver.get_value(X[i][v]))"
   ]
  },
  {
   "cell_type": "code",
   "execution_count": 9,
   "id": "a2f150f0-9f07-40e8-bc25-3a143d13c35f",
   "metadata": {},
   "outputs": [
    {
     "name": "stdout",
     "output_type": "stream",
     "text": [
      "Transição Determinada: Neg Neg Neg Neg\n",
      "Estados inciais: True True False False\n",
      "Estado: 0\n",
      "           s_a = True\n",
      "           s_b = True\n",
      "           s_c = False\n",
      "           s_d = False\n",
      "Estado: 1\n",
      "           s_a = True\n",
      "           s_b = False\n",
      "           s_c = True\n",
      "           s_d = False\n",
      "Estado: 2\n",
      "           s_a = False\n",
      "           s_b = False\n",
      "           s_c = True\n",
      "           s_d = True\n",
      "Estado: 3\n",
      "           s_a = False\n",
      "           s_b = True\n",
      "           s_c = False\n",
      "           s_d = True\n",
      "Estado: 4\n",
      "           s_a = True\n",
      "           s_b = True\n",
      "           s_c = False\n",
      "           s_d = False\n"
     ]
    }
   ],
   "source": [
    "t = genTransRandom()\n",
    "s = genInitialRandom()\n",
    "genTrace(vars, init_notrandom, trans1, 5,s,t)"
   ]
  },
  {
   "cell_type": "markdown",
   "id": "3d71f7a6-ddc0-4402-8d80-3ca09a2fa55b",
   "metadata": {},
   "source": [
    "## Verificação de Segurança"
   ]
  },
  {
   "cell_type": "markdown",
   "id": "cf8fd73f-6d2e-4dde-92e1-063b17dea9ff",
   "metadata": {},
   "source": [
    "Para as Verificações de Segurança, utilizaram-se os três métodos descritos. De reparar que o sistema é seguro apenas quando entra em ciclo, já que o único caso que pode ser considerado de paragem é o caso de erro $(0,0,0,0)$. Para além disso, apenas há um número finito de estados diferentes, nomeadamente 16, isto é, $2^4, então qualquer traço é limitado."
   ]
  },
  {
   "cell_type": "markdown",
   "id": "2529c232-7996-4182-82ad-342c39382668",
   "metadata": {},
   "source": [
    "Todas as funções aqui definidas são como as funções já estudades, apenas com duas diferenças. Por um lado, recebem dois dicionários, $s$ e $t$, definidos tal como nas funções aleatórias, para determinar o estado inicial e as transições de uma maneira mais sistemática. Por outro, geram estados a partir da função `genState`."
   ]
  },
  {
   "cell_type": "markdown",
   "id": "d26495bb-6df2-4636-a40b-39a7a1669a0a",
   "metadata": {},
   "source": [
    "O invariante que pretendemos provar é o seguinte."
   ]
  },
  {
   "cell_type": "code",
   "execution_count": 10,
   "id": "c256a001-1684-4731-930a-ba3566d4b7c5",
   "metadata": {},
   "outputs": [],
   "source": [
    "def inv1(state):\n",
    "    return Not(error1(state))"
   ]
  },
  {
   "cell_type": "markdown",
   "id": "8eae139c-36cd-4980-825e-fda0b2c0f3ac",
   "metadata": {},
   "source": [
    "### BMC"
   ]
  },
  {
   "cell_type": "code",
   "execution_count": 35,
   "id": "2b7760fd-7292-43f1-b128-27b0b93994e0",
   "metadata": {},
   "outputs": [],
   "source": [
    "def bmc_always(declare,init,trans,inv,K,t,s):\n",
    "    for k in range(1,K+1):\n",
    "        with Solver(name=\"z3\") as solver:\n",
    "            trace = [genState(vars,'X',i) for i in range(k)]\n",
    "            solver.add_assertion(init(trace[0], s['a'], s['b'], s['c'], s['d']))\n",
    "            for i in range(k-1):\n",
    "                solver.add_assertion(trans(trace[i],trace[i+1],t['a'], t['b'], t['c'], t['d']))\n",
    "            solver.add_assertion(Not(inv(trace[k-1])))\n",
    "            if solver.solve():\n",
    "                print(f\"A propriedade não é valida para o seguinte traço de tamanho <= %d\" % k)\n",
    "                for traco in trace:\n",
    "                    print(\"Estado:\",i)\n",
    "                    i+=1\n",
    "                    for v in traco:\n",
    "                        print(\"          \",v,'=',solver.get_value(traco[v]))\n",
    "                return\n",
    "    print(f\"Propriedade válida para traços de tamanho <= %d.\" % k)"
   ]
  },
  {
   "cell_type": "code",
   "execution_count": 36,
   "id": "9b66d3c8-1fca-434e-84c3-2251a5c289c9",
   "metadata": {},
   "outputs": [
    {
     "name": "stdout",
     "output_type": "stream",
     "text": [
      "Propriedade válida para traços de tamanho <= 5.\n"
     ]
    }
   ],
   "source": [
    "t = {'a': True, 'b': True, 'c': True, 'd': True}\n",
    "s = {'a': False, 'b': True, 'c': True, 'd': True}\n",
    "bmc_always(genState,init_notrandom,trans1,inv1,5,t,s)"
   ]
  },
  {
   "cell_type": "code",
   "execution_count": 43,
   "id": "65c8e97f-c1fa-4787-ac57-480d063abfaa",
   "metadata": {},
   "outputs": [
    {
     "name": "stdout",
     "output_type": "stream",
     "text": [
      "Propriedade válida para traços de tamanho <= 14.\n"
     ]
    }
   ],
   "source": [
    "t = {'a': True, 'b': True, 'c': True, 'd': False}\n",
    "s = {'a': True, 'b': True, 'c': True, 'd': False}\n",
    "bmc_always(genState,init_notrandom,trans1,inv1,14,t,s)"
   ]
  },
  {
   "cell_type": "code",
   "execution_count": 44,
   "id": "f163753a-9223-46c9-b256-5b09b23b8e55",
   "metadata": {},
   "outputs": [
    {
     "name": "stdout",
     "output_type": "stream",
     "text": [
      "A propriedade não é valida para o seguinte traço de tamanho <= 15\n",
      "Estado: 13\n",
      "           s_a = True\n",
      "           s_b = True\n",
      "           s_c = True\n",
      "           s_d = False\n",
      "Estado: 14\n",
      "           s_a = False\n",
      "           s_b = False\n",
      "           s_c = True\n",
      "           s_d = True\n",
      "Estado: 15\n",
      "           s_a = False\n",
      "           s_b = True\n",
      "           s_c = False\n",
      "           s_d = True\n",
      "Estado: 16\n",
      "           s_a = True\n",
      "           s_b = True\n",
      "           s_c = False\n",
      "           s_d = False\n",
      "Estado: 17\n",
      "           s_a = True\n",
      "           s_b = False\n",
      "           s_c = True\n",
      "           s_d = True\n",
      "Estado: 18\n",
      "           s_a = False\n",
      "           s_b = False\n",
      "           s_c = False\n",
      "           s_d = True\n",
      "Estado: 19\n",
      "           s_a = True\n",
      "           s_b = True\n",
      "           s_c = False\n",
      "           s_d = True\n",
      "Estado: 20\n",
      "           s_a = True\n",
      "           s_b = False\n",
      "           s_c = False\n",
      "           s_d = False\n",
      "Estado: 21\n",
      "           s_a = True\n",
      "           s_b = False\n",
      "           s_c = True\n",
      "           s_d = False\n",
      "Estado: 22\n",
      "           s_a = False\n",
      "           s_b = False\n",
      "           s_c = True\n",
      "           s_d = False\n",
      "Estado: 23\n",
      "           s_a = False\n",
      "           s_b = True\n",
      "           s_c = True\n",
      "           s_d = False\n",
      "Estado: 24\n",
      "           s_a = False\n",
      "           s_b = True\n",
      "           s_c = True\n",
      "           s_d = True\n",
      "Estado: 25\n",
      "           s_a = False\n",
      "           s_b = True\n",
      "           s_c = False\n",
      "           s_d = False\n",
      "Estado: 26\n",
      "           s_a = True\n",
      "           s_b = True\n",
      "           s_c = True\n",
      "           s_d = True\n",
      "Estado: 27\n",
      "           s_a = False\n",
      "           s_b = False\n",
      "           s_c = False\n",
      "           s_d = False\n"
     ]
    }
   ],
   "source": [
    "bmc_always(genState,init_notrandom,trans1,inv1,16,t,s)"
   ]
  },
  {
   "cell_type": "code",
   "execution_count": 45,
   "id": "2a81b0af-1058-4cf1-a9cc-9c3ccb3dc522",
   "metadata": {},
   "outputs": [
    {
     "name": "stdout",
     "output_type": "stream",
     "text": [
      "Transição Determinada: Neg XOR XOR XOR\n",
      "Estados inciais: False True True True\n",
      "Propriedade válida para traços de tamanho <= 14.\n"
     ]
    }
   ],
   "source": [
    "t = genTransRandom()\n",
    "s = genInitialRandom()\n",
    "bmc_always(genState,init_notrandom,trans1,inv1,14,t,s)"
   ]
  },
  {
   "cell_type": "markdown",
   "id": "d6f15345-3d28-4942-8b05-3c17cbcffb7f",
   "metadata": {},
   "source": [
    "### Indução"
   ]
  },
  {
   "cell_type": "markdown",
   "id": "e4c46ca1-4526-46de-9aa1-0bc31f4b0ce8",
   "metadata": {},
   "source": [
    "O Invariante `inv1` não é forte o suficiente para conseguir provar a condição por indução, já que não impossibilita o estado $(0,0,0,0)$ de ser acessível, por isso foi utilizado *k-indução*."
   ]
  },
  {
   "cell_type": "code",
   "execution_count": 18,
   "id": "67e419e0-9473-40d5-a13e-41a6f672279e",
   "metadata": {},
   "outputs": [],
   "source": [
    "def induction_always(vars,gen_state,init,trans,inv,s,t):\n",
    "    with Solver(name=\"z3\") as solver:\n",
    "        state0 = gen_state(vars, 'X', 0)\n",
    "        state1 = gen_state(vars, 'X', 1)\n",
    "        solver.push()\n",
    "        solver.add_assertion(And(init(state0,s['a'],s['b'],s['c'],s['d']), Not(inv(state0))))\n",
    "        if solver.solve():\n",
    "            print(\"A propriedade não é válida no estado inicial.\")\n",
    "            for v in state0:\n",
    "                print(v,\"=\",solverget_value(state0[v]))\n",
    "            return\n",
    "        solver.pop()\n",
    "        \n",
    "        solver.add_assertion(And(inv(state0), trans(state0,state1,t['a'],t['a'],t['a'],t['a']), Not(inv(state1))))\n",
    "        if solver.solve():\n",
    "            print(\"O passo indutivo não preserva a propriedade.\")\n",
    "            for v in state0:\n",
    "                print(v,\"=\",solver.get_value(state0[v]))\n",
    "            return\n",
    "        print(\"A propriedade é valida.\")"
   ]
  },
  {
   "cell_type": "markdown",
   "id": "3fd55aff-a4b3-4731-b2a7-9aa69d4570ad",
   "metadata": {},
   "source": []
  },
  {
   "cell_type": "code",
   "execution_count": 19,
   "id": "d2b2fd35-8dc3-453c-8a51-81d9531974bd",
   "metadata": {},
   "outputs": [
    {
     "name": "stdout",
     "output_type": "stream",
     "text": [
      "O passo indutivo não preserva a propriedade.\n",
      "s_a = True\n",
      "s_b = True\n",
      "s_c = True\n",
      "s_d = True\n"
     ]
    }
   ],
   "source": [
    "t = {'a': True, 'b': True, 'c': True, 'd': True}\n",
    "s = {'a': False, 'b': True, 'c': True, 'd': True}\n",
    "induction_always(vars, genState, init_notrandom, trans1, inv1,s,t)"
   ]
  },
  {
   "cell_type": "markdown",
   "id": "366954cd-daad-4fc2-9669-f9e27e245927",
   "metadata": {},
   "source": [
    "### K-Indução"
   ]
  },
  {
   "cell_type": "code",
   "execution_count": 26,
   "id": "d29211c5-74e7-432d-95b5-54c1298e7a24",
   "metadata": {},
   "outputs": [],
   "source": [
    "def kinduction_always(vars, gen_state,init,trans,inv,k,s,t):\n",
    "    with Solver(name=\"z3\") as solver:\n",
    "        traco = [gen_state(vars, 'X', i) for i in range(k+1) ]\n",
    "        solver.push()\n",
    "        solver.add_assertion( init(traco[0], s['a'], s['b'], s['c'], s['d'])  )\n",
    "        for e in range(k-1):\n",
    "            solver.add_assertion( trans (traco[e], traco[e+1], t['a'], t['b'], t['c'], t['d'] ) )\n",
    "        solver.add_assertion( Or([Not(inv(traco[i])) for i in range(k) ]) )\n",
    "\n",
    "        if solver.solve():\n",
    "            print(\"A propriedade não é valida para os k estados iniciais\")\n",
    "            i = 0\n",
    "            for trace in traco:\n",
    "                print(\"Estado:\",i)\n",
    "                i+=1\n",
    "                for v in trace:\n",
    "                    print(\"          \",v,'=',solver.get_value(trace[v]))\n",
    "            return\n",
    "        solver.pop()\n",
    "\n",
    "        solver.push()\n",
    "        for e in range(k):\n",
    "            solver.add_assertion( trans (traco[e], traco[e+1], t['a'], t['b'], t['c'], t['d'] ) )\n",
    "            solver.add_assertion( inv(traco[e]) )\n",
    "\n",
    "        solver.add_assertion( Not(inv(traco[k])) )\n",
    "\n",
    "        if solver.solve():\n",
    "            print(f\"O passo indutivo %d não preserva a propriedade\" % k)\n",
    "            i = 0\n",
    "            for trace in traco:\n",
    "                print(\"Estado:\",i)\n",
    "                i += 1\n",
    "                for v in trace:\n",
    "                    print(\"          \",v,'=',solver.get_value(trace[v]))\n",
    "            return\n",
    "        solver.pop()\n",
    "\n",
    "        print(\"A propriedade é valida para todos os estados acessíveis \")"
   ]
  },
  {
   "cell_type": "markdown",
   "id": "608319cf-536f-4843-b1a7-567608f0d66f",
   "metadata": {},
   "source": [
    "### Exemplos"
   ]
  },
  {
   "cell_type": "markdown",
   "id": "afc85e68-e066-44c1-b49f-a85c89cad4ab",
   "metadata": {},
   "source": [
    "Como os traços são limitados, basta testar *k-indução* para $k = 15$, já que ora os 16º é a repetição do primeiro (loop) ou entretanto já encontrou o estado de erro. Este teste é o pior caso do $k$, sendo possível encontrar $k$ mais pequenos que provem o mesmo."
   ]
  },
  {
   "cell_type": "code",
   "execution_count": 27,
   "id": "f8466836-d4a8-4700-9fb1-c05e622ddecf",
   "metadata": {},
   "outputs": [
    {
     "name": "stdout",
     "output_type": "stream",
     "text": [
      "A propriedade é valida para todos os estados acessíveis \n"
     ]
    }
   ],
   "source": [
    "t = {'a': True, 'b': True, 'c': True, 'd': True}\n",
    "s = {'a': False, 'b': True, 'c': True, 'd': True}\n",
    "kinduction_always(vars, genState,init_notrandom,trans1,inv1,2,s,t)"
   ]
  },
  {
   "cell_type": "code",
   "execution_count": 57,
   "id": "8e6e0b36-97db-4d75-86c1-c51c1566b41e",
   "metadata": {},
   "outputs": [
    {
     "name": "stdout",
     "output_type": "stream",
     "text": [
      "O passo indutivo 5 não preserva a propriedade\n",
      "Estado: 0\n",
      "           s_a = True\n",
      "           s_b = False\n",
      "           s_c = True\n",
      "           s_d = False\n",
      "Estado: 1\n",
      "           s_a = False\n",
      "           s_b = True\n",
      "           s_c = True\n",
      "           s_d = False\n",
      "Estado: 2\n",
      "           s_a = False\n",
      "           s_b = True\n",
      "           s_c = True\n",
      "           s_d = True\n",
      "Estado: 3\n",
      "           s_a = False\n",
      "           s_b = True\n",
      "           s_c = False\n",
      "           s_d = False\n",
      "Estado: 4\n",
      "           s_a = True\n",
      "           s_b = True\n",
      "           s_c = True\n",
      "           s_d = True\n",
      "Estado: 5\n",
      "           s_a = False\n",
      "           s_b = False\n",
      "           s_c = False\n",
      "           s_d = False\n"
     ]
    }
   ],
   "source": [
    "t = {'a': True, 'b': False, 'c': True, 'd': False}\n",
    "s = {'a': False, 'b': False, 'c': True, 'd': False}\n",
    "kinduction_always(vars, genState,init_notrandom,trans1,inv1,5,s,t)"
   ]
  },
  {
   "cell_type": "code",
   "execution_count": 58,
   "id": "c01e89a2-9d62-484d-be62-e7afdfef3c7e",
   "metadata": {},
   "outputs": [
    {
     "name": "stdout",
     "output_type": "stream",
     "text": [
      "A propriedade é valida para todos os estados acessíveis \n"
     ]
    }
   ],
   "source": [
    "kinduction_always(vars, genState,init_notrandom,trans1,inv1,6,s,t)"
   ]
  },
  {
   "cell_type": "code",
   "execution_count": 73,
   "id": "407f096f-d064-488b-a86f-c0d02364194c",
   "metadata": {},
   "outputs": [
    {
     "name": "stdout",
     "output_type": "stream",
     "text": [
      "Transição Determinada: Neg Neg Neg XOR\n",
      "Estados inciais: True False False True\n",
      "O passo indutivo 10 não preserva a propriedade\n",
      "Estado: 0\n",
      "           s_a = True\n",
      "           s_b = False\n",
      "           s_c = True\n",
      "           s_d = True\n",
      "Estado: 1\n",
      "           s_a = False\n",
      "           s_b = False\n",
      "           s_c = False\n",
      "           s_d = True\n",
      "Estado: 2\n",
      "           s_a = True\n",
      "           s_b = True\n",
      "           s_c = False\n",
      "           s_d = True\n",
      "Estado: 3\n",
      "           s_a = True\n",
      "           s_b = False\n",
      "           s_c = False\n",
      "           s_d = False\n",
      "Estado: 4\n",
      "           s_a = True\n",
      "           s_b = False\n",
      "           s_c = True\n",
      "           s_d = False\n",
      "Estado: 5\n",
      "           s_a = False\n",
      "           s_b = False\n",
      "           s_c = True\n",
      "           s_d = False\n",
      "Estado: 6\n",
      "           s_a = False\n",
      "           s_b = True\n",
      "           s_c = True\n",
      "           s_d = False\n",
      "Estado: 7\n",
      "           s_a = False\n",
      "           s_b = True\n",
      "           s_c = True\n",
      "           s_d = True\n",
      "Estado: 8\n",
      "           s_a = False\n",
      "           s_b = True\n",
      "           s_c = False\n",
      "           s_d = False\n",
      "Estado: 9\n",
      "           s_a = True\n",
      "           s_b = True\n",
      "           s_c = True\n",
      "           s_d = True\n",
      "Estado: 10\n",
      "           s_a = False\n",
      "           s_b = False\n",
      "           s_c = False\n",
      "           s_d = False\n"
     ]
    }
   ],
   "source": [
    "t = genTransRandom()\n",
    "s = genInitialRandom()\n",
    "kinduction_always(vars, genState,init_notrandom,trans1,inv1,10,s,t)"
   ]
  },
  {
   "cell_type": "markdown",
   "id": "75cfd2c3-0789-4898-abb8-904fa229e4c9",
   "metadata": {},
   "source": [
    "### Algoritmo de \"model-checking\" usando interpolantes e invariantes"
   ]
  },
  {
   "cell_type": "markdown",
   "id": "ab2eee3d-1e72-475c-9e83-8853f4f7625b",
   "metadata": {},
   "source": [
    "O algorimto que utiliza interpolantes aqui descrito é o mesmo que foi implementado nas aulas práticas."
   ]
  },
  {
   "cell_type": "code",
   "execution_count": 59,
   "id": "2b6f64cc-e3be-4b64-863e-608cb889f14e",
   "metadata": {},
   "outputs": [],
   "source": [
    "def invert(trans,a,b,c,d):\n",
    "    return (lambda curr,prox: trans(prox, curr, a, b, c, d))"
   ]
  },
  {
   "cell_type": "code",
   "execution_count": 60,
   "id": "0e4f8c9a-5010-418c-8953-63743f825718",
   "metadata": {},
   "outputs": [],
   "source": [
    "def baseName(s):\n",
    "    return ''.join(list(itertools.takewhile(lambda x: x!='!', s)))\n",
    "\n",
    "def rename(form,state):\n",
    "    vs = get_free_variables(form)\n",
    "    pairs = [ (x,state[baseName(x.symbol_name())]) for x in vs ]\n",
    "    return form.substitute(dict(pairs))\n",
    "\n",
    "def same(state1,state2):\n",
    "    return And([Iff(state1[x],state2[x]) for x in state1])"
   ]
  },
  {
   "cell_type": "code",
   "execution_count": 1,
   "id": "9a07edc6-eebc-4b2c-b269-4b7087e52867",
   "metadata": {},
   "outputs": [],
   "source": [
    "def model_checking(vars,init,trans,error,N,M,s,t):\n",
    "    with Solver(name=\"msat\") as solver:\n",
    "        \n",
    "        # Criar todos os estados que poderão vir a ser necessários.\n",
    "        X = [genState(vars,'X',i) for i in range(N+1)]\n",
    "        Y = [genState(vars,'Y',i) for i in range(M+1)]\n",
    "        \n",
    "        # Estabelecer a ordem pela qual os pares (n,m) vão surgir. Por exemplo:\n",
    "        order = sorted([(a,b) for a in range(1,N+1) for b in range(1,M+1)],key=lambda tup:tup[0]+tup[1]) \n",
    "        \n",
    "        #falta testar para n = 0 e m = 0\n",
    "        \n",
    "        for (n,m) in order:\n",
    "            I = init(X[0],s['a'],s['b'],s['c'],s['d'])\n",
    "            E = error(Y[0])\n",
    "            Tn = And([trans(X[i], X[i+1],t['a'],t['b'],t['c'],t['d']) for i in range(n)])\n",
    "            Bm = And([invert(trans,t['a'],t['b'],t['c'],t['d'])(Y[j], Y[j+1]) for j in range(m)])\n",
    "            Rn = And(I, Tn)\n",
    "            #print(Rn)\n",
    "            Um = And(E, Bm)\n",
    "            Vnm = And(Rn, Um, same(X[n], Y[m]))\n",
    "            \n",
    "            #1º Passo\n",
    "            if solver.solve([Vnm]):\n",
    "                print(\"Unsafe!\")\n",
    "                return\n",
    "            \n",
    "            #2º Passo\n",
    "            C = binary_interpolant(And(Rn, same(X[n], Y[m])), Um)\n",
    "            if n == 1 and m == 1:\n",
    "                print(\"C:\", C)\n",
    "            if C is None:\n",
    "                print(\"Interpolante None!\")\n",
    "                continue\n",
    "            #3ª Passo\n",
    "            C0 = rename(C, X[0])\n",
    "            C1 = rename(C, X[1])\n",
    "            T = trans(X[0], X[1],t['a'],t['b'],t['c'],t['d'])\n",
    "            if not solver.solve([C0, T, Not(C1)]):\n",
    "                print(\"Safe!\")\n",
    "                return\n",
    "            \n",
    "            #4º Passo - gerar o S\n",
    "            S = rename(C, X[n])\n",
    "            while True:\n",
    "                A = And(S, trans(X[n], Y[m],t['a'],t['b'],t['c'],t['d']))\n",
    "                if solver.solve([A, Um]):\n",
    "                    print(\"Não se encontrou o Majorante.\")\n",
    "                    break\n",
    "                Cnew = binary_interpolant(A, Um)\n",
    "                if Cnew is None:\n",
    "                    print(\"Interpolante None!\")\n",
    "                    break\n",
    "                Cn = rename(Cnew, X[n])\n",
    "                if solver.solve([Cn, Not(S)]):\n",
    "                    S = Or(S, Cn)\n",
    "                else:\n",
    "                    print(\"Safe!\")\n",
    "                    return\n",
    "                \n",
    "            \n",
    "        print(\"unknown\")                        "
   ]
  },
  {
   "cell_type": "markdown",
   "id": "6255efb2-cad8-49af-948d-6303b6bf3fd8",
   "metadata": {},
   "source": [
    "De facto, com os casos gerados, esta função parece não ser suficiente para conseguir provar que é seguro."
   ]
  },
  {
   "cell_type": "markdown",
   "id": "d29c6f0e-adb6-4e95-bda3-ab651bc54c7e",
   "metadata": {},
   "source": [
    "Os seguintes dados iniciais geram um sistema seguro, mas a geração dos interpolantes apenas gera condições que não são limitantes o suficiente, incapacitando a geração de um majorante que não intersete com $U_m$. Tal verifica-se nos casos que supostamente são seguros, como quando as transições são todas do tipo `neg` e apenas uma das variáveis do estado inicial é $0$\n",
    "\n",
    "O interpolante sendo só $\\neg X1_c$ faz com que seja possível considerar $X_n$ como o estado $(0,0,0,0)$, que é claramente inseguro.\n",
    "Para $X1 = (0,0,1,0)$ e $Y1 = (1,1,1,1)$, com todas as transições definidas para `neg`, um interpolante não será forte o suficiente para excluir a possibilidade de $Xn$ ser $(0,0,0,0)$."
   ]
  },
  {
   "cell_type": "code",
   "execution_count": 64,
   "id": "d7b3c0ae-b419-4755-b043-ff84913fb4a7",
   "metadata": {},
   "outputs": [
    {
     "name": "stdout",
     "output_type": "stream",
     "text": [
      "Estado: 0\n",
      "           s_a = True\n",
      "           s_b = True\n",
      "           s_c = True\n",
      "           s_d = False\n",
      "Estado: 1\n",
      "           s_a = False\n",
      "           s_b = False\n",
      "           s_c = True\n",
      "           s_d = False\n",
      "A propriedade é valida para todos os estados acessíveis \n",
      "C: (! s_a!Y1)\n",
      "Não se encontrou o Majorante.\n",
      "Não se encontrou o Majorante.\n",
      "Não se encontrou o Majorante.\n",
      "Não se encontrou o Majorante.\n",
      "Não se encontrou o Majorante.\n",
      "Não se encontrou o Majorante.\n",
      "Não se encontrou o Majorante.\n",
      "Não se encontrou o Majorante.\n",
      "Não se encontrou o Majorante.\n",
      "Não se encontrou o Majorante.\n",
      "Não se encontrou o Majorante.\n",
      "Não se encontrou o Majorante.\n",
      "Não se encontrou o Majorante.\n",
      "Não se encontrou o Majorante.\n",
      "Não se encontrou o Majorante.\n",
      "Não se encontrou o Majorante.\n",
      "Não se encontrou o Majorante.\n",
      "Não se encontrou o Majorante.\n",
      "Não se encontrou o Majorante.\n",
      "Não se encontrou o Majorante.\n",
      "Não se encontrou o Majorante.\n",
      "Não se encontrou o Majorante.\n",
      "Não se encontrou o Majorante.\n",
      "Não se encontrou o Majorante.\n",
      "Não se encontrou o Majorante.\n",
      "unknown\n"
     ]
    }
   ],
   "source": [
    "t = {'a':True,'b':True,'c':True,'d':True}\n",
    "s = {'a':True,'b':True,'c':True,'d':False}\n",
    "genTrace(vars,init_notrandom,trans1,2,s,t)\n",
    "kinduction_always(vars, genState,init_notrandom,trans1,inv1,2,s,t)\n",
    "model_checking(vars, init_notrandom, trans1, error1, 5, 5,s,t)"
   ]
  },
  {
   "cell_type": "markdown",
   "id": "109c67bb-628d-44c4-9e2f-69cc3c25528b",
   "metadata": {},
   "source": [
    "É possível provar a impossibilidade de calcular um interpolante que seja um invariante pretendido para o caso que todas as operações sejam negações, estudando atentamente a definição do algoritmo da geração do interpolante e as características dos estados de erro (nomeadamente, que vão alternar entre $(0,0,0,0)$ e $(1,1,1,1)$)."
   ]
  },
  {
   "cell_type": "markdown",
   "id": "9d619d9a-8f10-47ee-8685-2f5a6879088d",
   "metadata": {},
   "source": [
    "No caso de ser inseguro, parece ser possível provar depois de algumas tentativas."
   ]
  },
  {
   "cell_type": "code",
   "execution_count": 79,
   "id": "8682cead-feab-473a-8151-ca784c35d0a8",
   "metadata": {},
   "outputs": [
    {
     "name": "stdout",
     "output_type": "stream",
     "text": [
      "C: (! s_a!Y1)\n",
      "Não se encontrou o Majorante.\n",
      "Não se encontrou o Majorante.\n",
      "Não se encontrou o Majorante.\n",
      "Não se encontrou o Majorante.\n",
      "Não se encontrou o Majorante.\n",
      "Não se encontrou o Majorante.\n",
      "Não se encontrou o Majorante.\n",
      "Não se encontrou o Majorante.\n",
      "Não se encontrou o Majorante.\n",
      "Não se encontrou o Majorante.\n",
      "Unsafe!\n"
     ]
    }
   ],
   "source": [
    "t = {'a':True,'b':True,'c':True,'d':False}\n",
    "s = {'a':True,'b':False,'c':True,'d':False}\n",
    "model_checking(vars, init_notrandom, trans1, error1, 5, 5,s,t)"
   ]
  },
  {
   "cell_type": "code",
   "execution_count": 80,
   "id": "25309e6d-00a1-447b-a11a-8db1a49b8827",
   "metadata": {},
   "outputs": [
    {
     "name": "stdout",
     "output_type": "stream",
     "text": [
      "Transição Determinada: Neg XOR XOR Neg\n",
      "Estados inciais: False False False False\n",
      "C: (! s_c!Y1)\n",
      "Não se encontrou o Majorante.\n",
      "Unsafe!\n"
     ]
    }
   ],
   "source": [
    "t = genTransRandom()\n",
    "s = genInitialRandom()\n",
    "model_checking(vars, init_notrandom, trans1, error1, 10, 10,s,t)"
   ]
  },
  {
   "cell_type": "code",
   "execution_count": null,
   "id": "8c11e2a8-43c1-451f-acb6-400e8a965acc",
   "metadata": {},
   "outputs": [],
   "source": []
  }
 ],
 "metadata": {
  "kernelspec": {
   "display_name": "Python 3 (ipykernel)",
   "language": "python",
   "name": "python3"
  },
  "language_info": {
   "codemirror_mode": {
    "name": "ipython",
    "version": 3
   },
   "file_extension": ".py",
   "mimetype": "text/x-python",
   "name": "python",
   "nbconvert_exporter": "python",
   "pygments_lexer": "ipython3",
   "version": "3.9.12"
  }
 },
 "nbformat": 4,
 "nbformat_minor": 5
}
