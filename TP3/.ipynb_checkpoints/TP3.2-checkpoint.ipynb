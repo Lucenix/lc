{
 "cells": [
  {
   "cell_type": "markdown",
   "id": "338dd5de-6d4d-4dde-adef-c3d0e4397023",
   "metadata": {},
   "source": [
    "# TP3 - Grupo 14\n",
    "\n",
    "André Lucena Ribas Ferreira - A94956\n",
    "\n",
    "Paulo André Alegre Pinto - A97391"
   ]
  },
  {
   "cell_type": "markdown",
   "id": "5238c96c-524b-49ee-85b5-4cc437cea53a",
   "metadata": {},
   "source": [
    "## Enunciado do Problema\n",
    "\n",
    "O seguinte sistema dinâmico denota 4 inversores ($A, B, C, D$) que lêm um bit num canal input e escrevem num canal output uma transformação desse bit.\n",
    "\n",
    "![](https://paper-attachments.dropboxusercontent.com/s_9896551CC5FAD2B2EB6E4EBC08522545FA66314D29FE6A5BE8E593259F8E8A37_1669554332522_inversores.png)\n",
    "\n",
    " 1. Cada inversor tem um bit $s$ de estado, inicializado  com um valor aleatório.\n",
    " 2. Cada inversor é regido pelas seguintes transformações:\n",
    " $$\n",
    "   \\mathbf{invert}\\mathtt(in,out) \\\\\n",
    "   x \\gets \\mathsf{read}(\\mathtt{in}) \\\\\n",
    "   s \\gets \\neg x\\;\\;\\|\\;\\; s\\gets s\\oplus x \\\\\n",
    "   \\mathsf{write}(\\mathtt{out},s) \\\\\n",
    " $$\n",
    " 3. A escolha neste comando é sempre determinística; isto é, em cada inversor a escolha do comando a executar é sempre a mesma. Porém qual é essa escolha é determinada aleatoriamente na inicialização do sistema.\n",
    " 4. O estado do sistema é um tuplo definido pelos 4 bits $s$, e é inicializado com um vetor aleatório em $\\{0,1\\}^4\\;$.\n",
    " 5. O sistema termina em ERRO quando o estado do sistema for $(0,0,0,0)$.\n",
    "\n",
    "Prentede-se o seguinte:\n",
    " 1. Construa um SFOTS que descreva este sistema e implemente este sistema, numa abordagem BMC (“bouded model checker”) num traço com $n$ estados.\n",
    " 2. Verifique se o sistema é seguro usando BMC, k-indução ou model checking com interpolantes.\n"
   ]
  },
  {
   "cell_type": "markdown",
   "id": "03ec7fad-4275-48e0-bb3f-664540ca0792",
   "metadata": {},
   "source": [
    "## Análise"
   ]
  },
  {
   "cell_type": "markdown",
   "id": "160680f9-73b3-4bc6-a935-ac7950eb4192",
   "metadata": {},
   "source": [
    "O problema exposto tem certas considerações a ter em conta.\n",
    "\n",
    "Em primeiro lugar, considera-se o $in$ de cada um dos inversores igual ao $out$ do estado anterior, ou seja, o estado anterior com uma rotação cíclica das variáveis, exceto no caso do estado inicial. A ordem da rotação é a descrita nos canais, $a \\rightarrow b \\rightarrow d \\rightarrow c$\n",
    "\n",
    "No caso do estado inicial, decidiu-se gerar o $in$ aleatoriamente tal como se gera o $s$ para cada inversor, isto é, o estado inicial.\n",
    "\n",
    "Em segundo lugar, como cada inversor funciona em paralelo com cada outro inversor, as variáveis de cada estado vão ser apenas cada um dos elementos de cada tuplo de $\\{0,1\\}^4$, não existindo variável que seja considerada o contador do programa. \n",
    "\n",
    "Em terceiro lugar, deve-se definir aleatoriamente cada um dos comportamentos dos inversores, que será mantido durante a execução inteira."
   ]
  },
  {
   "cell_type": "markdown",
   "id": "4ab68a2d-ac95-4101-b258-61b96f077926",
   "metadata": {},
   "source": [
    "### Definição do SFOTS\n",
    "\n",
    "Tal como pretendido, o sistema dinâmico será modelado através um SFOTS, nomeadamente um tuplo:\n",
    "$$ \\Sigma \\; \\equiv \\; <\\mathcal{T},X,next,I,T,E> $$\n",
    "\n",
    "Onde se verifica o seguinte, para representar o sistema em específico:\n",
    " 1. $\\mathcal{T}$ representa um SMT apropriada, que pertence à FOL, que vamos representar no nosso Solver;\n",
    " 2. $X$ é o conjunto das variáveis base do problema;\n",
    " 3. $next$ é um operador que gera \"clones\" das variáves em $X$;\n",
    " 4. $I$ é um predicado unário que determina quais os estados iniciais;\n",
    " 5. $T$ é um predicado binário que determina as transições entre dois estados;\n",
    " 6. $E$ é um predicado unário que determina os estados de erro."
   ]
  },
  {
   "cell_type": "markdown",
   "id": "ae375514-20d5-4416-9ec3-bdc4850ffe7d",
   "metadata": {},
   "source": [
    "$X$ neste caso é constituído por uma variável binária para cada um dos estados dos inversores, $\\{s_a,s_b,s_c,s_d\\}$. Dependendo da transição ciclica, um dos estados de um dos inversores será considerado o valor de entrada de outro. Ou seja, $in_a = s_c$, $in_b = s_a$, $in_c = s_d$ e $in_d = s_b$.\n",
    "\n",
    "Considerando o estado inicial, não existem condições que limitam as variáveis, já que é possível o primeiro estado ser um estado de erro. No entanto, isto invalida o interesse da definição aleatória do comportamento dos inversores no que diz respeito à verificação de segurança. Nesse sentido, deverá ser possível evitar começar num estado de erro:\n",
    "\n",
    "$$ I \\quad \\equiv \\quad s_a \\neq 0 \\wedge s_b \\neq 0 \\wedge s_c \\neq 0 \\wedge s_d \\neq 0$$\n",
    "\n",
    "O predicado de transição depende da definição aleatória no início da execução. No seu geral, é definido por uma conjunção entre todos os inversores, cada um que pode ser um de dois predicados. Por exemplo, para o inversor $A$:\n",
    "\n",
    "$$ T_a \\; \\equiv \\; s_a' = \\neg\\; s_c \\quad \\text{ou} \\quad T_a \\; \\equiv \\; s_a' = s_a \\oplus s_c$$\n",
    "\n",
    "O estado de erro, tal como definido no enunciado, ocorre quando cada um dos $s$ é igual a $0$.\n",
    "\n",
    "$$ E \\quad \\equiv \\quad s_a = 0 \\wedge s_b = 0 \\wedge s_c = 0 \\wedge s_d = 0$$"
   ]
  },
  {
   "cell_type": "markdown",
   "id": "e61f1c12-8651-4617-8ba7-fe7997bb5bd4",
   "metadata": {},
   "source": [
    "## Implementação"
   ]
  },
  {
   "cell_type": "code",
   "execution_count": 1,
   "id": "64177754-0d16-48a2-98ce-5eeffb9ad1d0",
   "metadata": {},
   "outputs": [],
   "source": [
    "from pysmt.shortcuts import *\n",
    "from pysmt.typing import BOOL\n",
    "\n",
    "from numpy.random import binomial\n",
    "import itertools "
   ]
  },
  {
   "cell_type": "code",
   "execution_count": 2,
   "id": "9e1b549e-7a1d-40f1-9ac4-6638286514a7",
   "metadata": {},
   "outputs": [],
   "source": [
    "def genState(vars,s,i):\n",
    "    state = {}\n",
    "    for v in vars:\n",
    "        state[v] = Symbol(v+'!'+s+str(i),BOOL)\n",
    "    return state"
   ]
  },
  {
   "cell_type": "code",
   "execution_count": 3,
   "id": "fb1e46d1-3d63-4c73-bb58-0a2e2e2cef57",
   "metadata": {},
   "outputs": [],
   "source": [
    "vars = ['s_a','s_b','s_c','s_d'] #in_a = s_c, in_b = s_a, in_c = s_d, in_d = s_b\n",
    "\n",
    "def init1(state):\n",
    "    a = binomial(1,0.5) == 1\n",
    "    b = binomial(1,0.5) == 1\n",
    "    c = binomial(1,0.5) == 1\n",
    "    d = binomial(1,0.5) == 1\n",
    "    print(\"Estados inciais:\",a,b,c,d)\n",
    "    return And(Iff(state['s_a'], Bool(a)), Iff(state['s_b'], Bool(b)), \n",
    "               Iff(state['s_c'], Bool(c)), Iff(state['s_d'], Bool(d)))\n",
    "    \n",
    "def error1(state):\n",
    "    return And(Iff(state['s_a'], Bool(False)), Iff(state['s_b'], Bool(False)), \n",
    "               Iff(state['s_c'], Bool(False)), Iff(state['s_d'], Bool(False)))\n",
    "    \n",
    "def trans1(curr, prox, a, b, c, d):\n",
    "    t_a = Iff(Not(curr['s_c']), prox['s_a']) if a else Iff(Xor(curr['s_c'], curr['s_a']), prox['s_a'])\n",
    "    t_b = Iff(Not(curr['s_a']), prox['s_b']) if b else Iff(Xor(curr['s_a'], curr['s_b']), prox['s_b'])\n",
    "    t_c = Iff(Not(curr['s_d']), prox['s_c']) if c else Iff(Xor(curr['s_d'], curr['s_c']), prox['s_c'])\n",
    "    t_d = Iff(Not(curr['s_b']), prox['s_d']) if d else Iff(Xor(curr['s_b'], curr['s_d']), prox['s_d'])\n",
    "    #in_cond = And(Iff(curr['in_a'], prox['in_b']), Iff(curr['in_b'], prox['in_d']), Iff(curr['in_c'], prox['in_a']), Iff(curr['in_d'], prox['in_c']))\n",
    "    return And(t_a, t_b, t_c, t_d)"
   ]
  },
  {
   "cell_type": "code",
   "execution_count": 4,
   "id": "3e7c4f2d-868a-489e-9661-993b5e4fdf95",
   "metadata": {},
   "outputs": [],
   "source": [
    "def genTrace(vars,init,trans,error,n):\n",
    "    a = binomial(1,0.5) == 1\n",
    "    b = binomial(1,0.5) == 1\n",
    "    c = binomial(1,0.5) == 1\n",
    "    d = binomial(1,0.5) == 1\n",
    "    print(\"Transição Determinada:\", \"Neg\" if a else \"XOR\", \"Neg\" if b else \"XOR\", \"Neg\" if c else \"XOR\", \"Neg\" if c else \"XOR\")\n",
    "    with Solver(name=\"z3\") as s:\n",
    "        X = [genState(vars,'X',i) for i in range(n+1)]   # cria n+1 estados (com etiqueta X)\n",
    "        I = init(X[0])\n",
    "        Tks = [ trans(X[i],X[i+1],a,b,c,d) for i in range(n) ]\n",
    "        \n",
    "        if s.solve([I,And(Tks)]):      # testa se I /\\ T^n  é satisfazível\n",
    "            for i in range(n):\n",
    "                print(\"Estado:\",i)\n",
    "                for v in X[i]:\n",
    "                    print(\"          \",v,'=',s.get_value(X[i][v]))"
   ]
  },
  {
   "cell_type": "code",
   "execution_count": 5,
   "id": "a2f150f0-9f07-40e8-bc25-3a143d13c35f",
   "metadata": {},
   "outputs": [
    {
     "name": "stdout",
     "output_type": "stream",
     "text": [
      "Transição Determinada: Neg Neg XOR XOR\n",
      "Estados inciais: True True False True\n",
      "Estado: 0\n",
      "           s_a = True\n",
      "           s_b = True\n",
      "           s_c = False\n",
      "           s_d = True\n",
      "Estado: 1\n",
      "           s_a = True\n",
      "           s_b = False\n",
      "           s_c = True\n",
      "           s_d = False\n",
      "Estado: 2\n",
      "           s_a = False\n",
      "           s_b = False\n",
      "           s_c = True\n",
      "           s_d = True\n",
      "Estado: 3\n",
      "           s_a = False\n",
      "           s_b = True\n",
      "           s_c = False\n",
      "           s_d = True\n",
      "Estado: 4\n",
      "           s_a = True\n",
      "           s_b = True\n",
      "           s_c = True\n",
      "           s_d = False\n"
     ]
    }
   ],
   "source": [
    "genTrace(vars, init1, trans1, error1, 5)"
   ]
  },
  {
   "cell_type": "markdown",
   "id": "3d71f7a6-ddc0-4402-8d80-3ca09a2fa55b",
   "metadata": {},
   "source": [
    "## Verificação"
   ]
  },
  {
   "cell_type": "markdown",
   "id": "59aa78a6-d674-40f1-a910-b00fe4cf1ceb",
   "metadata": {},
   "source": [
    "### Verificação de Segurança"
   ]
  },
  {
   "cell_type": "code",
   "execution_count": 6,
   "id": "67e419e0-9473-40d5-a13e-41a6f672279e",
   "metadata": {},
   "outputs": [],
   "source": [
    "def induction_always(vars,gen_state,init,trans,inv):\n",
    "    with Solver(name=\"z3\") as s:\n",
    "        state0 = gen_state(vars, 'X', 0)\n",
    "        state1 = gen_state(vars, 'X', 1)\n",
    "        s.push()\n",
    "        s.add_assertion(And(init(state0), Not(inv(state0))))\n",
    "        if s.solve():\n",
    "            print(\"A propriedade não é válida no estado inicial.\")\n",
    "            for v in state0:\n",
    "                print(v,\"=\",s.get_value(state0[v]))\n",
    "            return\n",
    "        s.pop()\n",
    "        a = binomial(1,0.5) == 1\n",
    "        b = binomial(1,0.5) == 1\n",
    "        c = binomial(1,0.5) == 1\n",
    "        d = binomial(1,0.5) == 1\n",
    "        print(\"Transição Determinada:\", \"Neg\" if a else \"XOR\", \"Neg\" if b else \"XOR\", \"Neg\" if c else \"XOR\", \"Neg\" if c else \"XOR\")\n",
    "        s.add_assertion(And(inv(state0), trans(state0,state1,a,b,c,d), Not(inv(state1))))\n",
    "        if s.solve():\n",
    "            print(\"O passo indutivo não preserva a propriedade.\")\n",
    "            for v in state0:\n",
    "                print(v,\"=\",s.get_value(state0[v]))\n",
    "            return\n",
    "        print(\"A propriedade é valida.\")"
   ]
  },
  {
   "cell_type": "markdown",
   "id": "3fd55aff-a4b3-4731-b2a7-9aa69d4570ad",
   "metadata": {},
   "source": [
    "Este invariante não é provável por indução, já que não nos impede de chegar ao estado $(0,0,0,0)$ quando este não é acessível."
   ]
  },
  {
   "cell_type": "code",
   "execution_count": 7,
   "id": "2e674c5d-f209-4a29-9b26-ceed7e41dbdb",
   "metadata": {},
   "outputs": [],
   "source": [
    "def inv1(state):\n",
    "    return Not(error1(state))"
   ]
  },
  {
   "cell_type": "code",
   "execution_count": 8,
   "id": "d2b2fd35-8dc3-453c-8a51-81d9531974bd",
   "metadata": {},
   "outputs": [
    {
     "name": "stdout",
     "output_type": "stream",
     "text": [
      "Estados inciais: True True True False\n",
      "Transição Determinada: XOR XOR Neg Neg\n",
      "O passo indutivo não preserva a propriedade.\n",
      "s_a = True\n",
      "s_b = True\n",
      "s_c = True\n",
      "s_d = True\n"
     ]
    }
   ],
   "source": [
    "induction_always(vars, genState, init1, trans1, inv1)"
   ]
  },
  {
   "cell_type": "code",
   "execution_count": 9,
   "id": "ffe3a654-2c2b-4547-aef3-d0ce4c7dcf3e",
   "metadata": {},
   "outputs": [
    {
     "name": "stdout",
     "output_type": "stream",
     "text": [
      "Estados inciais: True True False True\n",
      "Transição Determinada: XOR Neg XOR XOR\n",
      "O passo indutivo não preserva a propriedade.\n",
      "s_a = True\n",
      "s_b = True\n",
      "s_c = True\n",
      "s_d = True\n"
     ]
    }
   ],
   "source": [
    "induction_always(vars, genState, init1, trans1, inv1)"
   ]
  },
  {
   "cell_type": "markdown",
   "id": "2ec0be5c-8b33-4b6f-a9b0-4e68a3c97414",
   "metadata": {},
   "source": [
    "Sem `k-indução`, não se consegue verificar a acessibilidade do estado $(1,1,1,1)$ (ou qualquer outro inseguro)."
   ]
  },
  {
   "cell_type": "code",
   "execution_count": 18,
   "id": "d29211c5-74e7-432d-95b5-54c1298e7a24",
   "metadata": {},
   "outputs": [],
   "source": [
    "def kinduction_always(vars, gen_state,init,trans,inv,k):\n",
    "    with Solver(name=\"z3\") as s:\n",
    "        a = binomial(1,0.5) == 1\n",
    "        b = binomial(1,0.5) == 1\n",
    "        c = binomial(1,0.5) == 1\n",
    "        d = binomial(1,0.5) == 1\n",
    "        print(\"Transição Determinada:\", \"Neg\" if a else \"XOR\", \"Neg\" if b else \"XOR\", \"Neg\" if c else \"XOR\", \"Neg\" if c else \"XOR\")\n",
    "        \n",
    "        traco = [gen_state(vars, 'X', i) for i in range(k+1) ]\n",
    "        s.push()\n",
    "        s.add_assertion( init(traco[0])  )\n",
    "        for e in range(k-1):\n",
    "            s.add_assertion( trans (traco[e], traco[e+1], a, b, c, d ) )\n",
    "        s.add_assertion( Or([Not(inv(traco[i])) for i in range(k) ]) )\n",
    "\n",
    "        if s.solve():\n",
    "            print(\"A propriedade não é valida para os k estados iniciais\")\n",
    "            i = 0\n",
    "            for trace in traco:\n",
    "                print(\"Estado:\",i)\n",
    "                i+=1\n",
    "                i += 1\n",
    "                for v in trace:\n",
    "                    print(\"          \",v,'=',s.get_value(trace[v]))\n",
    "            return\n",
    "        s.pop()\n",
    "\n",
    "        s.push()\n",
    "        for e in range(k):\n",
    "            s.add_assertion( trans (traco[e], traco[e+1], a, b, c, d ) )\n",
    "            s.add_assertion( inv(traco[e]) )\n",
    "\n",
    "        s.add_assertion( Not(inv(traco[k])) )\n",
    "\n",
    "        if s.solve():\n",
    "            print(f\"O passo indutivo %d não preserva a propriedade\" % k)\n",
    "            i = 0\n",
    "            for trace in traco:\n",
    "                print(\"Estado:\",i)\n",
    "                i += 1\n",
    "                for v in trace:\n",
    "                    print(\"          \",v,'=',s.get_value(trace[v]))\n",
    "            return\n",
    "        s.pop()\n",
    "\n",
    "        print(\"A propriedade é valida para todos os estados acessíveis \")"
   ]
  },
  {
   "cell_type": "code",
   "execution_count": 19,
   "id": "f8466836-d4a8-4700-9fb1-c05e622ddecf",
   "metadata": {},
   "outputs": [
    {
     "name": "stdout",
     "output_type": "stream",
     "text": [
      "Transição Determinada: XOR Neg XOR XOR\n",
      "Estados inciais: False False True False\n",
      "A propriedade não é valida para os k estados iniciais\n"
     ]
    },
    {
     "ename": "UnboundLocalError",
     "evalue": "local variable 'i' referenced before assignment",
     "output_type": "error",
     "traceback": [
      "\u001b[1;31m---------------------------------------------------------------------------\u001b[0m",
      "\u001b[1;31mUnboundLocalError\u001b[0m                         Traceback (most recent call last)",
      "Input \u001b[1;32mIn [19]\u001b[0m, in \u001b[0;36m<cell line: 1>\u001b[1;34m()\u001b[0m\n\u001b[1;32m----> 1\u001b[0m \u001b[43mkinduction_always\u001b[49m\u001b[43m(\u001b[49m\u001b[38;5;28;43mvars\u001b[39;49m\u001b[43m,\u001b[49m\u001b[43m \u001b[49m\u001b[43mgenState\u001b[49m\u001b[43m,\u001b[49m\u001b[43minit1\u001b[49m\u001b[43m,\u001b[49m\u001b[43mtrans1\u001b[49m\u001b[43m,\u001b[49m\u001b[43minv1\u001b[49m\u001b[43m,\u001b[49m\u001b[38;5;241;43m5\u001b[39;49m\u001b[43m)\u001b[49m\n",
      "Input \u001b[1;32mIn [18]\u001b[0m, in \u001b[0;36mkinduction_always\u001b[1;34m(vars, gen_state, init, trans, inv, k)\u001b[0m\n\u001b[0;32m     17\u001b[0m \u001b[38;5;28mprint\u001b[39m(\u001b[38;5;124m\"\u001b[39m\u001b[38;5;124mA propriedade não é valida para os k estados iniciais\u001b[39m\u001b[38;5;124m\"\u001b[39m)\n\u001b[0;32m     18\u001b[0m \u001b[38;5;28;01mfor\u001b[39;00m trace \u001b[38;5;129;01min\u001b[39;00m traco:\n\u001b[1;32m---> 19\u001b[0m     \u001b[38;5;28mprint\u001b[39m(\u001b[38;5;124m\"\u001b[39m\u001b[38;5;124mEstado:\u001b[39m\u001b[38;5;124m\"\u001b[39m,\u001b[43mi\u001b[49m)\n\u001b[0;32m     20\u001b[0m     i \u001b[38;5;241m+\u001b[39m\u001b[38;5;241m=\u001b[39m \u001b[38;5;241m1\u001b[39m\n\u001b[0;32m     21\u001b[0m     \u001b[38;5;28;01mfor\u001b[39;00m v \u001b[38;5;129;01min\u001b[39;00m trace:\n",
      "\u001b[1;31mUnboundLocalError\u001b[0m: local variable 'i' referenced before assignment"
     ]
    }
   ],
   "source": [
    "kinduction_always(vars, genState,init1,trans1,inv1,5)"
   ]
  },
  {
   "cell_type": "code",
   "execution_count": null,
   "id": "526abf62-4c94-4807-ac1c-f75784a7f2a1",
   "metadata": {},
   "outputs": [],
   "source": []
  }
 ],
 "metadata": {
  "kernelspec": {
   "display_name": "Python 3 (ipykernel)",
   "language": "python",
   "name": "python3"
  },
  "language_info": {
   "codemirror_mode": {
    "name": "ipython",
    "version": 3
   },
   "file_extension": ".py",
   "mimetype": "text/x-python",
   "name": "python",
   "nbconvert_exporter": "python",
   "pygments_lexer": "ipython3",
   "version": "3.9.12"
  }
 },
 "nbformat": 4,
 "nbformat_minor": 5
}
