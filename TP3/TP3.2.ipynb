{
 "cells": [
  {
   "cell_type": "markdown",
   "id": "338dd5de-6d4d-4dde-adef-c3d0e4397023",
   "metadata": {},
   "source": [
    "# TP3 - Grupo 14\n",
    "\n",
    "André Lucena Ribas Ferreira - A94956\n",
    "\n",
    "Paulo André Alegre Pinto - A97391"
   ]
  },
  {
   "cell_type": "markdown",
   "id": "5238c96c-524b-49ee-85b5-4cc437cea53a",
   "metadata": {},
   "source": [
    "## Enunciado do Problema\n",
    "\n",
    "O seguinte sistema dinâmico denota 4 inversores ($A, B, C, D$) que lêm um bit num canal input e escrevem num canal output uma transformação desse bit.\n",
    "\n",
    "![](https://paper-attachments.dropboxusercontent.com/s_9896551CC5FAD2B2EB6E4EBC08522545FA66314D29FE6A5BE8E593259F8E8A37_1669554332522_inversores.png)\n",
    "\n",
    " 1. Cada inversor tem um bit $s$ de estado, inicializado  com um valor aleatório.\n",
    " 2. Cada inversor é regido pelas seguintes transformações:\n",
    " $$\n",
    "   \\mathbf{invert}\\mathtt(in,out) \\\\\n",
    "   x \\gets \\mathsf{read}(\\mathtt{in}) \\\\\n",
    "   s \\gets \\neg x\\;\\;\\|\\;\\; s\\gets s\\oplus x \\\\\n",
    "   \\mathsf{write}(\\mathtt{out},s) \\\\\n",
    " $$\n",
    " 3. A escolha neste comando é sempre determinística; isto é, em cada inversor a escolha do comando a executar é sempre a mesma. Porém qual é essa escolha é determinada aleatoriamente na inicialização do sistema.\n",
    " 4. O estado do sistema é um tuplo definido pelos 4 bits $s$, e é inicializado com um vetor aleatório em $\\{0,1\\}^4\\;$.\n",
    " 5. O sistema termina em ERRO quando o estado do sistema for $(0,0,0,0)$.\n",
    "\n",
    "Prentede-se o seguinte:\n",
    " 1. Construa um SFOTS que descreva este sistema e implemente este sistema, numa abordagem BMC (“bouded model checker”) num traço com $n$ estados.\n",
    " 2. Verifique se o sistema é seguro usando BMC, k-indução ou model checking com interpolantes.\n"
   ]
  },
  {
   "cell_type": "markdown",
   "id": "03ec7fad-4275-48e0-bb3f-664540ca0792",
   "metadata": {},
   "source": [
    "## Análise"
   ]
  },
  {
   "cell_type": "markdown",
   "id": "160680f9-73b3-4bc6-a935-ac7950eb4192",
   "metadata": {},
   "source": [
    "O problema exposto tem certas considerações a ter em conta.\n",
    "\n",
    "Em primeiro lugar, considera-se o $in$ de cada um dos inversores igual ao $out$ do estado anterior, ou seja, o estado anterior com uma rotação cíclica das variáveis, exceto no caso do estado inicial. A ordem da rotação é a descrita nos canais, $a \\rightarrow b \\rightarrow d \\rightarrow c$\n",
    "\n",
    "No caso do estado inicial, decidiu-se gerar o $in$ aleatoriamente tal como se gera o $s$ para cada inversor, isto é, o estado inicial.\n",
    "\n",
    "Em segundo lugar, como cada inversor funciona em paralelo com cada outro inversor, as variáveis de cada estado vão ser apenas cada um dos elementos de cada tuplo de $\\{0,1\\}^4$, não existindo variável que seja considerada o contador do programa. \n",
    "\n",
    "Em terceiro lugar, deve-se definir aleatoriamente cada um dos comportamentos dos inversores, que será mantido durante a execução inteira."
   ]
  },
  {
   "cell_type": "markdown",
   "id": "4ab68a2d-ac95-4101-b258-61b96f077926",
   "metadata": {},
   "source": [
    "### Definição do SFOTS\n",
    "\n",
    "Tal como pretendido, o sistema dinâmico será modelado através um SFOTS, nomeadamente um tuplo:\n",
    "$$ \\Sigma \\; \\equiv \\; <\\mathcal{T},X,next,I,T,E> $$\n",
    "\n",
    "Onde se verifica o seguinte, para representar o sistema em específico:\n",
    " 1. $\\mathcal{T}$ representa um SMT apropriada, que pertence à FOL, que vamos representar no nosso Solver;\n",
    " 2. $X$ é o conjunto das variáveis base do problema;\n",
    " 3. $next$ é um operador que gera \"clones\" das variáves em $X$;\n",
    " 4. $I$ é um predicado unário que determina quais os estados iniciais;\n",
    " 5. $T$ é um predicado binário que determina as transições entre dois estados;\n",
    " 6. $E$ é um predicado unário que determina os estados de erro."
   ]
  },
  {
   "cell_type": "markdown",
   "id": "ae375514-20d5-4416-9ec3-bdc4850ffe7d",
   "metadata": {},
   "source": [
    "$X$ neste caso é constituído por uma variável binária para cada um dos estados dos inversores, $\\{s_a,s_b,s_c,s_d\\}$. Dependendo da transição ciclica, um dos estados de um dos inversores será considerado o valor de entrada de outro. Ou seja, $in_a = s_c$, $in_b = s_a$, $in_c = s_d$ e $in_d = s_b$.\n",
    "\n",
    "Considerando o estado inicial, não existem condições que limitam as variáveis, já que é possível o primeiro estado ser um estado de erro. No entanto, isto invalida o interesse da definição aleatória do comportamento dos inversores no que diz respeito à verificação de segurança. Nesse sentido, deverá ser possível evitar começar num estado de erro:\n",
    "\n",
    "$$ I \\quad \\equiv \\quad s_a \\neq 0 \\wedge s_b \\neq 0 \\wedge s_c \\neq 0 \\wedge s_d \\neq 0$$\n",
    "\n",
    "O predicado de transição depende da definição aleatória no início da execução. No seu geral, é definido por uma conjunção entre todos os inversores, cada um que pode ser um de dois predicados. Por exemplo, para o inversor $A$:\n",
    "\n",
    "$$ T_a \\; \\equiv \\; s_a' = \\neg\\; s_c \\quad \\text{ou} \\quad T_a \\; \\equiv \\; s_a' = s_a \\oplus s_c$$\n",
    "\n",
    "O estado de erro, tal como definido no enunciado, ocorre quando cada um dos $s$ é igual a $0$.\n",
    "\n",
    "$$ E \\quad \\equiv \\quad s_a = 0 \\wedge s_b = 0 \\wedge s_c = 0 \\wedge s_d = 0$$"
   ]
  },
  {
   "cell_type": "markdown",
   "id": "e61f1c12-8651-4617-8ba7-fe7997bb5bd4",
   "metadata": {},
   "source": [
    "## Implementação"
   ]
  },
  {
   "cell_type": "code",
   "execution_count": 1,
   "id": "64177754-0d16-48a2-98ce-5eeffb9ad1d0",
   "metadata": {},
   "outputs": [],
   "source": [
    "from pysmt.shortcuts import *\n",
    "from pysmt.typing import BOOL\n",
    "\n",
    "from numpy.random import binomial\n",
    "import itertools "
   ]
  },
  {
   "cell_type": "code",
   "execution_count": 2,
   "id": "9e1b549e-7a1d-40f1-9ac4-6638286514a7",
   "metadata": {},
   "outputs": [],
   "source": [
    "def genState(vars,s,i):\n",
    "    state = {}\n",
    "    for v in vars:\n",
    "        state[v] = Symbol(v+'!'+s+str(i),BOOL)\n",
    "    return state"
   ]
  },
  {
   "cell_type": "code",
   "execution_count": 7,
   "id": "fb1e46d1-3d63-4c73-bb58-0a2e2e2cef57",
   "metadata": {},
   "outputs": [],
   "source": [
    "vars = ['s_a','s_b','s_c','s_d'] #in_a = s_c, in_b = s_a, in_c = s_d, in_d = s_b\n",
    "\n",
    "def init1(state):\n",
    "    s = genInitialRandom()\n",
    "    return And(Iff(state['s_a'], Bool(s['a'])), Iff(state['s_b'], Bool(s['b'])), \n",
    "               Iff(state['s_c'], Bool(s['c'])), Iff(state['s_d'], Bool(s['d'])))\n",
    "    \n",
    "def error1(state):\n",
    "    return And(Iff(state['s_a'], Bool(False)), Iff(state['s_b'], Bool(False)), \n",
    "               Iff(state['s_c'], Bool(False)), Iff(state['s_d'], Bool(False)))\n",
    "    \n",
    "def trans1(curr, prox, a, b, c, d):\n",
    "    t_a = Iff(Not(curr['s_c']), prox['s_a']) if a else Iff(Xor(curr['s_c'], curr['s_a']), prox['s_a'])\n",
    "    t_b = Iff(Not(curr['s_a']), prox['s_b']) if b else Iff(Xor(curr['s_a'], curr['s_b']), prox['s_b'])\n",
    "    t_c = Iff(Not(curr['s_d']), prox['s_c']) if c else Iff(Xor(curr['s_d'], curr['s_c']), prox['s_c'])\n",
    "    t_d = Iff(Not(curr['s_b']), prox['s_d']) if d else Iff(Xor(curr['s_b'], curr['s_d']), prox['s_d'])\n",
    "    #in_cond = And(Iff(curr['in_a'], prox['in_b']), Iff(curr['in_b'], prox['in_d']), Iff(curr['in_c'], prox['in_a']), Iff(curr['in_d'], prox['in_c']))\n",
    "    return And(t_a, t_b, t_c, t_d)"
   ]
  },
  {
   "cell_type": "code",
   "execution_count": 8,
   "id": "571b5ad9-9c62-478b-bded-e5310c98f365",
   "metadata": {},
   "outputs": [],
   "source": [
    "def genInitialRandom():\n",
    "    s = {}\n",
    "    s['a']= binomial(1,0.5) == 1\n",
    "    s['b'] = binomial(1,0.5) == 1\n",
    "    s['c'] = binomial(1,0.5) == 1\n",
    "    s['d'] = binomial(1,0.5) == 1\n",
    "    print(\"Estados inciais:\",s['a'],s['b'],s['c'],s['d'])\n",
    "    return s\n",
    "\n",
    "def genTransRandom():\n",
    "    t = {}\n",
    "    t['a'] = binomial(1,0.5) == 1\n",
    "    t['b'] = binomial(1,0.5) == 1\n",
    "    t['c'] = binomial(1,0.5) == 1\n",
    "    t['d'] = binomial(1,0.5) == 1\n",
    "    print(\"Transição Determinada:\", \"Neg\" if t['a'] else \"XOR\", \"Neg\" if t['b'] else \"XOR\", \"Neg\" if t['c'] else \"XOR\", \"Neg\" if t['d'] else \"XOR\")\n",
    "    return t"
   ]
  },
  {
   "cell_type": "code",
   "execution_count": 9,
   "id": "3e7c4f2d-868a-489e-9661-993b5e4fdf95",
   "metadata": {},
   "outputs": [],
   "source": [
    "def genTrace(vars,init,trans,error,n):\n",
    "    t = genTransRandom()\n",
    "    with Solver(name=\"z3\") as s:\n",
    "        X = [genState(vars,'X',i) for i in range(n+1)]   # cria n+1 estados (com etiqueta X)\n",
    "        I = init(X[0])\n",
    "        Tks = [ trans(X[i],X[i+1],t['a'],t['b'],t['c'],t['d']) for i in range(n) ]\n",
    "        \n",
    "        if s.solve([I,And(Tks)]):      # testa se I /\\ T^n  é satisfazível\n",
    "            for i in range(n):\n",
    "                print(\"Estado:\",i)\n",
    "                for v in X[i]:\n",
    "                    print(\"          \",v,'=',s.get_value(X[i][v]))"
   ]
  },
  {
   "cell_type": "code",
   "execution_count": 10,
   "id": "a2f150f0-9f07-40e8-bc25-3a143d13c35f",
   "metadata": {},
   "outputs": [
    {
     "name": "stdout",
     "output_type": "stream",
     "text": [
      "Transição Determinada: Neg Neg Neg XOR\n",
      "Estados inciais: True False True True\n",
      "Estado: 0\n",
      "           s_a = True\n",
      "           s_b = False\n",
      "           s_c = True\n",
      "           s_d = True\n",
      "Estado: 1\n",
      "           s_a = False\n",
      "           s_b = False\n",
      "           s_c = False\n",
      "           s_d = True\n",
      "Estado: 2\n",
      "           s_a = True\n",
      "           s_b = True\n",
      "           s_c = False\n",
      "           s_d = True\n",
      "Estado: 3\n",
      "           s_a = True\n",
      "           s_b = False\n",
      "           s_c = False\n",
      "           s_d = False\n",
      "Estado: 4\n",
      "           s_a = True\n",
      "           s_b = False\n",
      "           s_c = True\n",
      "           s_d = False\n"
     ]
    }
   ],
   "source": [
    "genTrace(vars, init1, trans1, error1, 5)"
   ]
  },
  {
   "cell_type": "markdown",
   "id": "3d71f7a6-ddc0-4402-8d80-3ca09a2fa55b",
   "metadata": {},
   "source": [
    "## Verificação"
   ]
  },
  {
   "cell_type": "markdown",
   "id": "59aa78a6-d674-40f1-a910-b00fe4cf1ceb",
   "metadata": {},
   "source": [
    "### Verificação de Segurança"
   ]
  },
  {
   "cell_type": "code",
   "execution_count": 11,
   "id": "67e419e0-9473-40d5-a13e-41a6f672279e",
   "metadata": {},
   "outputs": [],
   "source": [
    "def induction_always(vars,gen_state,init,trans,inv,t):\n",
    "    with Solver(name=\"z3\") as s:\n",
    "        state0 = gen_state(vars, 'X', 0)\n",
    "        state1 = gen_state(vars, 'X', 1)\n",
    "        s.push()\n",
    "        s.add_assertion(And(init(state0), Not(inv(state0))))\n",
    "        if s.solve():\n",
    "            print(\"A propriedade não é válida no estado inicial.\")\n",
    "            for v in state0:\n",
    "                print(v,\"=\",s.get_value(state0[v]))\n",
    "            return\n",
    "        s.pop()\n",
    "        \n",
    "        s.add_assertion(And(inv(state0), trans(state0,state1,t['a'],t['a'],t['a'],t['a']), Not(inv(state1))))\n",
    "        if s.solve():\n",
    "            print(\"O passo indutivo não preserva a propriedade.\")\n",
    "            for v in state0:\n",
    "                print(v,\"=\",s.get_value(state0[v]))\n",
    "            return\n",
    "        print(\"A propriedade é valida.\")"
   ]
  },
  {
   "cell_type": "markdown",
   "id": "3fd55aff-a4b3-4731-b2a7-9aa69d4570ad",
   "metadata": {},
   "source": [
    "Este invariante não é provável por indução, já que não nos impede de chegar ao estado $(0,0,0,0)$ quando este não é acessível."
   ]
  },
  {
   "cell_type": "code",
   "execution_count": 12,
   "id": "2e674c5d-f209-4a29-9b26-ceed7e41dbdb",
   "metadata": {},
   "outputs": [],
   "source": [
    "def inv1(state):\n",
    "    return Not(error1(state))"
   ]
  },
  {
   "cell_type": "code",
   "execution_count": 119,
   "id": "d2b2fd35-8dc3-453c-8a51-81d9531974bd",
   "metadata": {},
   "outputs": [
    {
     "name": "stdout",
     "output_type": "stream",
     "text": [
      "Transição Determinada: Neg XOR Neg Neg\n",
      "Estados inciais: True False False False\n",
      "O passo indutivo não preserva a propriedade.\n",
      "s_a = True\n",
      "s_b = True\n",
      "s_c = True\n",
      "s_d = True\n"
     ]
    }
   ],
   "source": [
    "t = genTransRandom()\n",
    "induction_always(vars, genState, init1, trans1, inv1,t)"
   ]
  },
  {
   "cell_type": "markdown",
   "id": "2ec0be5c-8b33-4b6f-a9b0-4e68a3c97414",
   "metadata": {},
   "source": [
    "Sem `k-indução`, ou outro método, não se consegue verificar a acessibilidade dos estados inseguros, considerando o sistema inseguro mesmo que não o seja."
   ]
  },
  {
   "cell_type": "code",
   "execution_count": 27,
   "id": "d29211c5-74e7-432d-95b5-54c1298e7a24",
   "metadata": {},
   "outputs": [],
   "source": [
    "def kinduction_always(vars, gen_state,init,trans,inv,k,t):\n",
    "    with Solver(name=\"z3\") as solver:\n",
    "        traco = [gen_state(vars, 'X', i) for i in range(k+1) ]\n",
    "        solver.push()\n",
    "        solver.add_assertion( init(traco[0])  )\n",
    "        for e in range(k-1):\n",
    "            solver.add_assertion( trans (traco[e], traco[e+1], t['a'], t['b'], t['c'], t['d'] ) )\n",
    "        solver.add_assertion( Or([Not(inv(traco[i])) for i in range(k) ]) )\n",
    "\n",
    "        if solver.solve():\n",
    "            print(\"A propriedade não é valida para os k estados iniciais\")\n",
    "            i = 0\n",
    "            for trace in traco:\n",
    "                print(\"Estado:\",i)\n",
    "                i+=1\n",
    "                i += 1\n",
    "                for v in trace:\n",
    "                    print(\"          \",v,'=',solver.get_value(trace[v]))\n",
    "            return\n",
    "        solver.pop()\n",
    "\n",
    "        solver.push()\n",
    "        for e in range(k):\n",
    "            solver.add_assertion( trans (traco[e], traco[e+1], t['a'], t['b'], t['c'], t['d'] ) )\n",
    "            solver.add_assertion( inv(traco[e]) )\n",
    "\n",
    "        solver.add_assertion( Not(inv(traco[k])) )\n",
    "\n",
    "        if solver.solve():\n",
    "            print(f\"O passo indutivo %d não preserva a propriedade\" % k)\n",
    "            i = 0\n",
    "            for trace in traco:\n",
    "                print(\"Estado:\",i)\n",
    "                i += 1\n",
    "                for v in trace:\n",
    "                    print(\"          \",v,'=',solver.get_value(trace[v]))\n",
    "            return\n",
    "        solver.pop()\n",
    "\n",
    "        print(\"A propriedade é valida para todos os estados acessíveis \")"
   ]
  },
  {
   "cell_type": "code",
   "execution_count": 122,
   "id": "f8466836-d4a8-4700-9fb1-c05e622ddecf",
   "metadata": {},
   "outputs": [
    {
     "name": "stdout",
     "output_type": "stream",
     "text": [
      "Transição Determinada: XOR XOR Neg XOR\n",
      "Estados inciais: False True False False\n",
      "A propriedade é valida para todos os estados acessíveis \n"
     ]
    }
   ],
   "source": [
    "t = genTransRandom()\n",
    "kinduction_always(vars, genState,init1,trans1,inv1,5,t)"
   ]
  },
  {
   "cell_type": "code",
   "execution_count": 29,
   "id": "2b6f64cc-e3be-4b64-863e-608cb889f14e",
   "metadata": {},
   "outputs": [],
   "source": [
    "def invert(trans,a,b,c,d):\n",
    "    return (lambda curr,prox: trans(prox, curr, a, b, c, d))"
   ]
  },
  {
   "cell_type": "code",
   "execution_count": 30,
   "id": "f321371f-817a-4504-a415-d05ce9172b3f",
   "metadata": {},
   "outputs": [],
   "source": [
    "def init_notrandom(state,a,b,c,d):\n",
    "    return And(Iff(state['s_a'], Bool(a)), Iff(state['s_b'], Bool(b)), \n",
    "               Iff(state['s_c'], Bool(c)), Iff(state['s_d'], Bool(d)))"
   ]
  },
  {
   "cell_type": "code",
   "execution_count": 31,
   "id": "0e4f8c9a-5010-418c-8953-63743f825718",
   "metadata": {},
   "outputs": [],
   "source": [
    "def baseName(s):\n",
    "    return ''.join(list(itertools.takewhile(lambda x: x!='!', s)))\n",
    "\n",
    "def rename(form,state):\n",
    "    vs = get_free_variables(form)\n",
    "    pairs = [ (x,state[baseName(x.symbol_name())]) for x in vs ]\n",
    "    return form.substitute(dict(pairs))\n",
    "\n",
    "def same(state1,state2):\n",
    "    return And([Iff(state1[x],state2[x]) for x in state1])"
   ]
  },
  {
   "cell_type": "code",
   "execution_count": 129,
   "id": "9a07edc6-eebc-4b2c-b269-4b7087e52867",
   "metadata": {},
   "outputs": [],
   "source": [
    "def model_checking(vars,init,trans,error,N,M,s,t):\n",
    "    with Solver(name=\"z3\") as solver:\n",
    "        \n",
    "        # Criar todos os estados que poderão vir a ser necessários.\n",
    "        X = [genState(vars,'X',i) for i in range(N+1)]\n",
    "        Y = [genState(vars,'Y',i) for i in range(M+1)]\n",
    "        \n",
    "        # Estabelecer a ordem pela qual os pares (n,m) vão surgir. Por exemplo:\n",
    "        order = sorted([(a,b) for a in range(1,N+1) for b in range(1,M+1)],key=lambda tup:tup[0]+tup[1]) \n",
    "        \n",
    "        #falta testar para n = 0 e m = 0\n",
    "        \n",
    "        for (n,m) in order:\n",
    "            I = init(X[0],s['a'],s['b'],s['c'],s['d'])\n",
    "            E = error(Y[0])\n",
    "            Tn = And([trans(X[i], X[i+1],t['a'],t['b'],t['c'],t['d']) for i in range(n)])\n",
    "            Bm = And([invert(trans,t['a'],t['b'],t['c'],t['d'])(Y[j], Y[j+1]) for j in range(m)])\n",
    "            Rn = And(I, Tn)\n",
    "            #print(Rn)\n",
    "            Um = And(E, Bm)\n",
    "            Vnm = And(Rn, Um, same(X[n], Y[m]))\n",
    "            \n",
    "            #1º Passo\n",
    "            if solver.solve([Vnm]):\n",
    "                print(\"Unsafe!\")\n",
    "                return\n",
    "            \n",
    "            #2º Passo\n",
    "            C = binary_interpolant(And(Rn, same(X[n], Y[m])), Um)\n",
    "            #print(\"C:\",C)\n",
    "            if n == 1 and m == 1:\n",
    "                print(\"C, n = 1 e m = 1:\", C)\n",
    "            if C is None:\n",
    "                print(\"Interpolante None!\")\n",
    "                continue\n",
    "            #3ª Passo\n",
    "            C0 = rename(C, X[0])\n",
    "            C1 = rename(C, X[1])\n",
    "            T = trans(X[0], X[1],t['a'],t['b'],t['c'],t['d'])\n",
    "            if not solver.solve([C0, T, Not(C1)]):\n",
    "                print(\"Safe!\")\n",
    "                return\n",
    "            \n",
    "            #4º Passo - gerar o S\n",
    "            S = rename(C, X[n])\n",
    "            while True:\n",
    "                A = And(S, trans(X[n], Y[m],t['a'],t['b'],t['c'],t['d']))\n",
    "                if solver.solve([A, Um]):\n",
    "                    \"\"\"print(\"Xn:\")\n",
    "                    for v in X[n]:\n",
    "                        print(\"          \",v,'=',solver.get_value(X[n][v]))\n",
    "                    for i in range(m+1):\n",
    "                        print(f\"Y%d:\" % i)\n",
    "                        for v in Y[i]:\n",
    "                            print(\"          \",v,'=',solver.get_value(Y[i][v]))\"\"\"\n",
    "                    print(\"Não se encontrou o Majorante.\")\n",
    "                    break\n",
    "                Cnew = binary_interpolant(A, Um)\n",
    "                if Cnew is None:\n",
    "                    print(\"Interpolante None!\")\n",
    "                    break\n",
    "                Cn = rename(Cnew, X[n])\n",
    "                if solver.solve([Cn, Not(S)]):\n",
    "                    S = Or(S, Cn)\n",
    "                else:\n",
    "                    print(\"Safe!\")\n",
    "                    break\n",
    "                \n",
    "            \n",
    "        print(\"unknown\")                        "
   ]
  },
  {
   "cell_type": "markdown",
   "id": "d29c6f0e-adb6-4e95-bda3-ab651bc54c7e",
   "metadata": {},
   "source": [
    "Os seguintes dados iniciais geram um sistema seguro, mas a geração dos interpolantes apenas gera condições que não limitam suficientemente"
   ]
  },
  {
   "cell_type": "code",
   "execution_count": 130,
   "id": "b24cefc2-7ce9-4ad0-a38a-3b62bc452f19",
   "metadata": {},
   "outputs": [],
   "source": [
    "s = {'a':False, 'b':True, 'c':False, 'd':False}\n",
    "t = {'a':False, 'b':False, 'c':True, 'd':False}"
   ]
  },
  {
   "cell_type": "code",
   "execution_count": 131,
   "id": "3791ed8e-b4b8-4b1c-934c-c189ff399847",
   "metadata": {},
   "outputs": [
    {
     "name": "stdout",
     "output_type": "stream",
     "text": [
      "C, n = 1 e m = 1: (s_c!Y1 & (! s_a!Y1))\n",
      "Não se encontrou o Majorante.\n",
      "Não se encontrou o Majorante.\n",
      "Não se encontrou o Majorante.\n",
      "Não se encontrou o Majorante.\n",
      "Não se encontrou o Majorante.\n",
      "Não se encontrou o Majorante.\n",
      "Não se encontrou o Majorante.\n",
      "Não se encontrou o Majorante.\n",
      "Não se encontrou o Majorante.\n",
      "Não se encontrou o Majorante.\n",
      "Não se encontrou o Majorante.\n",
      "Não se encontrou o Majorante.\n",
      "Não se encontrou o Majorante.\n",
      "Não se encontrou o Majorante.\n",
      "Não se encontrou o Majorante.\n",
      "Não se encontrou o Majorante.\n",
      "Não se encontrou o Majorante.\n",
      "Não se encontrou o Majorante.\n",
      "Não se encontrou o Majorante.\n",
      "Não se encontrou o Majorante.\n",
      "Não se encontrou o Majorante.\n",
      "Não se encontrou o Majorante.\n",
      "Não se encontrou o Majorante.\n",
      "Não se encontrou o Majorante.\n",
      "Não se encontrou o Majorante.\n",
      "Não se encontrou o Majorante.\n",
      "Não se encontrou o Majorante.\n",
      "Não se encontrou o Majorante.\n",
      "Não se encontrou o Majorante.\n",
      "Não se encontrou o Majorante.\n",
      "Não se encontrou o Majorante.\n",
      "Não se encontrou o Majorante.\n",
      "Não se encontrou o Majorante.\n",
      "Não se encontrou o Majorante.\n",
      "Não se encontrou o Majorante.\n",
      "Não se encontrou o Majorante.\n",
      "Não se encontrou o Majorante.\n",
      "Não se encontrou o Majorante.\n",
      "Não se encontrou o Majorante.\n",
      "Não se encontrou o Majorante.\n",
      "Não se encontrou o Majorante.\n",
      "Não se encontrou o Majorante.\n",
      "Não se encontrou o Majorante.\n",
      "Não se encontrou o Majorante.\n",
      "Não se encontrou o Majorante.\n",
      "Não se encontrou o Majorante.\n",
      "Não se encontrou o Majorante.\n",
      "Não se encontrou o Majorante.\n",
      "Não se encontrou o Majorante.\n",
      "Não se encontrou o Majorante.\n",
      "Não se encontrou o Majorante.\n",
      "Não se encontrou o Majorante.\n",
      "Não se encontrou o Majorante.\n",
      "Não se encontrou o Majorante.\n",
      "Não se encontrou o Majorante.\n",
      "Não se encontrou o Majorante.\n",
      "Não se encontrou o Majorante.\n",
      "Não se encontrou o Majorante.\n",
      "Não se encontrou o Majorante.\n",
      "Não se encontrou o Majorante.\n",
      "Não se encontrou o Majorante.\n",
      "Não se encontrou o Majorante.\n",
      "Não se encontrou o Majorante.\n",
      "Não se encontrou o Majorante.\n",
      "Não se encontrou o Majorante.\n",
      "Não se encontrou o Majorante.\n",
      "Não se encontrou o Majorante.\n",
      "Não se encontrou o Majorante.\n",
      "Não se encontrou o Majorante.\n",
      "Não se encontrou o Majorante.\n",
      "Não se encontrou o Majorante.\n",
      "Não se encontrou o Majorante.\n",
      "Não se encontrou o Majorante.\n",
      "Não se encontrou o Majorante.\n",
      "Não se encontrou o Majorante.\n",
      "Não se encontrou o Majorante.\n",
      "Não se encontrou o Majorante.\n",
      "Não se encontrou o Majorante.\n",
      "Não se encontrou o Majorante.\n",
      "Não se encontrou o Majorante.\n",
      "Não se encontrou o Majorante.\n",
      "Não se encontrou o Majorante.\n",
      "Não se encontrou o Majorante.\n",
      "Não se encontrou o Majorante.\n",
      "Não se encontrou o Majorante.\n",
      "Não se encontrou o Majorante.\n",
      "Não se encontrou o Majorante.\n",
      "Não se encontrou o Majorante.\n",
      "Não se encontrou o Majorante.\n",
      "Não se encontrou o Majorante.\n",
      "Não se encontrou o Majorante.\n",
      "Não se encontrou o Majorante.\n",
      "Não se encontrou o Majorante.\n",
      "Não se encontrou o Majorante.\n",
      "Não se encontrou o Majorante.\n",
      "Não se encontrou o Majorante.\n",
      "Não se encontrou o Majorante.\n",
      "Não se encontrou o Majorante.\n",
      "Não se encontrou o Majorante.\n",
      "Não se encontrou o Majorante.\n",
      "unknown\n"
     ]
    }
   ],
   "source": [
    "model_checking(vars, init_notrandom, trans1, error1, 10, 10,s,t)"
   ]
  },
  {
   "cell_type": "code",
   "execution_count": null,
   "id": "09ccd559-f59d-4c73-8464-1eff007a1918",
   "metadata": {},
   "outputs": [],
   "source": []
  },
  {
   "cell_type": "code",
   "execution_count": null,
   "id": "40b25ecb-5243-476c-9f3b-9f247f768680",
   "metadata": {},
   "outputs": [],
   "source": []
  }
 ],
 "metadata": {
  "kernelspec": {
   "display_name": "Python 3 (ipykernel)",
   "language": "python",
   "name": "python3"
  },
  "language_info": {
   "codemirror_mode": {
    "name": "ipython",
    "version": 3
   },
   "file_extension": ".py",
   "mimetype": "text/x-python",
   "name": "python",
   "nbconvert_exporter": "python",
   "pygments_lexer": "ipython3",
   "version": "3.9.12"
  }
 },
 "nbformat": 4,
 "nbformat_minor": 5
}
