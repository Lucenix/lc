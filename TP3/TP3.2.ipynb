{
 "cells": [
  {
   "cell_type": "markdown",
   "id": "338dd5de-6d4d-4dde-adef-c3d0e4397023",
   "metadata": {},
   "source": [
    "# TP3 - Grupo 14\n",
    "\n",
    "André Lucena Ribas Ferreira - A94956\n",
    "\n",
    "Paulo André Alegre Pinto - A97391"
   ]
  },
  {
   "cell_type": "markdown",
   "id": "5238c96c-524b-49ee-85b5-4cc437cea53a",
   "metadata": {},
   "source": [
    "## Enunciado do Problema\n",
    "\n",
    "O seguinte sistema dinâmico denota 4 inversores ($A, B, C, D$) que lêm um bit num canal input e escrevem num canal output uma transformação desse bit.\n",
    "\n",
    "![](https://paper-attachments.dropboxusercontent.com/s_9896551CC5FAD2B2EB6E4EBC08522545FA66314D29FE6A5BE8E593259F8E8A37_1669554332522_inversores.png)\n",
    "\n",
    " 1. Cada inversor tem um bit $s$ de estado, inicializado  com um valor aleatório.\n",
    " 2. Cada inversor é regido pelas seguintes transformações:\n",
    " $$\n",
    "   \\mathbf{invert}\\mathtt(in,out) \\\\\n",
    "   x \\gets \\mathsf{read}(\\mathtt{in}) \\\\\n",
    "   s \\gets \\neg x\\;\\;\\|\\;\\; s\\gets s\\oplus x \\\\\n",
    "   \\mathsf{write}(\\mathtt{out},s) \\\\\n",
    " $$\n",
    " 3. A escolha neste comando é sempre determinística; isto é, em cada inversor a escolha do comando a executar é sempre a mesma. Porém qual é essa escolha é determinada aleatoriamente na inicializarão do sistema.\n",
    " 4. O estado do sistema é um duplo definido pelos 4 bits $s$, e é inicializado com um vetor aleatório em $\\{0,1\\}^4\\;$.\n",
    " 5. O sistema termina em ERRO quando o estado do sistema for $(0,0,0,0)$.\n",
    "\n",
    "Prentede-se o seguinte:\n",
    " 1. Construa um SFOTS que descreva este sistema e implemente este sistema, numa abordagem BMC (“bouded model checker”) num traço com $n$ estados.\n",
    " 2. Verifique se o sistema é seguro usando BMC, k-indução ou model checking com interpolantes.\n"
   ]
  },
  {
   "cell_type": "code",
   "execution_count": null,
   "id": "2440d76b-1e95-46c0-926b-f8763c10a91d",
   "metadata": {},
   "outputs": [],
   "source": []
  }
 ],
 "metadata": {
  "kernelspec": {
   "display_name": "Python 3 (ipykernel)",
   "language": "python",
   "name": "python3"
  },
  "language_info": {
   "codemirror_mode": {
    "name": "ipython",
    "version": 3
   },
   "file_extension": ".py",
   "mimetype": "text/x-python",
   "name": "python",
   "nbconvert_exporter": "python",
   "pygments_lexer": "ipython3",
   "version": "3.9.12"
  }
 },
 "nbformat": 4,
 "nbformat_minor": 5
}
