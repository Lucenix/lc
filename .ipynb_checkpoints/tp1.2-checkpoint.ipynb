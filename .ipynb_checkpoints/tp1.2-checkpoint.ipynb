{
 "cells": [
  {
   "cell_type": "code",
   "execution_count": 15,
   "id": "e68b5981-a63b-463f-a987-f59a51d01030",
   "metadata": {},
   "outputs": [
    {
     "name": "stdout",
     "output_type": "stream",
     "text": [
      "[[-16  -7 -51 ... -62 -23  63]\n",
      " [ 12  21 -19 ... -10 -19   9]\n",
      " [-57 -31 -11 ... -62  23 -18]\n",
      " ...\n",
      " [-62  -5 -48 ... -40  29  31]\n",
      " [-18 -18 -31 ... -63   9 -59]\n",
      " [-10  60 -62 ... -45 -33  20]]\n"
     ]
    },
    {
     "ename": "ValueError",
     "evalue": "Operator \"!=\" not supported with the linear solver",
     "output_type": "error",
     "traceback": [
      "\u001b[1;31m---------------------------------------------------------------------------\u001b[0m",
      "\u001b[1;31mValueError\u001b[0m                                Traceback (most recent call last)",
      "Input \u001b[1;32mIn [15]\u001b[0m, in \u001b[0;36m<cell line: 30>\u001b[1;34m()\u001b[0m\n\u001b[0;32m     27\u001b[0m     \u001b[38;5;28;01mfor\u001b[39;00m i \u001b[38;5;129;01min\u001b[39;00m \u001b[38;5;28mrange\u001b[39m(n):\n\u001b[0;32m     28\u001b[0m         solver\u001b[38;5;241m.\u001b[39mAdd((\u001b[38;5;28msum\u001b[39m([e[j] \u001b[38;5;241m*\u001b[39m L[j][i] \u001b[38;5;28;01mfor\u001b[39;00m j \u001b[38;5;129;01min\u001b[39;00m \u001b[38;5;28mrange\u001b[39m(m)]) \u001b[38;5;241m%\u001b[39m q) \u001b[38;5;241m==\u001b[39m \u001b[38;5;241m0\u001b[39m)\n\u001b[1;32m---> 30\u001b[0m \u001b[43mSVP\u001b[49m\u001b[43m(\u001b[49m\u001b[43mm\u001b[49m\u001b[43m,\u001b[49m\u001b[43mn\u001b[49m\u001b[43m,\u001b[49m\u001b[43mq\u001b[49m\u001b[43m)\u001b[49m\n",
      "Input \u001b[1;32mIn [15]\u001b[0m, in \u001b[0;36mSVP\u001b[1;34m(m, n, q)\u001b[0m\n\u001b[0;32m     20\u001b[0m \u001b[38;5;66;03m#print(e)\u001b[39;00m\n\u001b[0;32m     21\u001b[0m \n\u001b[0;32m     22\u001b[0m \u001b[38;5;66;03m#Nenhum elemento de e pode ser nulo\u001b[39;00m\n\u001b[0;32m     23\u001b[0m \u001b[38;5;28;01mfor\u001b[39;00m j \u001b[38;5;129;01min\u001b[39;00m \u001b[38;5;28mrange\u001b[39m(m):\n\u001b[1;32m---> 24\u001b[0m     solver\u001b[38;5;241m.\u001b[39mAdd(\u001b[43me\u001b[49m\u001b[43m[\u001b[49m\u001b[43mj\u001b[49m\u001b[43m]\u001b[49m\u001b[43m \u001b[49m\u001b[38;5;241;43m!=\u001b[39;49m\u001b[43m \u001b[49m\u001b[38;5;241;43m0\u001b[39;49m)\n\u001b[0;32m     26\u001b[0m \u001b[38;5;66;03m#Multiplicar e por L deve resultar num vetor de múltiplos de q\u001b[39;00m\n\u001b[0;32m     27\u001b[0m \u001b[38;5;28;01mfor\u001b[39;00m i \u001b[38;5;129;01min\u001b[39;00m \u001b[38;5;28mrange\u001b[39m(n):\n",
      "File \u001b[1;32mD:\\Programs\\Anaconda\\envs\\logica\\lib\\site-packages\\ortools\\linear_solver\\pywraplp.py:1048\u001b[0m, in \u001b[0;36msetup_variable_operator.<locals>.<lambda>\u001b[1;34m(self, *args)\u001b[0m\n\u001b[0;32m   1046\u001b[0m \u001b[38;5;28;01mdef\u001b[39;00m \u001b[38;5;21msetup_variable_operator\u001b[39m(opname):\n\u001b[0;32m   1047\u001b[0m   \u001b[38;5;28msetattr\u001b[39m(Variable, opname,\n\u001b[1;32m-> 1048\u001b[0m           \u001b[38;5;28;01mlambda\u001b[39;00m \u001b[38;5;28mself\u001b[39m, \u001b[38;5;241m*\u001b[39margs: \u001b[38;5;28;43mgetattr\u001b[39;49m\u001b[43m(\u001b[49m\u001b[43mVariableExpr\u001b[49m\u001b[43m(\u001b[49m\u001b[38;5;28;43mself\u001b[39;49m\u001b[43m)\u001b[49m\u001b[43m,\u001b[49m\u001b[43m \u001b[49m\u001b[43mopname\u001b[49m\u001b[43m)\u001b[49m\u001b[43m(\u001b[49m\u001b[38;5;241;43m*\u001b[39;49m\u001b[43margs\u001b[49m\u001b[43m)\u001b[49m)\n",
      "File \u001b[1;32mD:\\Programs\\Anaconda\\envs\\logica\\lib\\site-packages\\ortools\\linear_solver\\linear_solver_natural_api.py:158\u001b[0m, in \u001b[0;36mLinearExpr.__ne__\u001b[1;34m(self, arg)\u001b[0m\n\u001b[0;32m    157\u001b[0m \u001b[38;5;28;01mdef\u001b[39;00m \u001b[38;5;21m__ne__\u001b[39m(\u001b[38;5;28mself\u001b[39m, arg):\n\u001b[1;32m--> 158\u001b[0m   \u001b[38;5;28;01mraise\u001b[39;00m \u001b[38;5;167;01mValueError\u001b[39;00m(\u001b[38;5;124m'\u001b[39m\u001b[38;5;124mOperator \u001b[39m\u001b[38;5;124m\"\u001b[39m\u001b[38;5;124m!=\u001b[39m\u001b[38;5;124m\"\u001b[39m\u001b[38;5;124m not supported with the linear solver\u001b[39m\u001b[38;5;124m'\u001b[39m)\n",
      "\u001b[1;31mValueError\u001b[0m: Operator \"!=\" not supported with the linear solver"
     ]
    }
   ],
   "source": [
    "from ortools.linear_solver import pywraplp\n",
    "import numpy\n",
    "\n",
    "#  n  > 30\n",
    "# |m| > 1 + |n|\n",
    "# |q| > |m|\n",
    "\n",
    "n = 31\n",
    "m = 64\n",
    "q = 131\n",
    "\n",
    "def SVP(m,n,q):\n",
    "    solver = pywraplp.Solver.CreateSolver('SCIP')\n",
    "    L = numpy.random.randint(-(q-1)/2, (q-1)/2, (m, n))\n",
    "    print(L)\n",
    "    e = {}\n",
    "    #e é um vetor de tamanho m com valores inteiros -1, 0 ou 1\n",
    "    for i in range(m):\n",
    "        e[i] = solver.IntVar(-1,1,'e[%i]' % i)\n",
    "    #print(e)\n",
    "    \n",
    "    #Tem de existir um elemento não nulo em e\n",
    "    solver.Add(sum([abs(e[j]) for j in range(m)]) > 0)\n",
    "    \n",
    "    #Multiplicar e por L deve resultar num vetor de múltiplos de q\n",
    "    for i in range(n):\n",
    "        solver.Add((sum([e[j] * L[j][i] for j in range(m)]) % q) == 0)\n",
    "    \n",
    "SVP(m,n,q)"
   ]
  },
  {
   "cell_type": "code",
   "execution_count": null,
   "id": "1ed663fa-575f-4352-9dc3-35f59dfc29a3",
   "metadata": {},
   "outputs": [],
   "source": []
  }
 ],
 "metadata": {
  "kernelspec": {
   "display_name": "Python 3 (ipykernel)",
   "language": "python",
   "name": "python3"
  },
  "language_info": {
   "codemirror_mode": {
    "name": "ipython",
    "version": 3
   },
   "file_extension": ".py",
   "mimetype": "text/x-python",
   "name": "python",
   "nbconvert_exporter": "python",
   "pygments_lexer": "ipython3",
   "version": "3.10.4"
  }
 },
 "nbformat": 4,
 "nbformat_minor": 5
}
