{
 "cells": [
  {
   "cell_type": "code",
   "execution_count": null,
   "id": "84e6b73d-fb5b-4757-bce5-f97e23e1eea7",
   "metadata": {},
   "outputs": [],
   "source": [
    "def scheduleStartUp(S, T, P, C, projDict, dispMatrix):\n",
    "    xDict = {}\n",
    "    result = dict()\n",
    "    solver = pywraplp.Solver.CreateSolver('SCIP')\n",
    "    for t in range(T):\n",
    "        xDict[t] = {}\n",
    "        for s in range(S):\n",
    "            xDict[t][s] = {}\n",
    "            for p in range(P):\n",
    "                xDict[t][s][p] = solver.BoolVar('x[%i][%i][%i]' % (t,s,p))\n",
    "    #Para cada Timeslot, Cada sala só pode ter 1 projeto\n",
    "    for t in range(T):\n",
    "        for s in range(S):\n",
    "            solver.Add(sum(xDict[t][s].values()) == 1)\n",
    "    #Para cada Timeslot, Cada projeto só pode ser selecionado uma vez\n",
    "    for t in range(T):\n",
    "        for p in range(P):\n",
    "            solver.Add(sum([xDict[t][s][p] for s in range(S)]) == 1)\n",
    "    #Para cada projeto, o número de vezes que foi selecionado tem de ser igual ou maior ao seu mínimo\n",
    "    for p in range(P):\n",
    "        solver.Add(sum([x[t][s][p] for t in range(T) for s in range(S)]) >= projDict[p]['min'])\n",
    "    #Colaboradores têm de ter horário\n",
    "    for t in range(T):\n",
    "        for p in range(P):\n",
    "            for s in range(S):\n",
    "                solver.Add(x[t][s][p] <= \n",
    "                           int(dispMatrix[projDict[p]['lider']][t] == 1 & \n",
    "                            (projDict[p]['colaboradores'] + 1) <= 2*(sum([dispMatrix[c][t] for c in projDict[p]['colaboradores']])+1)))\n",
    "   "
   ]
  }
 ],
 "metadata": {
  "kernelspec": {
   "display_name": "Python 3 (ipykernel)",
   "language": "python",
   "name": "python3"
  },
  "language_info": {
   "codemirror_mode": {
    "name": "ipython",
    "version": 3
   },
   "file_extension": ".py",
   "mimetype": "text/x-python",
   "name": "python",
   "nbconvert_exporter": "python",
   "pygments_lexer": "ipython3",
   "version": "3.10.4"
  }
 },
 "nbformat": 4,
 "nbformat_minor": 5
}
