{
 "cells": [
  {
   "cell_type": "markdown",
   "id": "4cc81875-848d-4647-a479-255404d283cd",
   "metadata": {},
   "source": [
    "# TP1 - Grupo 14"
   ]
  },
  {
   "cell_type": "raw",
   "id": "b38cd2f8-1055-4f93-aba0-c90551a9e268",
   "metadata": {},
   "source": [
    "André Lucena Ribas Ferreira - A94956\n",
    "Paulo André Alegre Pinto - A97391"
   ]
  },
  {
   "cell_type": "markdown",
   "id": "cc59c0be-4c69-4f5f-9126-14b3aea9fb7c",
   "metadata": {},
   "source": [
    "## Problema 1 - Horário"
   ]
  },
  {
   "cell_type": "markdown",
   "id": "000eb81a-6e2d-4207-be74-5c07bbfbc6aa",
   "metadata": {},
   "source": [
    "Pretende-se construir um horário semanal para o plano de reuniões de projeto de uma “StartUp” de acordo com as seguintes condições:\n",
    "\n",
    "    1. Cada reunião ocupa uma sala (enumeradas 1...S,) durante um “slot”  1..T\\, (hora,dia).  \n",
    "    2. Cada reunião tem associado um projeto (enumerados 1..P) e um conjunto de participantes. Os diferentes colaboradores são enumerados 1..C.\n",
    "    3. Cada projeto tem associado um conjunto de colaboradores, dos quais um  é o líder. Cada projeto realiza um dado número de reuniões semanais. \n",
    "    4. O líder do projeto participa em todas as reuniões do seu projeto; os restantes colaboradores podem ou não participar consoante a sua disponibilidade, num mínimo (“quorum”) de  50% do total de colaboradores do projeto. "
   ]
  },
  {
   "cell_type": "markdown",
   "id": "ca1520c1-6ac6-418c-b848-938aef8d6a29",
   "metadata": {
    "tags": []
   },
   "source": [
    "# Implementação\n",
    "Para a resolução deste problema iremos utilizar a biblioteca do OR-Tools, mais precisamente a ferramente pywraplp"
   ]
  },
  {
   "cell_type": "code",
   "execution_count": 1,
   "id": "2c488029-8d99-42ad-a218-bb2f845e7e86",
   "metadata": {},
   "outputs": [],
   "source": [
    "from ortools.linear_solver import pywraplp"
   ]
  },
  {
   "cell_type": "markdown",
   "id": "c649578d-c54b-4e5c-bc60-f2b6cbcc6b4d",
   "metadata": {},
   "source": [
    "## Inputs\n",
    "Nesta secção do trabalho vamos dar exemplos de alguns inputs possíveis e não possíveis para que consigamos melhor entender a nossa linha de código, cada input vai ser constituído pelos parâmetros S salas, T intervalos de tempo, P projetos e C colaboradores, tanto como um dicionário que descreve cada projeto e por fim uma matriz de disponibilidade de cada colaborador."
   ]
  },
  {
   "cell_type": "markdown",
   "id": "9d3d02fb-b822-4665-8e86-155843ff47d7",
   "metadata": {},
   "source": [
    "#### Exemplo 1 "
   ]
  },
  {
   "cell_type": "code",
   "execution_count": 2,
   "id": "b7e99407-9fef-4254-b7a1-e7cada08ba5e",
   "metadata": {},
   "outputs": [],
   "source": [
    "T, S, P, C = 3, 2, 3, 5    #período de 8 horas; 2 salas\n",
    "\n",
    "projetos = {}\n",
    "projetos[0] = {'colaboradores':[0,1,2,4], 'lider':4, 'min':1}\n",
    "projetos[1] = {'colaboradores':[1,2,3], 'lider':1, 'min':2}\n",
    "projetos[2] = {'colaboradores':[0,2,3,4], 'lider':3, 'min':2}\n",
    "\n",
    "matrix = {}\n",
    "matrix[0] = [1,0,1]\n",
    "matrix[1] = [0,1,1]\n",
    "matrix[2] = [1,1,0]\n",
    "matrix[3] = [1,1,1]\n",
    "matrix[4] = [0,1,1]\n"
   ]
  },
  {
   "cell_type": "markdown",
   "id": "3a38a35a-c0c8-43fe-ab51-0980476023ff",
   "metadata": {},
   "source": [
    "Para começar o programa, vamos definir a função scheduleStartUp que recebe os parâmetros de S salas, T intervalos de tempo, P projetos e C colaboradores, o dicionário de projetos e a matriz de disponibilidade de cada colaborador.\n",
    "Dentro da função tem definida a matriz de alocação xDict como um dicionário e já incluída uma restrição de que \"Para cada intervalos de tempo, para cada sala e para cada projeto, terá que haver unm líder em  cada projeto\", podendo matematicamente ser traduzida como, a soma dos líderes (l) em cada projeto, sala e intervalo de tempo é 1:\n",
    "\n",
    "$$ \\forall_{t<T} \\cdot \\forall_{s<S} \\cdot \\forall_{p<P} \\cdot \\sum x_{l,t,s,p} == 1$$"
   ]
  },
  {
   "cell_type": "code",
   "execution_count": 3,
   "id": "566f2a8a-8afa-4849-8e35-b5151a3ee690",
   "metadata": {},
   "outputs": [],
   "source": [
    "def scheduleStartUp(S, T, P, C, projDict, dispMatrix):\n",
    "    xDict = {}\n",
    "    result = dict()\n",
    "    solver = pywraplp.Solver.CreateSolver('SCIP')\n",
    "    #dicionário com T*P*C*S variáveis -> xDict[t][p][c][s] == 1 sse c estará presente na reunião do projeto p no timeslot t na sala s.\n",
    "    for t in range(T):\n",
    "        xDict[t] = {}\n",
    "        for s in range(S):\n",
    "            xDict[t][s] = {}\n",
    "            for p in range(P):\n",
    "                if dispMatrix[projDict[p]['lider']][t] == 1:\n",
    "                    xDict[t][s][p] = {}\n",
    "                    for c in projDict[p]['colaboradores']:\n",
    "                        if dispMatrix[c][t] == 1:\n",
    "                            xDict[t][s][p][c] = solver.BoolVar('x[%i][%i][%i}[%i]' % (t,s,p,c))"
   ]
  },
  {
   "cell_type": "markdown",
   "id": "7b333d3c-2b4d-4ba2-814f-c11fb2aa6b16",
   "metadata": {},
   "source": [
    "### Restrições"
   ]
  },
  {
   "cell_type": "markdown",
   "id": "ed6365d4-421e-4c38-a510-a4f8a9a5597b",
   "metadata": {},
   "source": [
    "##### 1. A restrição \"Um colaborador pode ter no máximo uma reunião por cada intervalo de tempo\" pode ser expressa por:\n",
    "$$\\forall_{t<T} \\cdot \\forall_{c<C} \\cdot \\sum x_{s,p} \\le 1$$"
   ]
  },
  {
   "cell_type": "code",
   "execution_count": 4,
   "id": "9afef794-49da-4972-9916-41130ac3cd73",
   "metadata": {},
   "outputs": [
    {
     "ename": "NameError",
     "evalue": "name 'xDict' is not defined",
     "output_type": "error",
     "traceback": [
      "\u001b[1;31m---------------------------------------------------------------------------\u001b[0m",
      "\u001b[1;31mNameError\u001b[0m                                 Traceback (most recent call last)",
      "Input \u001b[1;32mIn [4]\u001b[0m, in \u001b[0;36m<cell line: 1>\u001b[1;34m()\u001b[0m\n\u001b[1;32m----> 1\u001b[0m \u001b[38;5;28;01mfor\u001b[39;00m t \u001b[38;5;129;01min\u001b[39;00m \u001b[43mxDict\u001b[49m:\n\u001b[0;32m      2\u001b[0m     \u001b[38;5;28;01mfor\u001b[39;00m c \u001b[38;5;129;01min\u001b[39;00m \u001b[38;5;28mrange\u001b[39m(C):\n\u001b[0;32m      3\u001b[0m         solver\u001b[38;5;241m.\u001b[39mAdd(\u001b[38;5;28msum\u001b[39m([xDict[t][s][p][c] \u001b[38;5;28;01mfor\u001b[39;00m s \u001b[38;5;129;01min\u001b[39;00m xDict[t] \u001b[38;5;28;01mfor\u001b[39;00m p \u001b[38;5;129;01min\u001b[39;00m xDict[t][s] \u001b[38;5;28;01mif\u001b[39;00m c \u001b[38;5;129;01min\u001b[39;00m xDict[t][s][p]]) \u001b[38;5;241m<\u001b[39m\u001b[38;5;241m=\u001b[39m \u001b[38;5;241m1\u001b[39m)\n",
      "\u001b[1;31mNameError\u001b[0m: name 'xDict' is not defined"
     ]
    }
   ],
   "source": [
    "for t in xDict:\n",
    "    for c in range(C):\n",
    "        solver.Add(sum([xDict[t][s][p][c] for s in xDict[t] for p in xDict[t][s] if c in xDict[t][s][p]]) <= 1)"
   ]
  },
  {
   "cell_type": "markdown",
   "id": "c10202cc-e8f0-4ad2-971f-ca89eeb111cc",
   "metadata": {},
   "source": [
    "##### 2. A restrição \"Cada líder tem de participar no seu projeto\" alberga também a restrição \"Cada colaborador participa apenas de um projeto se o seu líder participar também\" e pode ser traduzida matematicamente como:\n",
    "$$ \\forall_{t<T} \\cdot \\forall_{s<S} \\cdot \\forall_{p<P} \\cdot \\forall_{c<C} \\cdot x_{t,x,p,c} \\le x_{t,s,p,l}$$\n",
    "\n",
    "Ou seja, o colaborador está na reunião de um líder ou simplesmente não está (1 ou 0)."
   ]
  },
  {
   "cell_type": "code",
   "execution_count": 5,
   "id": "9f7c6fc8-a4e0-4f75-bb2e-d6d6abe3dece",
   "metadata": {},
   "outputs": [
    {
     "ename": "NameError",
     "evalue": "name 'xDict' is not defined",
     "output_type": "error",
     "traceback": [
      "\u001b[1;31m---------------------------------------------------------------------------\u001b[0m",
      "\u001b[1;31mNameError\u001b[0m                                 Traceback (most recent call last)",
      "Input \u001b[1;32mIn [5]\u001b[0m, in \u001b[0;36m<cell line: 1>\u001b[1;34m()\u001b[0m\n\u001b[1;32m----> 1\u001b[0m \u001b[38;5;28;01mfor\u001b[39;00m t \u001b[38;5;129;01min\u001b[39;00m \u001b[43mxDict\u001b[49m:\n\u001b[0;32m      2\u001b[0m     \u001b[38;5;28;01mfor\u001b[39;00m s \u001b[38;5;129;01min\u001b[39;00m xDict[t]:\n\u001b[0;32m      3\u001b[0m         \u001b[38;5;28;01mfor\u001b[39;00m p \u001b[38;5;129;01min\u001b[39;00m xDict[t][s]:\n",
      "\u001b[1;31mNameError\u001b[0m: name 'xDict' is not defined"
     ]
    }
   ],
   "source": [
    "for t in xDict:\n",
    "    for s in xDict[t]:\n",
    "        for p in xDict[t][s]:\n",
    "            for c in xDict[t][s][p]:\n",
    "                solver.Add(xDict[t][s][p][c] <= xDict[t][s][p][projDict[p]['lider']])"
   ]
  },
  {
   "cell_type": "markdown",
   "id": "cce422af-8976-488f-9d6e-f441622a2995",
   "metadata": {},
   "source": [
    "3. \"Uma reunião apenas acontece se pelo menos 50% de todos os colaboradores desse projeto se encontram presentes nela e se o líder fizer parte dessa metade\"\n",
    "\n",
    "Esta restrição pode ser expressa como:\n",
    "$$ \\forall_{t<T} \\cdot \\forall_{p<P} \\cdot \\forall_{s<S} \\cdot \\sum_{c<C} x_{t,s,p,c} \\ge \\sum_{c<C} \\frac{{x_{t,s,p,c}}}{\\text{2}} * x_{t,s,p,l}$$\n",
    "\n",
    "Que, para o nosso programa, usaremos as regras de cálculo (com o intuito de evitar tipos floats e ints na mesma linha de código) para tornar a expressão em:\n",
    "\n",
    "$$ \\forall_{t<T} \\cdot \\forall_{p<P} \\cdot \\forall_{s<S} \\cdot 2 * \\sum_{c<C} x_{t,s,p,c} \\ge \\sum_{c<C} x_{t,s,p,c} * x_{t,s,p,l}$$"
   ]
  },
  {
   "cell_type": "code",
   "execution_count": null,
   "id": "bab4599a-f97d-4e39-9cf3-10ce2263eaf8",
   "metadata": {},
   "outputs": [],
   "source": [
    "for t in xDict:\n",
    "    for p in range(P):\n",
    "            for s in xDict[t]:\n",
    "                if p in xDict[t][s]:\n",
    "                    solver.Add(2*sum([xDict[t][s][p][c] for c in xDict[t][s][p]]) >= \n",
    "                               len(projDict[p]['colaboradores']) * xDict[t][s][p][projDict[p]['lider']])"
   ]
  },
  {
   "cell_type": "markdown",
   "id": "452f6905-b04d-490c-a14f-dccd8e022847",
   "metadata": {},
   "source": [
    "4. Cada projeto tem um número míninimo de reuniões semanais já incluídas no seu input, ou seja, o número de reuniões em que o líder se encontra tem que ser pelo menos o mesmo que o valor 'min':\n",
    "$$ \\forall_{t<T} \\cdot \\forall_{p<P} \\cdot \\sum_{s<S,c<C} x_{t,s,p,l} \\ge min $$"
   ]
  },
  {
   "cell_type": "code",
   "execution_count": 6,
   "id": "1e43bef9-13cc-45e6-acb3-bd2db0e56938",
   "metadata": {},
   "outputs": [
    {
     "ename": "NameError",
     "evalue": "name 'xDict' is not defined",
     "output_type": "error",
     "traceback": [
      "\u001b[1;31m---------------------------------------------------------------------------\u001b[0m",
      "\u001b[1;31mNameError\u001b[0m                                 Traceback (most recent call last)",
      "Input \u001b[1;32mIn [6]\u001b[0m, in \u001b[0;36m<cell line: 1>\u001b[1;34m()\u001b[0m\n\u001b[1;32m----> 1\u001b[0m \u001b[38;5;28;01mfor\u001b[39;00m t \u001b[38;5;129;01min\u001b[39;00m \u001b[43mxDict\u001b[49m:\n\u001b[0;32m      2\u001b[0m     \u001b[38;5;28;01mfor\u001b[39;00m p \u001b[38;5;129;01min\u001b[39;00m \u001b[38;5;28mrange\u001b[39m(P):\n\u001b[0;32m      3\u001b[0m         solver\u001b[38;5;241m.\u001b[39mAdd(\u001b[38;5;28msum\u001b[39m([xDict[t][s][p][projDict[p][\u001b[38;5;124m'\u001b[39m\u001b[38;5;124mlider\u001b[39m\u001b[38;5;124m'\u001b[39m]] \u001b[38;5;28;01mfor\u001b[39;00m t \u001b[38;5;129;01min\u001b[39;00m xDict \u001b[38;5;28;01mfor\u001b[39;00m s \u001b[38;5;129;01min\u001b[39;00m xDict[t] \u001b[38;5;28;01mif\u001b[39;00m p \u001b[38;5;129;01min\u001b[39;00m xDict[t][s]]) \u001b[38;5;241m>\u001b[39m\u001b[38;5;241m=\u001b[39m projDict[p][\u001b[38;5;124m'\u001b[39m\u001b[38;5;124mmin\u001b[39m\u001b[38;5;124m'\u001b[39m])\n",
      "\u001b[1;31mNameError\u001b[0m: name 'xDict' is not defined"
     ]
    }
   ],
   "source": [
    "for t in xDict:\n",
    "    for p in range(P):\n",
    "        solver.Add(sum([xDict[t][s][p][projDict[p]['lider']] for t in xDict for s in xDict[t] if p in xDict[t][s]]) >= projDict[p]['min'])"
   ]
  },
  {
   "cell_type": "markdown",
   "id": "b6e19a51-351a-4713-a0b6-e67a82f7b661",
   "metadata": {},
   "source": [
    "## Critérios de otimização"
   ]
  },
  {
   "cell_type": "markdown",
   "id": "c7db4a87-9944-4dd5-a438-2ba0249c0047",
   "metadata": {},
   "source": [
    "1.Maximizar o número de reuniões efetivamente realizadas"
   ]
  },
  {
   "cell_type": "code",
   "execution_count": 8,
   "id": "6c5d3a59-aa7d-4da6-9c3d-1544d0112b67",
   "metadata": {},
   "outputs": [
    {
     "ename": "NameError",
     "evalue": "name 'solver' is not defined",
     "output_type": "error",
     "traceback": [
      "\u001b[1;31m---------------------------------------------------------------------------\u001b[0m",
      "\u001b[1;31mNameError\u001b[0m                                 Traceback (most recent call last)",
      "Input \u001b[1;32mIn [8]\u001b[0m, in \u001b[0;36m<cell line: 1>\u001b[1;34m()\u001b[0m\n\u001b[1;32m----> 1\u001b[0m \u001b[43msolver\u001b[49m\u001b[38;5;241m.\u001b[39mMaximize(\u001b[38;5;28msum\u001b[39m([xDict[t][s][p][projDict[p][\u001b[38;5;124m'\u001b[39m\u001b[38;5;124mlider\u001b[39m\u001b[38;5;124m'\u001b[39m]] \u001b[38;5;28;01mfor\u001b[39;00m t \u001b[38;5;129;01min\u001b[39;00m xDict \u001b[38;5;28;01mfor\u001b[39;00m s \u001b[38;5;129;01min\u001b[39;00m xDict[t] \u001b[38;5;28;01mfor\u001b[39;00m p \u001b[38;5;129;01min\u001b[39;00m xDict[t][s]]))\n",
      "\u001b[1;31mNameError\u001b[0m: name 'solver' is not defined"
     ]
    }
   ],
   "source": [
    "solver.Maximize(sum([xDict[t][s][p][projDict[p]['lider']] for t in xDict for s in xDict[t] for p in xDict[t][s]]))"
   ]
  },
  {
   "cell_type": "markdown",
   "id": "8c31bff4-6c80-4a73-b0b6-d31e2c6d9141",
   "metadata": {},
   "source": [
    "2.Minimizar o número médio de reuniões por participante."
   ]
  },
  {
   "cell_type": "code",
   "execution_count": null,
   "id": "d4af7c53-0639-474c-a08c-2196b81ac005",
   "metadata": {},
   "outputs": [],
   "source": [
    "solver.Minimize(sum([xDict[t][s][p][c] for t in xDict for s in xDict[t] for p in xDict[t][s] for c in xDict[t][s][p]]))"
   ]
  },
  {
   "cell_type": "markdown",
   "id": "9f3ad85e-d1bb-4dd0-8db0-7b905a664825",
   "metadata": {},
   "source": [
    "## Resolução dos problemas"
   ]
  },
  {
   "cell_type": "markdown",
   "id": "f1a647ba-a313-448e-ba59-ae8b607817c6",
   "metadata": {},
   "source": [
    "Com todas as restrições impostas ao solver, apenas é necessário procurarmos uma solução, se não existir uma, o programa dirá que não é possível."
   ]
  },
  {
   "cell_type": "code",
   "execution_count": null,
   "id": "84e6b73d-fb5b-4757-bce5-f97e23e1eea7",
   "metadata": {},
   "outputs": [],
   "source": [
    "\n",
    "    status = solver.Solve()\n",
    "    \n",
    "    if status == pywraplp.Solver.OPTIMAL:\n",
    "        for t in xDict:\n",
    "            print(f'Slot: {t}')\n",
    "            for s in xDict[t]:\n",
    "                for p in xDict[t][s]:\n",
    "                    if projDict[p]['lider'] in xDict[t][s][p] and xDict[t][s][p][projDict[p]['lider']].solution_value() == 1:\n",
    "                        print(f'Projeto: {p} Sala: {s}')\n",
    "                        print(\"Colaboradores:\")\n",
    "                        for c in xDict[t][s][p]:\n",
    "                            if xDict[t][s][p][c].solution_value() == 1:\n",
    "                                print(f'{c}')\n",
    "                        print(\"\")\n",
    "            print(\"\")\n",
    "        print(solver.Objective())\n",
    "        print(solver.Objective().Value())\n",
    "    else:\n",
    "        print(\"Nao é possivel construir o hórario\")\n",
    "        \n",
    "scheduleStartUp(S, T, P, C, projetos, matrix)"
   ]
  }
 ],
 "metadata": {
  "kernelspec": {
   "display_name": "Python 3 (ipykernel)",
   "language": "python",
   "name": "python3"
  },
  "language_info": {
   "codemirror_mode": {
    "name": "ipython",
    "version": 3
   },
   "file_extension": ".py",
   "mimetype": "text/x-python",
   "name": "python",
   "nbconvert_exporter": "python",
   "pygments_lexer": "ipython3",
   "version": "3.10.4"
  }
 },
 "nbformat": 4,
 "nbformat_minor": 5
}
