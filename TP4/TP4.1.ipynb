{
 "cells": [
  {
   "cell_type": "markdown",
   "id": "804c33b5-9f27-4a44-bca4-fce9b5c08563",
   "metadata": {},
   "source": [
    "# TP4 - Grupo 14\n",
    "\n",
    "André Lucena Ribas Ferreira - A94956\n",
    "\n",
    "Paulo André Alegre Pinto - A97391"
   ]
  },
  {
   "cell_type": "markdown",
   "id": "6bed7bed-12fa-40a4-acc2-baae7494b6c2",
   "metadata": {},
   "source": [
    "# Enunciado do Problema 1\n",
    "\n",
    "No contexto do sistema de travagem ABS (“Anti-Lock Breaking System”), pretende-se construir um autómato híbrido que descreva o sistema e que  possa ser usado para verificar as suas propriedades dinâmicas.\n",
    "\n",
    "    \n",
    " - A componente discreta do autómato contém os modos:  `Start`,  `Free`,  `Stopping`, `Blocked`, e `Stopped`. No modo `Free`  não existe qualquer força de travagem; no modo `Stopping` aplica-se a força de travagem alta; no modo `Blocked` as rodas estão bloqueadas em relação ao corpo mas o veículo  move-se (i.e. derrapa); no modo `Stopped` o veículo está imobilizado.\n",
    " - A componente contínua  do autómato usa variáveis contínuas $\\,V,v\\,$ para descrever a  `velocidade do corpo`   e a `velocidade linear das rodas`  ambas em relação so solo.\n",
    " - Assume-se que o sistema de travagem exerce uma força de atrito proporcional à diferença das duas velocidades.  A dinâmica contínua, as equações de fluxo, está descrita  abaixo.\n",
    " - Os “switchs” são a componente de projeto deste trabalho; cabe ao aluno definir quais devem ser  de modo a que o sistema tenha um comportamento desejável: imobilize-se depressa e não “derrape” muito.\n",
    " - É imprescindível evitar que o sistema tenha “trajetórias de Zenão”. Isto é, sequências  infinitas de transições  entre dois modos em intervalos de tempo  que tendem para zero mas nunca alcançam zero.\n",
    "\n",
    "Pretende-se\n",
    "\n",
    " 1. Defina um autómato híbrido que descreva a dinâmica do sistema segundo as notas abaixo indicadas e com os “switchs” por si escolhidos.\n",
    " 2. Modele em lógica temporal linear LT  propriedades que caracterizam o comportamento desejável do sistema. Nomeadamente \n",
    "     1. ”o veículo imobiliza-se completamente em menos de $t$ segundos” \n",
    "     2. “a velocidade $V$ diminui sempre com o tempo”.\n",
    " 3. Codifique em SMT’s o modelo que definiu em 1.\n",
    " 4. Codifique em SMT’s a verificação das propriedades temporais que definiu em 2."
   ]
  },
  {
   "cell_type": "markdown",
   "id": "2790663a-aec0-4fc1-9259-9b8cb6b116bc",
   "metadata": {},
   "source": [
    "![](https://paper-attachments.dropboxusercontent.com/s_C5426E33053EA04D1E3446B871CC8485C43045FF7CAAA1FC86A9B3A8E09058F9_1574702123197_Documento.png)"
   ]
  },
  {
   "cell_type": "markdown",
   "id": "697db023-7294-4cdf-8575-a19f701a7eb3",
   "metadata": {},
   "source": [
    "Equações de Fluxo \n",
    "\n",
    " 1. Durante  a travagem não existe qualquer  força no sistema excepto as forças de atrito. Quando uma superfície se desloca em relação à outra, a força de atrito  é proporcional à força de compressão entre elas.\n",
    " 2. No contacto rodas/solo o atrito é constante porque a força de compressão é o peso; tem-se $f = a\\, P$ sendo  $a$ a constante de atrito e $P$ o peso. Ambos são fixos e independentes do modo.\n",
    " 3. No contacto corpo/rodas,  a força de compressão é a força de travagem que aqui se assume como proporcional à diferença de velocidades\n",
    "\n",
    "$$ F =  c\\, (V-v) $$\n",
    "\n",
    "A  constante de proporcionalidade $c$ depende do modo: é elevada no modo `Stopping` e baixa nos outros.\n",
    "\n",
    " 4. As  equações que traduzem a dinâmica  do sistema são, em todos os modo excepto `Blocked`,\n",
    "\n",
    "$$(\\dot{V} \\,=\\, -F)\\,\\land\\, (\\dot{v} \\,=\\, -a\\, P  + F)$$\n",
    "                                                        \n",
    "e , no modo `Blocked`,  a dinâmica do sistema é  regida por\n",
    "\n",
    "$$(V = v) \\;\\land\\; (\\,\\dot{v}\\,=\\, -a\\, P\\,)$$\n",
    "\n",
    " 5. Tanto no modo `Blocked`  como no modo `Free`  existe um “timer” que impede que o controlo aí permaneça mais do que $\\,\\tau\\,$segundos.  Os     $\\mathsf{switch}(V,v,t,V',v',t')\\,$ nesses modos devem forçar esta condição. \n",
    " 6. Todos os “switchs” devem ser construídos de  modo a impedir a existência de trajetórias de Zenão.\n",
    " 7. No instante inicial assume-se $\\,V = v\\,=\\,V_0$  ,  em que a velocidade $V_0$ é o “input” do problema."
   ]
  },
  {
   "cell_type": "markdown",
   "id": "8a63f378-5590-4d36-9ba6-0014f5bcb1bf",
   "metadata": {},
   "source": [
    "# Análise\n",
    "\n",
    "O objetivo de um sistema ABS é de evitar que as rodas de um carro bloqueiem quando uma travagem brusca ocorre. Neste caso, a travagem é tal que a única força exercida no sistema é a de atrito, seja entre o corpo e as rodas como as rodas e o solo."
   ]
  },
  {
   "cell_type": "markdown",
   "id": "18fad8f3-b7f4-4471-b4ae-a528289d2607",
   "metadata": {},
   "source": [
    "# Implementação\n",
    "\n",
    "Para a resolução do problema em questão, decidiu-se usar o módulo `pysmt.shortcuts`, com as funcionalidades possíveis para a utilização de um SMT Solver. Importam-se também os tipos deste Solver, a partir do módulo `pysmt.typing`."
   ]
  },
  {
   "cell_type": "code",
   "execution_count": 17,
   "id": "e5a6c8ac-8455-4553-a6ed-f3623a2af92a",
   "metadata": {},
   "outputs": [],
   "source": [
    "from pysmt.shortcuts import *\n",
    "import pysmt.typing\n",
    "import itertools "
   ]
  },
  {
   "cell_type": "markdown",
   "id": "025f9d43-c3ae-434d-8cd3-d351f5fe5370",
   "metadata": {},
   "source": [
    "Geram-se os valores enumerados para cada um dos Modos de execução."
   ]
  },
  {
   "cell_type": "code",
   "execution_count": 18,
   "id": "5f87ba70-7141-48b5-a384-028dfe8b330f",
   "metadata": {},
   "outputs": [],
   "source": [
    "Mode, (START, FREE, STOPPING, BLOCKED, STOPPED) = EnumSort('Mode', ('START','FREE','STOPPING', 'BLOCKED','STOPPED'))"
   ]
  },
  {
   "cell_type": "markdown",
   "id": "ee6c708c-cfe6-41db-ac4d-1095857b0145",
   "metadata": {},
   "source": [
    "O \"Timer\" definido para o estado `BLOCKED` e `FREE` deve ser uma variável global do sistema que limita a sua operabilidade."
   ]
  },
  {
   "cell_type": "code",
   "execution_count": 25,
   "id": "76381526-8c81-47d9-a9d8-66039c8bcb86",
   "metadata": {},
   "outputs": [],
   "source": [
    "timer = 3"
   ]
  },
  {
   "cell_type": "markdown",
   "id": "50f32997-2a5c-4b17-a567-8ba3a78f3a36",
   "metadata": {},
   "source": [
    "Declaram-se as variáveis para cada um dos estados."
   ]
  },
  {
   "cell_type": "code",
   "execution_count": 19,
   "id": "71e50eaf-34d9-4a3d-9cba-2cea4e3fdad5",
   "metadata": {},
   "outputs": [],
   "source": [
    "def declare(i):\n",
    "    s = {}\n",
    "    s['T'] = Symbol('T'+str(i), Real)\n",
    "    s['V'] = Symbol('V'+str(i), Real)\n",
    "    s['R'] = Symbol('R'+str(i), Real)\n",
    "    s['M'] = Symbol('M'+str(i), Mode)\n",
    "    #s['c'] = Symbol('c'+str(i), Real)\n",
    "    s['Timer'] = Symbol('Timer'+str(i), Real)\n",
    "    return s"
   ]
  },
  {
   "cell_type": "markdown",
   "id": "acbc55c2-bbb4-45f3-90a0-e2d9e16500c7",
   "metadata": {},
   "source": [
    "Define-se o predicado Inicial. Note-se a não necessidade de manipular a variável `Timer` quando esta não tem utilidade."
   ]
  },
  {
   "cell_type": "code",
   "execution_count": 22,
   "id": "89478fad-649e-417b-9871-1cfe7c4f0e00",
   "metadata": {},
   "outputs": [],
   "source": [
    "def init(s, vi):\n",
    "    return And(Equals(s['T'], Real(0)), Equals(s['V'], vi), Equals(s['R'], vi), Equals(s['M'], START))"
   ]
  },
  {
   "cell_type": "code",
   "execution_count": 23,
   "id": "bf541e31-0ec4-4565-9c67-2f5bf1bb57a6",
   "metadata": {},
   "outputs": [],
   "source": [
    "def untimed_trans(c, p):\n",
    "    startToStopping = And(Equals(s['M'],START), Equals(p['M'],STOPPING), Equals(s['T'],p['T']), Equals(s['V'],p['V']), Equals(s['R'],p['R']))\n",
    "    \n",
    "    stoppingToBlocked = And(Equals(s['M'],STOPPING), Equals(p['M'],BLOCKED), Equals(s['T'],p['T']), s['V']>0, s['R']>=0, \n",
    "                            Equals(s['V'],p['V']), Equals(s['R'],p['R']), Equals(p['Timer'],0), s['V']-s['R']<e)\n",
    "    \n",
    "    blockedToFree = And(s['M']==BLOCKED, p['M']==FREE ,s['T']==p['T'],s['V']>0,s['R']>=0, \n",
    "                       s['V']==p['V'], s['R']==p['R'], s['Timer']>=tau, \n",
    "                       p['Timer']==0)\n",
    "    \n",
    "    \n",
    "    freeToStopping  =  And(s['M']==FREE, p['M']==STOPPING ,s['T']==p['T'], s['V']>0,s['R']>=0, \n",
    "                          s['V']==p['V'], s['R']==p['R'], s['Timer']>=tau)\n",
    "    \n",
    "    \n",
    "    stoppingToStopped = And(s['M']==STOPPING, p['M']==STOPPED ,s['T']==p['T'],\n",
    "                           s['V']<e, s['R']<e, p['V'] == 0, p['R'] == 0)\n",
    "    \n",
    "    freeToStopped = And(s['M']==FREE, p['M']==STOPPED ,s['T']==p['T'],\n",
    "                           s['V']<e, s['R']<e, p['V'] == 0, p['R'] == 0)\n",
    "    \n",
    "    blockedToStopped = And(s['M']==BLOCKED, p['M']==STOPPED ,s['T']==p['T'],\n",
    "                           s['V']<e, s['R']<e, p['V'] == 0, p['R'] == 0)\n",
    "    \n",
    "    stoppedToStopped = And(s['M']==STOPPED, p['M']==STOPPED, s['T'] == p['T'], \n",
    "                          s['V']==p['V'], s['R']== p['R'])\n",
    "    \n",
    "    \n",
    "    Or(startToStopping, stoppingToBlocked)"
   ]
  },
  {
   "cell_type": "code",
   "execution_count": null,
   "id": "c68c3c02-5011-41eb-a84b-07ae4ade1c1f",
   "metadata": {},
   "outputs": [],
   "source": []
  }
 ],
 "metadata": {
  "kernelspec": {
   "display_name": "Python 3 (ipykernel)",
   "language": "python",
   "name": "python3"
  },
  "language_info": {
   "codemirror_mode": {
    "name": "ipython",
    "version": 3
   },
   "file_extension": ".py",
   "mimetype": "text/x-python",
   "name": "python",
   "nbconvert_exporter": "python",
   "pygments_lexer": "ipython3",
   "version": "3.9.12"
  }
 },
 "nbformat": 4,
 "nbformat_minor": 5
}
