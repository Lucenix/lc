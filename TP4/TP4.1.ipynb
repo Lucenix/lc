{
 "cells": [
  {
   "cell_type": "markdown",
   "id": "804c33b5-9f27-4a44-bca4-fce9b5c08563",
   "metadata": {},
   "source": [
    "# TP4 - Grupo 14\n",
    "\n",
    "André Lucena Ribas Ferreira - A94956\n",
    "\n",
    "Paulo André Alegre Pinto - A97391"
   ]
  },
  {
   "cell_type": "markdown",
   "id": "6e71762f-1e66-4ee1-9283-b122e8954fff",
   "metadata": {},
   "source": [
    "# Enunciado do Problema 1"
   ]
  },
  {
   "cell_type": "markdown",
   "id": "d3fcdc83-071c-4f68-92ae-2e0bbaeef4f1",
   "metadata": {},
   "source": [
    "![](https://paper-attachments.dropboxusercontent.com/s_9896551CC5FAD2B2EB6E4EBC08522545FA66314D29FE6A5BE8E593259F8E8A37_1672830059198_ABS.png)"
   ]
  },
  {
   "cell_type": "markdown",
   "id": "2790663a-aec0-4fc1-9259-9b8cb6b116bc",
   "metadata": {},
   "source": [
    "![](https://paper-attachments.dropboxusercontent.com/s_C5426E33053EA04D1E3446B871CC8485C43045FF7CAAA1FC86A9B3A8E09058F9_1574702123197_Documento.png)"
   ]
  },
  {
   "cell_type": "markdown",
   "id": "8a63f378-5590-4d36-9ba6-0014f5bcb1bf",
   "metadata": {},
   "source": [
    "# Análise\n",
    "\n",
    "O objetivo de um sistema ABS é de evitar que as rodas de um carro bloqueiem quando uma travagem brusca ocorre. Neste caso, a travagem é tal que a única força exercida no sistema é a de atrito, seja entre o corpo e as rodas como as rodas e o solo.\n",
    "\n",
    "## Constantes\n",
    " - $a_1$ $\\rightarrow$ atrito no modo `BLOCKED`;\n",
    " - $a_2$ $\\rightarrow$ atrito nos restentas modos;\n",
    " - $c_1$ $\\rightarrow$ constante de proporcionalidade na travagem do modo `STOPPING`;\n",
    " - $c_2$ $\\rightarrow$ constante de proporcionalidade na travagem do modo `FREE`;\n",
    " - $P$ $\\rightarrow$ peso do veículo em Newtons;\n",
    " - $v_i$ $\\rightarrow$ velocidade inicial do veículo em metros/segundo;\n",
    " - $\\tau \\rightarrow$ limite máximo de tempo nos modos `FREE` e `BLOCKED`.\n",
    " \n",
    "## Variáveis Contínuas\n",
    " - $T$ $\\rightarrow$ tempo em segundos;\n",
    " - $V$ $\\rightarrow$ velocidade do veículo em metros/segundo;\n",
    " - $R$ $\\rightarrow$ velocidade das rodas em metros/segundo;\n",
    " - $Timer$ $\\rightarrow$ Timer utilizado nos modos `BLOCKED` e `FREE`.\n",
    " \n",
    "## Variáveis Discretas\n",
    " - $M$ $\\rightarrow$ Modo de execução."
   ]
  },
  {
   "cell_type": "markdown",
   "id": "460c85f7-a421-4133-85cc-5d8325ce512b",
   "metadata": {},
   "source": [
    "## Relações Diferenciais, por modo\n",
    "\n",
    "### Start\n",
    " - $T = 0$, $V = v_i$ e $R = v_i$\n",
    "\n",
    "### Free\n",
    " - $\\dot{V} = -c_2(V-R)$\n",
    " - $\\dot{R} = -a_2 * P + c_2(V-R)$\n",
    " \n",
    "### Stopping\n",
    " - $\\dot{V} = -c_1(V-R)$\n",
    " - $\\dot{R} = -a_2 * P + c_1(V-R)$\n",
    " \n",
    "### Blocked\n",
    " - $V = R$\n",
    " - $\\dot{R} = -a_1 * P$\n",
    "\n",
    "### Stopped\n",
    " - $V = 0$ e $R = 0$"
   ]
  },
  {
   "cell_type": "markdown",
   "id": "e76a8169-e06b-4683-96c3-e110ee63b9f6",
   "metadata": {},
   "source": [
    "## Switches\n",
    "\n",
    "### Start $\\rightarrow$ Free\n",
    " - Sem condição;\n",
    " - Colocar $Timer = 0$.\n",
    " \n",
    "### Free $\\rightarrow$ Stopping\n",
    " - $Timer \\geq \\tau$.\n",
    " \n",
    "### Stopping $\\rightarrow$ Blocked\n",
    " - "
   ]
  },
  {
   "cell_type": "markdown",
   "id": "18fad8f3-b7f4-4471-b4ae-a528289d2607",
   "metadata": {},
   "source": [
    "# Implementação\n",
    "\n",
    "Para a resolução do problema em questão, decidiu-se usar o módulo `pysmt.shortcuts`, com as funcionalidades possíveis para a utilização de um SMT Solver. Importam-se também os tipos deste Solver, a partir do módulo `pysmt.typing`."
   ]
  },
  {
   "cell_type": "code",
   "execution_count": 13,
   "id": "e5a6c8ac-8455-4553-a6ed-f3623a2af92a",
   "metadata": {},
   "outputs": [],
   "source": [
    "from z3 import *\n",
    "from pysmt.shortcuts import *\n",
    "import pysmt.typing\n",
    "import itertools\n",
    "import matplotlib.pyplot as plt"
   ]
  },
  {
   "cell_type": "markdown",
   "id": "58a934fd-ce59-45b0-8914-4d1c64146cb2",
   "metadata": {},
   "source": [
    "Geram-se os valores enumerados para cada um dos Modos de execução."
   ]
  },
  {
   "cell_type": "code",
   "execution_count": 14,
   "id": "aeb9e484-9b1c-4762-ba00-dce8c8b61552",
   "metadata": {},
   "outputs": [],
   "source": [
    "Mode, (START, FREE, STOPPING, BLOCKED, STOPPED) = EnumSort('Mode', ('START','FREE','STOPPING', 'BLOCKED','STOPPED'))"
   ]
  },
  {
   "cell_type": "markdown",
   "id": "d079b2ba-f25a-4789-b5c1-c2df1a0af657",
   "metadata": {},
   "source": [
    "## Gráfico, I guess"
   ]
  },
  {
   "cell_type": "code",
   "execution_count": 21,
   "id": "3dbda8b8-d9d5-4a8d-9f12-8aa05ccc87a1",
   "metadata": {},
   "outputs": [],
   "source": [
    "def simulation(a1, a2, c1, c2, dt, e, P, tau, time, vi):\n",
    "    v = vi\n",
    "    r = vi\n",
    "    t = 0\n",
    "    V = [v]\n",
    "    R = [r]\n",
    "    T = [t]\n",
    "    timer = 0\n",
    "    m = FREE\n",
    "    \n",
    "    while(t<time and (v>0 or r>0)):\n",
    "        \n",
    "        if m == STOPPING and (v - r <= e )  :\n",
    "            m = BLOCKED\n",
    "        \n",
    "        elif timer >= tau and m == BLOCKED:\n",
    "            m = FREE\n",
    "            timer = 0\n",
    "        \n",
    "        elif timer >= tau and m == FREE:\n",
    "            m = STOPPING\n",
    "            timer = 0 \n",
    "        \n",
    "        if m == FREE:\n",
    "            v, r = v + (-c2*(v-r))*dt, r + (-a2*P + c2*(v-r))*dt\n",
    "        elif m == STOPPING:\n",
    "            v, r = v + (-c1*(v-r))*dt, r + (-a2*P + c1*(v-r))*dt\n",
    "        else:\n",
    "            v, r = v + (-a1*P)*dt,     r + (-a1*P)*dt \n",
    "    \n",
    "        t += dt\n",
    "        timer += dt\n",
    "        V.append(v)\n",
    "        R.append(r)\n",
    "        T.append(t)\n",
    "        \n",
    "    plt.plot(T,V,T,R)\n",
    "    plt.title(\"Velocidade pelo Tempo\")\n",
    "    plt.xlabel(\"Tempo (s)\")\n",
    "    plt.ylabel(\"Velocidade (m/s)\")\n",
    "    plt.legend([\"Veiculo\", \"Rodas\"], loc =\"upper right\")\n",
    "    plt.grid(True)"
   ]
  },
  {
   "cell_type": "code",
   "execution_count": 211,
   "id": "259d8aea-8466-4ec5-a74f-0346a76597f0",
   "metadata": {},
   "outputs": [],
   "source": [
    "a1 = 0.0001\n",
    "a2 = 0.01 #coeficiente de atrito com uma estrada normal é de 0.7\n",
    "c1 = 50\n",
    "c2 = 2\n",
    "dt = 0.001\n",
    "e = 0.5\n",
    "P = 1300 #peso médio de um carro é de 1302 kilos mas faltam aqui 9.8 m/s^2\n",
    "tau = 0.2\n",
    "time = 2\n",
    "vi = 30"
   ]
  },
  {
   "cell_type": "code",
   "execution_count": 212,
   "id": "9711bde7-c468-48f7-b24a-75561622a039",
   "metadata": {},
   "outputs": [
    {
     "data": {
      "image/png": "[encoded data removed]",
      "text/plain": [
       "<Figure size 432x288 with 1 Axes>"
      ]
     },
     "metadata": {
      "needs_background": "light"
     },
     "output_type": "display_data"
    }
   ],
   "source": [
    "simulation(a1, a2, c1, c2, dt, e, P, tau, time, vi)"
   ]
  },
  {
   "cell_type": "markdown",
   "id": "b0b39151-9128-4652-9efa-672d7d2cb443",
   "metadata": {},
   "source": [
    "Qual é a ideia de ter V = v? Se eu bloquear as rodas então a velocidade dá tp? ele solavanca instantaneamente?"
   ]
  },
  {
   "cell_type": "markdown",
   "id": "ee6c708c-cfe6-41db-ac4d-1095857b0145",
   "metadata": {},
   "source": [
    "O \"Timer\" definido para o estado `BLOCKED` e `FREE` deve ser uma variável global do sistema que limita a sua operabilidade."
   ]
  },
  {
   "cell_type": "code",
   "execution_count": 25,
   "id": "76381526-8c81-47d9-a9d8-66039c8bcb86",
   "metadata": {},
   "outputs": [],
   "source": [
    "timer = 3"
   ]
  },
  {
   "cell_type": "markdown",
   "id": "50f32997-2a5c-4b17-a567-8ba3a78f3a36",
   "metadata": {},
   "source": [
    "Declaram-se as variáveis para cada um dos estados."
   ]
  },
  {
   "cell_type": "code",
   "execution_count": 19,
   "id": "71e50eaf-34d9-4a3d-9cba-2cea4e3fdad5",
   "metadata": {},
   "outputs": [],
   "source": [
    "def declare(i):\n",
    "    s = {}\n",
    "    s['T'] = Symbol('T'+str(i), Real)\n",
    "    s['V'] = Symbol('V'+str(i), Real)\n",
    "    s['R'] = Symbol('R'+str(i), Real)\n",
    "    s['M'] = Symbol('M'+str(i), Mode)\n",
    "    #s['c'] = Symbol('c'+str(i), Real)\n",
    "    s['Timer'] = Symbol('Timer'+str(i), Real)\n",
    "    return s"
   ]
  },
  {
   "cell_type": "markdown",
   "id": "acbc55c2-bbb4-45f3-90a0-e2d9e16500c7",
   "metadata": {},
   "source": [
    "Define-se o predicado Inicial. Note-se a não necessidade de manipular a variável `Timer` quando esta não tem utilidade."
   ]
  },
  {
   "cell_type": "code",
   "execution_count": 22,
   "id": "89478fad-649e-417b-9871-1cfe7c4f0e00",
   "metadata": {},
   "outputs": [],
   "source": [
    "def init(s, vi):\n",
    "    return And(Equals(s['T'], Real(0)), Equals(s['V'], vi), Equals(s['R'], vi), Equals(s['M'], START))"
   ]
  },
  {
   "cell_type": "code",
   "execution_count": 23,
   "id": "bf541e31-0ec4-4565-9c67-2f5bf1bb57a6",
   "metadata": {},
   "outputs": [],
   "source": [
    "def untimed_trans(c, p):\n",
    "    startToStopping = And(Equals(s['M'],START), Equals(p['M'],STOPPING), Equals(s['T'],p['T']), Equals(s['V'],p['V']), Equals(s['R'],p['R']))\n",
    "    \n",
    "    stoppingToBlocked = And(Equals(s['M'],STOPPING), Equals(p['M'],BLOCKED), Equals(s['T'],p['T']), s['V']>0, s['R']>=0, \n",
    "                            Equals(s['V'],p['V']), Equals(s['R'],p['R']), Equals(p['Timer'],0), s['V']-s['R']<e)\n",
    "    \n",
    "    blockedToFree = And(s['M']==BLOCKED, p['M']==FREE ,s['T']==p['T'],s['V']>0,s['R']>=0, \n",
    "                       s['V']==p['V'], s['R']==p['R'], s['Timer']>=tau, \n",
    "                       p['Timer']==0)\n",
    "    \n",
    "    \n",
    "    freeToStopping  =  And(s['M']==FREE, p['M']==STOPPING ,s['T']==p['T'], s['V']>0,s['R']>=0, \n",
    "                          s['V']==p['V'], s['R']==p['R'], s['Timer']>=tau)\n",
    "    \n",
    "    \n",
    "    stoppingToStopped = And(s['M']==STOPPING, p['M']==STOPPED ,s['T']==p['T'],\n",
    "                           s['V']<e, s['R']<e, p['V'] == 0, p['R'] == 0)\n",
    "    \n",
    "    freeToStopped = And(s['M']==FREE, p['M']==STOPPED ,s['T']==p['T'],\n",
    "                           s['V']<e, s['R']<e, p['V'] == 0, p['R'] == 0)\n",
    "    \n",
    "    blockedToStopped = And(s['M']==BLOCKED, p['M']==STOPPED ,s['T']==p['T'],\n",
    "                           s['V']<e, s['R']<e, p['V'] == 0, p['R'] == 0)\n",
    "    \n",
    "    stoppedToStopped = And(s['M']==STOPPED, p['M']==STOPPED, s['T'] == p['T'], \n",
    "                          s['V']==p['V'], s['R']== p['R'])\n",
    "    \n",
    "    \n",
    "    Or(startToStopping, stoppingToBlocked)"
   ]
  },
  {
   "cell_type": "code",
   "execution_count": null,
   "id": "c68c3c02-5011-41eb-a84b-07ae4ade1c1f",
   "metadata": {},
   "outputs": [],
   "source": []
  }
 ],
 "metadata": {
  "kernelspec": {
   "display_name": "Python 3 (ipykernel)",
   "language": "python",
   "name": "python3"
  },
  "language_info": {
   "codemirror_mode": {
    "name": "ipython",
    "version": 3
   },
   "file_extension": ".py",
   "mimetype": "text/x-python",
   "name": "python",
   "nbconvert_exporter": "python",
   "pygments_lexer": "ipython3",
   "version": "3.9.12"
  }
 },
 "nbformat": 4,
 "nbformat_minor": 5
}
