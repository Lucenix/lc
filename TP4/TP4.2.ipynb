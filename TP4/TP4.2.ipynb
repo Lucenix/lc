{
 "cells": [
  {
   "cell_type": "markdown",
   "id": "536d0c93-3b2e-43fd-b4e7-61de3a3800c5",
   "metadata": {},
   "source": [
    "# TP4 - Grupo 14\n",
    "\n",
    "André Lucena Ribas Ferreira - A94956\n",
    "\n",
    "Paulo André Alegre Pinto - A97391"
   ]
  },
  {
   "cell_type": "code",
   "execution_count": null,
   "id": "76f37e9f-e2ed-4900-bf04-a4b0c5ce3311",
   "metadata": {},
   "outputs": [],
   "source": []
  }
 ],
 "metadata": {
  "kernelspec": {
   "display_name": "Python 3 (ipykernel)",
   "language": "python",
   "name": "python3"
  },
  "language_info": {
   "codemirror_mode": {
    "name": "ipython",
    "version": 3
   },
   "file_extension": ".py",
   "mimetype": "text/x-python",
   "name": "python",
   "nbconvert_exporter": "python",
   "pygments_lexer": "ipython3",
   "version": "3.9.12"
  }
 },
 "nbformat": 4,
 "nbformat_minor": 5
}
