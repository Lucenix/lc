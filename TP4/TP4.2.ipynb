{
 "cells": [
  {
   "cell_type": "markdown",
   "id": "536d0c93-3b2e-43fd-b4e7-61de3a3800c5",
   "metadata": {},
   "source": [
    "# TP4 - Grupo 14\n",
    "\n",
    "André Lucena Ribas Ferreira - A94956\n",
    "\n",
    "Paulo André Alegre Pinto - A97391"
   ]
  },
  {
   "cell_type": "markdown",
   "id": "b49f5464-6962-4efe-a4da-8d6ee103bec1",
   "metadata": {},
   "source": [
    "# Enunciado do Problema 2\n",
    "\n",
    "O programa `Python` seguinte implementa o algoritmo de bubble sort para ordenação in situ de um array de inteiros `seq`."
   ]
  },
  {
   "cell_type": "code",
   "execution_count": 3,
   "id": "31a30c66-5fc2-4ce9-9d8b-7dcbee8eae83",
   "metadata": {},
   "outputs": [
    {
     "name": "stdout",
     "output_type": "stream",
     "text": [
      "[-4, -3, -2, -1, 1, 2, 3, 4]\n"
     ]
    }
   ],
   "source": [
    "seq = [-2,1,2,-1,4,-4,-3,3]\n",
    "changed = True\n",
    "while changed:\n",
    "    changed = False\n",
    "    for i in range(len(seq) - 1):\n",
    "        if seq[i] > seq[i+1]:\n",
    "            seq[i], seq[i+1] = seq[i+1], seq[i]\n",
    "            changed = True\n",
    "print(seq)"
   ]
  },
  {
   "cell_type": "markdown",
   "id": "0029d19b-716b-4f0b-b25c-7ac7b08e3224",
   "metadata": {},
   "source": [
    " 1. Defina a pré-condição e a pós-condição que descrevem a especificação deste algoritmo.\n",
    " 2. O ciclo `for` pode ser descrito por uma transição $\\,\\mathtt{seq}\\gets \\mathit{exp}(\\mathtt{seq})\\,$. Construa uma relação de transição $\\;\\mathsf{trans}(\\mathtt{seq},\\mathtt{seq}')\\,$ que modele esta atribuição.\n",
    " 3. Usando a técnica que lhe parecer mais conveniente verifique a correção do algoritmo."
   ]
  },
  {
   "cell_type": "markdown",
   "id": "75e51ec0-952a-4146-8b83-0b9dbb3ceefa",
   "metadata": {},
   "source": [
    "```python\n",
    "    Pré-Condição: assume n >= 1 and changed == True\n",
    "    Pós-Condução: assert forall j . 0 <= j < n-1 -> seq[j] <= seq[j+1] and changed == False\n",
    "```"
   ]
  },
  {
   "cell_type": "code",
   "execution_count": null,
   "id": "782b5f44-2630-4299-bb1e-631306f2ac0a",
   "metadata": {},
   "outputs": [],
   "source": [
    "from pysmt.shortcuts import *\n",
    "from pysmt.typing import *\n",
    "\n",
    "def prove(f):\n",
    "    with Solver(name=\"z3\") as s:\n",
    "        s.add_assertion(Not(f))\n",
    "        if s.solve():\n",
    "            print(\"Failed to prove.\")\n",
    "        else:\n",
    "            print(\"Proved.\")"
   ]
  },
  {
   "cell_type": "code",
   "execution_count": null,
   "id": "379e9df7-0861-4d35-8351-e3d37df24658",
   "metadata": {},
   "outputs": [],
   "source": [
    "def define(letter, i):\n",
    "    s = {}\n",
    "    s['seq'] = Symbol('seq' + letter + i, ArrayType(INT, INT))\n",
    "    s['changed'] = Symbol('changed' + letter + i, BOOL)\n",
    "    s['n'] = Symbol('n' + letter + i, INT)\n",
    "    s['j'] = Symbol('j' + letter + i, INT)\n",
    "    return s"
   ]
  },
  {
   "cell_type": "code",
   "execution_count": 2,
   "id": "2dad14e6-21f6-4894-9ad0-ea714116175e",
   "metadata": {},
   "outputs": [],
   "source": [
    "def trans(c, p):\n",
    "    temp = [(Symbol(str(i) + 'a',INT), Symbol(str(i) + 'b', INT)) for i in len()]\n",
    "    r = []\n",
    "    \n",
    "    r.append(And(Equals(temp[0][0], If(Select(c['seq'], 0) < Select(c['seq'], 1), Select(c['seq'], 0), Select(c['seq'], 1))), \n",
    "                 Equals(temp[0][1], If(Select(c['seq'], 0) < Select(c['seq'], 1), Select(c['seq'], 1), Select(c['seq'], 0))),\n",
    "                 Equals(Select(p['seq'], 0), temp[0][0])))\n",
    "    \n",
    "    r += [And(Equals(temp[i][0], If(temp[i-1][0] < temp[i-1][1], temp[i-1][0], temp[i-1][1])), \n",
    "              Equals(temp[i][1], If(temp[i-1][0] < temp[i-1][1], temp[i-1][1], temp[i-1][0])),\n",
    "              Equals(Select(p['seq'], i), temp[i][0])) for i in range(1,len())]\n",
    "\n",
    "    r.append(And(Equals(Select(p['seq'], len()-1), temp[len()-1][1])))\n",
    "    \n",
    "    return And(r)"
   ]
  },
  {
   "cell_type": "code",
   "execution_count": null,
   "id": "0b599b16-c5f4-4086-81d4-58f873e6ab32",
   "metadata": {},
   "outputs": [],
   "source": [
    "def trans1(c, p):\n",
    "    a = Select(c['sep'], 0)\n",
    "    "
   ]
  },
  {
   "cell_type": "code",
   "execution_count": null,
   "id": "00def2b2-4929-4724-a3ed-64bca02da621",
   "metadata": {},
   "outputs": [],
   "source": [
    "init = True\n"
   ]
  }
 ],
 "metadata": {
  "kernelspec": {
   "display_name": "Python 3 (ipykernel)",
   "language": "python",
   "name": "python3"
  },
  "language_info": {
   "codemirror_mode": {
    "name": "ipython",
    "version": 3
   },
   "file_extension": ".py",
   "mimetype": "text/x-python",
   "name": "python",
   "nbconvert_exporter": "python",
   "pygments_lexer": "ipython3",
   "version": "3.9.12"
  }
 },
 "nbformat": 4,
 "nbformat_minor": 5
}
