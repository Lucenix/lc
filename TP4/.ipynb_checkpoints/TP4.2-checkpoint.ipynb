{
 "cells": [
  {
   "cell_type": "markdown",
   "id": "536d0c93-3b2e-43fd-b4e7-61de3a3800c5",
   "metadata": {},
   "source": [
    "# TP4 - Grupo 14\n",
    "\n",
    "André Lucena Ribas Ferreira - A94956\n",
    "\n",
    "Paulo André Alegre Pinto - A97391"
   ]
  },
  {
   "cell_type": "markdown",
   "id": "b49f5464-6962-4efe-a4da-8d6ee103bec1",
   "metadata": {},
   "source": [
    "# Enunciado do Problema 2\n",
    "\n",
    "O programa `Python` seguinte implementa o algoritmo de bubble sort para ordenação in situ de um array de inteiros `seq`."
   ]
  },
  {
   "cell_type": "code",
   "execution_count": 1,
   "id": "31a30c66-5fc2-4ce9-9d8b-7dcbee8eae83",
   "metadata": {},
   "outputs": [
    {
     "name": "stdout",
     "output_type": "stream",
     "text": [
      "[-4, -3, -2, -1, 1, 2, 3, 4]\n"
     ]
    }
   ],
   "source": [
    "seq = [-2,1,2,-1,4,-4,-3,3]\n",
    "changed = True\n",
    "while changed:\n",
    "    changed = False\n",
    "    for i in range(len(seq) - 1):\n",
    "        if seq[i] > seq[i+1]:\n",
    "            seq[i], seq[i+1] = seq[i+1], seq[i]\n",
    "            changed = True\n",
    "print(seq)"
   ]
  },
  {
   "cell_type": "markdown",
   "id": "0029d19b-716b-4f0b-b25c-7ac7b08e3224",
   "metadata": {},
   "source": [
    " 1. Defina a pré-condição e a pós-condição que descrevem a especificação deste algoritmo.\n",
    " 2. O ciclo `for` pode ser descrito por uma transição $\\,\\mathtt{seq}\\gets \\mathit{exp}(\\mathtt{seq})\\,$. Construa uma relação de transição $\\;\\mathsf{trans}(\\mathtt{seq},\\mathtt{seq}')\\,$ que modele esta atribuição.\n",
    " 3. Usando a técnica que lhe parecer mais conveniente verifique a correção do algoritmo."
   ]
  },
  {
   "cell_type": "markdown",
   "id": "75e51ec0-952a-4146-8b83-0b9dbb3ceefa",
   "metadata": {},
   "source": [
    "```python\n",
    "    Pré-Condição: assume n >= 0 and changed == True\n",
    "    Pós-Condução: assert forall j . 0 <= j < n-1 -> seq[j] <= seq[j+1] and changed == False\n",
    "```"
   ]
  },
  {
   "cell_type": "code",
   "execution_count": 2,
   "id": "782b5f44-2630-4299-bb1e-631306f2ac0a",
   "metadata": {},
   "outputs": [],
   "source": [
    "from pysmt.shortcuts import *\n",
    "from pysmt.typing import *"
   ]
  },
  {
   "cell_type": "code",
   "execution_count": 3,
   "id": "379e9df7-0861-4d35-8351-e3d37df24658",
   "metadata": {},
   "outputs": [],
   "source": [
    "n = Symbol('n',INT)\n",
    "i = Symbol('i', INT)\n",
    "seq = Symbol('seq', ArrayType(INT, INT))"
   ]
  },
  {
   "cell_type": "code",
   "execution_count": 4,
   "id": "0a3239cb-8013-4428-84d9-410794a42715",
   "metadata": {},
   "outputs": [],
   "source": [
    "f = Symbol('f', FunctionType(INT,[INT]))\n",
    "ax1 = Equals(f(Int(0)), Select(seq, Int(0)))\n",
    "ax2 = ForAll([i], Implies(And(i>Int(0), i<n), Equals(f(i), Ite(Select(seq,i) >= f(i-Int(1)), Select(seq,i), f(i-Int(1))))))\n",
    "axioms = And(ax1,ax2)"
   ]
  },
  {
   "cell_type": "code",
   "execution_count": 5,
   "id": "2dad14e6-21f6-4894-9ad0-ea714116175e",
   "metadata": {},
   "outputs": [],
   "source": [
    "def for_cycle(c, p, changed):\n",
    "    print(c,p)\n",
    "    indutivo = ForAll([i], Implies(And(i<n-Int(1), i>=Int(0)), \n",
    "                                   And(Equals(Select(p,i), Ite(Select(c, i+Int(1)) <= f(i), Select(c, i+Int(1)), f(i))))))\n",
    "    \n",
    "    final = Equals(Select(p, n - Int(1)), f(n - Int(1)))\n",
    "    \n",
    "    #troca = Iff(Iff(changed, Bool(False)), ForAll([i], And(i>=Int(0), i<n, Equals(Select(c, i), Select(p, i))))) \n",
    "    \n",
    "    troca = Iff(Iff(changed, Bool(True)), Not(Equals(c,p)))\n",
    "    \n",
    "    return And(axioms,indutivo, troca, final)"
   ]
  },
  {
   "cell_type": "code",
   "execution_count": 6,
   "id": "a420beb6-01b6-474d-8672-e71777a27e32",
   "metadata": {},
   "outputs": [],
   "source": [
    "# Auxiliares\n",
    "def prime(v):\n",
    "    return Symbol(\"next(%s)\" % v.symbol_name(), v.symbol_type())\n",
    "def fresh(v):\n",
    "    return FreshSymbol(typename=v.symbol_type(),template=v.symbol_name()+\"_%d\")\n",
    "\n",
    "# A classe \"Sigle Assignment Unfold\"\n",
    "class SAU(object):\n",
    "    \"\"\"Trivial representation of a while cycle and its unfolding.\"\"\"\n",
    "    def __init__(self, variables, pre , pos, control, trans, sname=\"z3\"):\n",
    "              \n",
    "        self.variables = variables       # variables   \n",
    "        self.pre = pre                   # pre-condition as a predicate in \"variables\"\n",
    "        self.pos = pos                   # pos-condition as a predicate in \"variables\"\n",
    "        self.control = control           # cycle control as a predicate in \"variables\"\n",
    "        self.trans = trans               # cycle body as a binary transition relation \n",
    "                                         # in \"variables\" and \"prime variables\"\n",
    "        \n",
    "        self.prime_variables = [prime(v) for v in self.variables]\n",
    "        self.frames = [And([Not(control),pos])]  \n",
    "                 # inializa com uma só frame: a da terminação do ciclo\n",
    "        \n",
    "        self.solver = Solver(name=sname)\n",
    "\n",
    "    def new_frame(self):        \n",
    "        freshs = [fresh(v) for v in self.variables]    \n",
    "        b = self.control\n",
    "        S = self.trans.substitute(dict(zip(self.prime_variables,freshs)))\n",
    "        W = self.frames[-1].substitute(dict(zip(self.variables,freshs)))\n",
    "        self.frames.append(And([b , ForAll(freshs, Implies(S, W))]))\n",
    "        \n",
    "    def unfold(self,bound=0):\n",
    "        n = 0\n",
    "        while True:\n",
    "            if n > bound:\n",
    "                print(\"falha: número de tentativas ultrapassa o limite %d \"%bound)\n",
    "                break\n",
    "            \n",
    "            f = Or(self.frames)\n",
    "            if self.solver.solve([self.pre,Not(f)]):\n",
    "                self.new_frame()\n",
    "                n += 1\n",
    "            else:\n",
    "                print(\"sucesso na tentativa %d \"%n)\n",
    "                break   "
   ]
  },
  {
   "cell_type": "code",
   "execution_count": 7,
   "id": "964ca35a-302e-4228-994f-b1959a1a9ffa",
   "metadata": {},
   "outputs": [],
   "source": [
    "N = 8\n",
    "n = Int(N)\n",
    "\n",
    "store1 = And(Equals(Select(seq, Int(0)), Int(-2) ),\n",
    "            Equals(Select(seq, Int(1)), Int(1)  ),\n",
    "            Equals(Select(seq, Int(2)), Int(2)  ),\n",
    "            Equals(Select(seq, Int(3)), Int(-1) ),\n",
    "            Equals(Select(seq, Int(4)), Int(4)  ),\n",
    "            Equals(Select(seq, Int(5)), Int(-4) ),\n",
    "            Equals(Select(seq, Int(6)), Int(-3) ),\n",
    "            Equals(Select(seq, Int(7)), Int(3)  ))\n",
    "\n",
    "changed = Symbol('changed', BOOL)\n",
    "variables = [changed, seq]"
   ]
  },
  {
   "cell_type": "code",
   "execution_count": 8,
   "id": "32e4a11b-2e80-4600-ac7a-5ef4b7aaf9ac",
   "metadata": {},
   "outputs": [
    {
     "name": "stdout",
     "output_type": "stream",
     "text": [
      "seq 'next(seq)'\n",
      "sucesso na tentativa 6 \n"
     ]
    }
   ],
   "source": [
    "pre  =  And(n>=Int(0), Iff(changed, Bool(True)), axioms, store1)  \n",
    "pos  =  And(ForAll([i], Implies(And(i>=0, i<n-1), Select(seq, i) <= Select(seq, i+1))), Iff(changed, Bool(False)))\n",
    "cond =  Iff(changed, Bool(True))               # condição de controlo do ciclo\n",
    "trans = And(for_cycle(seq, prime(seq), prime(changed)))\n",
    "\n",
    "#, \n",
    "#Iff(Iff(prime(changed), Bool(False)),\n",
    "#ForAll([i], And(i>=Int(0), i<n, Equals(Select(seq, i), Select(prime(seq), i))))))\n",
    "\n",
    "W = SAU(variables, pre, pos, cond, trans)\n",
    "W.unfold(8)"
   ]
  },
  {
   "cell_type": "code",
   "execution_count": 9,
   "id": "8d181315-6575-462f-a6f7-75d4de1d6a0d",
   "metadata": {},
   "outputs": [
    {
     "name": "stdout",
     "output_type": "stream",
     "text": [
      "((seq[0] = -2) & (seq[1] = -2) & (seq[2] = -2) & (seq[3] = -2) & (seq[4] = -2) & (seq[5] = -2) & (seq[6] = -2) & (seq[7] = -3))\n",
      "sucesso na tentativa 8 \n"
     ]
    }
   ],
   "source": [
    "store2 = And([Equals(Select(seq, Int(i)), Int(-2)) for i in range(N-1)] + [Equals(Select(seq, Int(7)), Int(-3))])\n",
    "print(store2)\n",
    "pre  =  And(n>=Int(0), Iff(changed, Bool(True)), axioms, store2)\n",
    "W = SAU(variables, pre, pos, cond, trans)\n",
    "W.unfold(9)"
   ]
  },
  {
   "cell_type": "code",
   "execution_count": 13,
   "id": "c230c501-77d7-484b-9a17-f120c4c6f770",
   "metadata": {},
   "outputs": [
    {
     "name": "stdout",
     "output_type": "stream",
     "text": [
      "((seq[0] = -2) & (seq[1] = -2) & (seq[2] = -2) & (seq[3] = -2) & (seq[4] = -2) & (seq[5] = -2) & (seq[6] = -2) & (seq[7] = -2))\n",
      "falha: número de tentativas ultrapassa o limite 9 \n"
     ]
    }
   ],
   "source": [
    "store3 = And([Equals(Select(seq, Int(i)), Int(-2)) for i in range(N)])\n",
    "print(store3)\n",
    "pre  =  And(n>=Int(0), Iff(changed, Bool(True)), axioms, store3)\n",
    "W = SAU(variables, pre, pos, cond, trans)\n",
    "W.unfold(9)"
   ]
  },
  {
   "cell_type": "code",
   "execution_count": 14,
   "id": "a4a560b2-645d-46a2-bf6f-a9bf04339e81",
   "metadata": {},
   "outputs": [
    {
     "name": "stdout",
     "output_type": "stream",
     "text": [
      "falha: número de tentativas ultrapassa o limite 9 \n"
     ]
    }
   ],
   "source": [
    "pre  =  And(n>=Int(0), Iff(changed, Bool(True)), axioms)\n",
    "W = SAU(variables, pre, pos, cond, trans)\n",
    "W.unfold(9)"
   ]
  },
  {
   "cell_type": "code",
   "execution_count": null,
   "id": "3f57aeaa-4b78-4338-a56f-ce89894e4afc",
   "metadata": {},
   "outputs": [],
   "source": []
  }
 ],
 "metadata": {
  "kernelspec": {
   "display_name": "Python 3 (ipykernel)",
   "language": "python",
   "name": "python3"
  },
  "language_info": {
   "codemirror_mode": {
    "name": "ipython",
    "version": 3
   },
   "file_extension": ".py",
   "mimetype": "text/x-python",
   "name": "python",
   "nbconvert_exporter": "python",
   "pygments_lexer": "ipython3",
   "version": "3.9.12"
  }
 },
 "nbformat": 4,
 "nbformat_minor": 5
}
