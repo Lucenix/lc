{
 "cells": [
  {
   "cell_type": "markdown",
   "id": "536d0c93-3b2e-43fd-b4e7-61de3a3800c5",
   "metadata": {},
   "source": [
    "# TP4 - Grupo 14\n",
    "\n",
    "André Lucena Ribas Ferreira - A94956\n",
    "\n",
    "Paulo André Alegre Pinto - A97391"
   ]
  },
  {
   "cell_type": "markdown",
   "id": "b49f5464-6962-4efe-a4da-8d6ee103bec1",
   "metadata": {},
   "source": [
    "# Enunciado do Problema 2\n",
    "\n",
    "O programa `Python` seguinte implementa o algoritmo de bubble sort para ordenação in situ de um array de inteiros `seq`."
   ]
  },
  {
   "cell_type": "code",
   "execution_count": 1,
   "id": "31a30c66-5fc2-4ce9-9d8b-7dcbee8eae83",
   "metadata": {},
   "outputs": [
    {
     "name": "stdout",
     "output_type": "stream",
     "text": [
      "[-4, -3, -2, -1, 1, 2, 3, 4]\n"
     ]
    }
   ],
   "source": [
    "seq = [-2,1,2,-1,4,-4,-3,3]\n",
    "changed = True\n",
    "while changed:\n",
    "    changed = False\n",
    "    for i in range(len(seq) - 1):\n",
    "        if seq[i] > seq[i+1]:\n",
    "            seq[i], seq[i+1] = seq[i+1], seq[i]\n",
    "            changed = True\n",
    "print(seq)"
   ]
  },
  {
   "cell_type": "markdown",
   "id": "0029d19b-716b-4f0b-b25c-7ac7b08e3224",
   "metadata": {},
   "source": [
    " 1. Defina a pré-condição e a pós-condição que descrevem a especificação deste algoritmo.\n",
    " 2. O ciclo `for` pode ser descrito por uma transição $\\,\\mathtt{seq}\\gets \\mathit{exp}(\\mathtt{seq})\\,$. Construa uma relação de transição $\\;\\mathsf{trans}(\\mathtt{seq},\\mathtt{seq}')\\,$ que modele esta atribuição.\n",
    " 3. Usando a técnica que lhe parecer mais conveniente verifique a correção do algoritmo."
   ]
  },
  {
   "cell_type": "markdown",
   "id": "02e18713-fb34-408c-9012-76030b023aa6",
   "metadata": {},
   "source": [
    "# Resolução"
   ]
  },
  {
   "cell_type": "markdown",
   "id": "6ca7ccb4-9167-49e4-9d31-f34ab74caab3",
   "metadata": {},
   "source": [
    "## 1. Pré-condição e pós-condição\n",
    "\n",
    "As condições definidas para a resolução do problema são as demonstradas a seguir. No entanto, devido à implementação do algoritmo SAU demonstrado na teoria, não se coloca a redundância da terminação da execução do ciclo na pós-condição durante a implementação."
   ]
  },
  {
   "cell_type": "markdown",
   "id": "75e51ec0-952a-4146-8b83-0b9dbb3ceefa",
   "metadata": {},
   "source": [
    "```python\n",
    "    Pré-Condição: assume n >= 0 and changed == True\n",
    "    Pós-Condução: assert forall j . 0 <= j < n-1 -> seq[j] <= seq[j+1] and changed == False\n",
    "```"
   ]
  },
  {
   "cell_type": "code",
   "execution_count": 40,
   "id": "782b5f44-2630-4299-bb1e-631306f2ac0a",
   "metadata": {},
   "outputs": [],
   "source": [
    "from pysmt.shortcuts import *\n",
    "from pysmt.typing import *"
   ]
  },
  {
   "cell_type": "markdown",
   "id": "4ee0e352-44e1-420c-9a4c-fe2810162cee",
   "metadata": {},
   "source": [
    "De seguida, definem-se as variáveis usadas no problema."
   ]
  },
  {
   "cell_type": "code",
   "execution_count": 41,
   "id": "da2b51e2-f894-4df1-bc57-027975118145",
   "metadata": {},
   "outputs": [],
   "source": [
    "N = 8\n",
    "n = Int(N)\n",
    "i = Symbol('i', INT)\n",
    "seq = Symbol('seq', ArrayType(INT, INT))\n",
    "f = Symbol('f', FunctionType(INT,[INT]))"
   ]
  },
  {
   "cell_type": "markdown",
   "id": "7c09b665-7f0a-44ab-99d5-0f71a5a7876a",
   "metadata": {},
   "source": [
    "A função `prove(g)` recebe um predicado e testa se é possível prová-lo para todo o traço de execução. Esta função é utilizada como auxiliar para testar a funcionalidade das implementações."
   ]
  },
  {
   "cell_type": "code",
   "execution_count": 42,
   "id": "f1d429ab-0216-4df2-8488-257589c44724",
   "metadata": {},
   "outputs": [],
   "source": [
    "def prove(g):\n",
    "    with Solver(name=\"z3\") as s:\n",
    "        s.add_assertion(Not(g))\n",
    "        if s.solve():\n",
    "            print(\"Failed to prove.\")\n",
    "            for inc in range(N):\n",
    "                print(s.get_value(Select(seq, Int(inc))))\n",
    "            for inc in range(N):\n",
    "                x = f(Int(inc))\n",
    "                print(\"f\", s.get_value(x))\n",
    "                #print(\"f\", s.get_value())\n",
    "        else:\n",
    "            print(\"Proved.\")"
   ]
  },
  {
   "cell_type": "markdown",
   "id": "39e30e1e-2263-4ae8-910e-1ec99dd9cfd5",
   "metadata": {},
   "source": [
    "As seguintes funções são funções auxiliares à manipulação das variáveis da execução por parte do algoritmo SAU."
   ]
  },
  {
   "cell_type": "code",
   "execution_count": 43,
   "id": "ea39fd39-08bc-4e85-9555-0864d3816f40",
   "metadata": {},
   "outputs": [],
   "source": [
    "def prime(v):\n",
    "    return Symbol(\"next(%s)\" % v.symbol_name(), v.symbol_type())\n",
    "def fresh(v):\n",
    "    return FreshSymbol(typename=v.symbol_type(),template=v.symbol_name()+\"_%d\")"
   ]
  },
  {
   "cell_type": "markdown",
   "id": "78afecfd-1369-4a51-afb3-0ce58eb66213",
   "metadata": {},
   "source": [
    "## 2. Definição da transição"
   ]
  },
  {
   "cell_type": "markdown",
   "id": "f0312f51-7515-4dc1-8bb7-90e1fbf631fd",
   "metadata": {},
   "source": [
    "### Transição com passos intermédios"
   ]
  },
  {
   "cell_type": "markdown",
   "id": "8917a171-6d4e-4eab-b004-7fd7adbd39e8",
   "metadata": {},
   "source": [
    "A seguinte função `trans_seq`, auxiliada pela função `aux`, serve para realizar a transição entre $seq$ e $seq´$. Para tal, criam-se *Arrays* intermédios onde se executam as atribuições, par a par de valores."
   ]
  },
  {
   "cell_type": "code",
   "execution_count": 51,
   "id": "d1b61c92-25b3-43b0-9000-30426864fe17",
   "metadata": {},
   "outputs": [],
   "source": [
    "def aux(seq,seqlinha,I):\n",
    "    i = Int(I)\n",
    "    l = list()\n",
    "    \"\"\"for n in range(N):\n",
    "        if n != I and n != I+1:\n",
    "            l.append(Equals(Select(seqlinha,Int(n)), Select(seq,Int(n))))# copia o seq para o seqlinha\n",
    "    \n",
    "    l.append(Equals(Select(seqlinha, i), Ite(Select(seq,i) < Select(seq, i+Int(1)), Select(seq,i), Select(seq, i+Int(1)))))\n",
    "    l.append(Equals(Select(seqlinha, i+Int(1)), Ite(Select(seq,i) > Select(seq, i+Int(1)), Select(seq,i), Select(seq, i+Int(1)))))\n",
    "    \n",
    "    for form in l:\n",
    "        print(form.serialize())\n",
    "        \n",
    "    print()\"\"\"\n",
    "    return And(l)\n",
    "    \n",
    "def trans_seq(seq,seq_p,changed,changed_p):\n",
    "    seqlist = []\n",
    "    seqlist.append(seq)\n",
    "    for i in range(1, N-1):\n",
    "        seqlist.append(Symbol('seq_i' + str(i), ArrayType(INT,INT)))\n",
    "    seqlist.append(seq_p)\n",
    "    \n",
    "    troca = Iff(Iff(changed_p, Bool(False)), (Equals(seq,seq_p)))\n",
    "        \n",
    "    return And(And([aux(seqlist[i],seqlist[i+1],i) for i in range(N-1)]),troca)"
   ]
  },
  {
   "cell_type": "code",
   "execution_count": 52,
   "id": "c9fccd3d-0779-4689-a1e0-2c9c5cdfa804",
   "metadata": {},
   "outputs": [],
   "source": [
    "def test_solver(conditions):\n",
    "    with Solver(name=\"z3\") as s:\n",
    "        if s.solve(conditions):\n",
    "            for inc in range(N):\n",
    "                print(s.get_value(Select(seq, Int(inc))))\n",
    "            print()\n",
    "            for inc in range(N):\n",
    "                print(s.get_value(Select(prime(seq), Int(inc))))\n",
    "        else:\n",
    "            print(\"Unsat\")"
   ]
  },
  {
   "cell_type": "code",
   "execution_count": 53,
   "id": "f787efe7-0e78-45b9-b12d-2e21b3a4cbd9",
   "metadata": {},
   "outputs": [
    {
     "name": "stdout",
     "output_type": "stream",
     "text": [
      "-2\n",
      "1\n",
      "2\n",
      "-1\n",
      "4\n",
      "-4\n",
      "-3\n",
      "3\n",
      "\n",
      "10\n",
      "10\n",
      "10\n",
      "10\n",
      "10\n",
      "10\n",
      "10\n",
      "10\n"
     ]
    }
   ],
   "source": [
    "pre  =  And(n>=Int(0), Iff(changed, Bool(True)), store1)  \n",
    "test_solver([pre, trans_seq(seq,prime(seq),changed,prime(changed))])"
   ]
  },
  {
   "cell_type": "markdown",
   "id": "a06f3af8-01c3-431c-bb2f-966fdb12ca68",
   "metadata": {},
   "source": [
    "### Transição através de função recursiva"
   ]
  },
  {
   "cell_type": "markdown",
   "id": "37ae82e8-3d46-469d-ac1b-4c9eb7038f77",
   "metadata": {},
   "source": [
    "A função `for_cycle` serve como função de transição tendo em consideração a atribuição a cada uma das entradas do array. Para cada entrada $0 \\leq i<n-1$ `seq[i]` atribui-se o menor dos valores entre `seq[i+1]` e o máximo valor de todos os `seq[j]`, para $0 \\leq j<i$.\n",
    "\n",
    "Para tal "
   ]
  },
  {
   "cell_type": "code",
   "execution_count": 10,
   "id": "0a3239cb-8013-4428-84d9-410794a42715",
   "metadata": {},
   "outputs": [],
   "source": [
    "ax1 = Equals(f(Int(0)), Select(seq, Int(0)))\n",
    "ax2 = ForAll([i], Implies(And(i>Int(0), i<n), Equals(f(i), Ite(Select(seq,i) >= f(i-Int(1)), Select(seq,i), f(i-Int(1))))))\n",
    "axioms = And(ax1,ax2)"
   ]
  },
  {
   "cell_type": "code",
   "execution_count": 11,
   "id": "1720f8db-43f0-4d35-9615-490691b3503b",
   "metadata": {},
   "outputs": [
    {
     "name": "stdout",
     "output_type": "stream",
     "text": [
      "Proved.\n",
      "Proved.\n",
      "Failed to prove.\n",
      "-2\n",
      "1\n",
      "2\n",
      "-1\n",
      "4\n",
      "-4\n",
      "-3\n",
      "3\n",
      "f -2\n",
      "f 1\n",
      "f 2\n",
      "f 2\n",
      "f 4\n",
      "f 4\n",
      "f 4\n",
      "f 4\n"
     ]
    }
   ],
   "source": [
    "store1 = And(Equals(Select(seq, Int(0)), Int(-2) ),\n",
    "            Equals(Select(seq, Int(1)), Int(1)  ),\n",
    "            Equals(Select(seq, Int(2)), Int(2)  ),\n",
    "            Equals(Select(seq, Int(3)), Int(-1) ),\n",
    "            Equals(Select(seq, Int(4)), Int(4)  ),\n",
    "            Equals(Select(seq, Int(5)), Int(-4) ),\n",
    "            Equals(Select(seq, Int(6)), Int(-3) ),\n",
    "            Equals(Select(seq, Int(7)), Int(3)  ))\n",
    "\n",
    "prove(Implies(And(axioms, store1), Equals(f(Int(1)), Int(1))))\n",
    "prove(Implies(And(axioms, store1), Equals(f(Int(5)), Int(4))))\n",
    "prove(Implies(And(axioms, store1), Equals(f(Int(5)), Int(1))))"
   ]
  },
  {
   "cell_type": "code",
   "execution_count": 18,
   "id": "2dad14e6-21f6-4894-9ad0-ea714116175e",
   "metadata": {},
   "outputs": [],
   "source": [
    "def for_cycle(c, p, changed_p):\n",
    "    indutivo = ForAll([i], Implies(And(i<n-Int(1), i>=Int(0)), \n",
    "                                   And(Equals(Select(p,i), Ite(Select(c, i+Int(1)) <= f(i), Select(c, i+Int(1)), f(i))))))\n",
    "    \n",
    "    final = Equals(Select(p, n - Int(1)), f(n - Int(1)))\n",
    "    \n",
    "    troca = Iff(Iff(changed, Bool(True)), Not(Equals(c,p)))\n",
    "    \n",
    "    return And(indutivo, troca, final)"
   ]
  },
  {
   "cell_type": "code",
   "execution_count": 26,
   "id": "a420beb6-01b6-474d-8672-e71777a27e32",
   "metadata": {},
   "outputs": [],
   "source": [
    "\n",
    "# A classe \"Sigle Assignment Unfold\"\n",
    "class SAU(object):\n",
    "    \"\"\"Trivial representation of a while cycle and its unfolding.\"\"\"\n",
    "    def __init__(self, variables, pre , pos, control, trans, sname=\"z3\"):\n",
    "              \n",
    "        self.variables = variables       # variables   \n",
    "        self.pre = pre                   # pre-condition as a predicate in \"variables\"\n",
    "        self.pos = pos                   # pos-condition as a predicate in \"variables\"\n",
    "        self.control = control           # cycle control as a predicate in \"variables\"\n",
    "        self.trans = trans               # cycle body as a binary transition relation \n",
    "                                         # in \"variables\" and \"prime variables\"\n",
    "        \n",
    "        self.prime_variables = [prime(v) for v in self.variables]\n",
    "        self.frames = [And([Not(control),pos])]  \n",
    "                 # inializa com uma só frame: a da terminação do ciclo\n",
    "        \n",
    "        self.solver = Solver(name=sname)\n",
    "        self.fresh = []\n",
    "\n",
    "    def new_frame(self):        \n",
    "        freshs = [fresh(v) for v in self.variables]    \n",
    "        b = self.control\n",
    "        S = self.trans.substitute(dict(zip(self.prime_variables,freshs)))\n",
    "        W = self.frames[-1].substitute(dict(zip(self.variables,freshs)))\n",
    "        self.frames.append(And([b , ForAll(freshs, Implies(S, W))]))\n",
    "        self.fresh += freshs\n",
    "        \n",
    "    def unfold(self,bound=0):\n",
    "        n = 0\n",
    "        while True:\n",
    "            if n > bound:\n",
    "                print(\"falha: número de tentativas ultrapassa o limite %d \"%bound)\n",
    "                break\n",
    "            \n",
    "            f = Or(self.frames)               \n",
    "            if self.solver.solve([self.pre,Not(f)]):\n",
    "                \"\"\"print(self.solver.get_value(changed))\n",
    "                print(\"seq:\")\n",
    "                for inc in range(N):\n",
    "                    print(self.solver.get_value(Select(seq, Int(inc))))\n",
    "                print(\"freshs:\")\n",
    "                for v in self.fresh:\n",
    "                    if str(v.symbol_type()) == \"Array{Int, Int}\":\n",
    "                        for inc in range(N):\n",
    "                            print(v.symbol_name(), inc, \":\", self.solver.get_value(Select(v, Int(inc))))\n",
    "                    else:\n",
    "                        print(v.symbol_name(),\":\", self.solver.get_value(v))\n",
    "                print(\"end frame\")\"\"\"\n",
    "                self.new_frame()\n",
    "                n += 1\n",
    "            else:\n",
    "                print(\"sucesso na tentativa %d \"%n)\n",
    "                break   "
   ]
  },
  {
   "cell_type": "code",
   "execution_count": 27,
   "id": "964ca35a-302e-4228-994f-b1959a1a9ffa",
   "metadata": {},
   "outputs": [],
   "source": [
    "changed = Symbol('changed', BOOL)\n",
    "variables = [changed, seq]"
   ]
  },
  {
   "cell_type": "code",
   "execution_count": 28,
   "id": "e9b46745-9679-4b26-9e65-5d86b00612f4",
   "metadata": {},
   "outputs": [],
   "source": []
  },
  {
   "cell_type": "code",
   "execution_count": 29,
   "id": "78c73ea0-922a-44a9-87f8-046f0023b048",
   "metadata": {},
   "outputs": [
    {
     "name": "stdout",
     "output_type": "stream",
     "text": [
      "-2\n",
      "1\n",
      "2\n",
      "-1\n",
      "4\n",
      "-4\n",
      "-3\n",
      "3\n",
      "\n",
      "-2\n",
      "1\n",
      "-1\n",
      "2\n",
      "-4\n",
      "-3\n",
      "3\n",
      "4\n"
     ]
    }
   ],
   "source": [
    "pre  =  And(n>=Int(0), Iff(changed, Bool(True)), axioms, store1)\n",
    "t = for_cycle(seq,prime(seq),prime(changed))\n",
    "test_solver([t, pre])"
   ]
  },
  {
   "cell_type": "code",
   "execution_count": 30,
   "id": "79c295a1-58e3-44f2-9980-23c00ccd86cb",
   "metadata": {},
   "outputs": [
    {
     "name": "stdout",
     "output_type": "stream",
     "text": [
      "-2\n",
      "1\n",
      "2\n",
      "-1\n",
      "4\n",
      "-4\n",
      "-3\n",
      "3\n",
      "\n",
      "8\n",
      "8\n",
      "8\n",
      "8\n",
      "8\n",
      "8\n",
      "8\n",
      "8\n"
     ]
    }
   ],
   "source": [
    "test_solver([Not(t), pre])"
   ]
  },
  {
   "cell_type": "code",
   "execution_count": 31,
   "id": "32e4a11b-2e80-4600-ac7a-5ef4b7aaf9ac",
   "metadata": {},
   "outputs": [
    {
     "name": "stdout",
     "output_type": "stream",
     "text": [
      "falha: número de tentativas ultrapassa o limite 8 \n"
     ]
    }
   ],
   "source": [
    "pre  =  And(n>=Int(0), Iff(changed, Bool(True)), axioms, store1)  \n",
    "pos  =  And(ForAll([i], Implies(And(i>=0, i<n-1), Select(seq, i) <= Select(seq, i+1))))\n",
    "cond =  Iff(changed, Bool(True))               # condição de controlo do ciclo\n",
    "trans = for_cycle(seq, prime(seq), prime(changed))\n",
    "\n",
    "#, \n",
    "#Iff(Iff(prime(changed), Bool(False)),\n",
    "#ForAll([i], And(i>=Int(0), i<n, Equals(Select(seq, i), Select(prime(seq), i))))))\n",
    "\n",
    "W = SAU(variables, pre, pos, cond, trans)\n",
    "W.unfold(8)"
   ]
  },
  {
   "cell_type": "code",
   "execution_count": null,
   "id": "8d181315-6575-462f-a6f7-75d4de1d6a0d",
   "metadata": {},
   "outputs": [
    {
     "name": "stdout",
     "output_type": "stream",
     "text": [
      "((seq[0] = -2) & (seq[1] = -2) & (seq[2] = -2) & (seq[3] = -2) & (seq[4] = -2) & (seq[5] = -2) & (seq[6] = -2) & (seq[7] = -3))\n",
      "falha: número de tentativas ultrapassa o limite 9 \n"
     ]
    }
   ],
   "source": [
    "store2 = And([Equals(Select(seq, Int(i)), Int(-2)) for i in range(N-1)] + [Equals(Select(seq, Int(7)), Int(-3))])\n",
    "pre  =  And(n>=Int(0), Iff(changed, Bool(True)), axioms, store2)\n",
    "W = SAU(variables, pre, pos, cond, trans)\n",
    "W.unfold(9)"
   ]
  },
  {
   "cell_type": "code",
   "execution_count": 33,
   "id": "c230c501-77d7-484b-9a17-f120c4c6f770",
   "metadata": {},
   "outputs": [
    {
     "name": "stdout",
     "output_type": "stream",
     "text": [
      "((seq[0] = -2) & (seq[1] = -2) & (seq[2] = -2) & (seq[3] = -2) & (seq[4] = -2) & (seq[5] = -2) & (seq[6] = -2) & (seq[7] = -2))\n",
      "falha: número de tentativas ultrapassa o limite 9 \n"
     ]
    }
   ],
   "source": [
    "store3 = And([Equals(Select(seq, Int(i)), Int(-2)) for i in range(N)])\n",
    "pre  =  And(n>=Int(0), Iff(changed, Bool(True)), axioms, store3)\n",
    "W = SAU(variables, pre, pos, cond, trans)\n",
    "W.unfold(9)"
   ]
  },
  {
   "cell_type": "code",
   "execution_count": 35,
   "id": "a4a560b2-645d-46a2-bf6f-a9bf04339e81",
   "metadata": {},
   "outputs": [
    {
     "name": "stdout",
     "output_type": "stream",
     "text": [
      "falha: número de tentativas ultrapassa o limite 9 \n"
     ]
    }
   ],
   "source": [
    "pre  =  And(n>=Int(0), Iff(changed, Bool(True)), axioms)\n",
    "W = SAU(variables, pre, pos, cond, trans)\n",
    "W.unfold(9)"
   ]
  },
  {
   "cell_type": "code",
   "execution_count": 37,
   "id": "33c1ca25-051c-473b-8360-0b613a3819ed",
   "metadata": {},
   "outputs": [
    {
     "name": "stdout",
     "output_type": "stream",
     "text": [
      "(seq_i1[2] = seq[2])\n",
      "(seq_i1[3] = seq[3])\n",
      "(seq_i1[4] = seq[4])\n",
      "(seq_i1[5] = seq[5])\n",
      "(seq_i1[6] = seq[6])\n",
      "(seq_i1[7] = seq[7])\n",
      "(seq_i1[0] = ((seq[0] < seq[(0 + 1)]) ? seq[0] : seq[(0 + 1)]))\n",
      "(seq_i1[(0 + 1)] = ((seq[(0 + 1)] < seq[0]) ? seq[0] : seq[(0 + 1)]))\n",
      "\n",
      "(seq_i2[0] = seq_i1[0])\n",
      "(seq_i2[3] = seq_i1[3])\n",
      "(seq_i2[4] = seq_i1[4])\n",
      "(seq_i2[5] = seq_i1[5])\n",
      "(seq_i2[6] = seq_i1[6])\n",
      "(seq_i2[7] = seq_i1[7])\n",
      "(seq_i2[1] = ((seq_i1[1] < seq_i1[(1 + 1)]) ? seq_i1[1] : seq_i1[(1 + 1)]))\n",
      "(seq_i2[(1 + 1)] = ((seq_i1[(1 + 1)] < seq_i1[1]) ? seq_i1[1] : seq_i1[(1 + 1)]))\n",
      "\n",
      "(seq_i3[0] = seq_i2[0])\n",
      "(seq_i3[1] = seq_i2[1])\n",
      "(seq_i3[4] = seq_i2[4])\n",
      "(seq_i3[5] = seq_i2[5])\n",
      "(seq_i3[6] = seq_i2[6])\n",
      "(seq_i3[7] = seq_i2[7])\n",
      "(seq_i3[2] = ((seq_i2[2] < seq_i2[(2 + 1)]) ? seq_i2[2] : seq_i2[(2 + 1)]))\n",
      "(seq_i3[(2 + 1)] = ((seq_i2[(2 + 1)] < seq_i2[2]) ? seq_i2[2] : seq_i2[(2 + 1)]))\n",
      "\n",
      "(seq_i4[0] = seq_i3[0])\n",
      "(seq_i4[1] = seq_i3[1])\n",
      "(seq_i4[2] = seq_i3[2])\n",
      "(seq_i4[5] = seq_i3[5])\n",
      "(seq_i4[6] = seq_i3[6])\n",
      "(seq_i4[7] = seq_i3[7])\n",
      "(seq_i4[3] = ((seq_i3[3] < seq_i3[(3 + 1)]) ? seq_i3[3] : seq_i3[(3 + 1)]))\n",
      "(seq_i4[(3 + 1)] = ((seq_i3[(3 + 1)] < seq_i3[3]) ? seq_i3[3] : seq_i3[(3 + 1)]))\n",
      "\n",
      "(seq_i5[0] = seq_i4[0])\n",
      "(seq_i5[1] = seq_i4[1])\n",
      "(seq_i5[2] = seq_i4[2])\n",
      "(seq_i5[3] = seq_i4[3])\n",
      "(seq_i5[6] = seq_i4[6])\n",
      "(seq_i5[7] = seq_i4[7])\n",
      "(seq_i5[4] = ((seq_i4[4] < seq_i4[(4 + 1)]) ? seq_i4[4] : seq_i4[(4 + 1)]))\n",
      "(seq_i5[(4 + 1)] = ((seq_i4[(4 + 1)] < seq_i4[4]) ? seq_i4[4] : seq_i4[(4 + 1)]))\n",
      "\n",
      "(seq_i6[0] = seq_i5[0])\n",
      "(seq_i6[1] = seq_i5[1])\n",
      "(seq_i6[2] = seq_i5[2])\n",
      "(seq_i6[3] = seq_i5[3])\n",
      "(seq_i6[4] = seq_i5[4])\n",
      "(seq_i6[7] = seq_i5[7])\n",
      "(seq_i6[5] = ((seq_i5[5] < seq_i5[(5 + 1)]) ? seq_i5[5] : seq_i5[(5 + 1)]))\n",
      "(seq_i6[(5 + 1)] = ((seq_i5[(5 + 1)] < seq_i5[5]) ? seq_i5[5] : seq_i5[(5 + 1)]))\n",
      "\n",
      "('next(seq)'[0] = seq_i6[0])\n",
      "('next(seq)'[1] = seq_i6[1])\n",
      "('next(seq)'[2] = seq_i6[2])\n",
      "('next(seq)'[3] = seq_i6[3])\n",
      "('next(seq)'[4] = seq_i6[4])\n",
      "('next(seq)'[5] = seq_i6[5])\n",
      "('next(seq)'[6] = ((seq_i6[6] < seq_i6[(6 + 1)]) ? seq_i6[6] : seq_i6[(6 + 1)]))\n",
      "('next(seq)'[(6 + 1)] = ((seq_i6[(6 + 1)] < seq_i6[6]) ? seq_i6[6] : seq_i6[(6 + 1)]))\n",
      "\n",
      "-2\n",
      "1\n",
      "2\n",
      "-1\n",
      "4\n",
      "-4\n",
      "-3\n",
      "3\n",
      "\n",
      "-2\n",
      "1\n",
      "-1\n",
      "2\n",
      "-4\n",
      "-3\n",
      "3\n",
      "4\n"
     ]
    }
   ],
   "source": []
  },
  {
   "cell_type": "code",
   "execution_count": 38,
   "id": "4a41d626-529b-4a35-a876-a57edd03ab94",
   "metadata": {},
   "outputs": [
    {
     "name": "stdout",
     "output_type": "stream",
     "text": [
      "(seq_i1[2] = seq[2])\n",
      "(seq_i1[3] = seq[3])\n",
      "(seq_i1[4] = seq[4])\n",
      "(seq_i1[5] = seq[5])\n",
      "(seq_i1[6] = seq[6])\n",
      "(seq_i1[7] = seq[7])\n",
      "(seq_i1[0] = ((seq[0] < seq[(0 + 1)]) ? seq[0] : seq[(0 + 1)]))\n",
      "(seq_i1[(0 + 1)] = ((seq[(0 + 1)] < seq[0]) ? seq[0] : seq[(0 + 1)]))\n",
      "\n",
      "(seq_i2[0] = seq_i1[0])\n",
      "(seq_i2[3] = seq_i1[3])\n",
      "(seq_i2[4] = seq_i1[4])\n",
      "(seq_i2[5] = seq_i1[5])\n",
      "(seq_i2[6] = seq_i1[6])\n",
      "(seq_i2[7] = seq_i1[7])\n",
      "(seq_i2[1] = ((seq_i1[1] < seq_i1[(1 + 1)]) ? seq_i1[1] : seq_i1[(1 + 1)]))\n",
      "(seq_i2[(1 + 1)] = ((seq_i1[(1 + 1)] < seq_i1[1]) ? seq_i1[1] : seq_i1[(1 + 1)]))\n",
      "\n",
      "(seq_i3[0] = seq_i2[0])\n",
      "(seq_i3[1] = seq_i2[1])\n",
      "(seq_i3[4] = seq_i2[4])\n",
      "(seq_i3[5] = seq_i2[5])\n",
      "(seq_i3[6] = seq_i2[6])\n",
      "(seq_i3[7] = seq_i2[7])\n",
      "(seq_i3[2] = ((seq_i2[2] < seq_i2[(2 + 1)]) ? seq_i2[2] : seq_i2[(2 + 1)]))\n",
      "(seq_i3[(2 + 1)] = ((seq_i2[(2 + 1)] < seq_i2[2]) ? seq_i2[2] : seq_i2[(2 + 1)]))\n",
      "\n",
      "(seq_i4[0] = seq_i3[0])\n",
      "(seq_i4[1] = seq_i3[1])\n",
      "(seq_i4[2] = seq_i3[2])\n",
      "(seq_i4[5] = seq_i3[5])\n",
      "(seq_i4[6] = seq_i3[6])\n",
      "(seq_i4[7] = seq_i3[7])\n",
      "(seq_i4[3] = ((seq_i3[3] < seq_i3[(3 + 1)]) ? seq_i3[3] : seq_i3[(3 + 1)]))\n",
      "(seq_i4[(3 + 1)] = ((seq_i3[(3 + 1)] < seq_i3[3]) ? seq_i3[3] : seq_i3[(3 + 1)]))\n",
      "\n",
      "(seq_i5[0] = seq_i4[0])\n",
      "(seq_i5[1] = seq_i4[1])\n",
      "(seq_i5[2] = seq_i4[2])\n",
      "(seq_i5[3] = seq_i4[3])\n",
      "(seq_i5[6] = seq_i4[6])\n",
      "(seq_i5[7] = seq_i4[7])\n",
      "(seq_i5[4] = ((seq_i4[4] < seq_i4[(4 + 1)]) ? seq_i4[4] : seq_i4[(4 + 1)]))\n",
      "(seq_i5[(4 + 1)] = ((seq_i4[(4 + 1)] < seq_i4[4]) ? seq_i4[4] : seq_i4[(4 + 1)]))\n",
      "\n",
      "(seq_i6[0] = seq_i5[0])\n",
      "(seq_i6[1] = seq_i5[1])\n",
      "(seq_i6[2] = seq_i5[2])\n",
      "(seq_i6[3] = seq_i5[3])\n",
      "(seq_i6[4] = seq_i5[4])\n",
      "(seq_i6[7] = seq_i5[7])\n",
      "(seq_i6[5] = ((seq_i5[5] < seq_i5[(5 + 1)]) ? seq_i5[5] : seq_i5[(5 + 1)]))\n",
      "(seq_i6[(5 + 1)] = ((seq_i5[(5 + 1)] < seq_i5[5]) ? seq_i5[5] : seq_i5[(5 + 1)]))\n",
      "\n",
      "('next(seq)'[0] = seq_i6[0])\n",
      "('next(seq)'[1] = seq_i6[1])\n",
      "('next(seq)'[2] = seq_i6[2])\n",
      "('next(seq)'[3] = seq_i6[3])\n",
      "('next(seq)'[4] = seq_i6[4])\n",
      "('next(seq)'[5] = seq_i6[5])\n",
      "('next(seq)'[6] = ((seq_i6[6] < seq_i6[(6 + 1)]) ? seq_i6[6] : seq_i6[(6 + 1)]))\n",
      "('next(seq)'[(6 + 1)] = ((seq_i6[(6 + 1)] < seq_i6[6]) ? seq_i6[6] : seq_i6[(6 + 1)]))\n",
      "\n",
      "sucesso na tentativa 2 \n"
     ]
    }
   ],
   "source": [
    "trans = trans_seq(seq,prime(seq),changed,prime(changed))\n",
    "pre  =  And(n>=Int(0), Iff(changed, Bool(True)), store1)  \n",
    "W = SAU(variables, pre, pos, cond, trans)\n",
    "W.unfold(8)"
   ]
  },
  {
   "cell_type": "code",
   "execution_count": 39,
   "id": "ca3e6162-fef3-4c15-b802-f3181d479536",
   "metadata": {},
   "outputs": [
    {
     "name": "stdout",
     "output_type": "stream",
     "text": [
      "sucesso na tentativa 2 \n"
     ]
    }
   ],
   "source": [
    "pre  =  And(n>=Int(0), Iff(changed, Bool(True)), store2)  \n",
    "W = SAU(variables, pre, pos, cond, trans)\n",
    "W.unfold(9)"
   ]
  },
  {
   "cell_type": "code",
   "execution_count": null,
   "id": "4d05ce2c-9c99-4858-ab76-0bbcd2187a40",
   "metadata": {},
   "outputs": [],
   "source": []
  }
 ],
 "metadata": {
  "kernelspec": {
   "display_name": "Python 3 (ipykernel)",
   "language": "python",
   "name": "python3"
  },
  "language_info": {
   "codemirror_mode": {
    "name": "ipython",
    "version": 3
   },
   "file_extension": ".py",
   "mimetype": "text/x-python",
   "name": "python",
   "nbconvert_exporter": "python",
   "pygments_lexer": "ipython3",
   "version": "3.9.12"
  }
 },
 "nbformat": 4,
 "nbformat_minor": 5
}
