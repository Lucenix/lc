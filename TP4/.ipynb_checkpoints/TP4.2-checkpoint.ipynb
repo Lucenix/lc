{
 "cells": [
  {
   "cell_type": "code",
   "execution_count": null,
   "id": "43941cca-a610-4dc1-b23a-82a72da4e3f5",
   "metadata": {},
   "outputs": [],
   "source": [
    "# TP4 - Grupo 14\n",
    "\n",
    "André Lucena Ribas Ferreira - A94956\n",
    "\n",
    "Paulo André Alegre Pinto - A97391"
   ]
  }
 ],
 "metadata": {
  "kernelspec": {
   "display_name": "Python 3 (ipykernel)",
   "language": "python",
   "name": "python3"
  },
  "language_info": {
   "codemirror_mode": {
    "name": "ipython",
    "version": 3
   },
   "file_extension": ".py",
   "mimetype": "text/x-python",
   "name": "python",
   "nbconvert_exporter": "python",
   "pygments_lexer": "ipython3",
   "version": "3.9.12"
  }
 },
 "nbformat": 4,
 "nbformat_minor": 5
}
