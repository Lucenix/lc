{
 "cells": [
  {
   "cell_type": "markdown",
   "id": "536d0c93-3b2e-43fd-b4e7-61de3a3800c5",
   "metadata": {},
   "source": [
    "# TP4 - Grupo 14\n",
    "\n",
    "André Lucena Ribas Ferreira - A94956\n",
    "\n",
    "Paulo André Alegre Pinto - A97391"
   ]
  },
  {
   "cell_type": "markdown",
   "id": "b49f5464-6962-4efe-a4da-8d6ee103bec1",
   "metadata": {},
   "source": [
    "# Enunciado do Problema 2\n",
    "\n",
    "O programa `Python` seguinte implementa o algoritmo de bubble sort para ordenação in situ de um array de inteiros `seq`."
   ]
  },
  {
   "cell_type": "code",
   "execution_count": 1,
   "id": "31a30c66-5fc2-4ce9-9d8b-7dcbee8eae83",
   "metadata": {},
   "outputs": [
    {
     "name": "stdout",
     "output_type": "stream",
     "text": [
      "[-4, -3, -2, -1, 1, 2, 3, 4]\n"
     ]
    }
   ],
   "source": [
    "seq = [-2,1,2,-1,4,-4,-3,3]\n",
    "changed = True\n",
    "while changed:\n",
    "    changed = False\n",
    "    for i in range(len(seq) - 1):\n",
    "        if seq[i] > seq[i+1]:\n",
    "            seq[i], seq[i+1] = seq[i+1], seq[i]\n",
    "            changed = True\n",
    "print(seq)"
   ]
  },
  {
   "cell_type": "markdown",
   "id": "0029d19b-716b-4f0b-b25c-7ac7b08e3224",
   "metadata": {},
   "source": [
    " 1. Defina a pré-condição e a pós-condição que descrevem a especificação deste algoritmo.\n",
    " 2. O ciclo `for` pode ser descrito por uma transição $\\,\\mathtt{seq}\\gets \\mathit{exp}(\\mathtt{seq})\\,$. Construa uma relação de transição $\\;\\mathsf{trans}(\\mathtt{seq},\\mathtt{seq}')\\,$ que modele esta atribuição.\n",
    " 3. Usando a técnica que lhe parecer mais conveniente verifique a correção do algoritmo."
   ]
  },
  {
   "cell_type": "markdown",
   "id": "02e18713-fb34-408c-9012-76030b023aa6",
   "metadata": {},
   "source": [
    "# Resolução"
   ]
  },
  {
   "cell_type": "markdown",
   "id": "6ca7ccb4-9167-49e4-9d31-f34ab74caab3",
   "metadata": {},
   "source": [
    "## 1. Pré-condição e pós-condição\n",
    "\n",
    "As condições definidas para a resolução do problema são as demonstradas a seguir. No entanto, devido à implementação do algoritmo SAU demonstrado na teoria, não se coloca a redundância da terminação da execução do ciclo na pós-condição durante a implementação."
   ]
  },
  {
   "cell_type": "markdown",
   "id": "75e51ec0-952a-4146-8b83-0b9dbb3ceefa",
   "metadata": {},
   "source": [
    "```python\n",
    "    Pré-Condição: assume n >= 0 and changed == True\n",
    "    Pós-Condução: assert forall j . 0 <= j < n-1 -> seq[j] <= seq[j+1] and changed == False\n",
    "```"
   ]
  },
  {
   "cell_type": "code",
   "execution_count": 2,
   "id": "782b5f44-2630-4299-bb1e-631306f2ac0a",
   "metadata": {},
   "outputs": [],
   "source": [
    "from pysmt.shortcuts import *\n",
    "from pysmt.typing import *"
   ]
  },
  {
   "cell_type": "markdown",
   "id": "4ee0e352-44e1-420c-9a4c-fe2810162cee",
   "metadata": {},
   "source": [
    "De seguida, definem-se as variáveis usadas no problema."
   ]
  },
  {
   "cell_type": "code",
   "execution_count": 3,
   "id": "da2b51e2-f894-4df1-bc57-027975118145",
   "metadata": {},
   "outputs": [],
   "source": [
    "N = 8\n",
    "n = Int(N)\n",
    "i = Symbol('i', INT)\n",
    "seq = Symbol('seq', ArrayType(INT, INT))\n",
    "changed = Symbol('changed', BOOL)\n",
    "f = Symbol('f', FunctionType(INT,[INT]))"
   ]
  },
  {
   "cell_type": "markdown",
   "id": "7c09b665-7f0a-44ab-99d5-0f71a5a7876a",
   "metadata": {},
   "source": [
    "A função `prove(g)` recebe um predicado e testa se é possível prová-lo para todo o traço de execução. Esta função é utilizada como auxiliar para testar a funcionalidade das implementações."
   ]
  },
  {
   "cell_type": "code",
   "execution_count": 4,
   "id": "f1d429ab-0216-4df2-8488-257589c44724",
   "metadata": {},
   "outputs": [],
   "source": [
    "def prove(g):\n",
    "    with Solver(name=\"z3\") as s:\n",
    "        s.add_assertion(Not(g))\n",
    "        if s.solve():\n",
    "            print(\"Failed to prove.\")\n",
    "            for inc in range(N):\n",
    "                print(s.get_value(Select(seq, Int(inc))))\n",
    "            for inc in range(N):\n",
    "                x = f(Int(inc))\n",
    "                print(\"f\", s.get_value(x))\n",
    "                #print(\"f\", s.get_value())\n",
    "        else:\n",
    "            print(\"Proved.\")"
   ]
  },
  {
   "cell_type": "markdown",
   "id": "39e30e1e-2263-4ae8-910e-1ec99dd9cfd5",
   "metadata": {},
   "source": [
    "As seguintes funções são funções auxiliares à manipulação das variáveis da execução por parte do algoritmo SAU."
   ]
  },
  {
   "cell_type": "code",
   "execution_count": 5,
   "id": "ea39fd39-08bc-4e85-9555-0864d3816f40",
   "metadata": {},
   "outputs": [],
   "source": [
    "def prime(v):\n",
    "    return Symbol(\"next(%s)\" % v.symbol_name(), v.symbol_type())\n",
    "def fresh(v):\n",
    "    return FreshSymbol(typename=v.symbol_type(),template=v.symbol_name()+\"_%d\")"
   ]
  },
  {
   "cell_type": "markdown",
   "id": "78afecfd-1369-4a51-afb3-0ce58eb66213",
   "metadata": {},
   "source": [
    "## 2. Definição da transição"
   ]
  },
  {
   "cell_type": "markdown",
   "id": "f0312f51-7515-4dc1-8bb7-90e1fbf631fd",
   "metadata": {},
   "source": [
    "### Transição com passos intermédios"
   ]
  },
  {
   "cell_type": "markdown",
   "id": "8917a171-6d4e-4eab-b004-7fd7adbd39e8",
   "metadata": {},
   "source": [
    "A seguinte função `trans_seq`, auxiliada pela função `aux`, serve para realizar a transição entre $seq$ e $seq´$. Para tal, criam-se *Arrays* intermédios onde se executam as atribuições, par a par de valores."
   ]
  },
  {
   "cell_type": "code",
   "execution_count": 6,
   "id": "d1b61c92-25b3-43b0-9000-30426864fe17",
   "metadata": {},
   "outputs": [],
   "source": [
    "def aux(c,p,I):\n",
    "    i = Int(I)\n",
    "    l = list()\n",
    "    for n in range(N):\n",
    "        if n != I and n != I+1:\n",
    "            l.append(Equals(Select(p,Int(n)), Select(c,Int(n))))\n",
    "    \n",
    "    l.append(Equals(Select(p, i), Ite(Select(c,i) < Select(c, i+Int(1)), Select(c,i), Select(c, i+Int(1))))) \n",
    "    l.append(Equals(Select(p, i+Int(1)), Ite(Select(c,i) > Select(c, i+Int(1)), Select(c,i), Select(c, i+Int(1))))) \n",
    "    \n",
    "    return And(l)\n",
    "    \n",
    "\n",
    "def trans_seq(seq,seq_p,changed,changed_p):\n",
    "    seqlist = []\n",
    "    seqlist.append(seq)\n",
    "    for i in range(N-2):\n",
    "        seqlist.append(Symbol('seq' + str(i), ArrayType(INT,INT)))\n",
    "    seqlist.append(seq_p)\n",
    "    troca = Iff(Iff(changed_p, Bool(False)), Equals(seq,seq_p))\n",
    "        \n",
    "    return And(And([aux(seqlist[i],seqlist[i+1],i) for i in range(N-1)]),troca)"
   ]
  },
  {
   "cell_type": "code",
   "execution_count": 7,
   "id": "c9fccd3d-0779-4689-a1e0-2c9c5cdfa804",
   "metadata": {},
   "outputs": [],
   "source": [
    "def test_solver(conditions):\n",
    "    with Solver(name=\"z3\") as s:\n",
    "        if s.solve(conditions):\n",
    "            for inc in range(N):\n",
    "                print(s.get_value(Select(seq, Int(inc))))\n",
    "            print()\n",
    "            for inc in range(N):\n",
    "                print(s.get_value(Select(prime(seq), Int(inc))))\n",
    "        else:\n",
    "            print(\"Unsat\")"
   ]
  },
  {
   "cell_type": "code",
   "execution_count": 8,
   "id": "f787efe7-0e78-45b9-b12d-2e21b3a4cbd9",
   "metadata": {},
   "outputs": [
    {
     "name": "stdout",
     "output_type": "stream",
     "text": [
      "-2\n",
      "1\n",
      "2\n",
      "-1\n",
      "4\n",
      "-4\n",
      "-3\n",
      "3\n",
      "\n",
      "-2\n",
      "1\n",
      "-1\n",
      "2\n",
      "-4\n",
      "-3\n",
      "3\n",
      "4\n"
     ]
    }
   ],
   "source": [
    "#Função Store não faz o pretendido\n",
    "store1 = And(Equals(Select(seq, Int(0)), Int(-2) ),\n",
    "            Equals(Select(seq, Int(1)), Int(1)  ),\n",
    "            Equals(Select(seq, Int(2)), Int(2)  ),\n",
    "            Equals(Select(seq, Int(3)), Int(-1) ),\n",
    "            Equals(Select(seq, Int(4)), Int(4)  ),\n",
    "            Equals(Select(seq, Int(5)), Int(-4) ),\n",
    "            Equals(Select(seq, Int(6)), Int(-3) ),\n",
    "            Equals(Select(seq, Int(7)), Int(3)  ))\n",
    "\n",
    "pre  =  And(n>=Int(0), Iff(changed, Bool(True)), store1)  \n",
    "test_solver([pre, trans_seq(seq,prime(seq),changed,prime(changed))])"
   ]
  },
  {
   "cell_type": "markdown",
   "id": "a06f3af8-01c3-431c-bb2f-966fdb12ca68",
   "metadata": {},
   "source": [
    "### Transição através de função recursiva"
   ]
  },
  {
   "cell_type": "markdown",
   "id": "37ae82e8-3d46-469d-ac1b-4c9eb7038f77",
   "metadata": {},
   "source": [
    "A função `for_cycle` serve como função de transição tendo em consideração a atribuição a cada uma das entradas do array. Para cada entrada $0 \\leq i<n-1$ `seq[i]` atribui-se o menor dos valores entre `seq[i+1]` e o máximo valor de todos os `seq[j]`, para $0 \\leq j<i$.\n",
    "\n",
    "Para tal, definiu-se uma função recursiva `f` que calcula o máximo dos valores até então:\n",
    "\n",
    "$$\n",
    "\\begin{array}{l}\n",
    "{\\sf f} (0) = seq[0] \\\\\n",
    "\\forall i . \\, 0 < i < n \\to {\\sf f}(i) = max(seq[i], f(i-1))\n",
    "\\end{array}\n",
    "$$"
   ]
  },
  {
   "cell_type": "code",
   "execution_count": 9,
   "id": "0a3239cb-8013-4428-84d9-410794a42715",
   "metadata": {},
   "outputs": [],
   "source": [
    "ax1 = Equals(f(Int(0)), Select(seq, Int(0)))\n",
    "ax2 = ForAll([i], Implies(And(i>Int(0), i<n), \n",
    "                          Equals(f(i), \n",
    "                                 Ite(Select(seq,i) >= f(i-Int(1)), \n",
    "                                     Select(seq,i), f(i-Int(1))))))\n",
    "axioms = And(ax1,ax2)"
   ]
  },
  {
   "cell_type": "markdown",
   "id": "294f4c5d-f677-4399-b94b-19f35b130f4d",
   "metadata": {},
   "source": [
    "No seguinte exemplo nota-se no funcionamento do cálculo do máximo."
   ]
  },
  {
   "cell_type": "code",
   "execution_count": 10,
   "id": "1720f8db-43f0-4d35-9615-490691b3503b",
   "metadata": {},
   "outputs": [
    {
     "name": "stdout",
     "output_type": "stream",
     "text": [
      "Proved.\n",
      "Proved.\n",
      "Failed to prove.\n",
      "-2\n",
      "1\n",
      "2\n",
      "-1\n",
      "4\n",
      "-4\n",
      "-3\n",
      "3\n",
      "f -2\n",
      "f 1\n",
      "f 2\n",
      "f 2\n",
      "f 4\n",
      "f 4\n",
      "f 4\n",
      "f 4\n"
     ]
    }
   ],
   "source": [
    "prove(Implies(And(axioms, store1), Equals(f(Int(1)), Int(1))))\n",
    "prove(Implies(And(axioms, store1), Equals(f(Int(5)), Int(4))))\n",
    "prove(Implies(And(axioms, store1), Equals(f(Int(5)), Int(1))))"
   ]
  },
  {
   "cell_type": "markdown",
   "id": "32e6c8ec-3ca2-41ac-a684-56fb488375f7",
   "metadata": {},
   "source": [
    "Por fim, a seguinte função calcula o predicado que transforma `seq` em `seq'`. Também tem em consideração a mudança do `changed` durante a sua execução, alterando-o se e só se o array se manteve igual."
   ]
  },
  {
   "cell_type": "code",
   "execution_count": 11,
   "id": "2dad14e6-21f6-4894-9ad0-ea714116175e",
   "metadata": {},
   "outputs": [],
   "source": [
    "def for_cycle(c, p, changed_p):\n",
    "    indutivo = ForAll([i], Implies(And(i<n-Int(1), i>=Int(0)), \n",
    "                                   Equals(Select(p,i), \n",
    "                                          Ite(Select(c, i+Int(1)) <= f(i), \n",
    "                                              Select(c, i+Int(1)), f(i)))))\n",
    "    \n",
    "    final = Equals(Select(p, n - Int(1)), f(n - Int(1)))\n",
    "    \n",
    "    troca = Iff(Iff(changed, Bool(False)), Equals(c,p))\n",
    "    \n",
    "    return And(axioms, indutivo, troca, final)"
   ]
  },
  {
   "cell_type": "code",
   "execution_count": 12,
   "id": "8e230ee6-908c-4e9d-ad5b-b883e6063d96",
   "metadata": {},
   "outputs": [
    {
     "name": "stdout",
     "output_type": "stream",
     "text": [
      "-2\n",
      "1\n",
      "2\n",
      "-1\n",
      "4\n",
      "-4\n",
      "-3\n",
      "3\n",
      "\n",
      "-2\n",
      "1\n",
      "-1\n",
      "2\n",
      "-4\n",
      "-3\n",
      "3\n",
      "4\n"
     ]
    }
   ],
   "source": [
    "pre  =  And(n>=Int(0), Iff(changed, Bool(True)), axioms, store1)\n",
    "t = for_cycle(seq,prime(seq),prime(changed))\n",
    "test_solver([t, pre])"
   ]
  },
  {
   "cell_type": "markdown",
   "id": "39fd9a21-47d6-49e1-a7e7-e896ea22b563",
   "metadata": {},
   "source": [
    "No entanto, a solução não é forte o suficiente para restringir a execução única e simplesmente aos traços conseguidos a partir da execução da tentativa de descrição do ciclo."
   ]
  },
  {
   "cell_type": "code",
   "execution_count": 13,
   "id": "2b9e5a3c-7431-4931-8ddd-e88d6f9f5116",
   "metadata": {},
   "outputs": [
    {
     "name": "stdout",
     "output_type": "stream",
     "text": [
      "-2\n",
      "1\n",
      "2\n",
      "-1\n",
      "4\n",
      "-4\n",
      "-3\n",
      "3\n",
      "\n",
      "9\n",
      "9\n",
      "9\n",
      "9\n",
      "9\n",
      "9\n",
      "9\n",
      "9\n"
     ]
    }
   ],
   "source": [
    "test_solver([Not(t), pre])"
   ]
  },
  {
   "cell_type": "markdown",
   "id": "21256320-880c-45f3-8e6b-839874b2bfe7",
   "metadata": {},
   "source": [
    "## 3. SAU para correção do algoritmo"
   ]
  },
  {
   "cell_type": "markdown",
   "id": "959877bf-c4e2-4dc1-aff6-5baf5c14c4bd",
   "metadata": {},
   "source": [
    "A seguinte classe é retirada da teoria para auxiliar na perspetiva de correção do algoritmo. No entanto, nenhuma das soluções acima descritas consegue resolver o problema segundo a sua implementação específica. Em comentário encontram-se testes de leitura das execuções conseguidas."
   ]
  },
  {
   "cell_type": "code",
   "execution_count": 14,
   "id": "a420beb6-01b6-474d-8672-e71777a27e32",
   "metadata": {},
   "outputs": [],
   "source": [
    "# A classe \"Sigle Assignment Unfold\"\n",
    "class SAU(object):\n",
    "    \"\"\"Trivial representation of a while cycle and its unfolding.\"\"\"\n",
    "    def __init__(self, variables, pre , pos, control, trans, sname=\"z3\"):\n",
    "              \n",
    "        self.variables = variables       # variables   \n",
    "        self.pre = pre                   # pre-condition as a predicate in \"variables\"\n",
    "        self.pos = pos                   # pos-condition as a predicate in \"variables\"\n",
    "        self.control = control           # cycle control as a predicate in \"variables\"\n",
    "        self.trans = trans               # cycle body as a binary transition relation \n",
    "                                         # in \"variables\" and \"prime variables\"\n",
    "        \n",
    "        self.prime_variables = [prime(v) for v in self.variables]\n",
    "        self.frames = [And([Not(control),pos])]  \n",
    "                 # inializa com uma só frame: a da terminação do ciclo\n",
    "        \n",
    "        self.solver = Solver(name=sname)\n",
    "        self.fresh = []\n",
    "\n",
    "    def new_frame(self):        \n",
    "        freshs = [fresh(v) for v in self.variables]    \n",
    "        b = self.control\n",
    "        S = self.trans.substitute(dict(zip(self.prime_variables,freshs)))\n",
    "        W = self.frames[-1].substitute(dict(zip(self.variables,freshs)))\n",
    "        self.frames.append(And([b , ForAll(freshs, Implies(S, W))]))\n",
    "        self.fresh += freshs\n",
    "        \n",
    "    def unfold(self,bound=0):\n",
    "        n = 0\n",
    "        while True:\n",
    "            if n > bound:\n",
    "                print(\"falha: número de tentativas ultrapassa o limite %d \"%bound)\n",
    "                break\n",
    "            \n",
    "            f = Or(self.frames)               \n",
    "            if self.solver.solve([self.pre,Not(f)]):\n",
    "                \"\"\"print(self.solver.get_value(changed))\n",
    "                print(\"seq:\")\n",
    "                for inc in range(N):\n",
    "                    print(self.solver.get_value(Select(seq, Int(inc))))\n",
    "                print(\"freshs:\")\n",
    "                for v in self.fresh:\n",
    "                    if str(v.symbol_type()) == \"Array{Int, Int}\":\n",
    "                        for inc in range(N):\n",
    "                            print(v.symbol_name(), inc, \":\", self.solver.get_value(Select(v, Int(inc))))\n",
    "                    else:\n",
    "                        print(v.symbol_name(),\":\", self.solver.get_value(v))\n",
    "                print(\"end frame\")\"\"\"\n",
    "                self.new_frame()\n",
    "                n += 1\n",
    "            else:\n",
    "                print(\"sucesso na tentativa %d \"%n)\n",
    "                break   "
   ]
  },
  {
   "cell_type": "markdown",
   "id": "9c3eb59c-2c1d-45f3-b192-922d1428a651",
   "metadata": {},
   "source": [
    "Define-se, de seguida, as variáveis da execução, tal como casos de estudo específicos."
   ]
  },
  {
   "cell_type": "code",
   "execution_count": 15,
   "id": "964ca35a-302e-4228-994f-b1959a1a9ffa",
   "metadata": {},
   "outputs": [],
   "source": [
    "variables = [changed, seq]\n",
    "\n",
    "store2 = And([Equals(Select(seq, Int(i)), Int(-2)) for i in range(N-1)] \n",
    "             + [Equals(Select(seq, Int(7)), Int(-3))])\n",
    "store3 = And([Equals(Select(seq, Int(i)), Int(-2)) for i in range(N)])"
   ]
  },
  {
   "cell_type": "markdown",
   "id": "87059b3e-7138-4819-9741-357d17c28101",
   "metadata": {},
   "source": [
    "Também se definem os predicados necessários, nas variáveis correspondentes, para a codificação das pré- e pós-condições, tal como da relação de transição e da condição de ciclo.\n",
    "\n",
    "A solução que utiliza a função recursiva não é capaz de chegar a uma conclusão positiva sobre a ordenação do array, em nenhum dos casos testados."
   ]
  },
  {
   "cell_type": "code",
   "execution_count": 16,
   "id": "32e4a11b-2e80-4600-ac7a-5ef4b7aaf9ac",
   "metadata": {},
   "outputs": [
    {
     "name": "stdout",
     "output_type": "stream",
     "text": [
      "falha: número de tentativas ultrapassa o limite 8 \n"
     ]
    }
   ],
   "source": [
    "pre   =  And(n>=Int(0), Iff(changed, Bool(True)), axioms, store1)  \n",
    "pos   =  And(ForAll([i], Implies(And(i>=0, i<n-1), Select(seq, i) <= Select(seq, i+1))))\n",
    "cond  =  Iff(changed, Bool(True))               # condição de controlo do ciclo\n",
    "trans =  for_cycle(seq, prime(seq), prime(changed))\n",
    "\n",
    "W = SAU(variables, pre, pos, cond, trans)\n",
    "W.unfold(8)"
   ]
  },
  {
   "cell_type": "code",
   "execution_count": 17,
   "id": "8d181315-6575-462f-a6f7-75d4de1d6a0d",
   "metadata": {},
   "outputs": [
    {
     "name": "stdout",
     "output_type": "stream",
     "text": [
      "falha: número de tentativas ultrapassa o limite 8 \n"
     ]
    }
   ],
   "source": [
    "pre  =  And(n>=Int(0), Iff(changed, Bool(True)), axioms, store2)\n",
    "W = SAU(variables, pre, pos, cond, trans)\n",
    "W.unfold(8)"
   ]
  },
  {
   "cell_type": "code",
   "execution_count": 18,
   "id": "c230c501-77d7-484b-9a17-f120c4c6f770",
   "metadata": {},
   "outputs": [
    {
     "name": "stdout",
     "output_type": "stream",
     "text": [
      "falha: número de tentativas ultrapassa o limite 8 \n"
     ]
    }
   ],
   "source": [
    "pre  =  And(n>=Int(0), Iff(changed, Bool(True)), axioms, store3)\n",
    "W = SAU(variables, pre, pos, cond, trans)\n",
    "W.unfold(8)"
   ]
  },
  {
   "cell_type": "code",
   "execution_count": 19,
   "id": "a4a560b2-645d-46a2-bf6f-a9bf04339e81",
   "metadata": {},
   "outputs": [
    {
     "name": "stdout",
     "output_type": "stream",
     "text": [
      "falha: número de tentativas ultrapassa o limite 8 \n"
     ]
    }
   ],
   "source": [
    "pre  =  And(n>=Int(0), Iff(changed, Bool(True)), axioms)\n",
    "W = SAU(variables, pre, pos, cond, trans)\n",
    "W.unfold(8)"
   ]
  },
  {
   "cell_type": "markdown",
   "id": "31174b95-bae1-4b7c-b392-468e66d42e3e",
   "metadata": {},
   "source": [
    "A solução que utiliza arrays intermédias tem o problema contrário: considera sucessos em tentativas menores do que aquelas que é suposto."
   ]
  },
  {
   "cell_type": "code",
   "execution_count": 20,
   "id": "4a41d626-529b-4a35-a876-a57edd03ab94",
   "metadata": {},
   "outputs": [
    {
     "name": "stdout",
     "output_type": "stream",
     "text": [
      "sucesso na tentativa 2 \n"
     ]
    }
   ],
   "source": [
    "trans = trans_seq(seq,prime(seq),changed,prime(changed))\n",
    "pre  =  And(n>=Int(0), Iff(changed, Bool(True)), store1)  \n",
    "W = SAU(variables, pre, pos, cond, trans)\n",
    "W.unfold(8)"
   ]
  },
  {
   "cell_type": "code",
   "execution_count": 21,
   "id": "ca3e6162-fef3-4c15-b802-f3181d479536",
   "metadata": {},
   "outputs": [
    {
     "name": "stdout",
     "output_type": "stream",
     "text": [
      "sucesso na tentativa 2 \n"
     ]
    }
   ],
   "source": [
    "pre  =  And(n>=Int(0), Iff(changed, Bool(True)), store2)  \n",
    "W = SAU(variables, pre, pos, cond, trans)\n",
    "W.unfold(9)"
   ]
  },
  {
   "cell_type": "markdown",
   "id": "3ca218f0-6df6-40df-aa9b-bf28b8a8eb0d",
   "metadata": {},
   "source": [
    "### Propostas de Resolução\n",
    "\n",
    "Cremos que o problema limitante foi a não compreensão total do algoritmo SAU, o único que permitia a resolução deste exercício sem uso de invariante.\n",
    "Nenhuma das funções de transição definidas conseguiu utilizar corretamente a sua implementação para gerar traços corretos de execução do ciclo. \n",
    "\n",
    "No caso da implementação com função recursiva, a questão de como manter os axiomas funcionais e sempre verdadeiros, tal como limitações encontradas ao longo dos testes quando usadas funções com mais que um argumento, nomeadamente problemas com os tamanhos dos arrays (como definir o tamanho do array como variáveil do Solver?) e apenas conseguir provar os casos com execução verdadeira da propriedade testada, o que é o caso menos recorrente na implementação do SAU, impediu a progressão para a resolução plena do exercício.\n"
   ]
  },
  {
   "cell_type": "code",
   "execution_count": 22,
   "id": "70667e12-1518-4230-a239-de37f8f3a83a",
   "metadata": {},
   "outputs": [],
   "source": [
    "f2 = Symbol('f2', FunctionType(INT,[INT, INT]))\n",
    "size = Symbol('size', INT)\n",
    "ax1 = ForAll([size], Equals(f2(Int(0), size), Select(seq, Int(0))))\n",
    "ax2 = ForAll([i, size], Implies(And(i>Int(0), i<size), \n",
    "                                Equals(f2(i, size), \n",
    "                                       Ite(Select(seq,i) >= f2(i-Int(1), size), \n",
    "                                           Select(seq,i), f2(i-Int(1), size)))))\n",
    "axioms = And(ax1,ax2)"
   ]
  },
  {
   "cell_type": "code",
   "execution_count": 23,
   "id": "be8203f7-5309-4766-b829-7a3f9f3abcca",
   "metadata": {},
   "outputs": [
    {
     "name": "stdout",
     "output_type": "stream",
     "text": [
      "Proved.\n",
      "Proved.\n"
     ]
    },
    {
     "ename": "SolverReturnedUnknownResultError",
     "evalue": "",
     "output_type": "error",
     "traceback": [
      "\u001b[1;31m---------------------------------------------------------------------------\u001b[0m",
      "\u001b[1;31mSolverReturnedUnknownResultError\u001b[0m          Traceback (most recent call last)",
      "Input \u001b[1;32mIn [23]\u001b[0m, in \u001b[0;36m<cell line: 4>\u001b[1;34m()\u001b[0m\n\u001b[0;32m      2\u001b[0m prove(Implies(And(axioms, store1), Equals(f2(Int(\u001b[38;5;241m1\u001b[39m), size), Int(\u001b[38;5;241m1\u001b[39m))))\n\u001b[0;32m      3\u001b[0m prove(Implies(And(axioms, store1), Equals(f2(Int(\u001b[38;5;241m5\u001b[39m), size), Int(\u001b[38;5;241m4\u001b[39m))))\n\u001b[1;32m----> 4\u001b[0m \u001b[43mprove\u001b[49m\u001b[43m(\u001b[49m\u001b[43mImplies\u001b[49m\u001b[43m(\u001b[49m\u001b[43mAnd\u001b[49m\u001b[43m(\u001b[49m\u001b[43maxioms\u001b[49m\u001b[43m,\u001b[49m\u001b[43m \u001b[49m\u001b[43mstore1\u001b[49m\u001b[43m)\u001b[49m\u001b[43m,\u001b[49m\u001b[43m \u001b[49m\u001b[43mEquals\u001b[49m\u001b[43m(\u001b[49m\u001b[43mf2\u001b[49m\u001b[43m(\u001b[49m\u001b[43mInt\u001b[49m\u001b[43m(\u001b[49m\u001b[38;5;241;43m5\u001b[39;49m\u001b[43m)\u001b[49m\u001b[43m,\u001b[49m\u001b[43m \u001b[49m\u001b[43msize\u001b[49m\u001b[43m)\u001b[49m\u001b[43m,\u001b[49m\u001b[43m \u001b[49m\u001b[43mInt\u001b[49m\u001b[43m(\u001b[49m\u001b[38;5;241;43m1\u001b[39;49m\u001b[43m)\u001b[49m\u001b[43m)\u001b[49m\u001b[43m)\u001b[49m\u001b[43m)\u001b[49m\n",
      "Input \u001b[1;32mIn [4]\u001b[0m, in \u001b[0;36mprove\u001b[1;34m(g)\u001b[0m\n\u001b[0;32m      2\u001b[0m \u001b[38;5;28;01mwith\u001b[39;00m Solver(name\u001b[38;5;241m=\u001b[39m\u001b[38;5;124m\"\u001b[39m\u001b[38;5;124mz3\u001b[39m\u001b[38;5;124m\"\u001b[39m) \u001b[38;5;28;01mas\u001b[39;00m s:\n\u001b[0;32m      3\u001b[0m     s\u001b[38;5;241m.\u001b[39madd_assertion(Not(g))\n\u001b[1;32m----> 4\u001b[0m     \u001b[38;5;28;01mif\u001b[39;00m \u001b[43ms\u001b[49m\u001b[38;5;241;43m.\u001b[39;49m\u001b[43msolve\u001b[49m\u001b[43m(\u001b[49m\u001b[43m)\u001b[49m:\n\u001b[0;32m      5\u001b[0m         \u001b[38;5;28mprint\u001b[39m(\u001b[38;5;124m\"\u001b[39m\u001b[38;5;124mFailed to prove.\u001b[39m\u001b[38;5;124m\"\u001b[39m)\n\u001b[0;32m      6\u001b[0m         \u001b[38;5;28;01mfor\u001b[39;00m inc \u001b[38;5;129;01min\u001b[39;00m \u001b[38;5;28mrange\u001b[39m(N):\n",
      "File \u001b[1;32mD:\\Programs\\Anaconda\\lib\\site-packages\\pysmt\\solvers\\solver.py:359\u001b[0m, in \u001b[0;36mIncrementalTrackingSolver.solve\u001b[1;34m(self, assumptions)\u001b[0m\n\u001b[0;32m    357\u001b[0m \u001b[38;5;28;01mdef\u001b[39;00m \u001b[38;5;21msolve\u001b[39m(\u001b[38;5;28mself\u001b[39m, assumptions\u001b[38;5;241m=\u001b[39m\u001b[38;5;28;01mNone\u001b[39;00m):\n\u001b[0;32m    358\u001b[0m     \u001b[38;5;28;01mtry\u001b[39;00m:\n\u001b[1;32m--> 359\u001b[0m         res \u001b[38;5;241m=\u001b[39m \u001b[38;5;28;43mself\u001b[39;49m\u001b[38;5;241;43m.\u001b[39;49m\u001b[43m_solve\u001b[49m\u001b[43m(\u001b[49m\u001b[43massumptions\u001b[49m\u001b[38;5;241;43m=\u001b[39;49m\u001b[43massumptions\u001b[49m\u001b[43m)\u001b[49m\n\u001b[0;32m    360\u001b[0m         \u001b[38;5;28mself\u001b[39m\u001b[38;5;241m.\u001b[39m_last_result \u001b[38;5;241m=\u001b[39m res\n\u001b[0;32m    361\u001b[0m         \u001b[38;5;28;01mreturn\u001b[39;00m res\n",
      "File \u001b[1;32mD:\\Programs\\Anaconda\\lib\\site-packages\\pysmt\\decorators.py:64\u001b[0m, in \u001b[0;36mclear_pending_pop.<locals>.clear_pending_pop_wrap\u001b[1;34m(self, *args, **kwargs)\u001b[0m\n\u001b[0;32m     62\u001b[0m     \u001b[38;5;28mself\u001b[39m\u001b[38;5;241m.\u001b[39mpending_pop \u001b[38;5;241m=\u001b[39m \u001b[38;5;28;01mFalse\u001b[39;00m\n\u001b[0;32m     63\u001b[0m     \u001b[38;5;28mself\u001b[39m\u001b[38;5;241m.\u001b[39mpop()\n\u001b[1;32m---> 64\u001b[0m \u001b[38;5;28;01mreturn\u001b[39;00m f(\u001b[38;5;28mself\u001b[39m, \u001b[38;5;241m*\u001b[39margs, \u001b[38;5;241m*\u001b[39m\u001b[38;5;241m*\u001b[39mkwargs)\n",
      "File \u001b[1;32mD:\\Programs\\Anaconda\\lib\\site-packages\\pysmt\\solvers\\z3.py:218\u001b[0m, in \u001b[0;36mZ3Solver._solve\u001b[1;34m(self, assumptions)\u001b[0m\n\u001b[0;32m    216\u001b[0m \u001b[38;5;28;01massert\u001b[39;00m sres \u001b[38;5;129;01min\u001b[39;00m [\u001b[38;5;124m'\u001b[39m\u001b[38;5;124munknown\u001b[39m\u001b[38;5;124m'\u001b[39m, \u001b[38;5;124m'\u001b[39m\u001b[38;5;124msat\u001b[39m\u001b[38;5;124m'\u001b[39m, \u001b[38;5;124m'\u001b[39m\u001b[38;5;124munsat\u001b[39m\u001b[38;5;124m'\u001b[39m]\n\u001b[0;32m    217\u001b[0m \u001b[38;5;28;01mif\u001b[39;00m sres \u001b[38;5;241m==\u001b[39m \u001b[38;5;124m'\u001b[39m\u001b[38;5;124munknown\u001b[39m\u001b[38;5;124m'\u001b[39m:\n\u001b[1;32m--> 218\u001b[0m     \u001b[38;5;28;01mraise\u001b[39;00m SolverReturnedUnknownResultError\n\u001b[0;32m    219\u001b[0m \u001b[38;5;28;01mreturn\u001b[39;00m (sres \u001b[38;5;241m==\u001b[39m \u001b[38;5;124m'\u001b[39m\u001b[38;5;124msat\u001b[39m\u001b[38;5;124m'\u001b[39m)\n",
      "\u001b[1;31mSolverReturnedUnknownResultError\u001b[0m: "
     ]
    }
   ],
   "source": [
    "size = Int(8)\n",
    "prove(Implies(And(axioms, store1), Equals(f2(Int(1), size), Int(1))))\n",
    "prove(Implies(And(axioms, store1), Equals(f2(Int(5), size), Int(4))))\n",
    "prove(Implies(And(axioms, store1), Equals(f2(Int(5), size), Int(1))))"
   ]
  },
  {
   "cell_type": "markdown",
   "id": "1ea995e0-0cdf-4271-871c-f9753604fc1c",
   "metadata": {},
   "source": [
    "Também se testou devolver uma implicação na função `for_cycle`, para melhor modelar o comportamento desejado, mas descobriu-se que a função de SAU já tem em conta estas implicações para uma execução correta."
   ]
  },
  {
   "cell_type": "code",
   "execution_count": 24,
   "id": "d1205659-8832-45c6-bfe8-83ee1f586740",
   "metadata": {},
   "outputs": [],
   "source": [
    "def for_cycle_implies(c, p, changed_p):\n",
    "    indutivo = ForAll([i], Implies(And(i<n-Int(1), i>=Int(0)), \n",
    "                                   Equals(Select(p,i), \n",
    "                                          Ite(Select(c, i+Int(1)) <= f(i), \n",
    "                                              Select(c, i+Int(1)), f(i)))))\n",
    "    \n",
    "    final = Equals(Select(p, n - Int(1)), f(n - Int(1)))\n",
    "    \n",
    "    troca = Iff(Iff(changed, Bool(False)), Equals(c,p))\n",
    "    \n",
    "    return Implies(axioms, And(indutivo, troca, final))"
   ]
  },
  {
   "cell_type": "code",
   "execution_count": 25,
   "id": "d45aadcf-c166-45d3-8d92-b6c01d371a6a",
   "metadata": {},
   "outputs": [
    {
     "name": "stdout",
     "output_type": "stream",
     "text": [
      "falha: número de tentativas ultrapassa o limite 8 \n"
     ]
    }
   ],
   "source": [
    "trans =  for_cycle_implies(seq, prime(seq), prime(changed))\n",
    "\n",
    "W = SAU(variables, pre, pos, cond, trans)\n",
    "W.unfold(8)"
   ]
  },
  {
   "cell_type": "markdown",
   "id": "6b576a0f-297f-4e27-ace9-740d209c6ab6",
   "metadata": {},
   "source": [
    "Por fim, a implementação da variável `changed` para modelação completamente correta do ciclo deve ter sido o maior erro cometido na implementação, já que dependendo do tratamento do resto das condições, o comportamento da variável dentro da execução do SAU varia imenso."
   ]
  },
  {
   "cell_type": "code",
   "execution_count": null,
   "id": "cb52d194-af48-44e2-8091-2c9c7ce1a979",
   "metadata": {},
   "outputs": [],
   "source": []
  }
 ],
 "metadata": {
  "kernelspec": {
   "display_name": "Python 3 (ipykernel)",
   "language": "python",
   "name": "python3"
  },
  "language_info": {
   "codemirror_mode": {
    "name": "ipython",
    "version": 3
   },
   "file_extension": ".py",
   "mimetype": "text/x-python",
   "name": "python",
   "nbconvert_exporter": "python",
   "pygments_lexer": "ipython3",
   "version": "3.9.12"
  }
 },
 "nbformat": 4,
 "nbformat_minor": 5
}
