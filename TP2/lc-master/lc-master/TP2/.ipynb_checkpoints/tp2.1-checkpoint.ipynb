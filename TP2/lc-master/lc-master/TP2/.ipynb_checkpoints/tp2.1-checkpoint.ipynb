{
 "cells": [
  {
   "cell_type": "markdown",
   "id": "abd33508-c856-4b5c-a9f3-4b1803dfb960",
   "metadata": {},
   "source": [
    "# TP2 - Grupo 14\n",
    "\n",
    "André Lucena Ribas Ferreira - A94956\n",
    "\n",
    "Paulo André Alegre Pinto - A97391"
   ]
  },
  {
   "cell_type": "markdown",
   "id": "e8592c4c-8e88-4cc4-b547-f6bbec90bf72",
   "metadata": {},
   "source": [
    "## Problema 1 - Control Flow Automaton\n",
    "\n",
    "\n",
    "Um  programa imperativo pode ser descrito por um modelo do tipo Control Flow Automaton (CFA) como ilustrado no exemplo seguinte\n",
    "![Algoritmo de Multiplicação](https://paper-attachments.dropboxusercontent.com/s_9896551CC5FAD2B2EB6E4EBC08522545FA66314D29FE6A5BE8E593259F8E8A37_1668181619605_multiplicacao-overflow.png)\n",
    "\n",
    "Este programa implementa a multiplicação de dois inteiros $a,b$ , fornecidos como “input”, e com precisão limitada a $n$ bits (fornecido como parâmetro do programa). Note-se que\n",
    "\n",
    "- Existe a possibilidade de alguma das operações do programa produzir um erro de “overflow”. \n",
    "- Os nós do grafo representam ações que actuam sobre os “inputs” do nó e produzem um “output” com as operações indicadas\n",
    "- Os ramos do grafo representam ligações que transferem o “output” de um nodo para o “input” do nodo seguinte. Esta transferência é condicionada pela satisfação da condição associada ao ramo\n",
    "\n",
    "Como 'inputs', o programa recebe:\n",
    " 1. O número de bits da precisão $n$, ao qual todas as variáveis do problema são limitados;\n",
    " 2. Os dois inteiros a se multiplicar, $a$ e $b$."
   ]
  },
  {
   "cell_type": "markdown",
   "id": "1b343f87-3ee9-4a6b-999f-44934643f61a",
   "metadata": {},
   "source": [
    "## Análise\n",
    "\n",
    "Pretende-se modelar o autómato em cima descrito a partir de um FOTS usando BitVectors de tamanho $n$. Para tal, é necessário definir as variáveis do modelo, o predicado que define o estado inicial e a relação de transição.\n",
    "\n",
    "O modelo terá 3 variáveis do tipo BitVector, $x$, $y$ e $z$, este último que terminará com o resultado da execução. Para além destes, também terá uma variável inteira $p$ que representa o estado de execução. Definiu-se um inteiro para cada um dos estados, nomeadamente:\n",
    " - $-1$ para Estado de erro.\n",
    " - $0$ para Estado central (loop). Nele testam-se os casos.\n",
    " - $1$ para Estado de execução se $y$ for par (não zero).\n",
    " - $2$ para Estado de execução se $y$ for ímpar (não zero).\n",
    " - $3$ para Estado Final.\n",
    " \n",
    "Decidiu-se manter-se o número de estados descritos no autómato de modo a evitar fazer comparações de erro quando estas não são necessárias.\n",
    "\n",
    "Considerando o estado inicial, uma optimização possível à execução do autómato será manter considerar o valor $b$ o menor dos dois. Isto diminui o número de operações totais necessárias, no pior caso. O estado inicial será então defindo pelo predicado seguinte.\n",
    "\n",
    "$$ p = 0 \\wedge x = a \\wedge y = b \\wedge z = 0$$\n",
    "\n",
    "Uma consideração a ter em conta para a transição é a de colocar condições opostas para a transição que efetua o cálculo e a que testa a condição de erro, já que partem ambas do mesmo estado. Outra será a de criar uma transição ora do estado $-1$ ora do $3$ para si próprio, montando assim um *loop* já que esses estados são finais. A relação de transição entre dois estados $s$ e $s'$ será definido pelo seguinte predicado:\n",
    "\n",
    "\\begin{array}{c}\n",
    "(\\mathit{p} = 0 \\wedge y \\equiv 0 \\pmod 2 \\wedge y \\neq 0 \\wedge \\mathit{p}' = 1 \\wedge x' = x \\wedge y' = y \\wedge z' = z) \\\\\n",
    "\\vee\\\\\n",
    "(\\mathit{p} = 0 \\wedge y \\equiv 1 \\pmod 2 \\wedge y \\neq 0 \\wedge \\mathit{p}' = 2 \\wedge x' = x \\wedge y' = y \\wedge z' = z) \\\\\n",
    "\\vee\\\\\n",
    "(\\mathit{p} = 1 \\wedge 2x < 2^n \\wedge \\mathit{p}' = 0 \\wedge x' = 2x \\wedge y' = y/2 \\wedge z' = z)\\\\\n",
    "\\vee\\\\\n",
    "(\\mathit{p} = 1 \\wedge 2x \\leq 2^n \\wedge \\mathit{p}' = -1 \\wedge x' = x \\wedge y' = y \\wedge z' = z)\\\\\n",
    "\\vee\\\\\n",
    "(\\mathit{p} = 2 \\wedge 2^n - 1 - z \\geq x \\wedge \\mathit{p}' = 0 \\wedge x' = x \\wedge y' = y - 1 \\wedge z' = z + x)\\\\\n",
    "\\vee\\\\\n",
    "(\\mathit{p} = 2 \\wedge 2^n - 1 - z < x \\wedge \\mathit{p}' = -1 \\wedge x' = x \\wedge y' = y \\wedge z' = z)\\\\\n",
    "\\vee\\\\\n",
    "(\\mathit{p} = 0 \\wedge y = 0 \\wedge \\mathit{p}' = 3 \\wedge x' = x \\wedge y' = y \\wedge z' = z)\\\\\n",
    "\\vee\\\\\n",
    "(\\mathit{p} = -1 \\wedge \\mathit{p}' = -1 \\wedge x' = x \\wedge y' = y \\wedge z' = z)\\\\\n",
    "\\vee\\\\\n",
    "(\\mathit{p} = 3 \\wedge \\mathit{p}' = 3 \\wedge x' = x \\wedge y' = y \\wedge z' = z)\\\\\n",
    "\\end{array}\n",
    "\n",
    "Um traço de execução é uma sequência de estados, onde dois estados consequentes validam um predicado de transição. Como o número de estados é finito, já que os valores que $a$ e $b$ podem tomar estão limitados pela precisão $n$, e porque as operações executadas tendem para um dos estados de *loop*, qualquer traço de execução deste problema é limitado. Dessa forma, pode-se sempre calcular o traço até ao momento em que um estado transiciona para outro que já ocorreu no traço, descrevendo assim um loop.\n",
    "\n",
    "Por fim, pode-se verificar, para qualquer estado de um traço de execução, se o invariante $x * y + z = a * b$ é válido."
   ]
  },
  {
   "cell_type": "markdown",
   "id": "1b9250ad-3480-409a-be49-f9ab37b93dd2",
   "metadata": {},
   "source": [
    "## Implementação\n",
    "\n",
    "Para a resolução do problema em questão, decidiu-se usar o módulo `pysmt.shortcuts`, com as funcionalidades possíveis para a utilização de um SMT Solver. Importam-se também os tipos deste Solver, a partir do módulo `pysmt.typing`. Para modelar este problema, irá usar-se BitVectors, então escolheu-se o `z3` como Solver.\n",
    "\n",
    "Para além disso, é necessário importar o módulo `numpy` para eventuais necessidades de aleatoriedade."
   ]
  },
  {
   "cell_type": "code",
   "execution_count": 1,
   "id": "675efbfc-fcbb-4a7b-b5f6-c166b10b2f69",
   "metadata": {},
   "outputs": [],
   "source": [
    "from pysmt.shortcuts import *\n",
    "import pysmt.typing as types\n",
    "import numpy as np"
   ]
  },
  {
   "cell_type": "markdown",
   "id": "d60eaa44-7161-4fae-afe8-e94f7bf16114",
   "metadata": {},
   "source": [
    "Como 'input', define-se apenas $n$, a precisão. Os valores $a$ e $b$ serão tratados futuramente."
   ]
  },
  {
   "cell_type": "code",
   "execution_count": 2,
   "id": "0b8a4ccb-0490-4079-918b-1eea3ee03127",
   "metadata": {},
   "outputs": [],
   "source": [
    "n = 64     # precisão"
   ]
  },
  {
   "cell_type": "markdown",
   "id": "d7d8a884-bdac-477a-80e1-f5f1ed3f15dd",
   "metadata": {},
   "source": [
    "Como função auxiliar de BitVectors, definiu-se `bv_sel(z,i)`, que seleciona o $i$-ésimo bit do vetor $z$."
   ]
  },
  {
   "cell_type": "code",
   "execution_count": 3,
   "id": "6ecada35-2b7c-43d3-8fef-e5102b36965f",
   "metadata": {},
   "outputs": [],
   "source": [
    "def bv_sel(z,i):                    # seleciona o bit i do BitVec \"z\"\n",
    "    return BVExtract(z,start=i,end=i)"
   ]
  },
  {
   "cell_type": "markdown",
   "id": "04cf198a-506c-414f-9fe0-7beb1833b3ae",
   "metadata": {},
   "source": [
    "Como funções necessárias para a modelação, definem-se `declare(i)`, que cria a i-ésima cópia do estado; `init(state)`, que devolve um predicado que testa o estado inicial; `init_ab(state, a, b)`, que recebe $a$ e $b$ separadamente do tratamento do Solver; e `trans(curr, prox)`, que gera um predicado a partir de dois estados que define as condições de transição entre eles."
   ]
  },
  {
   "cell_type": "markdown",
   "id": "b8b0a305-ff32-4555-af33-996bad61644d",
   "metadata": {},
   "source": [
    "Para ser possivel fazer o cálculo de $a * b$ para se verificar o invariante, decidiu-se usar BitVectors de tamanho $2n$, já que:\n",
    "\n",
    "$$ log_2(a) \\leq n \\wedge log_2(b) \\leq n \\implies log_2(a * b) \\leq 2n $$"
   ]
  },
  {
   "cell_type": "markdown",
   "id": "09f53d7a-fd68-4809-98fc-8deee145b9a4",
   "metadata": {},
   "source": [
    "Para `declare(i)`, definem-se as variáveis já descritas na Análise."
   ]
  },
  {
   "cell_type": "code",
   "execution_count": 4,
   "id": "59778440-125e-4d65-bc5d-686b0c623146",
   "metadata": {},
   "outputs": [],
   "source": [
    "def declare(i): #declara um bitvector de tamanho n\n",
    "    state = {}\n",
    "    #declaram-se os BV com margem de manobra para operações (invariante)\n",
    "    state['x'] = Symbol('x'+str(i),types.BVType(2*n)) \n",
    "    state['y'] = Symbol('y'+str(i),types.BVType(2*n))\n",
    "    state['z'] = Symbol('z'+str(i),types.BVType(2*n))\n",
    "    state['p'] = Symbol('p'+str(i),INT) #-1 - erro; 0 - loop; 1 - par; 2 - ímpar; 3 - final\n",
    "    return state"
   ]
  },
  {
   "cell_type": "markdown",
   "id": "4403f9e7-0d55-4040-b5f9-4919ca2f3775",
   "metadata": {},
   "source": [
    "Para `init(state)`, define-se um predicado que gera valores apenas na gama $\\{0..2^n-1\\}$ e que também gera valores de $y$ menores que de $x$. Os valores considerados aqui podem ser considerados também os gerados para $a$ e $b$."
   ]
  },
  {
   "cell_type": "code",
   "execution_count": 5,
   "id": "333bc196-c3f4-4ef3-99ec-990f40fbb7d8",
   "metadata": {},
   "outputs": [],
   "source": [
    "#por o y sempre o mais pequeno dos dois (cuidado com cenas mais à frente)\n",
    "def init(state):\n",
    "    return And(Equals(state['z'],BVZero(2*n)), Equals(state['p'], Int(0)), BVULT(state['x'], BV(2**n, 2*n)), \n",
    "               BVULT(state['y'], BV(2**n, 2*n)), BVULT(state['y'], state['x']))"
   ]
  },
  {
   "cell_type": "markdown",
   "id": "4d725eab-b42c-4e97-9965-b9a1308cbf12",
   "metadata": {},
   "source": [
    "Semelhantemente, `init_ab(state, a, b)` escolherá para $y$ o menor dos dois valores."
   ]
  },
  {
   "cell_type": "code",
   "execution_count": 6,
   "id": "bc9bda11-c89e-40dd-be9e-735119c33899",
   "metadata": {},
   "outputs": [],
   "source": [
    "#a será sempre o valor maior\n",
    "def init_ab(state,a,b):\n",
    "    if a < b:\n",
    "        a,b = b,a\n",
    "    a = BV(a,n)\n",
    "    b = BV(b,n)\n",
    "    return And(Equals(state['z'],BVZero(2*n)), Equals(state['p'], Int(0)), Equals(state['x'], BVZExt(a,n)), \n",
    "               Equals(state['y'], BVZExt(b,n)))"
   ]
  },
  {
   "cell_type": "markdown",
   "id": "bf6cf02d-9ce4-4db8-94d9-ba0c16a36e3d",
   "metadata": {},
   "source": [
    "De seguida, definiu-se a função `trans(curr, prox)`, de acordo com a especificação na Análise. \n",
    "Notavelmente, observa-se o seguinte:\n",
    " 1. $\\quad 2x \\geq 2^n \\equiv x_{n-1} = 1$\n",
    " 2. $\\quad y \\geq 0 \\pmod 2 \\equiv y_{0} = 0$\n",
    " 3. $\\quad y \\geq 1 \\pmod 2 \\equiv y_{0} = 1$\n",
    " 4. $\\quad 2x = x << 1$\n",
    " 5. $\\quad 2y = y >> 1$"
   ]
  },
  {
   "cell_type": "code",
   "execution_count": 7,
   "id": "11b5e20e-0faa-4223-891f-399328d9cee1",
   "metadata": {},
   "outputs": [],
   "source": [
    "def trans(curr, prox):\n",
    "    tend = And(Equals(curr['p'], Int(0)), Equals(prox['p'], Int(3)), Equals(curr['y'], BVZero(2*n)),\n",
    "               Equals(curr['x'], prox['x']), Equals(curr['y'], prox['y']), Equals(curr['z'], prox['z']))\n",
    "    \n",
    "    tendl = And(Equals(curr['p'], Int(3)), Equals(prox['p'], Int(3)), \n",
    "                  Equals(curr['x'], prox['x']), Equals(curr['y'], prox['y']), Equals(curr['z'], prox['z']))\n",
    "    \n",
    "    todd = And(Equals(curr['p'], Int(0)), Equals(prox['p'], Int(2)), Equals(bv_sel(curr['y'],0), BVOne(1)),\n",
    "               Equals(curr['x'], prox['x']), Equals(curr['y'], prox['y']), Equals(curr['z'], prox['z']))\n",
    "                \n",
    "    toddt = And(Equals(curr['p'], Int(2)), Equals(prox['p'], Int(0)), Equals(prox['y'], curr['y'] - BVZExt(BVOne(1), 2*n-1)), \n",
    "                Equals(prox['z'], curr['z'] + curr['x']), Equals(prox['x'], curr['x']), Not(curr['x'] > BVSub(BV(2**n-1,2*n), curr['z'])))\n",
    "    \n",
    "    toddof = And(Equals(curr['p'], Int(2)), Equals(prox['p'], Int(-1)), curr['x'] > BVSub(BV(2**n-1,2*n), curr['z']),\n",
    "                 Equals(curr['x'], prox['x']), Equals(curr['y'], prox['y']), Equals(curr['z'], prox['z']))\n",
    "                  \n",
    "    teven = And(Equals(curr['p'], Int(0)), Equals(prox['p'], Int(1)), Not(Equals(curr['y'], BVZero(2*n))), Equals(bv_sel(curr['y'],0), BVZero(1)),\n",
    "                Equals(curr['x'], prox['x']), Equals(curr['y'], prox['y']), Equals(curr['z'], prox['z']))\n",
    "                 \n",
    "    tevent = And(Equals(curr['p'], Int(1)), Equals(prox['p'], Int(0)), Equals(prox['x'], BVLShl(curr['x'], BVZExt(BVOne(1), 2*n-1))),\n",
    "                 Equals(prox['y'], BVLShr(curr['y'], BVZExt(BVOne(1), 2*n-1))), Equals(curr['z'], prox['z']), Not(Equals(bv_sel(curr['x'], n-1), BVOne(1))))\n",
    "    \n",
    "    tevenof = And(Equals(curr['p'], Int(1)), Equals(prox['p'], Int(-1)), Equals(bv_sel(curr['x'], n-1), BVOne(1)),\n",
    "                  Equals(curr['x'], prox['x']), Equals(curr['y'], prox['y']), Equals(curr['z'], prox['z']))\n",
    "                 \n",
    "    tofl = And(Equals(curr['p'], Int(-1)), Equals(prox['p'], Int(-1)), \n",
    "               Equals(curr['x'], prox['x']), Equals(curr['y'], prox['y']), Equals(curr['z'], prox['z']))\n",
    "    \n",
    "    return Or(tend, tendl, todd, toddof, toddt, teven, tevenof, tevent, tofl)"
   ]
  },
  {
   "cell_type": "markdown",
   "id": "b9dca7e6-bdf9-4da4-8bb0-5710926cbcc0",
   "metadata": {},
   "source": [
    "Após definir as funções `declare` e `trans` definimos a função de ordem superior `gera_tracok` que cria um traço aleatório que começa em `'init'` (estado inicial), é formado por `k` cópias do estado, usando as funções declare para declarar `k` estados do traço e `trans` para, como descrito no autómato, transicionar os estados.\n",
    "\n",
    "Com esta função, pode-se simular a execução do problema."
   ]
  },
  {
   "cell_type": "code",
   "execution_count": 17,
   "id": "7b87d771-7efc-419a-8da7-01add2e652c3",
   "metadata": {},
   "outputs": [
    {
     "name": "stdout",
     "output_type": "stream",
     "text": [
      "(p: 0, x: 72057594037927936_128, y: 2_128, z: 0_128)\n",
      "(p: 1, x: 72057594037927936_128, y: 2_128, z: 0_128)\n",
      "(p: 0, x: 144115188075855872_128, y: 1_128, z: 0_128)\n",
      "(p: 2, x: 144115188075855872_128, y: 1_128, z: 0_128)\n",
      "(p: 0, x: 144115188075855872_128, y: 0_128, z: 144115188075855872_128)\n",
      "(p: 3, x: 144115188075855872_128, y: 0_128, z: 144115188075855872_128)\n",
      "(p: 3, x: 144115188075855872_128, y: 0_128, z: 144115188075855872_128)\n",
      "(p: 3, x: 144115188075855872_128, y: 0_128, z: 144115188075855872_128)\n",
      "(p: 3, x: 144115188075855872_128, y: 0_128, z: 144115188075855872_128)\n",
      "(p: 3, x: 144115188075855872_128, y: 0_128, z: 144115188075855872_128)\n"
     ]
    }
   ],
   "source": [
    "def gera_tracok(declare,init,trans,k):\n",
    "    with Solver(name=\"z3\") as s:\n",
    "        trace = [declare(i) for i in range(k)]\n",
    "        s.add_assertion(init(trace[0]))\n",
    "        for i in range(k-1):\n",
    "            s.add_assertion(trans(trace[i],trace[i+1]))\n",
    "        if s.solve():\n",
    "            for i in range(k-1):\n",
    "                print(f'(p: %s, x: %s, y: %s, z: %s)' % (s.get_value(trace[i]['p']), s.get_value(trace[i]['x']),\n",
    "                                        s.get_value(trace[i]['y']),  s.get_value(trace[i]['z'])))\n",
    "            print(f'(p: %s, x: %s, y: %s, z: %s)' % (s.get_value(trace[i]['p']), s.get_value(trace[i]['x']),\n",
    "                                        s.get_value(trace[i]['y']),  s.get_value(trace[i]['z'])))\n",
    "\n",
    "gera_tracok(declare,init,trans,10)"
   ]
  },
  {
   "cell_type": "markdown",
   "id": "9d2c59a1-5c29-46d2-92ba-53dde0e26e5f",
   "metadata": {},
   "source": [
    "A função de ordem superior `bmc_always` para além de gerar um traço também verifica o input e condição `inv` em cada estado e retorna os tamanhos do traço em que essa propriedade é válida.\n",
    "\n"
   ]
  },
  {
   "cell_type": "code",
   "execution_count": 9,
   "id": "6137d2e4-913d-4b52-bbb2-55efb9568600",
   "metadata": {
    "tags": []
   },
   "outputs": [
    {
     "name": "stdout",
     "output_type": "stream",
     "text": [
      "Propriedade válida para traços de tamanho <= 10.\n"
     ]
    }
   ],
   "source": [
    "def bmc_always(declare,init,trans,inv,K):\n",
    "    for k in range(1,K+1):\n",
    "        with Solver(name=\"z3\") as s:\n",
    "            trace = [declare(i) for i in range(k)]\n",
    "            s.add_assertion(init(trace[0]))\n",
    "            for i in range(k-1):\n",
    "                s.add_assertion(trans(trace[i],trace[i+1]))\n",
    "                s.add_assertion(Not(inv(trace[i], trace[0]['x'], trace[0]['y'])))\n",
    "            s.add_assertion(Not(inv(trace[k-1], trace[0]['x'], trace[0]['y'])))\n",
    "            if s.solve():\n",
    "                print(s.get_model())\n",
    "                for i in range(k-1):\n",
    "                    print(f'(p: %s, x: %s, y: %s, z: %s)' % (s.get_value(trace[i]['p']), s.get_value(trace[i]['x']),\n",
    "                                        s.get_value(trace[i]['y']),  s.get_value(trace[i]['z'])))\n",
    "                print(f'(p: %s, x: %s, y: %s, z: %s)' % (s.get_value(trace[i]['p']), s.get_value(trace[i]['x']),\n",
    "                                        s.get_value(trace[i]['y']),  s.get_value(trace[i]['z'])))\n",
    "                print('Deu solve!')\n",
    "                return\n",
    "    print(f\"Propriedade válida para traços de tamanho <= %d.\" % k)\n",
    "\n",
    "def inv(state,a,b):\n",
    "    return Equals(BVAdd(BVMul(state['x'], state['y']), state['z']), BVMul(a,b))\n",
    "\n",
    "bmc_always(declare,init,trans,inv,10)"
   ]
  },
  {
   "cell_type": "markdown",
   "id": "359e8bf2-8e54-4a10-aaea-c3d4a97ae3e1",
   "metadata": {},
   "source": [
    "Uma consideração importante é o limite de tamanho do traço. Na verdade, segundo a nossa definição de estados, supondo $b = 2^n-1$, $b$ é constituído apenas por 1's. Nesse caso, a alternância entre os estados $0$, $1$ e $2$ implica 4 estados até chegarmos a um valor de $y = 2^{n-1}-1$, nomeadamente $0->2->0->1$ ou seja, cujo bit mais significativo deixou de ser 1. Tal repete-se até ao valor de $y = 1$, onde o caso será $0\\rightarrow2\\rightarrow0\\rightarrow3$. Nesse sentido, o número de passos máximos será $4*log_{2}b$. Para além disso, a optimização de escolher o valor de $b$ o menor dos dois, implica que o valor máximo para $b$ que não gera *overflow* é de $2^{n/2}-1$, sendo esse também o valor para $b$ que maximiza o número de passos. Então, o número de passos máximo é igual a $2n$, o que nos proporciona uma forma de provar o invariante para todos os traços possíveis."
   ]
  },
  {
   "cell_type": "code",
   "execution_count": 10,
   "id": "d05977f8-82ba-4643-acb5-1051c3a734c5",
   "metadata": {},
   "outputs": [
    {
     "name": "stdout",
     "output_type": "stream",
     "text": [
      "Propriedade válida para traços de tamanho <= 128.\n"
     ]
    }
   ],
   "source": [
    "bmc_always(declare,init,trans,inv,2*n)"
   ]
  },
  {
   "cell_type": "markdown",
   "id": "3aa250ba-7446-497c-af31-343daba00088",
   "metadata": {},
   "source": [
    "## Exemplos"
   ]
  },
  {
   "cell_type": "code",
   "execution_count": 18,
   "id": "6d9cdc83-90b3-4d6b-8939-369552427445",
   "metadata": {},
   "outputs": [
    {
     "name": "stdout",
     "output_type": "stream",
     "text": [
      "(p: 0, x: 18443023335223725285_128, y: 309506097156_128, z: 0_128)\n",
      "(p: 1, x: 18443023335223725285_128, y: 309506097156_128, z: 0_128)\n",
      "(p: -1, x: 18443023335223725285_128, y: 309506097156_128, z: 0_128)\n",
      "(p: -1, x: 18443023335223725285_128, y: 309506097156_128, z: 0_128)\n",
      "(p: -1, x: 18443023335223725285_128, y: 309506097156_128, z: 0_128)\n"
     ]
    }
   ],
   "source": [
    "gera_tracok(declare,init,trans,5)"
   ]
  },
  {
   "cell_type": "code",
   "execution_count": 19,
   "id": "2ecf4ddb-51c3-4ade-a922-d6f212229841",
   "metadata": {},
   "outputs": [
    {
     "name": "stdout",
     "output_type": "stream",
     "text": [
      "(p: 0, x: 64_128, y: 13_128, z: 0_128)\n",
      "(p: 2, x: 64_128, y: 13_128, z: 0_128)\n",
      "(p: 0, x: 64_128, y: 12_128, z: 64_128)\n",
      "(p: 1, x: 64_128, y: 12_128, z: 64_128)\n",
      "(p: 0, x: 128_128, y: 6_128, z: 64_128)\n",
      "(p: 1, x: 128_128, y: 6_128, z: 64_128)\n",
      "(p: 0, x: 256_128, y: 3_128, z: 64_128)\n",
      "(p: 2, x: 256_128, y: 3_128, z: 64_128)\n",
      "(p: 0, x: 256_128, y: 2_128, z: 320_128)\n",
      "(p: 0, x: 256_128, y: 2_128, z: 320_128)\n"
     ]
    }
   ],
   "source": [
    "gera_tracok(declare,init,trans,10)"
   ]
  },
  {
   "cell_type": "code",
   "execution_count": 20,
   "id": "1e53f815-cbf1-40f6-8668-94877abbffb8",
   "metadata": {},
   "outputs": [
    {
     "name": "stdout",
     "output_type": "stream",
     "text": [
      "(p: 0, x: 732279039066048_128, y: 4_128, z: 0_128)\n",
      "(p: 1, x: 732279039066048_128, y: 4_128, z: 0_128)\n",
      "(p: 0, x: 1464558078132096_128, y: 2_128, z: 0_128)\n",
      "(p: 1, x: 1464558078132096_128, y: 2_128, z: 0_128)\n",
      "(p: 0, x: 2929116156264192_128, y: 1_128, z: 0_128)\n",
      "(p: 2, x: 2929116156264192_128, y: 1_128, z: 0_128)\n",
      "(p: 0, x: 2929116156264192_128, y: 0_128, z: 2929116156264192_128)\n",
      "(p: 3, x: 2929116156264192_128, y: 0_128, z: 2929116156264192_128)\n",
      "(p: 3, x: 2929116156264192_128, y: 0_128, z: 2929116156264192_128)\n",
      "(p: 3, x: 2929116156264192_128, y: 0_128, z: 2929116156264192_128)\n",
      "(p: 3, x: 2929116156264192_128, y: 0_128, z: 2929116156264192_128)\n",
      "(p: 3, x: 2929116156264192_128, y: 0_128, z: 2929116156264192_128)\n",
      "(p: 3, x: 2929116156264192_128, y: 0_128, z: 2929116156264192_128)\n",
      "(p: 3, x: 2929116156264192_128, y: 0_128, z: 2929116156264192_128)\n",
      "(p: 3, x: 2929116156264192_128, y: 0_128, z: 2929116156264192_128)\n"
     ]
    }
   ],
   "source": [
    "gera_tracok(declare,init,trans,15)"
   ]
  },
  {
   "cell_type": "code",
   "execution_count": null,
   "id": "bb26c156-49b7-4453-8669-85b861031e38",
   "metadata": {},
   "outputs": [],
   "source": []
  }
 ],
 "metadata": {
  "kernelspec": {
   "display_name": "Python 3 (ipykernel)",
   "language": "python",
   "name": "python3"
  },
  "language_info": {
   "codemirror_mode": {
    "name": "ipython",
    "version": 3
   },
   "file_extension": ".py",
   "mimetype": "text/x-python",
   "name": "python",
   "nbconvert_exporter": "python",
   "pygments_lexer": "ipython3",
   "version": "3.9.12"
  }
 },
 "nbformat": 4,
 "nbformat_minor": 5
}
