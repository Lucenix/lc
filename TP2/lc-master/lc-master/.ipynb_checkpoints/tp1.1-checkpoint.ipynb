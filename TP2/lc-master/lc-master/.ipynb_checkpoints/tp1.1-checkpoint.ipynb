{
 "cells": [
  {
   "cell_type": "markdown",
<<<<<<< HEAD
   "id": "4cc81875-848d-4647-a479-255404d283cd",
   "metadata": {},
   "source": [
    "# TP1 - Grupo 14"
   ]
  },
  {
   "cell_type": "raw",
   "id": "b38cd2f8-1055-4f93-aba0-c90551a9e268",
   "metadata": {},
   "source": [
    "André Lucena Ribas Ferreira - A94956\n",
    "Paulo André Alegre Pinto - A97391"
=======
   "id": "c4df44e7-d9dc-482b-9d96-0750075fecef",
   "metadata": {},
   "source": [
    "# TP1 - Grupo 14\n",
    "\n",
    "André Lucena Ribas Ferreira - A94956\n",
    "\n",
    "Paulo André Alegre Pinto - A97391"
   ]
  },
  {
   "cell_type": "markdown",
   "id": "22989b04-5da7-4e3d-89bc-58d5554d4586",
   "metadata": {},
   "source": [
    "## Problema 1 - Alocação de Horário de uma StartUp\n",
    "\n",
    "Pretende-se construir um horário semanal para o plano de reuniões de projeto de uma “StartUp” de acordo com as seguintes condições:\n",
    "\n",
    "\n",
    "    1. Cada reunião ocupa uma sala (enumeradas $$1...S\\,$$) durante um “slot”  $$1..T\\,$$ $$(\\text{hora},\\text{dia})$$.  \n",
    "    2.  Cada reunião tem associado um projeto (enumerados $$1..P$$) e um conjunto de participantes. Os diferentes colaboradores são enumerados $$1..C$$.\n",
    "    3. Cada projeto tem associado um conjunto de colaboradores, dos quais um  é o líder. Cada projeto realiza um dado número de reuniões semanais. \n",
    "    4. O líder do projeto participa em todas as reuniões do seu projeto; os restantes colaboradores podem ou não participar consoante a sua disponibilidade, num mínimo (“quorum”) de  $$50\\%$$ do total de colaboradores do projeto. \n",
    "\n",
    "Como 'inputs', o problema recebe:\n",
    "1. O número de 'Timeslots' $T$;\n",
    "2. O número de Salas $S$;\n",
    "3. O número de Projetos $P$;\n",
    "4. O número de Colaboradores $C$;\n",
    "5. O conjunto de Colaboradores de cada Projeto, o seu Líder e o número mínimo de reuniões semanais, num dicionário $proj$.\n",
    "6. A disponibilidade de cada Colaborador. Essa disponibilidade é representada numa matriz booleana de acessibilidade $disp$."
   ]
  },
  {
   "cell_type": "markdown",
   "id": "7a63ea2a-5d62-4f09-a8b6-4b62a26fa5e8",
   "metadata": {},
   "source": [
    "## Análise\n",
    "\n",
    "Pretende-se alocar reuniões de Projetos a certas Salas, dentro de determinados 'Timeslots', aos Colaboradores de uma StartUp.\n",
    "\n",
    "Para tal decidimos usar uma família de variáveis binárias $x_{t,s,p,c}$ definidas com a seguinte semântica:\n",
    "\n",
    "$$ x_{t,s,p,c} == 1 \\quad \\mbox{se e só se} \\quad \\mbox{o Colaborador $c$ estará Presente numa reunião do Projeto $p$ na Sala $s$ no 'Timeslot' $t$} $$\n",
    "\n",
    "O problema dispõe de limitações que deverão ser tratadas:\n",
    "\n",
    "1. Para cada 'Timeslot', cada Líder tem de estar Presente nas reuniões do seu próprio Projeto;\n",
    "2. Para cada 'Timeslot', cada Colaborador está Presente, no máximo, numa reunião;\n",
    "3. Para cada 'Timeslot', cada Colaborador está Presente numa reunião só se pertencer a esse Projeto;\n",
    "4. Para cada 'Timeslot', cada Colaborador está Presente numa reunião só se estiver disponível nesse 'Timeslot';\n",
    "5. Para cada 'Timeslot', cada Sala tem a reunião de, no máximo, um Projeto;\n",
    "6. Para cada 'Timeslot', numa dada Sala, cada Projeto pode ter reunião só se houver 'quórum';\n",
    "7. Para cada Projeto, o número das suas reuniões tem de ser maior ou igual ao mínimo descrito.\n",
    "\n",
    "Do mesmo modo, o problema admite certas optimizações:\n",
    "1. Maximizar o número de reuniões efetivamente realizadas;\n",
    "2. Minimizar o número médio de reuniões por participante."
   ]
  },
  {
   "cell_type": "markdown",
   "id": "554b5f00-b22a-4f15-b7b4-29da42347ffe",
   "metadata": {},
   "source": [
    "## Implementação\n",
    "\n",
    "Para a resolução do problema em questão, utilizaremos a biblioteca de programação linear do OR-Tools, o pywraplp. Portanto, começaremos por instalar o OR-Tools, importar tal biblioteca e inicializar o solver, que chamaremos de horario."
   ]
  },
  {
   "cell_type": "code",
   "execution_count": 1,
   "id": "c0087d6a-8f90-4f47-bdce-6adb2518d382",
   "metadata": {},
   "outputs": [
    {
     "name": "stdout",
     "output_type": "stream",
     "text": [
      "Requirement already satisfied: ortools in d:\\programs\\anaconda\\envs\\logica\\lib\\site-packages (9.4.1874)\n",
      "Requirement already satisfied: numpy>=1.13.3 in d:\\programs\\anaconda\\envs\\logica\\lib\\site-packages (from ortools) (1.23.3)\n",
      "Requirement already satisfied: protobuf>=3.19.4 in d:\\programs\\anaconda\\envs\\logica\\lib\\site-packages (from ortools) (4.21.6)\n",
      "Requirement already satisfied: absl-py>=0.13 in d:\\programs\\anaconda\\envs\\logica\\lib\\site-packages (from ortools) (1.2.0)\n"
     ]
    }
   ],
   "source": [
    "!pip install ortools"
   ]
  },
  {
   "cell_type": "code",
   "execution_count": 2,
   "id": "28d7c16e-77c0-45ca-9eb9-0e497d6e4ea7",
   "metadata": {},
   "outputs": [],
   "source": [
    "from ortools.linear_solver import pywraplp"
>>>>>>> 5f2c0e8c68b288a8d18a3e8b401e12f268746208
   ]
  },
  {
   "cell_type": "markdown",
<<<<<<< HEAD
   "id": "cc59c0be-4c69-4f5f-9126-14b3aea9fb7c",
   "metadata": {},
   "source": [
    "## Problema 1 - Horário"
   ]
  },
  {
   "cell_type": "markdown",
   "id": "000eb81a-6e2d-4207-be74-5c07bbfbc6aa",
   "metadata": {},
   "source": [
    "Pretende-se construir um horário semanal para o plano de reuniões de projeto de uma “StartUp” de acordo com as seguintes condições:\n",
    "\n",
    "    1. Cada reunião ocupa uma sala (enumeradas 1...S,) durante um “slot”  1..T\\, (hora,dia).  \n",
    "    2. Cada reunião tem associado um projeto (enumerados 1..P) e um conjunto de participantes. Os diferentes colaboradores são enumerados 1..C.\n",
    "    3. Cada projeto tem associado um conjunto de colaboradores, dos quais um  é o líder. Cada projeto realiza um dado número de reuniões semanais. \n",
    "    4. O líder do projeto participa em todas as reuniões do seu projeto; os restantes colaboradores podem ou não participar consoante a sua disponibilidade, num mínimo (“quorum”) de  50% do total de colaboradores do projeto. "
=======
   "id": "92331934-01a0-4fbb-87f4-1c72bd52594e",
   "metadata": {},
   "source": [
    "Definimos o seguinte exemplo introdutório com solução, com mais exemplos no final do relatório"
   ]
  },
  {
   "cell_type": "code",
   "execution_count": 3,
   "id": "577174cf-2c8e-453c-9c4c-93623308c104",
   "metadata": {},
   "outputs": [],
   "source": [
    "T, S, P, C = 6, 2, 5, 8 \n",
    "\n",
    "proj = {}\n",
    "proj[0] = {'colaboradores':[0,1,2,4], 'lider':4, 'min':1}\n",
    "proj[1] = {'colaboradores':[1,2,3], 'lider':1, 'min':2}\n",
    "proj[2] = {'colaboradores':[0,2,3,4], 'lider':3, 'min':2}\n",
    "proj[3] = {'colaboradores':[0,1,7], 'lider':7, 'min':3}\n",
    "proj[4] = {'colaboradores':[2,3,4], 'lider':2, 'min':1}\n",
    "\n",
    "disp = {}\n",
    "disp[0] = [1,0,1,1,0,1]\n",
    "disp[1] = [1,1,1,1,0,1]\n",
    "disp[2] = [1,1,0,1,0,1]\n",
    "disp[3] = [1,1,1,0,1,1]\n",
    "disp[4] = [1,1,1,0,1,1]\n",
    "disp[5] = [1,0,1,0,1,1]\n",
    "disp[6] = [1,1,1,0,1,1]\n",
    "disp[7] = [1,1,1,0,0,1]"
>>>>>>> 5f2c0e8c68b288a8d18a3e8b401e12f268746208
   ]
  },
  {
   "cell_type": "markdown",
<<<<<<< HEAD
   "id": "ca1520c1-6ac6-418c-b848-938aef8d6a29",
   "metadata": {
    "tags": []
   },
   "source": [
    "# Implementação\n",
    "Para a resolução deste problema iremos utilizar a biblioteca do OR-Tools, mais precisamente a ferramente pywraplp"
=======
   "id": "4571df55-d260-4ba2-8a6c-ad3149b3a663",
   "metadata": {},
   "source": [
    "Para a família de variáveis binárias $x_{t,s,p,c}$, construíremos uma matriz de alocação $X \\subseteq \\{0,1\\}^{TxSxPxC}$, para representar as  variáveis binárias. Declaramos a matriz de alocação $X$ como um dicionário:"
   ]
  },
  {
   "cell_type": "code",
   "execution_count": 4,
   "id": "b43e5145-c871-4d8a-9325-f52c6711f1cd",
   "metadata": {},
   "outputs": [],
   "source": [
    "X = {}\n",
    "horario = pywraplp.Solver.CreateSolver('SCIP')\n",
    "#dicionário com T*P*C*S variáveis -> X[t][p][c][s] == 1 sse c estará presente na reunião do projeto p no timeslot t na sala s.\n",
    "for t in range(T):\n",
    "    X[t] = {}\n",
    "    for s in range(S):\n",
    "        X[t][s] = {}\n",
    "        for p in range(P):\n",
    "            if disp[proj[p]['lider']][t] == 1:\n",
    "                X[t][s][p] = {}\n",
    "                #Cada Colaborador apenas pode participar dos seus proj -> Obrigatório pela definição dos dicionários\n",
    "                for c in proj[p]['colaboradores']:\n",
    "                    #Cada Colaborador tem de ter horário -> Obrigatório pela definição dos dicionários\n",
    "                    if disp[c][t] == 1:\n",
    "                        X[t][s][p][c] = horario.BoolVar('x[%i][%i][%i}[%i]' % (t,s,p,c))"
   ]
  },
  {
   "cell_type": "markdown",
   "id": "fdce4a3a-e48f-47ff-a8e2-f5d25f22aee7",
   "metadata": {},
   "source": [
    "### Restrições\n",
    "\n",
    "Nesta secção apresentamos as implementações das restrições ao problema.\n",
    "\n",
    "1. Para cada 'Timeslot', cada Líder tem de estar Presente nas reuniões do seu próprio Projeto;\n",
    "\n",
    "Isto pode ser traduzido da seguinte maneira equivalente:\n",
    "\n",
    "1. Para cada Timeslot, cada Colaborador está Presente na reunião de um Projeto numa Sala só se o seu Líder também estiver.\n",
    "\n",
    "Nota: A notação utilizada refere-se a, por exemplo, um 'Timeslot' $t$ pertencente ao dicionário $X$. Com isto, ao longo de todo o relatório, pretendemos ilustrar que o 'Timeslot' $t$ pertence às chaves do dicionário $X$. Tal é análogo a todas as restantes ocorrências de notação de elementos a pertencerem a dicionários.\n",
    "\n",
    "$$ \\forall_{t \\in X}, \\forall_{s \\in X[t]}, \\forall_{p \\in X[t][s]}, \\forall_{c \\in X[t][s][p]}, \\quad x_{t,s,p,c} <= x_{t,s,p,l}, \\quad l = proj[p]['lider'] $$"
   ]
  },
  {
   "cell_type": "code",
   "execution_count": 5,
   "id": "7549c287-036c-49de-bdfc-63029465a3ea",
   "metadata": {},
   "outputs": [],
   "source": [
    "for t in X:\n",
    "    for s in X[t]:\n",
    "        for p in X[t][s]:\n",
    "            for c in X[t][s][p]:\n",
    "                horario.Add(X[t][s][p][c] <= X[t][s][p][proj[p]['lider']])"
   ]
  },
  {
   "cell_type": "markdown",
   "id": "1c522e45-900f-42cf-8c06-46f2813aa83b",
   "metadata": {},
   "source": [
    "2. Para cada 'Timeslot', cada Colaborador está Presente, no máximo, numa reunião;\n",
    "$$ tex $$"
   ]
  },
  {
   "cell_type": "code",
   "execution_count": 6,
   "id": "785bf75d-5c60-4993-ab1f-496a3f2a1d67",
   "metadata": {},
   "outputs": [],
   "source": [
    "for t in X:\n",
    "    for c in range(C):\n",
    "        horario.Add(sum([X[t][s][p][c] for s in X[t] for p in X[t][s] if c in X[t][s][p]]) <= 1)"
   ]
  },
  {
   "cell_type": "markdown",
   "id": "021cfad5-75a2-477f-857a-6fec1e06bf2e",
   "metadata": {},
   "source": [
    "3. Para cada 'Timeslot', cada Colaborador está Presente numa reunião só se pertencer a esse Projeto;\n",
    "$$ tex $$\n",
    "\n",
    "De acordo com a implementação que escolhemos para a nossa matriz de valores binários, não é possível um Colaborador $c$ participar de uma reunião na Sala $s$ do Projeto $p$ num 'Timeslot' $t$ ao qual não pertence. Isso deve-se tanto ao facto de sempre se iterar sobre os elementos do dicionário como de não existirem entradas $X[t][s][p][c]$ para Colaboradores $c$ que não pertençam ao Projeto $p$."
   ]
  },
  {
   "cell_type": "markdown",
   "id": "399bdd88-26c2-4055-a635-c5f61600941e",
   "metadata": {},
   "source": [
    "4. Para cada 'Timeslot', cada Colaborador está Presente numa reunião só se estiver disponível nesse 'Timeslot';\n",
    "$$ tex $$\n",
    "\n",
    "De acordo com a implementação que escolhemos para a nossa matriz de valores binários, não é possível um Colaborador $c$ participar de uma reunião na Sala $s$ do Projeto $p$ num 'Timeslot' $t$ ao qual não tem disponibilidade. Isso deve-se tanto ao facto de sempre se iterar sobre os elementos do dicionário como de não existirem entradas $X[t][s][p][c]$ para Colaboradores sem disponibilidade."
   ]
  },
  {
   "cell_type": "markdown",
   "id": "44ff8b93-d597-4814-a427-3f8916dcec6f",
   "metadata": {},
   "source": [
    "5. Para cada 'Timeslot', cada Sala tem a reunião de, no máximo, um Projeto;\n",
    "\n",
    "Para verificar se um dado Projeto tem ou não reunião num dado 'Timeslot', pode-se tirar partido da variável $x_{t,s,p,l}$, onde $l$ é o Líder do projeto $p$. Isto dá-se pelo facto que:\n",
    "\n",
    "$$ x_{t,s,p,l} == 1 \\quad \\mbox{se e só se} \\quad \\mbox{o Projeto $p$ tem reunião no 'Timeslot' $t$ na Sala $s$.} $$\n",
    "\n",
    "$$ tex $$"
   ]
  },
  {
   "cell_type": "code",
   "execution_count": 7,
   "id": "1049c58a-9c2e-4a32-87ed-d36f948ad935",
   "metadata": {},
   "outputs": [],
   "source": [
    "for t in X:\n",
    "    for s in X[t]:\n",
    "        horario.Add(sum([X[t][s][p][proj[p]['lider']] for p in X[t][s]]) <= 1)"
   ]
  },
  {
   "cell_type": "markdown",
   "id": "4c559a05-0310-41c5-afd9-fefa656bc81d",
   "metadata": {},
   "source": [
    "6. Para cada 'Timeslot', numa dada Sala, cada Projeto pode ter reunião só se houver 'quórum';\n",
    "\n",
    "Por 'quórum' entende-se estarem Presentes, pelo menos, metade dos Colaboradores associados a esse Projeto.\n",
    "\n",
    "Como dito anteriormente, a variável $x_{t,s,p,l}$, com $l$ o lider do Projeto $p$, indica se esse Projeto tem reunião no 'Timeslot' $t$ e na Sala $s$. Como tal, podemos utilizá-la para garantir o 'quórum' apenas se a reunião ocorrer.\n",
    "\n",
    "Para evitar cálculos de divisões que possam resultar em valores não inteiros, em vez de se considerar a restrição:\n",
    "\n",
    "$$ \\forall_{t \\in X}, \\forall_{s \\in X[t]}, \\forall_{p \\in X[t][s]}, (\\sum_{c \\in X[t][s][p]} x_{t,s,p,c}) >= \\frac{\\mbox{número de colaboradores de $p$}}{2} * x_{t,s,p,l} $$\n",
    "\n",
    "Considerar-se-á a seguinte restrição equivalente:\n",
    "\n",
    "$$ \\forall_{t \\in X}, \\forall_{s \\in X[t]}, \\forall_{p \\in X[t][s]}, (2 * \\sum_{c \\in X[t][s][p]} x_{t,s,p,c}) >= (\\mbox{número de colaboradores de $p$}) * x_{t,s,p,l} $$"
   ]
  },
  {
   "cell_type": "code",
   "execution_count": 8,
   "id": "658e89fc-50a5-44d3-a7ad-0fcfd61a678d",
   "metadata": {},
   "outputs": [],
   "source": [
    "for t in X:\n",
    "    for s in X[t]:\n",
    "        for p in X[t][s]:\n",
    "            horario.Add(2*sum([X[t][s][p][c] for c in X[t][s][p]]) >= \n",
    "                       len(proj[p]['colaboradores']) * X[t][s][p][proj[p]['lider']])"
   ]
  },
  {
   "cell_type": "markdown",
   "id": "d0656100-9d96-45af-a92c-78541e586e66",
   "metadata": {},
   "source": [
    "7. Para cada Projeto, o número das suas reuniões tem de ser maior ou igual ao mínimo descrito.\n",
    "\n",
    "Da mesma forma, $x_{t,s,p,l}$ com $l$ o líder do Projeto $p$ indica se o esse Projeto tem reunião no 'Timeslot' $t$ e na Sala $s$.\n",
    "\n",
    "$$ tex $$"
>>>>>>> 5f2c0e8c68b288a8d18a3e8b401e12f268746208
   ]
  },
  {
   "cell_type": "code",
<<<<<<< HEAD
   "execution_count": 1,
   "id": "2c488029-8d99-42ad-a218-bb2f845e7e86",
   "metadata": {},
   "outputs": [],
   "source": [
    "from ortools.linear_solver import pywraplp"
   ]
  },
  {
   "cell_type": "markdown",
   "id": "c649578d-c54b-4e5c-bc60-f2b6cbcc6b4d",
   "metadata": {},
   "source": [
    "## Inputs\n",
    "Nesta secção do trabalho vamos dar exemplos de alguns inputs possíveis e não possíveis para que consigamos melhor entender a nossa linha de código, cada input vai ser constituído pelos parâmetros S salas, T intervalos de tempo, P projetos e C colaboradores, tanto como um dicionário que descreve cada projeto e por fim uma matriz de disponibilidade de cada colaborador."
   ]
  },
  {
   "cell_type": "markdown",
   "id": "9d3d02fb-b822-4665-8e86-155843ff47d7",
   "metadata": {},
   "source": [
    "#### Exemplo 1 "
   ]
  },
  {
   "cell_type": "code",
   "execution_count": 2,
   "id": "b7e99407-9fef-4254-b7a1-e7cada08ba5e",
   "metadata": {},
   "outputs": [],
   "source": [
    "T, S, P, C = 3, 2, 3, 5    #período de 8 horas; 2 salas\n",
=======
   "execution_count": 9,
   "id": "84074e40-0aba-4566-8c41-e656d2da2383",
   "metadata": {},
   "outputs": [],
   "source": [
    "for p in range(P):\n",
    "        horario.Add(sum([X[t][s][p][proj[p]['lider']] for t in X for s in X[t] if p in X[t][s]]) >= proj[p]['min'])"
   ]
  },
  {
   "cell_type": "markdown",
   "id": "eaf9407b-7474-4d89-96aa-60411d2be46f",
   "metadata": {},
   "source": [
    "Pode-se então tentar construir um horário para o exemplo dado. Nesta altura, ainda não se encontra otimizado para as especificações do problema."
   ]
  },
  {
   "cell_type": "code",
   "execution_count": 10,
   "id": "734287df-d60b-40d1-8467-6c3e7e98c754",
   "metadata": {},
   "outputs": [
    {
     "name": "stdout",
     "output_type": "stream",
     "text": [
      "Slot: 0\n",
      "Projeto 4 de líder 2 na Sala 0\n",
      "Colaboradores: 2 4 \n",
      "Projeto 1 de líder 1 na Sala 1\n",
      "Colaboradores: 1 3 \n",
      "\n",
      "Slot: 1\n",
      "Projeto 4 de líder 2 na Sala 0\n",
      "Colaboradores: 2 3 \n",
      "Projeto 3 de líder 7 na Sala 1\n",
      "Colaboradores: 1 7 \n",
      "\n",
      "Slot: 2\n",
      "Projeto 0 de líder 4 na Sala 0\n",
      "Colaboradores: 0 4 \n",
      "Projeto 3 de líder 7 na Sala 1\n",
      "Colaboradores: 1 7 \n",
      "\n",
      "Slot: 3\n",
      "Projeto 1 de líder 1 na Sala 0\n",
      "Colaboradores: 1 2 \n",
      "\n",
      "Slot: 4\n",
      "Projeto 2 de líder 3 na Sala 0\n",
      "Colaboradores: 3 4 \n",
      "\n",
      "Slot: 5\n",
      "Projeto 2 de líder 3 na Sala 0\n",
      "Colaboradores: 0 3 \n",
      "Projeto 3 de líder 7 na Sala 1\n",
      "Colaboradores: 1 7 \n",
      "\n"
     ]
    }
   ],
   "source": [
    "status = horario.Solve() \n",
    "if status == pywraplp.Solver.OPTIMAL:\n",
    "    for t in X:\n",
    "        print(f'Slot: {t}')\n",
    "        for s in X[t]:\n",
    "            for p in X[t][s]:\n",
    "                if proj[p]['lider'] in X[t][s][p] and X[t][s][p][proj[p]['lider']].solution_value() == 1:\n",
    "                    l = proj[p]['lider']\n",
    "                    print(f'Projeto {p} de líder {l} na Sala {s}')\n",
    "                    print('Colaboradores:', end = ' ')\n",
    "                    for c in X[t][s][p]:\n",
    "                        if X[t][s][p][c].solution_value() == 1:\n",
    "                            print(f'{c}', end = ' ')\n",
    "                    print('')\n",
    "        print('')\n",
    "else:\n",
    "    print('Nao é possivel construir o hórario')"
   ]
  },
  {
   "cell_type": "markdown",
   "id": "e76f6d84-f668-47c3-b6ee-986f850bff42",
   "metadata": {},
   "source": [
    "### Optimização\n",
    "\n",
    "Os critérios de optimização para este problema são os seguintes:\n",
    "1. Maximizar o número de reuniões efetivamente realizadas - função $r$;\n",
    "2. Minimizar o número médio de reuniões por participante - função $m$.\n",
>>>>>>> 5f2c0e8c68b288a8d18a3e8b401e12f268746208
    "\n",
    "Para 1. o somatório dos $x_{t,s,p,l}$, para $l$ o líder do Projeto $p$, é o número de reuniões realizadas.\n",
    "Para 2. o número médio de reuniões por participante dá-se por:\n",
    "\n",
<<<<<<< HEAD
    "matrix = {}\n",
    "matrix[0] = [1,0,1]\n",
    "matrix[1] = [0,1,1]\n",
    "matrix[2] = [1,1,0]\n",
    "matrix[3] = [1,1,1]\n",
    "matrix[4] = [0,1,1]\n"
   ]
  },
  {
   "cell_type": "markdown",
   "id": "3a38a35a-c0c8-43fe-ab51-0980476023ff",
   "metadata": {},
   "source": [
    "Para começar o programa, vamos definir a função scheduleStartUp que recebe os parâmetros de S salas, T intervalos de tempo, P projetos e C colaboradores, o dicionário de projetos e a matriz de disponibilidade de cada colaborador.\n",
    "Dentro da função tem definida a matriz de alocação xDict como um dicionário e já incluída uma restrição de que \"Para cada intervalos de tempo, para cada sala e para cada projeto, terá que haver unm líder em  cada projeto\", podendo matematicamente ser traduzida como, a soma dos líderes (l) em cada projeto, sala e intervalo de tempo é 1:\n",
    "\n",
    "$$ \\forall_{t<T} \\cdot \\forall_{s<S} \\cdot \\forall_{p<P} \\cdot \\sum x_{l,t,s,p} == 1$$"
=======
    "$$ \\frac{\\sum_{t \\in X} \\sum_{s \\in X[t]} \\sum_{p \\in X[t][s]} \\sum_{c \\in X[t][s][p]} x_{t,s,p,c}}{C} $$\n",
    "\n",
    "Como $C$ é um número constante, basta minimzar o numerador da expressão.\n",
    "\n",
    "Desse modo:\n",
    "\n",
    "\\begin{align*}\n",
    "    r \\quad &:= \\quad \\sum_{t \\in X} \\sum_{s \\in X[t]} \\sum_{p \\in X[t][s]} x_{t,s,p,l} \\\\\n",
    "    m \\quad &:= \\quad \\sum_{t \\in X} \\sum_{s \\in X[t]} \\sum_{p \\in X[t][s]} \\sum_{c \\in X[t][s][p]} x_{t,s,p,c} \\\\\n",
    "\\end{align*}\n",
    "\n",
    "Pode-se obter esta optimização através de uma única maximização, considerando a seguinte função a necessária para maximizar:\n",
    "\n",
    "$$(1- \\lambda) * r - \\lambda * m$$\n",
    "\n",
    "O parâmetro $\\lambda$ pode ser ajustado para tender a optimização ora a favor de maximizar $r$ como de maximizar $m$, desde que $\\lambda \\in [0,1]$."
>>>>>>> 5f2c0e8c68b288a8d18a3e8b401e12f268746208
   ]
  },
  {
   "cell_type": "code",
<<<<<<< HEAD
   "execution_count": 3,
   "id": "566f2a8a-8afa-4849-8e35-b5151a3ee690",
   "metadata": {},
   "outputs": [],
   "source": [
    "def scheduleStartUp(S, T, P, C, projDict, dispMatrix):\n",
    "    xDict = {}\n",
=======
   "execution_count": 11,
   "id": "78aab050-8e09-48cc-886b-00eff75b3d2a",
   "metadata": {},
   "outputs": [],
   "source": [
    "lambd = 0.5\n",
    "horario.Maximize((1 - lambd) * sum([X[t][s][p][proj[p]['lider']] for t in X for s in X[t] for p in X[t][s]]) - \n",
    "                  lambd * sum([X[t][s][p][c] for t in X for s in X[t] for p in X[t][s] for c in X[t][s][p]]))"
   ]
  },
  {
   "cell_type": "markdown",
   "id": "0337f3d2-dd04-456c-ba72-a547a8e568f9",
   "metadata": {},
   "source": [
    "## Exemplos\n",
    "\n",
    "Nesta secção, apresentamos mais exemplos de horários criados pela resolução do problema.\n",
    "\n",
    "De modo a facilitar a testagem dos exemplos, na célula colapsada seguinte encontra-se a função $scheduleStartUp(T, S, P, C, proj, disp)$. Esta função compõe todos os passos da implementação."
   ]
  },
  {
   "cell_type": "code",
   "execution_count": 12,
   "id": "84e6b73d-fb5b-4757-bce5-f97e23e1eea7",
   "metadata": {
    "tags": []
   },
   "outputs": [],
   "source": [
    "def scheduleStartUp(T, S, P, C, proj, disp):\n",
    "    X = {}\n",
>>>>>>> 5f2c0e8c68b288a8d18a3e8b401e12f268746208
    "    result = dict()\n",
    "    horario = pywraplp.Solver.CreateSolver('SCIP')\n",
    "    #dicionário com T*P*C*S variáveis -> X[t][p][c][s] == 1 sse c estará presente na reunião do projeto p no timeslot t na sala s.\n",
    "    for t in range(T):\n",
    "        X[t] = {}\n",
    "        for s in range(S):\n",
    "            X[t][s] = {}\n",
    "            for p in range(P):\n",
<<<<<<< HEAD
    "                if dispMatrix[projDict[p]['lider']][t] == 1:\n",
    "                    xDict[t][s][p] = {}\n",
    "                    for c in projDict[p]['colaboradores']:\n",
    "                        if dispMatrix[c][t] == 1:\n",
    "                            xDict[t][s][p][c] = solver.BoolVar('x[%i][%i][%i}[%i]' % (t,s,p,c))"
   ]
  },
  {
   "cell_type": "markdown",
   "id": "7b333d3c-2b4d-4ba2-814f-c11fb2aa6b16",
   "metadata": {},
   "source": [
    "### Restrições"
   ]
  },
  {
   "cell_type": "markdown",
   "id": "ed6365d4-421e-4c38-a510-a4f8a9a5597b",
   "metadata": {},
   "source": [
    "##### 1. A restrição \"Um colaborador pode ter no máximo uma reunião por cada intervalo de tempo\" pode ser expressa por:\n",
    "$$\\forall_{t<T} \\cdot \\forall_{c<C} \\cdot \\sum x_{s,p} \\le 1$$"
   ]
  },
  {
   "cell_type": "code",
   "execution_count": 4,
   "id": "9afef794-49da-4972-9916-41130ac3cd73",
   "metadata": {},
   "outputs": [
    {
     "ename": "NameError",
     "evalue": "name 'xDict' is not defined",
     "output_type": "error",
     "traceback": [
      "\u001b[1;31m---------------------------------------------------------------------------\u001b[0m",
      "\u001b[1;31mNameError\u001b[0m                                 Traceback (most recent call last)",
      "Input \u001b[1;32mIn [4]\u001b[0m, in \u001b[0;36m<cell line: 1>\u001b[1;34m()\u001b[0m\n\u001b[1;32m----> 1\u001b[0m \u001b[38;5;28;01mfor\u001b[39;00m t \u001b[38;5;129;01min\u001b[39;00m \u001b[43mxDict\u001b[49m:\n\u001b[0;32m      2\u001b[0m     \u001b[38;5;28;01mfor\u001b[39;00m c \u001b[38;5;129;01min\u001b[39;00m \u001b[38;5;28mrange\u001b[39m(C):\n\u001b[0;32m      3\u001b[0m         solver\u001b[38;5;241m.\u001b[39mAdd(\u001b[38;5;28msum\u001b[39m([xDict[t][s][p][c] \u001b[38;5;28;01mfor\u001b[39;00m s \u001b[38;5;129;01min\u001b[39;00m xDict[t] \u001b[38;5;28;01mfor\u001b[39;00m p \u001b[38;5;129;01min\u001b[39;00m xDict[t][s] \u001b[38;5;28;01mif\u001b[39;00m c \u001b[38;5;129;01min\u001b[39;00m xDict[t][s][p]]) \u001b[38;5;241m<\u001b[39m\u001b[38;5;241m=\u001b[39m \u001b[38;5;241m1\u001b[39m)\n",
      "\u001b[1;31mNameError\u001b[0m: name 'xDict' is not defined"
     ]
    }
   ],
   "source": [
    "for t in xDict:\n",
    "    for c in range(C):\n",
    "        solver.Add(sum([xDict[t][s][p][c] for s in xDict[t] for p in xDict[t][s] if c in xDict[t][s][p]]) <= 1)"
   ]
  },
  {
   "cell_type": "markdown",
   "id": "c10202cc-e8f0-4ad2-971f-ca89eeb111cc",
   "metadata": {},
   "source": [
    "##### 2. A restrição \"Cada líder tem de participar no seu projeto\" alberga também a restrição \"Cada colaborador participa apenas de um projeto se o seu líder participar também\" e pode ser traduzida matematicamente como:\n",
    "$$ \\forall_{t<T} \\cdot \\forall_{s<S} \\cdot \\forall_{p<P} \\cdot \\forall_{c<C} \\cdot x_{t,x,p,c} \\le x_{t,s,p,l}$$\n",
    "\n",
    "Ou seja, o colaborador está na reunião de um líder ou simplesmente não está (1 ou 0)."
   ]
  },
  {
   "cell_type": "code",
   "execution_count": 5,
   "id": "9f7c6fc8-a4e0-4f75-bb2e-d6d6abe3dece",
   "metadata": {},
   "outputs": [
    {
     "ename": "NameError",
     "evalue": "name 'xDict' is not defined",
     "output_type": "error",
     "traceback": [
      "\u001b[1;31m---------------------------------------------------------------------------\u001b[0m",
      "\u001b[1;31mNameError\u001b[0m                                 Traceback (most recent call last)",
      "Input \u001b[1;32mIn [5]\u001b[0m, in \u001b[0;36m<cell line: 1>\u001b[1;34m()\u001b[0m\n\u001b[1;32m----> 1\u001b[0m \u001b[38;5;28;01mfor\u001b[39;00m t \u001b[38;5;129;01min\u001b[39;00m \u001b[43mxDict\u001b[49m:\n\u001b[0;32m      2\u001b[0m     \u001b[38;5;28;01mfor\u001b[39;00m s \u001b[38;5;129;01min\u001b[39;00m xDict[t]:\n\u001b[0;32m      3\u001b[0m         \u001b[38;5;28;01mfor\u001b[39;00m p \u001b[38;5;129;01min\u001b[39;00m xDict[t][s]:\n",
      "\u001b[1;31mNameError\u001b[0m: name 'xDict' is not defined"
     ]
    }
   ],
   "source": [
    "for t in xDict:\n",
    "    for s in xDict[t]:\n",
    "        for p in xDict[t][s]:\n",
    "            for c in xDict[t][s][p]:\n",
    "                solver.Add(xDict[t][s][p][c] <= xDict[t][s][p][projDict[p]['lider']])"
   ]
  },
  {
   "cell_type": "markdown",
   "id": "cce422af-8976-488f-9d6e-f441622a2995",
   "metadata": {},
   "source": [
    "3. \"Uma reunião apenas acontece se pelo menos 50% de todos os colaboradores desse projeto se encontram presentes nela e se o líder fizer parte dessa metade\"\n",
    "\n",
    "Esta restrição pode ser expressa como:\n",
    "$$ \\forall_{t<T} \\cdot \\forall_{p<P} \\cdot \\forall_{s<S} \\cdot \\sum_{c<C} x_{t,s,p,c} \\ge \\sum_{c<C} \\frac{{x_{t,s,p,c}}}{\\text{2}} * x_{t,s,p,l}$$\n",
    "\n",
    "Que, para o nosso programa, usaremos as regras de cálculo (com o intuito de evitar tipos floats e ints na mesma linha de código) para tornar a expressão em:\n",
    "\n",
    "$$ \\forall_{t<T} \\cdot \\forall_{p<P} \\cdot \\forall_{s<S} \\cdot 2 * \\sum_{c<C} x_{t,s,p,c} \\ge \\sum_{c<C} x_{t,s,p,c} * x_{t,s,p,l}$$"
   ]
  },
  {
   "cell_type": "code",
   "execution_count": null,
   "id": "bab4599a-f97d-4e39-9cf3-10ce2263eaf8",
   "metadata": {},
   "outputs": [],
   "source": [
    "for t in xDict:\n",
    "    for p in range(P):\n",
    "            for s in xDict[t]:\n",
    "                if p in xDict[t][s]:\n",
    "                    solver.Add(2*sum([xDict[t][s][p][c] for c in xDict[t][s][p]]) >= \n",
    "                               len(projDict[p]['colaboradores']) * xDict[t][s][p][projDict[p]['lider']])"
   ]
  },
  {
   "cell_type": "markdown",
   "id": "452f6905-b04d-490c-a14f-dccd8e022847",
   "metadata": {},
   "source": [
    "4. Cada projeto tem um número míninimo de reuniões semanais já incluídas no seu input, ou seja, o número de reuniões em que o líder se encontra tem que ser pelo menos o mesmo que o valor 'min':\n",
    "$$ \\forall_{t<T} \\cdot \\forall_{p<P} \\cdot \\sum_{s<S,c<C} x_{t,s,p,l} \\ge min $$"
   ]
  },
  {
   "cell_type": "code",
   "execution_count": 6,
   "id": "1e43bef9-13cc-45e6-acb3-bd2db0e56938",
   "metadata": {},
   "outputs": [
    {
     "ename": "NameError",
     "evalue": "name 'xDict' is not defined",
     "output_type": "error",
     "traceback": [
      "\u001b[1;31m---------------------------------------------------------------------------\u001b[0m",
      "\u001b[1;31mNameError\u001b[0m                                 Traceback (most recent call last)",
      "Input \u001b[1;32mIn [6]\u001b[0m, in \u001b[0;36m<cell line: 1>\u001b[1;34m()\u001b[0m\n\u001b[1;32m----> 1\u001b[0m \u001b[38;5;28;01mfor\u001b[39;00m t \u001b[38;5;129;01min\u001b[39;00m \u001b[43mxDict\u001b[49m:\n\u001b[0;32m      2\u001b[0m     \u001b[38;5;28;01mfor\u001b[39;00m p \u001b[38;5;129;01min\u001b[39;00m \u001b[38;5;28mrange\u001b[39m(P):\n\u001b[0;32m      3\u001b[0m         solver\u001b[38;5;241m.\u001b[39mAdd(\u001b[38;5;28msum\u001b[39m([xDict[t][s][p][projDict[p][\u001b[38;5;124m'\u001b[39m\u001b[38;5;124mlider\u001b[39m\u001b[38;5;124m'\u001b[39m]] \u001b[38;5;28;01mfor\u001b[39;00m t \u001b[38;5;129;01min\u001b[39;00m xDict \u001b[38;5;28;01mfor\u001b[39;00m s \u001b[38;5;129;01min\u001b[39;00m xDict[t] \u001b[38;5;28;01mif\u001b[39;00m p \u001b[38;5;129;01min\u001b[39;00m xDict[t][s]]) \u001b[38;5;241m>\u001b[39m\u001b[38;5;241m=\u001b[39m projDict[p][\u001b[38;5;124m'\u001b[39m\u001b[38;5;124mmin\u001b[39m\u001b[38;5;124m'\u001b[39m])\n",
      "\u001b[1;31mNameError\u001b[0m: name 'xDict' is not defined"
     ]
    }
   ],
   "source": [
    "for t in xDict:\n",
    "    for p in range(P):\n",
    "        solver.Add(sum([xDict[t][s][p][projDict[p]['lider']] for t in xDict for s in xDict[t] if p in xDict[t][s]]) >= projDict[p]['min'])"
   ]
  },
  {
   "cell_type": "markdown",
   "id": "b6e19a51-351a-4713-a0b6-e67a82f7b661",
   "metadata": {},
   "source": [
    "## Critérios de otimização"
   ]
  },
  {
   "cell_type": "markdown",
   "id": "c7db4a87-9944-4dd5-a438-2ba0249c0047",
   "metadata": {},
   "source": [
    "1.Maximizar o número de reuniões efetivamente realizadas"
   ]
  },
  {
   "cell_type": "code",
   "execution_count": 8,
   "id": "6c5d3a59-aa7d-4da6-9c3d-1544d0112b67",
   "metadata": {},
   "outputs": [
    {
     "ename": "NameError",
     "evalue": "name 'solver' is not defined",
     "output_type": "error",
     "traceback": [
      "\u001b[1;31m---------------------------------------------------------------------------\u001b[0m",
      "\u001b[1;31mNameError\u001b[0m                                 Traceback (most recent call last)",
      "Input \u001b[1;32mIn [8]\u001b[0m, in \u001b[0;36m<cell line: 1>\u001b[1;34m()\u001b[0m\n\u001b[1;32m----> 1\u001b[0m \u001b[43msolver\u001b[49m\u001b[38;5;241m.\u001b[39mMaximize(\u001b[38;5;28msum\u001b[39m([xDict[t][s][p][projDict[p][\u001b[38;5;124m'\u001b[39m\u001b[38;5;124mlider\u001b[39m\u001b[38;5;124m'\u001b[39m]] \u001b[38;5;28;01mfor\u001b[39;00m t \u001b[38;5;129;01min\u001b[39;00m xDict \u001b[38;5;28;01mfor\u001b[39;00m s \u001b[38;5;129;01min\u001b[39;00m xDict[t] \u001b[38;5;28;01mfor\u001b[39;00m p \u001b[38;5;129;01min\u001b[39;00m xDict[t][s]]))\n",
      "\u001b[1;31mNameError\u001b[0m: name 'solver' is not defined"
     ]
    }
   ],
   "source": [
    "solver.Maximize(sum([xDict[t][s][p][projDict[p]['lider']] for t in xDict for s in xDict[t] for p in xDict[t][s]]))"
   ]
  },
  {
   "cell_type": "markdown",
   "id": "8c31bff4-6c80-4a73-b0b6-d31e2c6d9141",
   "metadata": {},
   "source": [
    "2.Minimizar o número médio de reuniões por participante."
   ]
  },
  {
   "cell_type": "code",
   "execution_count": null,
   "id": "d4af7c53-0639-474c-a08c-2196b81ac005",
   "metadata": {},
   "outputs": [],
   "source": [
    "solver.Minimize(sum([xDict[t][s][p][c] for t in xDict for s in xDict[t] for p in xDict[t][s] for c in xDict[t][s][p]]))"
   ]
  },
  {
   "cell_type": "markdown",
   "id": "9f3ad85e-d1bb-4dd0-8db0-7b905a664825",
   "metadata": {},
   "source": [
    "## Resolução dos problemas"
   ]
  },
  {
   "cell_type": "markdown",
   "id": "f1a647ba-a313-448e-ba59-ae8b607817c6",
   "metadata": {},
   "source": [
    "Com todas as restrições impostas ao solver, apenas é necessário procurarmos uma solução, se não existir uma, o programa dirá que não é possível."
   ]
  },
  {
   "cell_type": "code",
   "execution_count": null,
   "id": "84e6b73d-fb5b-4757-bce5-f97e23e1eea7",
   "metadata": {},
   "outputs": [],
   "source": [
    "\n",
    "    status = solver.Solve()\n",
=======
    "                if disp[proj[p]['lider']][t] == 1:\n",
    "                    X[t][s][p] = {}\n",
    "                    #Cada Colaborador apenas pode participar dos seus proj -> Obrigatório pela definição dos dicionários\n",
    "                    for c in proj[p]['colaboradores']:\n",
    "                        #Cada Colaborador tem de ter horário -> Obrigatório pela definição dos dicionários\n",
    "                        if disp[c][t] == 1:\n",
    "                            X[t][s][p][c] = horario.BoolVar('x[%i][%i][%i}[%i]' % (t,s,p,c))\n",
    "                \n",
    "    #Para cada Timeslot,\n",
    "    for t in X:\n",
    "        #Cada Sala apenas pode ter um projeto\n",
    "        for s in X[t]:\n",
    "            horario.Add(sum([X[t][s][p][proj[p]['lider']] for p in X[t][s]]) <= 1)\n",
    "            \n",
    "        #Cada Colaborador possível nesse timeslot pode ter, no máximo, 1 reunião\n",
    "        for c in range(C):\n",
    "            horario.Add(sum([X[t][s][p][c] for s in X[t] for p in X[t][s] if c in X[t][s][p]]) <= 1)\n",
    "            \n",
    "        #Cada Colaborador tem de ter horário -> Obrigatório pela definição dos dicionários\n",
    "        #Cada Colaborador apenas pode participar dos seus proj -> Obrigatório pela definição dos dicionários\n",
    "        \n",
    "        #Cada Líder tem de participar do seu projeto OU SEJA\n",
    "            #Cada Colaborador participa apenas de um projeto se o seu líder participar\n",
    "        for s in X[t]:\n",
    "            for p in X[t][s]:\n",
    "                for c in X[t][s][p]:\n",
    "                    horario.Add(X[t][s][p][c] <= X[t][s][p][proj[p]['lider']])\n",
    "                    \n",
    "        #Cada Projeto apenas pode ser selecionado se houver 'quórum', o projeto só existe se o líder existe\n",
    "            #Apenas se pode olhar para uma dada sala, ou podemos ver salas de outros proj para algum colaborador\n",
    "            #Número de participantes efetivos / total de colaboradores >= 1 / 2\n",
    "                #Com cálculos chega-se a: 2*Número de participantes efetivos >= total de colaboradores\n",
    "            #É necessário multiplicar pelo valor do líder para que não obriguemos a ter um somatório de 0's (pessoas não vão) >= quorum\n",
    "        for s in X[t]:\n",
    "            for p in X[t][s]:\n",
    "                horario.Add(2*sum([X[t][s][p][c] for c in X[t][s][p]]) >= \n",
    "                           len(proj[p]['colaboradores']) * X[t][s][p][proj[p]['lider']])\n",
    "        \n",
    "    #Para cada Projeto, o número de vezes que foi selecionado tem de ser igual ou maior ao seu mínimo\n",
    "    for p in range(P):\n",
    "        horario.Add(sum([X[t][s][p][proj[p]['lider']] for t in X for s in X[t] if p in X[t][s]]) >= proj[p]['min'])\n",
    "    \n",
    "    #Deve-se Maximizar o Número total de reuniões realizadas e Minimizar o número médio de reuniões por participante\n",
    "    lambd = 0.5\n",
    "    horario.Maximize((1 - lambd) * sum([X[t][s][p][proj[p]['lider']] for t in X for s in X[t] for p in X[t][s]]) - \n",
    "                      lambd * sum([X[t][s][p][c] for t in X for s in X[t] for p in X[t][s] for c in X[t][s][p]]))\n",
    "    \n",
    "    status = horario.Solve()\n",
>>>>>>> 5f2c0e8c68b288a8d18a3e8b401e12f268746208
    "    \n",
    "    if status == pywraplp.Solver.OPTIMAL:\n",
    "        count = 0\n",
    "        projects = 0\n",
    "        for t in X:\n",
    "            print(f'Slot: {t}')\n",
    "            for s in X[t]:\n",
    "                for p in X[t][s]:\n",
    "                    if proj[p]['lider'] in X[t][s][p] and X[t][s][p][proj[p]['lider']].solution_value() == 1:\n",
    "                        projects += 1\n",
    "                        l = proj[p]['lider']\n",
    "                        print(f'Projeto {p} de líder {l} na Sala {s}')\n",
    "                        print('Colaboradores:', end = ' ')\n",
    "                        for c in X[t][s][p]:\n",
    "                            if X[t][s][p][c].solution_value() == 1:\n",
    "                                print(f'{c}', end = ' ')\n",
    "                                count += 1\n",
    "                        print('')\n",
    "            print('')\n",
    "        print(f'Número médio de reuniões por colaborador: {count/C}')\n",
    "        print(f'Número de reuniões: {projects}')\n",
    "    else:\n",
    "        print('Nao é possivel construir o hórario')"
   ]
  },
  {
   "cell_type": "markdown",
   "id": "18dfbb25-0616-4495-b22a-ab7c04bba345",
   "metadata": {},
   "source": [
    "#### Exemplo 1 (Introdutório)"
   ]
  },
  {
   "cell_type": "code",
   "execution_count": 13,
   "id": "6f4622f2-36ef-4c37-9d08-3837e67cda09",
   "metadata": {},
   "outputs": [
    {
     "name": "stdout",
     "output_type": "stream",
     "text": [
      "Slot: 0\n",
      "Projeto 4 de líder 2 na Sala 0\n",
      "Colaboradores: 2 4 \n",
      "Projeto 3 de líder 7 na Sala 1\n",
      "Colaboradores: 1 7 \n",
      "\n",
      "Slot: 1\n",
      "Projeto 2 de líder 3 na Sala 0\n",
      "Colaboradores: 2 3 \n",
      "Projeto 3 de líder 7 na Sala 1\n",
      "Colaboradores: 1 7 \n",
      "\n",
      "Slot: 2\n",
      "Projeto 3 de líder 7 na Sala 0\n",
      "Colaboradores: 0 7 \n",
      "Projeto 1 de líder 1 na Sala 1\n",
      "Colaboradores: 1 3 \n",
      "\n",
      "Slot: 3\n",
      "Projeto 1 de líder 1 na Sala 0\n",
      "Colaboradores: 1 2 \n",
      "\n",
      "Slot: 4\n",
      "\n",
      "Slot: 5\n",
      "Projeto 2 de líder 3 na Sala 0\n",
      "Colaboradores: 2 3 \n",
      "Projeto 0 de líder 4 na Sala 1\n",
      "Colaboradores: 1 4 \n",
      "\n",
      "Número médio de reuniões por colaborador: 2.25\n",
      "Número de reuniões: 9\n"
     ]
    }
   ],
   "source": [
    "T, S, P, C = 6, 2, 5, 8 \n",
    "\n",
    "proj = {}\n",
    "proj[0] = {'colaboradores':[0,1,2,4], 'lider':4, 'min':1}\n",
    "proj[1] = {'colaboradores':[1,2,3], 'lider':1, 'min':2}\n",
    "proj[2] = {'colaboradores':[0,2,3,4], 'lider':3, 'min':2}\n",
    "proj[3] = {'colaboradores':[0,1,7], 'lider':7, 'min':3}\n",
    "proj[4] = {'colaboradores':[2,3,4], 'lider':2, 'min':1}\n",
    "\n",
    "disp = {}\n",
    "disp[0] = [1,0,1,1,0,1]\n",
    "disp[1] = [1,1,1,1,0,1]\n",
    "disp[2] = [1,1,0,1,0,1]\n",
    "disp[3] = [1,1,1,0,1,1]\n",
    "disp[4] = [1,1,1,0,1,1]\n",
    "disp[5] = [1,0,1,0,1,1]\n",
    "disp[6] = [1,1,1,0,1,1]\n",
    "disp[7] = [1,1,1,0,0,1]\n",
    "\n",
    "scheduleStartUp(T, S, P, C, proj, disp)"
   ]
<<<<<<< HEAD
=======
  },
  {
   "cell_type": "code",
   "execution_count": null,
   "id": "f6e4d36d-9ca4-4d08-93e2-fc5dc0d242e8",
   "metadata": {},
   "outputs": [],
   "source": []
>>>>>>> 5f2c0e8c68b288a8d18a3e8b401e12f268746208
  }
 ],
 "metadata": {
  "kernelspec": {
   "display_name": "Python 3 (ipykernel)",
   "language": "python",
   "name": "python3"
  },
  "language_info": {
   "codemirror_mode": {
    "name": "ipython",
    "version": 3
   },
   "file_extension": ".py",
   "mimetype": "text/x-python",
   "name": "python",
   "nbconvert_exporter": "python",
   "pygments_lexer": "ipython3",
   "version": "3.10.4"
  }
 },
 "nbformat": 4,
 "nbformat_minor": 5
}
