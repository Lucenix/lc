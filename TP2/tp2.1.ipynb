{
 "cells": [
  {
   "cell_type": "markdown",
   "id": "abd33508-c856-4b5c-a9f3-4b1803dfb960",
   "metadata": {},
   "source": [
    "# TP2 - Grupo 14\n",
    "\n",
    "André Lucena Ribas Ferreira - A94956\n",
    "\n",
    "Paulo André Alegre Pinto - A97391"
   ]
  },
  {
   "cell_type": "markdown",
   "id": "e8592c4c-8e88-4cc4-b547-f6bbec90bf72",
   "metadata": {},
   "source": [
    "## Problema 1 - Control Flow Automaton\n",
    "\n",
    "\n",
    "Um  programa imperativo pode ser descrito por um modelo do tipo Control Flow Automaton (CFA) como ilustrado no exemplo seguinte\n",
    "![Algoritmo de Multiplicação](https://paper-attachments.dropboxusercontent.com/s_9896551CC5FAD2B2EB6E4EBC08522545FA66314D29FE6A5BE8E593259F8E8A37_1668181619605_multiplicacao-overflow.png)\n",
    "\n",
    "Este programa implementa a multiplicação de dois inteiros $a,b$ , fornecidos como “input”, e com precisão limitada a $n$ bits (fornecido como parâmetro do programa). Note-se que\n",
    "\n",
    "- Existe a possibilidade de alguma das operações do programa produzir um erro de “overflow”. \n",
    "- Os nós do grafo representam ações que actuam sobre os “inputs” do nó e produzem um “output” com as operações indicadas\n",
    "- Os ramos do grafo representam ligações que transferem o “output” de um nodo para o “input” do nodo seguinte. Esta transferência é condicionada pela satisfação da condição associada ao ramo\n",
    "\n",
    "Como 'inputs', o programa recebe:\n",
    " 1. O número de bits da precisão $n$, ao qual todas as variáveis do problema são limitados;\n",
    " 2. Os dois inteiros a se multiplicar, $a$ e $b$."
   ]
  },
  {
   "cell_type": "markdown",
   "id": "1b343f87-3ee9-4a6b-999f-44934643f61a",
   "metadata": {},
   "source": [
    "## Análise\n",
    "\n",
    "Pretende-se modelar o autómato em cima descrito a partir de um FOTS usando BitVectors de tamanho $n$. Para tal, é necessário definir as variáveis do modelo, o predicado que define o estado inicial e a relação de transição.\n",
    "\n",
    "O modelo terá 3 variáveis do tipo BitVector, $x$, $y$ e $z$, este último que terminará com o resultado da execução. Para além destes, também terá uma variável inteira $p$ que representa o estado de execução. Definiu-se um inteiro para cada um dos estados, nomeadamente:\n",
    " - $-1$ para Estado de erro.\n",
    " - $0$ para Estado central (loop). Nele testam-se os casos.\n",
    " - $1$ para Estado de execução se $y$ for par (não zero).\n",
    " - $2$ para Estado de execução se $y$ for ímpar (não zero).\n",
    " - $3$ para Estado Final.\n",
    " \n",
    "Decidiu-se manter-se o número de estados descritos no autómato de modo a evitar fazer comparações de erro quando estas não são necessárias.\n",
    "\n",
    "Considerando o estado inicial, uma optimização possível à execução do autómato será manter considerar o valor $b$ o menor dos dois. O estado inicial será então defindo pelo predicado seguinte.\n",
    "\n",
    "$$ p = 0 \\wedge x = a \\wedge y = b \\wedge z = 0$$\n",
    "\n",
    "Uma consideração a ter em conta para a transição é a de colocar condições opostas para a transição que efetua o cálculo e a que testa a condição de erro, já que partem ambas do mesmo estado. Outra será a de criar uma transição ora do estado $-1$ ora do $3$ para si próprio, montando assim um *loop* já que esses estados são finais. A relação de transição entre dois estados $s$ e $s'$ será definido pelo seguinte predicado:\n",
    "\n",
    "\\begin{array}{c}\n",
    "(\\mathit{p} = 0 \\wedge y \\equiv 0 \\pmod 2 \\wedge y \\neq 0 \\wedge \\mathit{p}' = 1 \\wedge x' = x \\wedge y' = y \\wedge z' = z) \\\\\n",
    "\\vee\\\\\n",
    "(\\mathit{p} = 0 \\wedge y \\equiv 1 \\pmod 2 \\wedge y \\neq 0 \\wedge \\mathit{p}' = 2 \\wedge x' = x \\wedge y' = y \\wedge z' = z) \\\\\n",
    "\\vee\\\\\n",
    "(\\mathit{p} = 1 \\wedge 2x < 2^n \\wedge \\mathit{p}' = 0 \\wedge x' = 2x \\wedge y' = y/2 \\wedge z' = z)\\\\\n",
    "\\vee\\\\\n",
    "(\\mathit{p} = 1 \\wedge 2x \\leq 2^n \\wedge \\mathit{p}' = -1 \\wedge x' = x \\wedge y' = y \\wedge z' = z)\\\\\n",
    "\\vee\\\\\n",
    "(\\mathit{p} = 2 \\wedge 2^n - 1 - z \\geq x \\wedge \\mathit{p}' = 0 \\wedge x' = x \\wedge y' = y - 1 \\wedge z' = z + x)\\\\\n",
    "\\vee\\\\\n",
    "(\\mathit{p} = 2 \\wedge 2^n - 1 - z < x \\wedge \\mathit{p}' = -1 \\wedge x' = x \\wedge y' = y \\wedge z' = z)\\\\\n",
    "\\vee\\\\\n",
    "(\\mathit{p} = 0 \\wedge y = 0 \\wedge \\mathit{p}' = 3 \\wedge x' = x \\wedge y' = y \\wedge z' = z)\\\\\n",
    "\\vee\\\\\n",
    "(\\mathit{p} = -1 \\wedge \\mathit{p}' = -1 \\wedge x' = x \\wedge y' = y \\wedge z' = z)\\\\\n",
    "\\vee\\\\\n",
    "(\\mathit{p} = 3 \\wedge \\mathit{p}' = 3 \\wedge x' = x \\wedge y' = y \\wedge z' = z)\\\\\n",
    "\\end{array}\n",
    "\n",
    "Um traço de execução é uma sequência de estados, onde dois estados consequentes validam um predicado de transição. Como o número de estados é finito, já que os valores que $a$ e $b$ podem tomar estão limitados pela precisão $n$, e porque as operações executadas tendem para um dos estados de *loop*, qualquer traço de execução deste problema é limitado. Dessa forma, pode-se sempre calcular o traço até ao momento em que um estado transiciona para outro que já ocorreu no traço, descrevendo assim um loop.\n",
    "\n",
    "Por fim, pode-se verificar, para qualquer estado de um traço de execução, se o invariante $x * y + z = a * b$ é válido."
   ]
  },
  {
   "cell_type": "markdown",
   "id": "1b9250ad-3480-409a-be49-f9ab37b93dd2",
   "metadata": {},
   "source": [
    "## Implementação\n",
    "\n",
    "Para a resolução do problema em questão, decidiu-se usar o módulo `pysmt.shortcuts`, com as funcionalidades possíveis para a utilização de um SMT Solver. Importam-se também os tipos deste Solver, a partir do módulo `pysmt.typing`. Para modelar este problema, irá usar-se BitVectors, então escolheu-se o `z3` como Solver.\n",
    "\n",
    "Para além disso, é necessário importar o módulo `numpy` para eventuais necessidades de aleatoriedade."
   ]
  },
  {
   "cell_type": "code",
   "execution_count": 1,
   "id": "675efbfc-fcbb-4a7b-b5f6-c166b10b2f69",
   "metadata": {},
   "outputs": [],
   "source": [
    "from pysmt.shortcuts import *\n",
    "import pysmt.typing as types\n",
    "import numpy as np"
   ]
  },
  {
   "cell_type": "markdown",
   "id": "d60eaa44-7161-4fae-afe8-e94f7bf16114",
   "metadata": {},
   "source": [
    "Como 'input', define-se apenas $n$, a precisão. Os valores $a$ e $b$ serão tratados futuramente."
   ]
  },
  {
   "cell_type": "code",
   "execution_count": 2,
   "id": "0b8a4ccb-0490-4079-918b-1eea3ee03127",
   "metadata": {},
   "outputs": [],
   "source": [
    "n = 32     # precisão"
   ]
  },
  {
   "cell_type": "markdown",
   "id": "d7d8a884-bdac-477a-80e1-f5f1ed3f15dd",
   "metadata": {},
   "source": [
    "Como função auxiliar de BitVectors, definiu-se `bv_sel(z,i)`, que seleciona o $i$-ésimo bit do vetor $z$."
   ]
  },
  {
   "cell_type": "code",
   "execution_count": 3,
   "id": "6ecada35-2b7c-43d3-8fef-e5102b36965f",
   "metadata": {},
   "outputs": [],
   "source": [
    "def bv_sel(z,i):                    # seleciona o bit i do BitVec \"z\"\n",
    "    return BVExtract(z,start=i,end=i)"
   ]
  },
  {
   "cell_type": "markdown",
   "id": "04cf198a-506c-414f-9fe0-7beb1833b3ae",
   "metadata": {},
   "source": [
    "Como funções necessárias para a modelação, definem-se `declare(i)`, que cria a i-ésima cópia do estado; `init(state)`, que devolve um predicado que testa o estado inicial; `init_ab(state, a, b)`, que recebe $a$ e $b$ separadamente do tratamento do Solver; e `trans(curr, prox)`, que gera um predicado a partir de dois estados que define as condições de transição entre eles."
   ]
  },
  {
   "cell_type": "markdown",
   "id": "b8b0a305-ff32-4555-af33-996bad61644d",
   "metadata": {},
   "source": [
    "Para ser possivel fazer o cálculo de $a * b$ para se verificar o invariante, decidiu-se usar BitVectors de tamanho $2n$, já que:\n",
    "\n",
    "$$ log_2(a) \\leq n \\wedge log_2(b) \\leq n \\implies log_2(a * b) \\leq 2n $$"
   ]
  },
  {
   "cell_type": "markdown",
   "id": "09f53d7a-fd68-4809-98fc-8deee145b9a4",
   "metadata": {},
   "source": [
    "Para `declare(i)`, definem-se as variáveis já descritas na Análise."
   ]
  },
  {
   "cell_type": "code",
   "execution_count": 4,
   "id": "59778440-125e-4d65-bc5d-686b0c623146",
   "metadata": {},
   "outputs": [],
   "source": [
    "def declare(i): #declara um bitvector de tamanho n\n",
    "    state = {}\n",
    "    #declaram-se os BV com margem de manobra para operações (invariante)\n",
    "    state['x'] = Symbol('x'+str(i),types.BVType(2*n)) \n",
    "    state['y'] = Symbol('y'+str(i),types.BVType(2*n))\n",
    "    state['z'] = Symbol('z'+str(i),types.BVType(2*n))\n",
    "    state['p'] = Symbol('p'+str(i),INT) #-1 - erro; 0 - loop; 1 - par; 2 - ímpar; 3 - final\n",
    "    return state"
   ]
  },
  {
   "cell_type": "markdown",
   "id": "4403f9e7-0d55-4040-b5f9-4919ca2f3775",
   "metadata": {},
   "source": [
    "Para `init(state)`, define-se um predicado que gera valores apenas na gama $\\{0..2^n-1\\}$ e que também gera valores de $y$ menores que de $x$. Os valores considerados aqui podem ser considerados também os gerados para $a$ e $b$."
   ]
  },
  {
   "cell_type": "code",
   "execution_count": 5,
   "id": "333bc196-c3f4-4ef3-99ec-990f40fbb7d8",
   "metadata": {},
   "outputs": [],
   "source": [
    "#por o y sempre o mais pequeno dos dois (cuidado com cenas mais à frente)\n",
    "def init(state):\n",
    "    return And(Equals(state['z'],BVZero(2*n)), Equals(state['p'], Int(0)), BVULT(state['x'], BV(2**n, 2*n)), \n",
    "               BVULT(state['y'], BV(2**n, 2*n)), BVULT(state['y'], state['x']))"
   ]
  },
  {
   "cell_type": "markdown",
   "id": "4d725eab-b42c-4e97-9965-b9a1308cbf12",
   "metadata": {},
   "source": [
    "Semelhantemente, `init_ab(state, a, b)` escolherá para $y$ o menor dos dois valores."
   ]
  },
  {
   "cell_type": "code",
   "execution_count": 6,
   "id": "bc9bda11-c89e-40dd-be9e-735119c33899",
   "metadata": {},
   "outputs": [],
   "source": [
    "#a será sempre o valor maior\n",
    "def init_ab(state,a,b):\n",
    "    if a < b:\n",
    "        a,b = b,a\n",
    "    a = BV(a,n)\n",
    "    b = BV(b,n)\n",
    "    return And(Equals(state['z'],BVZero(2*n)), Equals(state['p'], Int(0)), Equals(state['x'], BVZExt(a,n)), \n",
    "               Equals(state['y'], BVZExt(b,n)))"
   ]
  },
  {
   "cell_type": "markdown",
   "id": "bf6cf02d-9ce4-4db8-94d9-ba0c16a36e3d",
   "metadata": {},
   "source": [
    "De seguida, definiu-se a função `trans(curr, prox)`, de acordo com a especificação na Análise. \n",
    "Notavelmente, observa-se o seguinte:\n",
    " 1. $\\quad 2x \\geq 2^n \\equiv x_{n-1} = 1$\n",
    " 2. $\\quad y \\geq 0 \\pmod 2 \\equiv y_{0} = 0$\n",
    " 3. $\\quad 2x = x << 1$\n",
    " 4. $\\quad 2y = y >> 1$"
   ]
  },
  {
   "cell_type": "code",
   "execution_count": 7,
   "id": "11b5e20e-0faa-4223-891f-399328d9cee1",
   "metadata": {},
   "outputs": [],
   "source": [
    "def trans(curr, prox):\n",
    "    tend = And(Equals(curr['p'], Int(0)), Equals(prox['p'], Int(3)), Equals(curr['y'], BVZero(2*n)),\n",
    "               Equals(curr['x'], prox['x']), Equals(curr['y'], prox['y']), Equals(curr['z'], prox['z']))\n",
    "    \n",
    "    tendl = And(Equals(curr['p'], Int(3)), Equals(prox['p'], Int(3)), \n",
    "                  Equals(curr['x'], prox['x']), Equals(curr['y'], prox['y']), Equals(curr['z'], prox['z']))\n",
    "    \n",
    "    todd = And(Equals(curr['p'], Int(0)), Equals(prox['p'], Int(2)), Equals(bv_sel(curr['y'],0), BVOne(1)),\n",
    "               Equals(curr['x'], prox['x']), Equals(curr['y'], prox['y']), Equals(curr['z'], prox['z']))\n",
    "                \n",
    "    toddt = And(Equals(curr['p'], Int(2)), Equals(prox['p'], Int(0)), Equals(prox['y'], curr['y'] - BVZExt(BVOne(1), 2*n-1)), \n",
    "                Equals(prox['z'], curr['z'] + curr['x']), Equals(prox['x'], curr['x']), Not(curr['x'] > BVSub(BV(2**n-1,2*n), curr['z'])))\n",
    "    \n",
    "    toddof = And(Equals(curr['p'], Int(2)), Equals(prox['p'], Int(-1)), curr['x'] > BVSub(BV(2**n-1,2*n), curr['z']),\n",
    "                 Equals(curr['x'], prox['x']), Equals(curr['y'], prox['y']), Equals(curr['z'], prox['z']))\n",
    "                  \n",
    "    teven = And(Equals(curr['p'], Int(0)), Equals(prox['p'], Int(1)), Not(Equals(curr['y'], BVZero(2*n))), Equals(bv_sel(curr['y'],0), BVZero(1)),\n",
    "                Equals(curr['x'], prox['x']), Equals(curr['y'], prox['y']), Equals(curr['z'], prox['z']))\n",
    "                 \n",
    "    tevent = And(Equals(curr['p'], Int(1)), Equals(prox['p'], Int(0)), Equals(prox['x'], BVLShl(curr['x'], BVZExt(BVOne(1), 2*n-1))),\n",
    "                 Equals(prox['y'], BVLShr(curr['y'], BVZExt(BVOne(1), 2*n-1))), Equals(curr['z'], prox['z']), Not(Equals(bv_sel(curr['x'], n-1), BVOne(1))))\n",
    "    \n",
    "    tevenof = And(Equals(curr['p'], Int(1)), Equals(prox['p'], Int(-1)), Equals(bv_sel(curr['x'], n-1), BVOne(1)),\n",
    "                  Equals(curr['x'], prox['x']), Equals(curr['y'], prox['y']), Equals(curr['z'], prox['z']))\n",
    "                 \n",
    "    tofl = And(Equals(curr['p'], Int(-1)), Equals(prox['p'], Int(-1)), \n",
    "               Equals(curr['x'], prox['x']), Equals(curr['y'], prox['y']), Equals(curr['z'], prox['z']))\n",
    "    \n",
    "    return Or(tend, tendl, todd, toddof, toddt, teven, tevenof, tevent, tofl)"
   ]
  },
  {
   "cell_type": "markdown",
   "id": "b9dca7e6-bdf9-4da4-8bb0-5710926cbcc0",
   "metadata": {},
   "source": [
    "Após definir as funções `declare` e `trans` definimos a função de ordem superior `gera_tracok` que cria um traço aleatório que começa em `'init'` (estado inicial), é formado por `k` cópias do estado, usando as funções declare para declarar `k` estados do traço e `trans` para, como descrito no autómato, transicionar os estados."
   ]
  },
  {
   "cell_type": "code",
   "execution_count": 8,
   "id": "7b87d771-7efc-419a-8da7-01add2e652c3",
   "metadata": {},
   "outputs": [
    {
     "name": "stdout",
     "output_type": "stream",
     "text": [
      "(p: 0, x: 536870912_64, y: 5_64, z: 0_64)\n",
      "(p: 2, x: 536870912_64, y: 5_64, z: 0_64)\n",
      "(p: 0, x: 536870912_64, y: 4_64, z: 536870912_64)\n",
      "(p: 1, x: 536870912_64, y: 4_64, z: 536870912_64)\n",
      "(p: 0, x: 1073741824_64, y: 2_64, z: 536870912_64)\n",
      "(p: 1, x: 1073741824_64, y: 2_64, z: 536870912_64)\n",
      "(p: 0, x: 2147483648_64, y: 1_64, z: 536870912_64)\n",
      "(p: 2, x: 2147483648_64, y: 1_64, z: 536870912_64)\n",
      "(p: 0, x: 2147483648_64, y: 0_64, z: 2684354560_64)\n",
      "(p: 3, x: 2147483648_64, y: 0_64, z: 2684354560_64)\n",
      "(p: 3, x: 2147483648_64, y: 0_64, z: 2684354560_64)\n",
      "(p: 3, x: 2147483648_64, y: 0_64, z: 2684354560_64)\n",
      "(p: 3, x: 2147483648_64, y: 0_64, z: 2684354560_64)\n",
      "(p: 3, x: 2147483648_64, y: 0_64, z: 2684354560_64)\n",
      "(p: 3, x: 2147483648_64, y: 0_64, z: 2684354560_64)\n",
      "(p: 3, x: 2147483648_64, y: 0_64, z: 2684354560_64)\n",
      "(p: 3, x: 2147483648_64, y: 0_64, z: 2684354560_64)\n",
      "(p: 3, x: 2147483648_64, y: 0_64, z: 2684354560_64)\n",
      "(p: 3, x: 2147483648_64, y: 0_64, z: 2684354560_64)\n",
      "(p: 3, x: 2147483648_64, y: 0_64, z: 2684354560_64)\n",
      "(p: 3, x: 2147483648_64, y: 0_64, z: 2684354560_64)\n",
      "(p: 3, x: 2147483648_64, y: 0_64, z: 2684354560_64)\n",
      "(p: 3, x: 2147483648_64, y: 0_64, z: 2684354560_64)\n",
      "(p: 3, x: 2147483648_64, y: 0_64, z: 2684354560_64)\n",
      "(p: 3, x: 2147483648_64, y: 0_64, z: 2684354560_64)\n"
     ]
    }
   ],
   "source": [
    "def gera_tracok(declare,init,trans,k):\n",
    "    with Solver(name=\"z3\") as s:\n",
    "        trace = [declare(i) for i in range(k)]\n",
    "        s.add_assertion(init(trace[0]))\n",
    "        for i in range(k-1):\n",
    "            s.add_assertion(trans(trace[i],trace[i+1]))\n",
    "        if s.solve():\n",
    "            for i in range(k-1):\n",
    "                print(f'(p: %s, x: %s, y: %s, z: %s)' % (s.get_value(trace[i]['p']), s.get_value(trace[i]['x']),\n",
    "                                        s.get_value(trace[i]['y']),  s.get_value(trace[i]['z'])))\n",
    "            print(f'(p: %s, x: %s, y: %s, z: %s)' % (s.get_value(trace[i]['p']), s.get_value(trace[i]['x']),\n",
    "                                        s.get_value(trace[i]['y']),  s.get_value(trace[i]['z'])))\n",
    "\n",
    "gera_tracok(declare,init,trans,25)"
   ]
  },
  {
   "cell_type": "markdown",
   "id": "9d2c59a1-5c29-46d2-92ba-53dde0e26e5f",
   "metadata": {},
   "source": [
    "A função de ordem superior`bmc_always` para além de gerar um traço também verifica o input e condição `inv` em cada estado e retorna os tamanhos do traço em que essa propriedade é válida."
   ]
  },
  {
   "cell_type": "code",
   "execution_count": 9,
   "id": "6137d2e4-913d-4b52-bbb2-55efb9568600",
   "metadata": {
    "tags": []
   },
   "outputs": [
    {
     "name": "stdout",
     "output_type": "stream",
     "text": [
      "Propriedade válida para traços de tamanho 1\n",
      "Propriedade válida para traços de tamanho 2\n",
      "Propriedade válida para traços de tamanho 3\n",
      "Propriedade válida para traços de tamanho 4\n",
      "Propriedade válida para traços de tamanho 5\n",
      "Propriedade válida para traços de tamanho 6\n",
      "Propriedade válida para traços de tamanho 7\n",
      "Propriedade válida para traços de tamanho 8\n",
      "Propriedade válida para traços de tamanho 9\n",
      "Propriedade válida para traços de tamanho 10\n",
      "Propriedade válida para traços de tamanho 11\n",
      "Propriedade válida para traços de tamanho 12\n",
      "Propriedade válida para traços de tamanho 13\n",
      "Propriedade válida para traços de tamanho 14\n",
      "Propriedade válida para traços de tamanho 15\n",
      "Propriedade válida para traços de tamanho 16\n",
      "Propriedade válida para traços de tamanho 17\n",
      "Propriedade válida para traços de tamanho 18\n",
      "Propriedade válida para traços de tamanho 19\n",
      "Propriedade válida para traços de tamanho 20\n",
      "Propriedade válida para traços de tamanho 21\n",
      "Propriedade válida para traços de tamanho 22\n",
      "Propriedade válida para traços de tamanho 23\n",
      "Propriedade válida para traços de tamanho 24\n",
      "Propriedade válida para traços de tamanho 25\n",
      "Propriedade válida para traços de tamanho 26\n",
      "Propriedade válida para traços de tamanho 27\n",
      "Propriedade válida para traços de tamanho 28\n",
      "Propriedade válida para traços de tamanho 29\n",
      "Propriedade válida para traços de tamanho 30\n",
      "Propriedade válida para traços de tamanho 31\n",
      "Propriedade válida para traços de tamanho 32\n",
      "Propriedade válida para traços de tamanho 33\n",
      "Propriedade válida para traços de tamanho 34\n",
      "Propriedade válida para traços de tamanho 35\n",
      "Propriedade válida para traços de tamanho 36\n",
      "Propriedade válida para traços de tamanho 37\n",
      "Propriedade válida para traços de tamanho 38\n",
      "Propriedade válida para traços de tamanho 39\n",
      "Propriedade válida para traços de tamanho 40\n",
      "Propriedade válida para traços de tamanho 41\n",
      "Propriedade válida para traços de tamanho 42\n",
      "Propriedade válida para traços de tamanho 43\n",
      "Propriedade válida para traços de tamanho 44\n",
      "Propriedade válida para traços de tamanho 45\n",
      "Propriedade válida para traços de tamanho 46\n",
      "Propriedade válida para traços de tamanho 47\n",
      "Propriedade válida para traços de tamanho 48\n",
      "Propriedade válida para traços de tamanho 49\n",
      "Propriedade válida para traços de tamanho 50\n",
      "Propriedade válida para traços de tamanho 51\n",
      "Propriedade válida para traços de tamanho 52\n",
      "Propriedade válida para traços de tamanho 53\n",
      "Propriedade válida para traços de tamanho 54\n",
      "Propriedade válida para traços de tamanho 55\n",
      "Propriedade válida para traços de tamanho 56\n",
      "Propriedade válida para traços de tamanho 57\n",
      "Propriedade válida para traços de tamanho 58\n",
      "Propriedade válida para traços de tamanho 59\n",
      "Propriedade válida para traços de tamanho 60\n",
      "Propriedade válida para traços de tamanho 61\n",
      "Propriedade válida para traços de tamanho 62\n",
      "Propriedade válida para traços de tamanho 63\n",
      "Propriedade válida para traços de tamanho 64\n",
      "Propriedade válida para traços de tamanho 65\n"
     ]
    }
   ],
   "source": [
    "def bmc_always(declare,init,trans,inv,K):\n",
    "    for k in range(1,K+1):\n",
    "        with Solver(name=\"z3\") as s:\n",
    "            trace = [declare(i) for i in range(k)]\n",
    "            s.add_assertion(init(trace[0]))\n",
    "            for i in range(k-1):\n",
    "                s.add_assertion(trans(trace[i],trace[i+1]))\n",
    "                s.add_assertion(Not(inv(trace[i], trace[0]['x'], trace[0]['y'])))\n",
    "            s.add_assertion(Not(inv(trace[k-1], trace[0]['x'], trace[0]['y'])))\n",
    "            if s.solve():\n",
    "                print(s.get_model())\n",
    "                for i in range(k-1):\n",
    "                    print(f'(p: %s, x: %s, y: %s, z: %s)' % (s.get_value(trace[i]['p']), s.get_value(trace[i]['x']),\n",
    "                                        s.get_value(trace[i]['y']),  s.get_value(trace[i]['z'])))\n",
    "                print(f'(p: %s, x: %s, y: %s, z: %s)' % (s.get_value(trace[i]['p']), s.get_value(trace[i]['x']),\n",
    "                                        s.get_value(trace[i]['y']),  s.get_value(trace[i]['z'])))\n",
    "                print('Deu solve!')\n",
    "                return\n",
    "            print(f\"Propriedade válida para traços de tamanho %d\" % k)\n",
    "\n",
    "def inv(state,a,b):\n",
    "    return Equals(BVAdd(BVMul(state['x'], state['y']), state['z']), BVMul(a,b))\n",
    "\n",
    "#No pior caso, ocorrem 2*n transições\n",
    "bmc_always(declare,init,trans,inv,2*n+1)"
   ]
  },
  {
   "cell_type": "markdown",
   "id": "359e8bf2-8e54-4a10-aaea-c3d4a97ae3e1",
   "metadata": {},
   "source": []
  },
  {
   "cell_type": "code",
   "execution_count": 10,
   "id": "d05977f8-82ba-4643-acb5-1051c3a734c5",
   "metadata": {},
   "outputs": [
    {
     "name": "stdout",
     "output_type": "stream",
     "text": [
      "(p: 0, x: 128148_64, y: 108917_64, z: 0_64)\n",
      "(p: 2, x: 128148_64, y: 108917_64, z: 0_64)\n",
      "(p: 0, x: 128148_64, y: 108916_64, z: 128148_64)\n",
      "(p: 1, x: 128148_64, y: 108916_64, z: 128148_64)\n",
      "(p: 0, x: 256296_64, y: 54458_64, z: 128148_64)\n",
      "(p: 1, x: 256296_64, y: 54458_64, z: 128148_64)\n",
      "(p: 0, x: 512592_64, y: 27229_64, z: 128148_64)\n",
      "(p: 2, x: 512592_64, y: 27229_64, z: 128148_64)\n",
      "(p: 0, x: 512592_64, y: 27228_64, z: 640740_64)\n",
      "(p: 1, x: 512592_64, y: 27228_64, z: 640740_64)\n",
      "(p: 0, x: 1025184_64, y: 13614_64, z: 640740_64)\n",
      "(p: 1, x: 1025184_64, y: 13614_64, z: 640740_64)\n",
      "(p: 0, x: 2050368_64, y: 6807_64, z: 640740_64)\n",
      "(p: 2, x: 2050368_64, y: 6807_64, z: 640740_64)\n",
      "(p: 0, x: 2050368_64, y: 6806_64, z: 2691108_64)\n",
      "(p: 1, x: 2050368_64, y: 6806_64, z: 2691108_64)\n",
      "(p: 0, x: 4100736_64, y: 3403_64, z: 2691108_64)\n",
      "(p: 2, x: 4100736_64, y: 3403_64, z: 2691108_64)\n",
      "(p: 0, x: 4100736_64, y: 3402_64, z: 6791844_64)\n",
      "(p: 1, x: 4100736_64, y: 3402_64, z: 6791844_64)\n",
      "(p: 0, x: 8201472_64, y: 1701_64, z: 6791844_64)\n",
      "(p: 2, x: 8201472_64, y: 1701_64, z: 6791844_64)\n",
      "(p: 0, x: 8201472_64, y: 1700_64, z: 14993316_64)\n",
      "(p: 1, x: 8201472_64, y: 1700_64, z: 14993316_64)\n",
      "(p: 0, x: 16402944_64, y: 850_64, z: 14993316_64)\n",
      "(p: 1, x: 16402944_64, y: 850_64, z: 14993316_64)\n",
      "(p: 0, x: 32805888_64, y: 425_64, z: 14993316_64)\n",
      "(p: 2, x: 32805888_64, y: 425_64, z: 14993316_64)\n",
      "(p: 0, x: 32805888_64, y: 424_64, z: 47799204_64)\n",
      "(p: 1, x: 32805888_64, y: 424_64, z: 47799204_64)\n",
      "(p: 0, x: 65611776_64, y: 212_64, z: 47799204_64)\n",
      "(p: 1, x: 65611776_64, y: 212_64, z: 47799204_64)\n",
      "(p: 0, x: 131223552_64, y: 106_64, z: 47799204_64)\n",
      "(p: 1, x: 131223552_64, y: 106_64, z: 47799204_64)\n",
      "(p: 0, x: 262447104_64, y: 53_64, z: 47799204_64)\n",
      "(p: 2, x: 262447104_64, y: 53_64, z: 47799204_64)\n",
      "(p: 0, x: 262447104_64, y: 52_64, z: 310246308_64)\n",
      "(p: 1, x: 262447104_64, y: 52_64, z: 310246308_64)\n",
      "(p: 0, x: 524894208_64, y: 26_64, z: 310246308_64)\n",
      "(p: 1, x: 524894208_64, y: 26_64, z: 310246308_64)\n",
      "(p: 0, x: 1049788416_64, y: 13_64, z: 310246308_64)\n",
      "(p: 2, x: 1049788416_64, y: 13_64, z: 310246308_64)\n",
      "(p: 0, x: 1049788416_64, y: 12_64, z: 1360034724_64)\n",
      "(p: 1, x: 1049788416_64, y: 12_64, z: 1360034724_64)\n",
      "(p: 0, x: 2099576832_64, y: 6_64, z: 1360034724_64)\n",
      "(p: 1, x: 2099576832_64, y: 6_64, z: 1360034724_64)\n",
      "(p: 0, x: 4199153664_64, y: 3_64, z: 1360034724_64)\n",
      "(p: 2, x: 4199153664_64, y: 3_64, z: 1360034724_64)\n",
      "(p: -1, x: 4199153664_64, y: 3_64, z: 1360034724_64)\n"
     ]
    }
   ],
   "source": [
    "#ele está a desfazer tudo em função do último que calcula. Em vez de conformar o trace[i] em função do trace[i-1], ele está a redefinir trace[i-1] para se encaixar no trace[i]\n",
    "#preciso de me lembrar de cada momento, de alguma forma (dicionário dos resultados no trace)\n",
    "def gera_traco_iterativo(declare,init,trans):\n",
    "    with Solver(name=\"z3\") as s:\n",
    "        last = declare(0)\n",
    "        s.push()\n",
    "        a = np.random.randint(2**(11*n/20))\n",
    "        b = np.random.randint(2**(11*n/20))\n",
    "        s.add_assertion(init_ab(last,a,b))\n",
    "        if not s.solve():\n",
    "            print(\"what?!\")\n",
    "            return\n",
    "        s.pop()\n",
    "        trace = {}\n",
    "        trace[0] = {'p':s.get_value(last['p']), 'x':s.get_value(last['x']), 'y':s.get_value(last['y']), 'z':s.get_value(last['z'])}\n",
    "        i = 0\n",
    "        while s.get_value(trace[i]['p']).constant_value() != 3 and s.get_value(trace[i]['p']).constant_value() != -1:\n",
    "            i += 1\n",
    "            last = declare(i)\n",
    "            s.push()\n",
    "            s.add_assertion(trans(trace[i-1], last))\n",
    "            if not s.solve():\n",
    "                print(\"what?!\") \n",
    "                return\n",
    "            s.pop()\n",
    "            trace[i] = {'p':s.get_value(last['p']), 'x':s.get_value(last['x']), 'y':s.get_value(last['y']), 'z':s.get_value(last['z'])}\n",
    "        for state in trace:\n",
    "            print(f'(p: %s, x: %s, y: %s, z: %s)' % (trace[state]['p'], trace[state]['x'], trace[state]['y'], trace[state]['z']))\n",
    "            \n",
    "gera_traco_iterativo(declare,init,trans)"
   ]
  },
  {
   "cell_type": "code",
   "execution_count": null,
   "id": "a50c5488-8aeb-4770-9caa-9337d980499c",
   "metadata": {},
   "outputs": [],
   "source": []
  }
 ],
 "metadata": {
  "kernelspec": {
   "display_name": "Python 3 (ipykernel)",
   "language": "python",
   "name": "python3"
  },
  "language_info": {
   "codemirror_mode": {
    "name": "ipython",
    "version": 3
   },
   "file_extension": ".py",
   "mimetype": "text/x-python",
   "name": "python",
   "nbconvert_exporter": "python",
   "pygments_lexer": "ipython3",
   "version": "3.10.4"
  }
 },
 "nbformat": 4,
 "nbformat_minor": 5
}
