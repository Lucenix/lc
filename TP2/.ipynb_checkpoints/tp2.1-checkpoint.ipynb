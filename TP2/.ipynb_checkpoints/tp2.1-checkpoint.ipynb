{
 "cells": [
  {
   "cell_type": "code",
   "execution_count": 39,
   "id": "94815da4-64cc-43e0-a69c-3ac0dd673bd5",
   "metadata": {},
   "outputs": [],
   "source": [
    "from pysmt.shortcuts import *\n",
    "import pysmt.typing as types\n",
    "import numpy as np\n",
    "\n",
    "n = 16     # precisão\n",
    "a = 4\n",
    "b = 27\n",
    "\n",
    "def bv_sel(z,i):                    # seleciona o bit i do BitVec \"z\"\n",
    "    return BVExtract(z,start=i,end=i)\n",
    "\n",
    "def declare(i): #declara um bitvector de tamanho n\n",
    "    state = {}\n",
    "    #declaram-se os BV com margem de manobra para operações (invariante)\n",
    "    state['x'] = Symbol('x'+str(i),types.BVType(2*n)) \n",
    "    state['y'] = Symbol('y'+str(i),types.BVType(2*n))\n",
    "    state['z'] = Symbol('z'+str(i),types.BVType(2*n))\n",
    "    state['p'] = Symbol('p'+str(i),INT) #-1 - erro; 0 - loop; 1 - par; 2 - ímpar; 3 - final\n",
    "    return state\n",
    "\n",
    "def init(state):\n",
    "    return And(Equals(state['z'],BVZero(2*n)), Equals(state['p'], Int(0)), BVULT(state['x'], BV(2**n, 2*n)), BVULT(state['y'], BV(2**n, 2*n)))\n",
    "\n",
    "def init_ab(state,a,b):\n",
    "    return And(Equals(state['z'],BVZero(2*n)), Equals(state['p'], Int(0)), Equals(state['x'], BV(a,2*n)), Equals(state['y'], BV(b,2*n)))"
   ]
  },
  {
   "cell_type": "code",
   "execution_count": 40,
   "id": "11b5e20e-0faa-4223-891f-399328d9cee1",
   "metadata": {},
   "outputs": [],
   "source": [
    "def trans(curr, prox):\n",
    "    tend = And(Equals(curr['p'], Int(0)), Equals(prox['p'], Int(3)), Equals(curr['y'], BVZero(2*n)),\n",
    "               Equals(curr['x'], prox['x']), Equals(curr['y'], prox['y']), Equals(curr['z'], prox['z']))\n",
    "    \n",
    "    tendl = And(Equals(curr['p'], Int(3)), Equals(prox['p'], Int(3)), \n",
    "                  Equals(curr['x'], prox['x']), Equals(curr['y'], prox['y']), Equals(curr['z'], prox['z']))\n",
    "    \n",
    "    todd = And(Equals(curr['p'], Int(0)), Equals(prox['p'], Int(2)), Equals(bv_sel(curr['y'],0), BVOne(1)),\n",
    "               Equals(curr['x'], prox['x']), Equals(curr['y'], prox['y']), Equals(curr['z'], prox['z']))\n",
    "    \n",
    "    toddof = And(Equals(curr['p'], Int(2)), Equals(prox['p'], Int(-1)), curr['x'] > BVSub(BV(2**n-1,2*n), curr['z']),\n",
    "                 Equals(curr['x'], prox['x']), Equals(curr['y'], prox['y']), Equals(curr['z'], prox['z']))\n",
    "                 \n",
    "    toddt = And(Equals(curr['p'], Int(2)), Equals(prox['p'], Int(0)), Equals(prox['y'], curr['y'] - BVZExt(BVOne(1), 2*n-1)), \n",
    "                Equals(prox['z'], curr['z'] + curr['x']), Equals(prox['x'], curr['x']), Not(curr['x'] > BVSub(BV(2**n-1,2*n), curr['z'])))\n",
    "                 \n",
    "    teven = And(Equals(curr['p'], Int(0)), Equals(prox['p'], Int(1)), Not(Equals(curr['y'], BVZero(2*n))), Equals(bv_sel(curr['y'],0), BVZero(1)),\n",
    "                Equals(curr['x'], prox['x']), Equals(curr['y'], prox['y']), Equals(curr['z'], prox['z']))\n",
    "                 \n",
    "    tevenof = And(Equals(curr['p'], Int(1)), Equals(prox['p'], Int(-1)), Equals(bv_sel(curr['x'], n-1), BVOne(1)),\n",
    "                  Equals(curr['x'], prox['x']), Equals(curr['y'], prox['y']), Equals(curr['z'], prox['z']))\n",
    "                 \n",
    "    tevent = And(Equals(curr['p'], Int(1)), Equals(prox['p'], Int(0)), Equals(prox['x'], BVLShl(curr['x'], BVZExt(BVOne(1), 2*n-1))),\n",
    "                 Equals(prox['y'], BVLShr(curr['y'], BVZExt(BVOne(1), 2*n-1))), Equals(curr['z'], prox['z']), Not(Equals(bv_sel(curr['x'], n-1), BVOne(1))))\n",
    "    \n",
    "    tofl = And(Equals(curr['p'], Int(-1)), Equals(prox['p'], Int(-1)), \n",
    "               Equals(curr['x'], prox['x']), Equals(curr['y'], prox['y']), Equals(curr['z'], prox['z']))\n",
    "    \n",
    "    return Or(tend, tendl, todd, toddof, toddt, teven, tevenof, tevent, tofl)"
   ]
  },
  {
   "cell_type": "code",
   "execution_count": 41,
   "id": "7b87d771-7efc-419a-8da7-01add2e652c3",
   "metadata": {},
   "outputs": [
    {
     "name": "stdout",
     "output_type": "stream",
     "text": [
      "(0,1279_32,65_32,0_32) (2,1279_32,65_32,0_32) (0,1279_32,64_32,1279_32) (1,1279_32,64_32,1279_32) (0,2558_32,32_32,1279_32) (1,2558_32,32_32,1279_32) (0,5116_32,16_32,1279_32) (1,5116_32,16_32,1279_32) (0,10232_32,8_32,1279_32) (1,10232_32,8_32,1279_32) (0,20464_32,4_32,1279_32) (1,20464_32,4_32,1279_32) (0,40928_32,2_32,1279_32) (1,40928_32,2_32,1279_32) (-1,40928_32,2_32,1279_32) (-1,40928_32,2_32,1279_32) (-1,40928_32,2_32,1279_32) (-1,40928_32,2_32,1279_32) (-1,40928_32,2_32,1279_32) (-1,40928_32,2_32,1279_32) (-1,40928_32,2_32,1279_32) (-1,40928_32,2_32,1279_32) (-1,40928_32,2_32,1279_32) (-1,40928_32,2_32,1279_32) (-1,40928_32,2_32,1279_32)\n"
     ]
    }
   ],
   "source": [
    "def gera_tracok(declare,init,trans,k):\n",
    "    with Solver(name=\"z3\") as s:\n",
    "        trace = [declare(i) for i in range(k)]\n",
    "        s.add_assertion(init(trace[0]))\n",
    "        for i in range(k-1):\n",
    "            s.add_assertion(trans(trace[i],trace[i+1]))\n",
    "        if s.solve():\n",
    "            for i in range(k-1):\n",
    "                print(f'(%s,%s,%s,%s)' % (s.get_value(trace[i]['p']), s.get_value(trace[i]['x']),\n",
    "                                        s.get_value(trace[i]['y']),  s.get_value(trace[i]['z'])), end = \" \")\n",
    "            print(f'(%s,%s,%s,%s)' % (s.get_value(trace[i]['p']), s.get_value(trace[i]['x']),\n",
    "                                        s.get_value(trace[i]['y']),  s.get_value(trace[i]['z'])))\n",
    "\n",
    "gera_tracok(declare,init,trans,25)"
   ]
  },
  {
   "cell_type": "code",
   "execution_count": 44,
   "id": "6137d2e4-913d-4b52-bbb2-55efb9568600",
   "metadata": {},
   "outputs": [
    {
     "name": "stdout",
     "output_type": "stream",
     "text": [
      "10899 26188\n",
      "(0,10899_32,26188_32,0_32)\n",
      "Failed!\n"
     ]
    }
   ],
   "source": [
    "def bmc_always(declare,init,trans,inv,K):\n",
    "    for k in range(1,K+1):\n",
    "        with Solver(name=\"z3\") as s:\n",
    "            trace = [declare(i) for i in range(k)]\n",
    "            a = np.random.randint(2**n)\n",
    "            b = np.random.randint(2**n)\n",
    "            print(a,b)\n",
    "            s.add_assertion(init_ab(trace[0],a,b))\n",
    "            for i in range(k-1):\n",
    "                s.add_assertion(trans(trace[i],trace[i+1]))\n",
    "                s.add_assertion(Not(inv(trace[i], a, b)))\n",
    "            if s.solve():\n",
    "                for i in range(k-1):\n",
    "                    print(f'(%s,%s,%s,%s)' % (s.get_value(trace[i]['p']), s.get_value(trace[i]['x']),\n",
    "                                        s.get_value(trace[i]['y']),  s.get_value(trace[i]['z'])), end = \" \")\n",
    "                print(f'(%s,%s,%s,%s)' % (s.get_value(trace[k-1]['p']), s.get_value(trace[k-1]['x']),\n",
    "                                        s.get_value(trace[k-1]['y']),  s.get_value(trace[k-1]['z'])))\n",
    "                print('Failed!')\n",
    "                return\n",
    "            else:\n",
    "                print('Conseguiu!')\n",
    "\n",
    "def inv(state,a,b):\n",
    "    print(BV(a*b,2*n))\n",
    "    print(a*b)\n",
    "    return Equals(BVAdd(BVMul(state['x'], state['y']), state['z']), BV(a*b, 2*n))\n",
    "                \n",
    "bmc_always(declare,init,trans,inv,25)"
   ]
  },
  {
   "cell_type": "code",
   "execution_count": 27,
   "id": "d05977f8-82ba-4643-acb5-1051c3a734c5",
   "metadata": {},
   "outputs": [
    {
     "name": "stdout",
     "output_type": "stream",
     "text": [
      "(0,0_32,0_32,0_32)->(3,0_32,0_32,0_32)->\n",
      "(0,0_32,0_32,0_32)->(3,0_32,0_32,0_32)->"
     ]
    }
   ],
   "source": [
    "#ele está a desfazer tudo em função do último que calcula. Em vez de conformar o trace[i] em função do trace[i-1], ele está a redefinir trace[i-1] para se encaixar no trace[i]\n",
    "#preciso de me lembrar de cada momento, de alguma forma (dicionário dos resultados no trace)\n",
    "def gera_traco_iterativo(declare,init,trans):\n",
    "    with Solver(name=\"z3\") as s:\n",
    "        last = declare(0)\n",
    "        s.push()\n",
    "        s.add_assertion(init(last))\n",
    "        if not s.solve():\n",
    "            print(\"what?!\")\n",
    "            return\n",
    "        s.pop()\n",
    "        trace = {}\n",
    "        trace[0] = {'p':s.get_value(last['p']), 'x':s.get_value(last['x']), 'y':s.get_value(last['y']), 'z':s.get_value(last['z'])}\n",
    "        print(f'(%s,%s,%s,%s)->' % (s.get_value(trace[0]['p']), s.get_value(trace[0]['x']),\n",
    "                                    s.get_value(trace[0]['y']),  s.get_value(trace[0]['z'])), end = \"\")\n",
    "        i = 0\n",
    "        while s.get_value(trace[i]['p']).constant_value() != 3 and s.get_value(trace[i]['p']).constant_value() != -1:\n",
    "            i += 1\n",
    "            last = declare(i)\n",
    "            s.push()\n",
    "            s.add_assertion(trans(trace[i-1], last))\n",
    "            if not s.solve():\n",
    "                print(\"what?!\") \n",
    "                return\n",
    "            s.pop()\n",
    "            trace[i] = {'p':s.get_value(last['p']), 'x':s.get_value(last['x']), 'y':s.get_value(last['y']), 'z':s.get_value(last['z'])}\n",
    "            print(f'(%s,%s,%s,%s)->' % (s.get_value(trace[i]['p']), s.get_value(trace[i]['x']),\n",
    "                                        s.get_value(trace[i]['y']),  s.get_value(trace[i]['z'])), end = \"\")\n",
    "        print(\"\")\n",
    "        for state in trace:\n",
    "            print(f'(%s,%s,%s,%s)->' % (s.get_value(trace[state]['p']), s.get_value(trace[state]['x']),\n",
    "                                        s.get_value(trace[state]['y']),  s.get_value(trace[state]['z'])), end = \"\")\n",
    "            \n",
    "gera_traco_iterativo(declare,init,trans)"
   ]
  },
  {
   "cell_type": "code",
   "execution_count": 26,
   "id": "971b018f-cf89-4025-94d7-9e850177a955",
   "metadata": {},
   "outputs": [
    {
     "name": "stdout",
     "output_type": "stream",
     "text": [
      "(0,65535_32,65535_32,0_32)->(2,0_32,1_32,0_32)->(0,0_32,8192_32,0_32)->(1,0_32,4_32,0_32)->(-1,34784_32,4_32,0_32)->\n",
      "(0,17392_32,8_32,0_32)->(1,17392_32,8_32,0_32)->(0,34784_32,4_32,0_32)->(1,34784_32,4_32,0_32)->(-1,34784_32,4_32,0_32)->"
     ]
    }
   ],
   "source": [
    "def gera_traco(declare,init,trans):\n",
    "    with Solver(name=\"z3\") as s:\n",
    "        trace = []\n",
    "        trace.append(declare(0)) \n",
    "        s.add_assertion(init(trace[0]))\n",
    "        if not s.solve():\n",
    "            print(\"what?!\")\n",
    "            return\n",
    "        i = 0\n",
    "        while s.get_value(trace[i]['p']).constant_value() != 3 and s.get_value(trace[i]['p']).constant_value() != -1:\n",
    "            i += 1\n",
    "            last = declare(i)\n",
    "            s.add_assertion(trans(trace[i-1], last))\n",
    "            if not s.solve():\n",
    "                print(\"what?!\")\n",
    "                return\n",
    "            trace.append(last)\n",
    "        for state in trace:\n",
    "            print(f'(%s,%s,%s,%s)->' % (s.get_value(state['p']), s.get_value(state['x']),\n",
    "                                        s.get_value(state['y']),  s.get_value(state['z'])), end = \"\")\n",
    "gera_traco(declare,init,trans)"
   ]
  },
  {
   "cell_type": "code",
   "execution_count": null,
   "id": "ff4e7d48-d751-4274-ac6e-9de95c830e0b",
   "metadata": {},
   "outputs": [],
   "source": []
  }
 ],
 "metadata": {
  "kernelspec": {
   "display_name": "Python 3 (ipykernel)",
   "language": "python",
   "name": "python3"
  },
  "language_info": {
   "codemirror_mode": {
    "name": "ipython",
    "version": 3
   },
   "file_extension": ".py",
   "mimetype": "text/x-python",
   "name": "python",
   "nbconvert_exporter": "python",
   "pygments_lexer": "ipython3",
   "version": "3.10.4"
  }
 },
 "nbformat": 4,
 "nbformat_minor": 5
}
