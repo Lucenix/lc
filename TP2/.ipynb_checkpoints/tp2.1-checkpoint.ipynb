{
 "cells": [
  {
   "cell_type": "code",
   "execution_count": null,
   "id": "94815da4-64cc-43e0-a69c-3ac0dd673bd5",
   "metadata": {},
   "outputs": [],
   "source": [
    "from pysmt.shortcuts import *\n",
    "import pysmt.typing as types\n",
    "import numpy as np\n",
    "\n",
    "n = 16     # precisão\n",
    "\n",
    "def bv_selZE(z,i):                    # seleciona o bit i do BitVec \"z\" e estende n-1\n",
    "    return BVZExt(BVExtract(z,start=i,end=i),n-1)\n",
    "\n",
    "def bv_sel(z,i):                    # seleciona o bit i do BitVec \"z\"\n",
    "    return BVExtract(z,start=i,end=i)\n",
    "\n",
    "def declare(i): #declara um bitvector de tamanho n\n",
    "    state['x'] = Symbol('x'+str(i),types.BVType(n)) \n",
    "    state['y'] = Symbol('y'+str(i),types.BVType(n))\n",
    "    state['z'] = Symbol('z'+str(i),types.BVType(n))\n",
    "    return state\n",
    "\n",
    "def init(state):\n",
    "    return Equal(state['z'],BVZero(n))\n",
    "    \n"
   ]
  }
 ],
 "metadata": {
  "kernelspec": {
   "display_name": "Python 3 (ipykernel)",
   "language": "python",
   "name": "python3"
  },
  "language_info": {
   "codemirror_mode": {
    "name": "ipython",
    "version": 3
   },
   "file_extension": ".py",
   "mimetype": "text/x-python",
   "name": "python",
   "nbconvert_exporter": "python",
   "pygments_lexer": "ipython3",
   "version": "3.10.4"
  }
 },
 "nbformat": 4,
 "nbformat_minor": 5
}
