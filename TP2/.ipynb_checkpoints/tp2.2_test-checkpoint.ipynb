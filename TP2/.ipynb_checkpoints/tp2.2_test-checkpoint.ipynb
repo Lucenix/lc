{
 "cells": [
  {
   "cell_type": "code",
   "execution_count": 5,
   "id": "04bc5228-c5bf-415f-8a31-0eb633126106",
   "metadata": {},
   "outputs": [
    {
     "data": {
      "image/png": "[encoded data removed]",
      "text/plain": [
       "<Figure size 640x480 with 1 Axes>"
      ]
     },
     "metadata": {},
     "output_type": "display_data"
    }
   ],
   "source": [
    "from ortools.linear_solver import pywraplp\n",
    "import numpy as np\n",
    "import matplotlib.pyplot as plt\n",
    "\n",
    "n = 10\n",
    "p = 0.2\n",
    "\n",
    "c_x = np.random.randint(1, n-1)\n",
    "c_y = np.random.randint(1, n-1)\n",
    "\n",
    "I = []\n",
    "for i in range(n):\n",
    "    I.append([])\n",
    "    for j in range(n):\n",
    "        I[i].append(0)\n",
    "        \n",
    "for i in range(n):\n",
    "    I[i][0] = np.random.binomial(1,p)\n",
    "    \n",
    "for j in range(n):\n",
    "    I[0][j] = np.random.binomial(1,p)\n",
    "\n",
    "for i in range(c_x-1, c_x+2):\n",
    "    for j in range(c_y-1, c_y+2):\n",
    "        I[i][j] = 1\n",
    "\n",
    "\"\"\"plt.imshow(I)\n",
    "plt.axis('off')\n",
    "plt.show()\"\"\"\n",
    "\n",
    "#solver = pywraplp.Solver.CreateSolver('SCIP')\n",
    "\n",
    "J = []\n",
    "for i in range(n):\n",
    "    J.append([])\n",
    "    for j in range(n):\n",
    "        J[i].append(0)\n",
    "        \n",
    "for q in range(10):\n",
    "    for i in range(n):\n",
    "        for j in range(n):\n",
    "            s = sum([I[a][b] for a in range(i-1, i+2) for b in range(j-1, j+2) if a >= 0 and a < n and b >= 0 and b < n])\n",
    "            if s == 3 or (I[i][j] == 1 and s == 4):\n",
    "                J[i][j] = 1\n",
    "            else:\n",
    "                J[i][j] = 0\n",
    "    for i in range(n):\n",
    "        for j in range(n):\n",
    "            I[i][j] = J[i][j]\n",
    "    \"\"\".imshow(I)\n",
    "    plt.axis('off')\n",
    "    plt.show()\"\"\"\n"
   ]
  },
  {
   "cell_type": "code",
   "execution_count": null,
   "id": "5eed6975-29e0-4223-b9dd-841556bb25f6",
   "metadata": {},
   "outputs": [],
   "source": []
  },
  {
   "cell_type": "code",
   "execution_count": null,
   "id": "595c1924-fc04-4025-8611-7354f8e33d32",
   "metadata": {},
   "outputs": [],
   "source": []
  },
  {
   "cell_type": "code",
   "execution_count": null,
   "id": "f79bd48b-a57c-44e6-84dc-ce001d81e45e",
   "metadata": {},
   "outputs": [],
   "source": []
  }
 ],
 "metadata": {
  "kernelspec": {
   "display_name": "Python 3 (ipykernel)",
   "language": "python",
   "name": "python3"
  },
  "language_info": {
   "codemirror_mode": {
    "name": "ipython",
    "version": 3
   },
   "file_extension": ".py",
   "mimetype": "text/x-python",
   "name": "python",
   "nbconvert_exporter": "python",
   "pygments_lexer": "ipython3",
   "version": "3.10.4"
  }
 },
 "nbformat": 4,
 "nbformat_minor": 5
}
