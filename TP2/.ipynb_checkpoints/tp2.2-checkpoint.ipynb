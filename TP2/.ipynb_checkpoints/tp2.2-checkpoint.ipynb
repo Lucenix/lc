{
 "cells": [
  {
   "cell_type": "markdown",
   "id": "f6c8d7f4-0baf-45af-887e-31eeb9393bc7",
   "metadata": {},
   "source": [
    "# TP2 - Grupo 14\n",
    "\n",
    "André Lucena Ribas Ferreira - A94956\n",
    "\n",
    "Paulo André Alegre Pinto - A97391"
   ]
  },
  {
   "cell_type": "markdown",
   "id": "2877d7b4-35f1-4d86-a75d-029825e9bf52",
   "metadata": {},
   "source": [
    "## Problema 2 - Conway's Game of Life\n",
    "\n",
    "\n",
    "O Conway’s Game of Life é um exemplo bastante conhecido de um autómato celular . Neste problema vamos modificar as regras do autómato da seguinte forma\n",
    " 1. O espaço de estados é finito definido por uma grelha de células booleanas (morta=0/viva=1) de dimensão $N\\times N$ (com $N>3$), com $(N-1)^2$ células identificadas por índices $\\,(i,j)\\in \\{0..N-2\\}$, denominadas de \"normais\".\n",
    " 2. No estado inicial todas as células normais estão mortas excepto um quadrado $3\\times 3$, designado por “centro”, aleatoriamente posicionado formado apenas por células vivas.\n",
    " 3. Adicionalmente existem $2N-1$ “células da borda” que correspondem a um dos índices, $i$ ou $j$, ser zero. As células da borda têm valores constantes que, no estado inicial, são gerados aleatoriamente com uma probabilidade $\\rho$ de estarem vivas.\n",
    " 4. As células normais o autómato modificam o estado de acordo com a regra “B3/S23”: i.e. a célula nasce (passa de $0$ a $1$) se tem exatamente 3 vizinhos vivos e sobrevive (mantém-se viva) se o número de vizinhos vivos é 2 ou 3, caso contrário morre ou continua morta.\n",
    "\n",
    "Como 'inputs', o programa recebe:\n",
    " 1. $N$, o número de células (total) por cada linha do quadrado ;\n",
    " 2. $\\rho$, a probabildade de cada célula da borda estar viva;\n",
    " 3. $(c_x,c_y)$, o centro do quadrado $\\,3\\times 3\\,$."
   ]
  },
  {
   "cell_type": "markdown",
   "id": "b6f2e97e-d313-4e92-b18b-ecfefc096899",
   "metadata": {},
   "source": [
    "## Análise\n",
    "\n",
    "Pretende-se modelar o autómato celular do Conway's Game of Life a partir de uma Máquina de Estados Finitos. Para começar, é necessário definir qual o autómato e o que representa cada estado. Cada estado é uma configuração possível do autómato, onde cada célula é uma variável. Para tal, decidiu-se usar uma família de variáveis binárias $x_{i,j}$, onde $(i,j)$ é a sua posição na grelha.\n",
    "\n",
    "Denotam-se as células $x_{i,j}$, com $i == 0$ ou $j == 0$, como as células da Borda, enquanto que as restantes serão as normais. Nesse sentido, apenas $N-1$ células de cada linha, exceto a primeira, serão normais. Efetivamente, considere-se $N-1$ como $N$ do enunciado."
   ]
  },
  {
   "cell_type": "markdown",
   "id": "30c2819a-e850-4a60-9ec1-03bb900e4c95",
   "metadata": {},
   "source": [
    "Um traço de execução é uma sequência de estados, onde dois estados consequentes validam um predicado de transição. Como o número de estados é finito e a propriedade de transição deste problema, a regra \"B3/S23\", pode ser aplicada a qualquer estado, qualquer traço de execução deste problema é limitado. Dessa forma, pode-se sempre calcular o traço até ao momento em que um estado transiciona para outro que já ocorreu no traço, descrevendo assim um loop."
   ]
  },
  {
   "cell_type": "markdown",
   "id": "9747c404-43b7-43c9-9c21-336e4d0328dd",
   "metadata": {},
   "source": [
    "Também se pretende verificar se duas propriedades são verdadeiras ou não, para cada traço, eventualmente para todos:\n",
    " 1. Todos os estados contém alguma célula normal viva;\n",
    " 2. Toda a célula normal está viva em algum estado acessível."
   ]
  },
  {
   "cell_type": "markdown",
   "id": "09842490-d5bd-4133-9c66-8bb58794c2a5",
   "metadata": {},
   "source": [
    "## Implementação\n",
    "\n",
    "Para a resolução do problema em questão, decidiu-se usar o módulo `pysmt.shortcuts`, com as funcionalidades possíveis para a utilização de um SMT Solver. Importam-se também os tipos deste Solver, a partir do módulo `pysmt.typing`. Para modelar este problema, irá usar-se BitVectors, então escolheu-se o `z3` como Solver."
   ]
  },
  {
   "cell_type": "code",
   "execution_count": 1,
   "id": "65e7ae33-dd52-4352-9074-b83e8609ab53",
   "metadata": {},
   "outputs": [],
   "source": [
    "from pysmt.shortcuts import *\n",
    "import pysmt.typing as types\n",
    "name = \"z3\""
   ]
  },
  {
   "cell_type": "markdown",
   "id": "68dc4d5a-53c3-40b3-ac46-15b79ac12b0e",
   "metadata": {},
   "source": [
    "Para além disso, é necessário importar os módulos `numpy` e `random` para a geração de valores aleatórios durante a execução."
   ]
  },
  {
   "cell_type": "code",
   "execution_count": 2,
   "id": "a26a1322-9309-4de3-82a5-a032a9a0e974",
   "metadata": {},
   "outputs": [],
   "source": [
    "import numpy as np\n",
    "import random as rn"
   ]
  },
  {
   "cell_type": "markdown",
   "id": "e1ecc3d1-4f9b-4710-9f62-afa8cd991858",
   "metadata": {},
   "source": [
    "Por fim, alguns módulos auxiliares são necessários para facilitar alguns momentos da implementação. `mathplotlib.pyplot` serve para imprimir para o ecrã os estados do autómato; `functools.reduce` é uma função de ordem superior que opera sobre listas; e `math.comb` para calcular combinações."
   ]
  },
  {
   "cell_type": "code",
   "execution_count": 3,
   "id": "b3eab8cf-7c8b-4c19-882b-19f7cb313cd3",
   "metadata": {},
   "outputs": [],
   "source": [
    "import matplotlib.pyplot as plt\n",
    "from functools import reduce\n",
    "from math import comb"
   ]
  },
  {
   "cell_type": "markdown",
   "id": "6a897b9d-ce3f-4b03-a4b4-acdad06f3d68",
   "metadata": {},
   "source": [
    "Como 'input', define-se apenas $N$ e $\\rho$, já que o centro é calculado aleatoriamente."
   ]
  },
  {
   "cell_type": "code",
   "execution_count": 4,
   "id": "053b4e29-8509-41e8-b6b2-760529e55282",
   "metadata": {},
   "outputs": [],
   "source": [
    "# dimensão do espaço de amostras (efetivamente 15)\n",
    "n = 16\n",
    "p = 0"
   ]
  },
  {
   "cell_type": "markdown",
   "id": "b431f88f-0f25-4973-970e-36a0d3378471",
   "metadata": {},
   "source": [
    "Como primeiro passo, define-se a função `bv_rn`, que gera uma configuração inicial, sem utilização do Solver. Para tal, constrói-se um número inteiro a partir operações lógicas, nomeadamente a disjunção. \n",
    "\n",
    "Devido à implementação escolhida, há algumas considerações notáveis:\n",
    " 1. A ordem da grelha é reversa à habitual. A célula $(0,0)$ encontra-se no canto inferior esquerdo. Como tal, as células da borda consideram-se aquelas em que $i == N-1$ ou $j == N-1$.\n",
    " 2. O estado onde apenas uma variável binária $x_{i,j} == 1$ equivale ao número inteiro  $2^{i + n*j}$\n",
    "\n",
    "Para além disso, também devolve qual a borda gerada aleatoriamente, como referência posterior."
   ]
  },
  {
   "cell_type": "code",
   "execution_count": 5,
   "id": "5681bf83-f04b-4756-8362-100f9843edcd",
   "metadata": {},
   "outputs": [],
   "source": [
    "# Funções auxiliares para BitVec's, devolve um tuplo (Bitvector, border)\n",
    "# gera pseudo-aleatoriamente um BitVec para representar o autómato, a partir de um inteiro\n",
    "def bv_rn():\n",
    "    I = 0\n",
    "    J = 0\n",
    "    c_x = np.random.randint(1, n-2)\n",
    "    c_y = np.random.randint(1, n-2)\n",
    "    for i in range(n-1):\n",
    "        I = I | np.random.binomial(1,p) * 2**(i + n*(n-1))\n",
    "        I = I | np.random.binomial(1,p) * 2**(n*i+n-1)\n",
    "    I = I | np.random.binomial(1,p) * 2**(n*n-1)\n",
    "    J = I\n",
    "    for i in range(c_x-1, c_x+2):\n",
    "        for j in range(c_y-1, c_y+2):\n",
    "            I = I | 2**(i+j*n)\n",
    "    return (BV(I,n*n), BV(J,n*n))"
   ]
  },
  {
   "cell_type": "markdown",
   "id": "07dea7e4-63ef-41ce-b4c5-f3ac314db7c9",
   "metadata": {},
   "source": [
    "Como funções auxiliares, definiram-se as seguintes:\n",
    " 1. `print_state(s)` imprime para o ecrã o estado indicado."
   ]
  },
  {
   "cell_type": "code",
   "execution_count": 6,
   "id": "0ae0abca-9c7c-416e-8368-bbe7b8dfd89b",
   "metadata": {
    "tags": []
   },
   "outputs": [
    {
     "name": "stdout",
     "output_type": "stream",
     "text": [
      "Estado inicial gerado:\n"
     ]
    },
    {
     "data": {
      "image/png": "[encoded data removed]",
      "text/plain": [
       "<Figure size 432x288 with 1 Axes>"
      ]
     },
     "metadata": {
      "needs_background": "light"
     },
     "output_type": "display_data"
    },
    {
     "name": "stdout",
     "output_type": "stream",
     "text": [
      "Borda desse estado.\n"
     ]
    },
    {
     "data": {
      "image/png": "[encoded data removed]",
      "text/plain": [
       "<Figure size 432x288 with 1 Axes>"
      ]
     },
     "metadata": {
      "needs_background": "light"
     },
     "output_type": "display_data"
    }
   ],
   "source": [
    "def print_state(s):\n",
    "    x = list(map(int, list(s.bv_str())))\n",
    "    x = [x[i:i + n] for i in range(0, len(x), n)]\n",
    "    plt.imshow(x)\n",
    "    plt.axis('off')\n",
    "    plt.show()\n",
    "    \n",
    "bv,border = bv_rn()\n",
    "print(\"Estado inicial gerado:\")\n",
    "print_state(bv)\n",
    "print(\"Borda desse estado.\")\n",
    "print_state(border)"
   ]
  },
  {
   "cell_type": "markdown",
   "id": "b7244b8b-1c0a-43d0-ae85-10e6459a2d44",
   "metadata": {},
   "source": [
    " 2. `bv_selZE(z,i,j)` seleciona a variável na posição $(i,j)$ de $z$ e gera o BitVector de tamanho $n^2$, preenchendo com $0$ os restantes elementos."
   ]
  },
  {
   "cell_type": "code",
   "execution_count": 7,
   "id": "940fd2f1-5aa4-4461-b479-ca7f4d05fd2f",
   "metadata": {},
   "outputs": [],
   "source": [
    "def bv_selZE(z,i,j):                    # seleciona o bit (i,j) do BitVec \"z\" e estende n*n-1\n",
    "    return BVZExt(BVExtract(z,start=i+j*n,end=i+j*n),n*n-1)"
   ]
  },
  {
   "cell_type": "markdown",
   "id": "012e5870-46bc-4d16-8f08-8edbf86f8b0b",
   "metadata": {},
   "source": [
    " 3. `bv_sel(z,i,j)` seleciona a variável na posição $(i,j)$ de $z$."
   ]
  },
  {
   "cell_type": "code",
   "execution_count": 8,
   "id": "70a22774-42d0-4cd6-9223-f4691090b70a",
   "metadata": {},
   "outputs": [],
   "source": [
    "def bv_sel(z,i,j):                    # seleciona o bit (i,j) do BitVec \"z\"\n",
    "    return BVExtract(z,start=i+j*n,end=i+j*n)"
   ]
  },
  {
   "cell_type": "markdown",
   "id": "c5d54cbf-fd31-49ba-bfdd-921fd7aac7ef",
   "metadata": {},
   "source": [
    " 4. `full_border_gera` gera um BitVector com a borda completamente preenchida."
   ]
  },
  {
   "cell_type": "code",
   "execution_count": 9,
   "id": "451694a4-3ae0-4317-ae9b-f3b47771d30e",
   "metadata": {},
   "outputs": [],
   "source": [
    "def full_border_gera():\n",
    "    I = 0\n",
    "    for i in range(n-1):\n",
    "        I = I | 2**(i + n*(n-1))\n",
    "        I = I | 2**(n*i+n-1)\n",
    "    I = I | 2**(n*n-1)\n",
    "    full_border = BV(I,n*n)\n",
    "    return full_border\n",
    "full_border = full_border_gera()"
   ]
  },
  {
   "cell_type": "markdown",
   "id": "708d03bd-f394-4885-ad2a-1f1030cc3aeb",
   "metadata": {},
   "source": [
    "Como funções necessárias para a modelação, definem-se `declare(i)`, que cria a i-ésima cópia do estado; `initial(state)`, que devolve um predicado que testa o estado inicial;  e `trans(curr, prox)`, que gera um predicado a partir de dois estados que define as condições de transição entre eles."
   ]
  },
  {
   "cell_type": "markdown",
   "id": "0a680bf7-c3a2-4b91-b6b4-c75e620aadd2",
   "metadata": {},
   "source": [
    "Para `declare(i)`, de modo a conseguir manter conhecimento da borda em cada estado, já que o estado inicial será definido numa função que tem de devolver um predicado, cada estado guardará o seu estado e a sua borda."
   ]
  },
  {
   "cell_type": "code",
   "execution_count": 10,
   "id": "802625d3-ad85-4474-96e1-b11f38d9e0c3",
   "metadata": {},
   "outputs": [],
   "source": [
    "def declare(i): #declara um bitvector de tamanho n*n\n",
    "    state = {}\n",
    "    state['s'] = Symbol('s'+str(i),types.BVType(n*n))\n",
    "    state['border'] = Symbol('border'+str(i), types.BVType(n*n))\n",
    "    return state"
   ]
  },
  {
   "cell_type": "markdown",
   "id": "c2f072f9-2515-4d72-9419-a4cc5579e5de",
   "metadata": {},
   "source": [
    "Para `initial(state)`, gera-se uma configuração inicial, a partir de *bv_rn()*, e força-se a igualdade dos estados."
   ]
  },
  {
   "cell_type": "code",
   "execution_count": 11,
   "id": "a796f4e0-1dbd-425b-a9aa-859954e51850",
   "metadata": {},
   "outputs": [],
   "source": [
    "def initial(state):\n",
    "    initial, border = bv_rn()\n",
    "    return And(Equals(state['s'], initial), Equals(state['border'], border))"
   ]
  },
  {
   "cell_type": "markdown",
   "id": "4c3d17b4-b6fc-429a-be05-50fa415f27d9",
   "metadata": {},
   "source": [
    "Para `trans(curr,prox)`, são necessárias duas considerações:\n",
    " 1. A manutenção das células da borda, de acordo com $border$;\n",
    " 2. A regra \"B3/S23\", que ditará quais os estados vivos/mortos no estado seguinte.\n",
    " \n",
    "Para cada $x_{i,j}$ variável do estado $curr$, a satisfação de $2$ pode ser traduzida por, com $x'_{i,j}$ variável de $prox$.\n",
    "\n",
    "$$ x'_{i,j} == 1 \\quad \\mbox{se e só se} \\quad (x_{i,j} == 1 \\quad \\& \\quad s == 4) \\quad | \\quad s == 3$$\n",
    "\n",
    "Onde $s$ é a soma, para cada $y$ estado de $curr$ adjacente a $x_{i,j}$:\n",
    "\n",
    "$$  x_{i,j} + \\sum_{y} y  $$\n",
    "\n",
    "Nos restantes casos, $x´_{i,j} == 0$, o que representa todos os casos possíveis."
   ]
  },
  {
   "cell_type": "code",
   "execution_count": 12,
   "id": "8a748c1c-140d-4b96-a738-2d4538bf545b",
   "metadata": {},
   "outputs": [],
   "source": [
    "def trans(curr, prox): #define uma transição entre dois estados do problema\n",
    "    r = []\n",
    "    for i in range(n):\n",
    "        r.append(Equals(bv_sel(prox['s'],i,n-1), bv_sel(curr['border'],i,n-1)))\n",
    "        r.append(Equals(bv_sel(prox['s'],n-1,i), bv_sel(curr['border'],n-1,i)))\n",
    "    for i in range(n-1):\n",
    "        for j in range(n-1):\n",
    "            #prox[i][j] == 1 sse curr[i][j] == 1 e s == 4 ou s == 3\n",
    "            s = sum([bv_selZE(curr['s'],a,b) for a in [i-1,i,i+1] for b in [j-1,j,j+1] if a >= 0 and a < n and b >= 0 and b < n])\n",
    "            t1 = Iff(Equals(bv_sel(prox['s'],i,j), BVOne(1)), Or(Equals(s, BV(3,n*n)), \n",
    "                     And(Equals(bv_sel(curr['s'],i,j),BVOne(1)), Equals(s, BV(4,n*n)))))\n",
    "            r.append(t1)\n",
    "            t2 = Equals(curr['border'], prox['border'])\n",
    "            r.append(t2)\n",
    "    return And(r)"
   ]
  },
  {
   "cell_type": "markdown",
   "id": "01fc37c8-c9d5-4bb2-aa55-af342b946a6e",
   "metadata": {},
   "source": [
    "Com essas funções, e com um estado inicial, é possível gerar um traço de execução, isto é, uma sequência de estados em que dois estados consequentes validam o predicado de transição entre si. Como o conjunto de estados possível é finito, os traços serão sempre limitados. A deteção de tal implica a não repetição de estados, pois tal indicaria um ciclo, já que a transição de um estado para o seguinte é única.\n",
    "\n",
    "A função `generate_trace(declare, trans, initial, p=True)` devolve um traço sem repetidos, a partir dos argumentos respetivos. O argumento `p` indica a impressão para o ecrã do traço.\n",
    "\n",
    "De notar é a necessidade de apenas uma variável para o Solver, já que no traço se guardarão os valores obtidos iterativamente e não de uma única vez. Também apenas é necessária uma asserção por cada passo de iteração, já que os anteriores são garantidamente verdadeiros."
   ]
  },
  {
   "cell_type": "code",
   "execution_count": 13,
   "id": "277cdcc7-9d1c-44d3-8f6d-fccadf32e685",
   "metadata": {
    "tags": []
   },
   "outputs": [],
   "source": [
    "def generate_trace(declare, trans, initial, p=True):\n",
    "    with Solver(name=name) as solver:\n",
    "        i = 0\n",
    "        prox = declare(0)\n",
    "        solver.push()\n",
    "        solver.add_assertion(initial(prox))\n",
    "        solver.solve()\n",
    "        last = solver.get_value(prox['s'])\n",
    "        border = solver.get_value(prox['border'])\n",
    "        solver.pop()\n",
    "        #só precisamos de uma variável porque guardamos os valores progressivos das anteriores\n",
    "        trace = {}\n",
    "        while last not in trace:\n",
    "            trace[last] = i\n",
    "            i += 1\n",
    "            solver.push()\n",
    "            tmp = {'s':last, 'border':border}\n",
    "            solver.add_assertion(trans(tmp, prox))\n",
    "            if not solver.solve():\n",
    "                print(\"Algo não funcionou como suposto.\")\n",
    "                break\n",
    "            last = solver.get_value(prox['s'])\n",
    "            solver.pop()\n",
    "        trace[last] = i\n",
    "        if p:\n",
    "            for k,v in sorted(trace.items(), key = lambda x: x[1]):\n",
    "                print_state(k)\n",
    "        return list(trace.keys()),border"
   ]
  },
  {
   "cell_type": "markdown",
   "id": "0dec5d36-e974-44a5-90ee-a5442d5b9d61",
   "metadata": {},
   "source": [
    "A função `generate_trace_k(declare, trans, initial, k, p=True)` também gera um traço, mas apenas os $k$ primeiros estados, chegue ou não a um ciclo."
   ]
  },
  {
   "cell_type": "code",
   "execution_count": 14,
   "id": "31195d4a-65f2-476e-9e44-8f4bb39dccab",
   "metadata": {},
   "outputs": [],
   "source": [
    "def generate_trace_k(declare, trans, initial, k, p=True):\n",
    "    with Solver(name=name) as solver:\n",
    "        trace = {}\n",
    "        #trace[0] = initial\n",
    "        trace[0] = declare(0)\n",
    "        for i in range(1,k):\n",
    "            trace[i] = declare(i)\n",
    "        solver.add_assertion(initial(trace[0]))\n",
    "        for i in range(k-1):\n",
    "            solver.add_assertion(trans(trace[i], trace[i+1]))\n",
    "        #só precisamos de uma variável porque guardamos os valores progressivos das anteriores\n",
    "        if not solver.solve():\n",
    "            print(\"Algo não funcionou como suposto.\")\n",
    "            return\n",
    "        border = solver.get_value(trace[0]['border'])\n",
    "        if p:\n",
    "            for k,v in sorted(trace.items(), key = lambda x: x[0]):\n",
    "                print_state(solver.get_value(v['s']))\n",
    "                trace[k] = solver.get_value(v['s'])\n",
    "        return list(trace.values()),border"
   ]
  },
  {
   "cell_type": "code",
   "execution_count": 15,
   "id": "cc7d77d0-7775-47ad-a056-305ff1cca575",
   "metadata": {
    "tags": []
   },
   "outputs": [
    {
     "data": {
      "image/png": "[encoded data removed]",
      "text/plain": [
       "<Figure size 432x288 with 1 Axes>"
      ]
     },
     "metadata": {
      "needs_background": "light"
     },
     "output_type": "display_data"
    },
    {
     "data": {
      "image/png": "[encoded data removed]",
      "text/plain": [
       "<Figure size 432x288 with 1 Axes>"
      ]
     },
     "metadata": {
      "needs_background": "light"
     },
     "output_type": "display_data"
    },
    {
     "data": {
      "image/png": "[encoded data removed]",
      "text/plain": [
       "<Figure size 432x288 with 1 Axes>"
      ]
     },
     "metadata": {
      "needs_background": "light"
     },
     "output_type": "display_data"
    },
    {
     "data": {
      "image/png": "[encoded data removed]",
      "text/plain": [
       "<Figure size 432x288 with 1 Axes>"
      ]
     },
     "metadata": {
      "needs_background": "light"
     },
     "output_type": "display_data"
    },
    {
     "data": {
      "image/png": "[encoded data removed]",
      "text/plain": [
       "<Figure size 432x288 with 1 Axes>"
      ]
     },
     "metadata": {
      "needs_background": "light"
     },
     "output_type": "display_data"
    },
    {
     "data": {
      "image/png": "[encoded data removed]",
      "text/plain": [
       "<Figure size 432x288 with 1 Axes>"
      ]
     },
     "metadata": {
      "needs_background": "light"
     },
     "output_type": "display_data"
    },
    {
     "data": {
      "image/png": "[encoded data removed]",
      "text/plain": [
       "<Figure size 432x288 with 1 Axes>"
      ]
     },
     "metadata": {
      "needs_background": "light"
     },
     "output_type": "display_data"
    }
   ],
   "source": [
    "t,b = generate_trace(declare, trans, initial)"
   ]
  },
  {
   "cell_type": "code",
   "execution_count": 16,
   "id": "13e1694d-12c5-4174-909f-95d1e9c9a1e1",
   "metadata": {
    "tags": []
   },
   "outputs": [
    {
     "data": {
      "image/png": "[encoded data removed]",
      "text/plain": [
       "<Figure size 432x288 with 1 Axes>"
      ]
     },
     "metadata": {
      "needs_background": "light"
     },
     "output_type": "display_data"
    },
    {
     "data": {
      "image/png": "[encoded data removed]",
      "text/plain": [
       "<Figure size 432x288 with 1 Axes>"
      ]
     },
     "metadata": {
      "needs_background": "light"
     },
     "output_type": "display_data"
    },
    {
     "data": {
      "image/png": "[encoded data removed]",
      "text/plain": [
       "<Figure size 432x288 with 1 Axes>"
      ]
     },
     "metadata": {
      "needs_background": "light"
     },
     "output_type": "display_data"
    },
    {
     "data": {
      "image/png": "[encoded data removed]",
      "text/plain": [
       "<Figure size 432x288 with 1 Axes>"
      ]
     },
     "metadata": {
      "needs_background": "light"
     },
     "output_type": "display_data"
    },
    {
     "data": {
      "image/png": "[encoded data removed]",
      "text/plain": [
       "<Figure size 432x288 with 1 Axes>"
      ]
     },
     "metadata": {
      "needs_background": "light"
     },
     "output_type": "display_data"
    }
   ],
   "source": [
    "t,b = generate_trace_k(declare, trans, initial, 5)"
   ]
  },
  {
   "cell_type": "markdown",
   "id": "ec24edec-bd26-4fbd-9b95-3b0343bfd49d",
   "metadata": {
    "tags": []
   },
   "source": [
    "### Propriedades\n",
    "\n",
    "Para verificar as propriedades enunciadas, pode-se também utilizar o Solver. Depois de se gerar um traço, basta acrescentar as asserções necessárias e invocar uma resolução.\n",
    "\n",
    " 1. Todos os estados contém alguma célula normal viva.\n",
    "\n",
    "Pode-se modelar esta condição com o seguinte predicado, já que o BitVector $border$ representa todas as células normais mortas:\n",
    "\n",
    "$$ \\forall_{x \\in trace}, \\quad x \\neq border $$\n",
    "\n",
    " 2. Existe uma célula normal que não esteve viva em nenhum estado\n",
    " \n",
    "Seja $o$ o resultado da disjunção lógica de todos os estados do traço. Se $o$ for igual ao estado com todas as células normais vivas, então todas as células normais estiveram vivas em pelo menos um estado, isto é:\n",
    " \n",
    "$$ o \\neq \\neg full\\_border | border $$"
   ]
  },
  {
   "cell_type": "code",
   "execution_count": 31,
   "id": "83fb6f9a-0aa4-4b7c-858f-13f002d9cbdc",
   "metadata": {
    "tags": []
   },
   "outputs": [],
   "source": [
    "def valida(trace,border):\n",
    "    solver = Solver(name=name)\n",
    "    full_border = full_border_gera()\n",
    "    #initial, border = bv_rn()\n",
    "    solver.push()    \n",
    "    #state é uma constante de BitVector\n",
    "    solver.add_assertion(And([Not(Equals(state, border)) for state in trace]))\n",
    "    if solver.solve():\n",
    "        print(\"Todos os estados têm pelo menos uma célula viva.\")\n",
    "    else:\n",
    "        print(\"Existe um estado sem células vivas.\")\n",
    "    solver.pop()\n",
    "    #fazer o OR lógico de todos os bitvectors e ver se é igual ou diferente de BVZero(n*n)\n",
    "    solver.push()\n",
    "    solver.add_assertion(Not(Equals(reduce(BVOr, list(trace)), BVOr(BVNot(full_border), border))))\n",
    "    if solver.solve():\n",
    "        print(\"Existem células que não ficaram vivas.\")\n",
    "    else:\n",
    "        print(\"Todas as células estiveram vivas pelo menos uma vez.\")        \n",
    "    solver.pop()"
   ]
  },
  {
   "cell_type": "code",
   "execution_count": 18,
   "id": "883a1a83-ba69-491f-be23-b711b227f87f",
   "metadata": {},
   "outputs": [
    {
     "data": {
      "image/png": "[encoded data removed]",
      "text/plain": [
       "<Figure size 432x288 with 1 Axes>"
      ]
     },
     "metadata": {
      "needs_background": "light"
     },
     "output_type": "display_data"
    },
    {
     "data": {
      "image/png": "[encoded data removed]",
      "text/plain": [
       "<Figure size 432x288 with 1 Axes>"
      ]
     },
     "metadata": {
      "needs_background": "light"
     },
     "output_type": "display_data"
    },
    {
     "data": {
      "image/png": "[encoded data removed]",
      "text/plain": [
       "<Figure size 432x288 with 1 Axes>"
      ]
     },
     "metadata": {
      "needs_background": "light"
     },
     "output_type": "display_data"
    },
    {
     "data": {
      "image/png": "[encoded data removed]",
      "text/plain": [
       "<Figure size 432x288 with 1 Axes>"
      ]
     },
     "metadata": {
      "needs_background": "light"
     },
     "output_type": "display_data"
    },
    {
     "data": {
      "image/png": "[encoded data removed]",
      "text/plain": [
       "<Figure size 432x288 with 1 Axes>"
      ]
     },
     "metadata": {
      "needs_background": "light"
     },
     "output_type": "display_data"
    },
    {
     "data": {
      "image/png": "[encoded data removed]",
      "text/plain": [
       "<Figure size 432x288 with 1 Axes>"
      ]
     },
     "metadata": {
      "needs_background": "light"
     },
     "output_type": "display_data"
    },
    {
     "data": {
      "image/png": "[encoded data removed]",
      "text/plain": [
       "<Figure size 432x288 with 1 Axes>"
      ]
     },
     "metadata": {
      "needs_background": "light"
     },
     "output_type": "display_data"
    },
    {
     "name": "stdout",
     "output_type": "stream",
     "text": [
      "Todos os estados têm pelo menos uma célula viva.\n",
      "Existem células que não ficaram vivas.\n"
     ]
    }
   ],
   "source": [
    "t,b = generate_trace(declare, trans, initial)\n",
    "valida(t,b)"
   ]
  },
  {
   "cell_type": "markdown",
   "id": "57ad89ab-5949-48a4-86db-d7a5657e4dfb",
   "metadata": {},
   "source": [
    "## Exemplos\n",
    "\n",
    "Exemplo 1:"
   ]
  },
  {
   "cell_type": "code",
   "execution_count": 32,
   "id": "98b9dab4-3600-45ec-9111-7320474fa59f",
   "metadata": {},
   "outputs": [
    {
     "data": {
      "image/png": "[encoded data removed]",
      "text/plain": [
       "<Figure size 432x288 with 1 Axes>"
      ]
     },
     "metadata": {
      "needs_background": "light"
     },
     "output_type": "display_data"
    },
    {
     "data": {
      "image/png": "[encoded data removed]",
      "text/plain": [
       "<Figure size 432x288 with 1 Axes>"
      ]
     },
     "metadata": {
      "needs_background": "light"
     },
     "output_type": "display_data"
    },
    {
     "data": {
      "image/png": "[encoded data removed]",
      "text/plain": [
       "<Figure size 432x288 with 1 Axes>"
      ]
     },
     "metadata": {
      "needs_background": "light"
     },
     "output_type": "display_data"
    },
    {
     "data": {
      "image/png": "[encoded data removed]",
      "text/plain": [
       "<Figure size 432x288 with 1 Axes>"
      ]
     },
     "metadata": {
      "needs_background": "light"
     },
     "output_type": "display_data"
    },
    {
     "data": {
      "image/png": "[encoded data removed]",
      "text/plain": [
       "<Figure size 432x288 with 1 Axes>"
      ]
     },
     "metadata": {
      "needs_background": "light"
     },
     "output_type": "display_data"
    },
    {
     "data": {
      "image/png": "[encoded data removed]",
      "text/plain": [
       "<Figure size 432x288 with 1 Axes>"
      ]
     },
     "metadata": {
      "needs_background": "light"
     },
     "output_type": "display_data"
    },
    {
     "data": {
      "image/png": "[encoded data removed]",
      "text/plain": [
       "<Figure size 432x288 with 1 Axes>"
      ]
     },
     "metadata": {
      "needs_background": "light"
     },
     "output_type": "display_data"
    },
    {
     "data": {
      "image/png": "[encoded data removed]",
      "text/plain": [
       "<Figure size 432x288 with 1 Axes>"
      ]
     },
     "metadata": {
      "needs_background": "light"
     },
     "output_type": "display_data"
    },
    {
     "data": {
      "image/png": "[encoded data removed]",
      "text/plain": [
       "<Figure size 432x288 with 1 Axes>"
      ]
     },
     "metadata": {
      "needs_background": "light"
     },
     "output_type": "display_data"
    },
    {
     "data": {
      "image/png": "[encoded data removed]",
      "text/plain": [
       "<Figure size 432x288 with 1 Axes>"
      ]
     },
     "metadata": {
      "needs_background": "light"
     },
     "output_type": "display_data"
    },
    {
     "name": "stdout",
     "output_type": "stream",
     "text": [
      "Todos os estados têm pelo menos uma célula viva.\n",
      "Existem células que não ficaram vivas.\n"
     ]
    }
   ],
   "source": [
    "p = 1\n",
    "n = 5\n",
    "t,b = generate_trace_k(declare, trans, initial, 10)\n",
    "valida(t,b)"
   ]
  },
  {
   "cell_type": "markdown",
   "id": "4e9125d0-cc26-4d75-aa87-76a8ac85c4ac",
   "metadata": {},
   "source": [
    "Exemplo 2:"
   ]
  },
  {
   "cell_type": "code",
   "execution_count": 15,
   "id": "4cefe4e9-f04f-4140-b641-7edf11dbd917",
   "metadata": {},
   "outputs": [
    {
     "data": {
      "image/png": "[encoded data removed]",
      "text/plain": [
       "<Figure size 432x288 with 1 Axes>"
      ]
     },
     "metadata": {
      "needs_background": "light"
     },
     "output_type": "display_data"
    },
    {
     "data": {
      "image/png": "[encoded data removed]",
      "text/plain": [
       "<Figure size 432x288 with 1 Axes>"
      ]
     },
     "metadata": {
      "needs_background": "light"
     },
     "output_type": "display_data"
    },
    {
     "data": {
      "image/png": "[encoded data removed]",
      "text/plain": [
       "<Figure size 432x288 with 1 Axes>"
      ]
     },
     "metadata": {
      "needs_background": "light"
     },
     "output_type": "display_data"
    },
    {
     "data": {
      "image/png": "[encoded data removed]",
      "text/plain": [
       "<Figure size 432x288 with 1 Axes>"
      ]
     },
     "metadata": {
      "needs_background": "light"
     },
     "output_type": "display_data"
    },
    {
     "data": {
      "image/png": "[encoded data removed]",
      "text/plain": [
       "<Figure size 432x288 with 1 Axes>"
      ]
     },
     "metadata": {
      "needs_background": "light"
     },
     "output_type": "display_data"
    },
    {
     "data": {
      "image/png": "[encoded data removed]",
      "text/plain": [
       "<Figure size 432x288 with 1 Axes>"
      ]
     },
     "metadata": {
      "needs_background": "light"
     },
     "output_type": "display_data"
    },
    {
     "data": {
      "image/png": "[encoded data removed]",
      "text/plain": [
       "<Figure size 432x288 with 1 Axes>"
      ]
     },
     "metadata": {
      "needs_background": "light"
     },
     "output_type": "display_data"
    },
    {
     "data": {
      "image/png": "[encoded data removed]",
      "text/plain": [
       "<Figure size 432x288 with 1 Axes>"
      ]
     },
     "metadata": {
      "needs_background": "light"
     },
     "output_type": "display_data"
    },
    {
     "ename": "NameError",
     "evalue": "name 'valida' is not defined",
     "output_type": "error",
     "traceback": [
      "\u001b[1;31m---------------------------------------------------------------------------\u001b[0m",
      "\u001b[1;31mNameError\u001b[0m                                 Traceback (most recent call last)",
      "Input \u001b[1;32mIn [15]\u001b[0m, in \u001b[0;36m<cell line: 4>\u001b[1;34m()\u001b[0m\n\u001b[0;32m      2\u001b[0m n \u001b[38;5;241m=\u001b[39m \u001b[38;5;241m32\u001b[39m\n\u001b[0;32m      3\u001b[0m t,b \u001b[38;5;241m=\u001b[39m generate_trace_k(declare, trans, initial, \u001b[38;5;241m8\u001b[39m)\n\u001b[1;32m----> 4\u001b[0m \u001b[43mvalida\u001b[49m(t,b)\n",
      "\u001b[1;31mNameError\u001b[0m: name 'valida' is not defined"
     ]
    }
   ],
   "source": [
    "p = 0.5\n",
    "n = 32\n",
    "t,b = generate_trace(declare, trans, initial)\n",
    "valida(t,b)"
   ]
  },
  {
   "cell_type": "markdown",
   "id": "ce3c293d-2164-4866-ab60-2b9426b3b3e9",
   "metadata": {},
   "source": [
    "### Notas finais\n",
    "\n",
    "Para se provar as propriedades para qualquer estado, seria necessário percorrer qualquer configuração inicial e computar o seu traço correspondente. Um traço limitado existe sempre, pelo número finito de estados, mas mesmo assim pode ser demasiado complexo. Notavelmente, se $p>0$, qualquer configuração inicial é possível, então há $(n-2)^2 * 2^{2N-1}$ combinações. \n",
    "\n",
    "Para ser possível computar algum tipo de solução, limita-se o tamanho dos traços, testando iterativamente para cada um a validade das propriedades.\n",
    "\n",
    "No entanto, a solução seguinte não é suficiente para provar os invariantes. Isso deve-se à natureza aleatória do estado inicial, já que o solver não pode calcular todas as possibilidades iniciais, mas sim apenas uma."
   ]
  },
  {
   "cell_type": "code",
   "execution_count": null,
   "id": "7267ca09-051e-49d7-a441-c2757616034d",
   "metadata": {},
   "outputs": [],
   "source": [
    "def fsm_always_wrong(declare, trans, init, inv, K):\n",
    "    for k in range(1,K+1):\n",
    "        with Solver(name=name) as solver:\n",
    "            trace = [declare(i) for i in range(k)]\n",
    "            solver.add_assertion(init(trace[0]))\n",
    "            for i in range(k-1):\n",
    "                solver.add_assertion(trans(trace[i],trace[i+1]))\n",
    "            solver.add_assertion(Not(inv(trace)))\n",
    "            if solver.solve():\n",
    "                print('Encontrou-se um contra-exemplo:')\n",
    "                for state in trace:\n",
    "                    print_state(solver.get_value(state['s']))\n",
    "                return\n",
    "            else:\n",
    "                print(f\"A propriedade é válida para UM TRAÇO de tamanho k = %d\" % k)"
   ]
  },
  {
   "cell_type": "markdown",
   "id": "1e1afa05-213c-4ab2-8c66-25105587efb6",
   "metadata": {},
   "source": [
    "Para ser possível provar estes invariantes, o estado inicial não deve ser calculado aleatoriamente, mas sim ser possível percorrer por qualquer estado inicial."
   ]
  },
  {
   "cell_type": "markdown",
   "id": "aa77b2ad-68f0-417f-ac3d-d769baa7903d",
   "metadata": {},
   "source": [
    "Invariante que testa a propriedade \"Todos os estados têm pelo menos uma célula normal viva.\""
   ]
  },
  {
   "cell_type": "code",
   "execution_count": null,
   "id": "6730b580-8868-4e61-a871-5a6cdaf2f24a",
   "metadata": {},
   "outputs": [],
   "source": [
    "def inv_all_state(trace):\n",
    "    return And([Not(Equals(state['s'], state['border'])) for state in trace])"
   ]
  },
  {
   "cell_type": "code",
   "execution_count": null,
   "id": "5875901a-67af-4607-ad6f-f95c6a2ce701",
   "metadata": {
    "tags": []
   },
   "outputs": [],
   "source": [
    "fsm_always_wrong(declare, trans, initial, inv_all_state, 10)"
   ]
  },
  {
   "cell_type": "markdown",
   "id": "10f544f9-0e26-4793-9157-5884ecd820d0",
   "metadata": {},
   "source": [
    "Invariante que testa a propriedade \"Existe uma célula normal que não está viva em algum estado.\""
   ]
  },
  {
   "cell_type": "code",
   "execution_count": null,
   "id": "37bd9ab4-96ed-481f-b9ad-49bcbc3bd6e6",
   "metadata": {},
   "outputs": [],
   "source": [
    "def inv_all_cell(trace):\n",
    "    return Not(Equals(reduce(BVOr, list(map(lambda x: x['s'], list(trace)))), BVOr(BVNot(full_border), trace[0]['border'])))"
   ]
  },
  {
   "cell_type": "code",
   "execution_count": null,
   "id": "872011ea-cfe5-4f33-aea9-cf60c1c9d45c",
   "metadata": {
    "tags": []
   },
   "outputs": [],
   "source": [
    "fsm_always_wrong(declare, trans, initial, inv_all_cell, 30)"
   ]
  },
  {
   "cell_type": "code",
   "execution_count": null,
   "id": "5895e1ee-eb92-4c0b-81fa-092071ae0a90",
   "metadata": {},
   "outputs": [],
   "source": []
  }
 ],
 "metadata": {
  "kernelspec": {
   "display_name": "Python 3 (ipykernel)",
   "language": "python",
   "name": "python3"
  },
  "language_info": {
   "codemirror_mode": {
    "name": "ipython",
    "version": 3
   },
   "file_extension": ".py",
   "mimetype": "text/x-python",
   "name": "python",
   "nbconvert_exporter": "python",
   "pygments_lexer": "ipython3",
   "version": "3.9.12"
  }
 },
 "nbformat": 4,
 "nbformat_minor": 5
}
