{
 "cells": [
  {
   "cell_type": "code",
   "execution_count": 9,
   "id": "277cdcc7-9d1c-44d3-8f6d-fccadf32e685",
   "metadata": {
    "tags": []
   },
   "outputs": [
    {
     "data": {
      "image/png": "[encoded data removed]",
      "text/plain": [
       "<Figure size 640x480 with 1 Axes>"
      ]
     },
     "metadata": {},
     "output_type": "display_data"
    },
    {
     "name": "stderr",
     "output_type": "stream",
     "text": [
      "Exception ignored in: <function Z3Converter.__del__ at 0x0000019F307F9750>\n",
      "Traceback (most recent call last):\n",
      "  File \"D:\\Programs\\Anaconda\\envs\\logica\\lib\\site-packages\\pysmt\\solvers\\z3.py\", line 926, in __del__\n",
      "    if self.ctx.ref():\n",
      "  File \"C:\\Users\\andre\\AppData\\Roaming\\Python\\Python310\\site-packages\\z3\\z3.py\", line 196, in ref\n",
      "    def ref(self):\n",
      "KeyboardInterrupt: \n"
     ]
    },
    {
     "ename": "KeyboardInterrupt",
     "evalue": "",
     "output_type": "error",
     "traceback": [
      "\u001b[1;31m---------------------------------------------------------------------------\u001b[0m",
      "\u001b[1;31mKeyboardInterrupt\u001b[0m                         Traceback (most recent call last)",
      "Input \u001b[1;32mIn [9]\u001b[0m, in \u001b[0;36m<cell line: 93>\u001b[1;34m()\u001b[0m\n\u001b[0;32m     93\u001b[0m \u001b[38;5;28;01mwith\u001b[39;00m Solver(name\u001b[38;5;241m=\u001b[39mname) \u001b[38;5;28;01mas\u001b[39;00m solver:\n\u001b[0;32m     94\u001b[0m     initial, border \u001b[38;5;241m=\u001b[39m bv_rn()\n\u001b[1;32m---> 95\u001b[0m     trace \u001b[38;5;241m=\u001b[39m \u001b[43mgenerate_trace\u001b[49m\u001b[43m(\u001b[49m\u001b[43minitial\u001b[49m\u001b[43m)\u001b[49m\n\u001b[0;32m     96\u001b[0m     solver\u001b[38;5;241m.\u001b[39mpush()    \n\u001b[0;32m     97\u001b[0m     \u001b[38;5;66;03m#state é uma constante de BitVector\u001b[39;00m\n",
      "Input \u001b[1;32mIn [9]\u001b[0m, in \u001b[0;36mgenerate_trace\u001b[1;34m(initial, p)\u001b[0m\n\u001b[0;32m     78\u001b[0m i \u001b[38;5;241m+\u001b[39m\u001b[38;5;241m=\u001b[39m \u001b[38;5;241m1\u001b[39m\n\u001b[0;32m     79\u001b[0m solver\u001b[38;5;241m.\u001b[39mpush()\n\u001b[1;32m---> 80\u001b[0m solver\u001b[38;5;241m.\u001b[39madd_assertion(\u001b[43mtrans\u001b[49m\u001b[43m(\u001b[49m\u001b[43mlast\u001b[49m\u001b[43m,\u001b[49m\u001b[43m \u001b[49m\u001b[43mprox\u001b[49m\u001b[43m)\u001b[49m)\n\u001b[0;32m     81\u001b[0m \u001b[38;5;28;01mif\u001b[39;00m \u001b[38;5;129;01mnot\u001b[39;00m solver\u001b[38;5;241m.\u001b[39msolve():\n\u001b[0;32m     82\u001b[0m     \u001b[38;5;28mprint\u001b[39m(\u001b[38;5;124m\"\u001b[39m\u001b[38;5;124mAlgo deu asneira.\u001b[39m\u001b[38;5;124m\"\u001b[39m)\n",
      "Input \u001b[1;32mIn [9]\u001b[0m, in \u001b[0;36mtrans\u001b[1;34m(curr, prox)\u001b[0m\n\u001b[0;32m     57\u001b[0m \u001b[38;5;28;01mfor\u001b[39;00m i \u001b[38;5;129;01min\u001b[39;00m \u001b[38;5;28mrange\u001b[39m(n\u001b[38;5;241m-\u001b[39m\u001b[38;5;241m1\u001b[39m):\n\u001b[0;32m     58\u001b[0m     \u001b[38;5;28;01mfor\u001b[39;00m j \u001b[38;5;129;01min\u001b[39;00m \u001b[38;5;28mrange\u001b[39m(n\u001b[38;5;241m-\u001b[39m\u001b[38;5;241m1\u001b[39m):\n\u001b[0;32m     59\u001b[0m         \u001b[38;5;66;03m#t0 = And(Equals(bv_sel(next,i,j), Int(0)), E)\u001b[39;00m\n\u001b[0;32m     60\u001b[0m         \u001b[38;5;66;03m#prox[i][j] == 1 sse curr[i][j] == 1 e s == 4 ou s == 3\u001b[39;00m\n\u001b[1;32m---> 61\u001b[0m         s \u001b[38;5;241m=\u001b[39m \u001b[38;5;28;43msum\u001b[39;49m\u001b[43m(\u001b[49m\u001b[43m[\u001b[49m\u001b[43mbv_selZE\u001b[49m\u001b[43m(\u001b[49m\u001b[43mcurr\u001b[49m\u001b[43m,\u001b[49m\u001b[43ma\u001b[49m\u001b[43m,\u001b[49m\u001b[43mb\u001b[49m\u001b[43m)\u001b[49m\u001b[43m \u001b[49m\u001b[38;5;28;43;01mfor\u001b[39;49;00m\u001b[43m \u001b[49m\u001b[43ma\u001b[49m\u001b[43m \u001b[49m\u001b[38;5;129;43;01min\u001b[39;49;00m\u001b[43m \u001b[49m\u001b[43m[\u001b[49m\u001b[43mi\u001b[49m\u001b[38;5;241;43m-\u001b[39;49m\u001b[38;5;241;43m1\u001b[39;49m\u001b[43m,\u001b[49m\u001b[43mi\u001b[49m\u001b[43m,\u001b[49m\u001b[43mi\u001b[49m\u001b[38;5;241;43m+\u001b[39;49m\u001b[38;5;241;43m1\u001b[39;49m\u001b[43m]\u001b[49m\u001b[43m \u001b[49m\u001b[38;5;28;43;01mfor\u001b[39;49;00m\u001b[43m \u001b[49m\u001b[43mb\u001b[49m\u001b[43m \u001b[49m\u001b[38;5;129;43;01min\u001b[39;49;00m\u001b[43m \u001b[49m\u001b[43m[\u001b[49m\u001b[43mj\u001b[49m\u001b[38;5;241;43m-\u001b[39;49m\u001b[38;5;241;43m1\u001b[39;49m\u001b[43m,\u001b[49m\u001b[43mj\u001b[49m\u001b[43m,\u001b[49m\u001b[43mj\u001b[49m\u001b[38;5;241;43m+\u001b[39;49m\u001b[38;5;241;43m1\u001b[39;49m\u001b[43m]\u001b[49m\u001b[43m \u001b[49m\u001b[38;5;28;43;01mif\u001b[39;49;00m\u001b[43m \u001b[49m\u001b[43ma\u001b[49m\u001b[43m \u001b[49m\u001b[38;5;241;43m>\u001b[39;49m\u001b[38;5;241;43m=\u001b[39;49m\u001b[43m \u001b[49m\u001b[38;5;241;43m0\u001b[39;49m\u001b[43m \u001b[49m\u001b[38;5;129;43;01mand\u001b[39;49;00m\u001b[43m \u001b[49m\u001b[43ma\u001b[49m\u001b[43m \u001b[49m\u001b[38;5;241;43m<\u001b[39;49m\u001b[43m \u001b[49m\u001b[43mn\u001b[49m\u001b[43m \u001b[49m\u001b[38;5;129;43;01mand\u001b[39;49;00m\u001b[43m \u001b[49m\u001b[43mb\u001b[49m\u001b[43m \u001b[49m\u001b[38;5;241;43m>\u001b[39;49m\u001b[38;5;241;43m=\u001b[39;49m\u001b[43m \u001b[49m\u001b[38;5;241;43m0\u001b[39;49m\u001b[43m \u001b[49m\u001b[38;5;129;43;01mand\u001b[39;49;00m\u001b[43m \u001b[49m\u001b[43mb\u001b[49m\u001b[43m \u001b[49m\u001b[38;5;241;43m<\u001b[39;49m\u001b[43m \u001b[49m\u001b[43mn\u001b[49m\u001b[43m]\u001b[49m\u001b[43m)\u001b[49m\n\u001b[0;32m     62\u001b[0m         t1 \u001b[38;5;241m=\u001b[39m Iff(Equals(bv_sel(prox,i,j), BVOne(\u001b[38;5;241m1\u001b[39m)), Or(Equals(s, BV(\u001b[38;5;241m3\u001b[39m,n\u001b[38;5;241m*\u001b[39mn)), And(Equals(bv_sel(curr,i,j),BVOne(\u001b[38;5;241m1\u001b[39m)), Equals(s, BV(\u001b[38;5;241m4\u001b[39m,n\u001b[38;5;241m*\u001b[39mn)))))\n\u001b[0;32m     63\u001b[0m         r\u001b[38;5;241m.\u001b[39mappend(t1)\n",
      "File \u001b[1;32mD:\\Programs\\Anaconda\\envs\\logica\\lib\\site-packages\\pysmt\\fnode.py:866\u001b[0m, in \u001b[0;36mFNode.__radd__\u001b[1;34m(self, right)\u001b[0m\n\u001b[0;32m    865\u001b[0m \u001b[38;5;28;01mdef\u001b[39;00m \u001b[38;5;21m__radd__\u001b[39m(\u001b[38;5;28mself\u001b[39m, right):\n\u001b[1;32m--> 866\u001b[0m     \u001b[38;5;28;01mreturn\u001b[39;00m \u001b[38;5;28;43mself\u001b[39;49m\u001b[38;5;241;43m.\u001b[39;49m\u001b[43m_apply_infix\u001b[49m\u001b[43m(\u001b[49m\u001b[43mright\u001b[49m\u001b[43m,\u001b[49m\u001b[43m \u001b[49m\u001b[43m_mgr\u001b[49m\u001b[43m(\u001b[49m\u001b[43m)\u001b[49m\u001b[38;5;241;43m.\u001b[39;49m\u001b[43mPlus\u001b[49m\u001b[43m,\u001b[49m\u001b[43m \u001b[49m\u001b[43m_mgr\u001b[49m\u001b[43m(\u001b[49m\u001b[43m)\u001b[49m\u001b[38;5;241;43m.\u001b[39;49m\u001b[43mBVAdd\u001b[49m\u001b[43m)\u001b[49m\n",
      "File \u001b[1;32mD:\\Programs\\Anaconda\\envs\\logica\\lib\\site-packages\\pysmt\\decorators.py:107\u001b[0m, in \u001b[0;36massert_infix_enabled.<locals>.assert_infix_enabled_wrap\u001b[1;34m(*args, **kwargs)\u001b[0m\n\u001b[0;32m    105\u001b[0m \u001b[38;5;28;01mif\u001b[39;00m \u001b[38;5;129;01mnot\u001b[39;00m get_env()\u001b[38;5;241m.\u001b[39menable_infix_notation:\n\u001b[0;32m    106\u001b[0m     \u001b[38;5;28;01mraise\u001b[39;00m PysmtModeError(INFIX_ERROR_MSG)\n\u001b[1;32m--> 107\u001b[0m \u001b[38;5;28;01mreturn\u001b[39;00m f(\u001b[38;5;241m*\u001b[39margs, \u001b[38;5;241m*\u001b[39m\u001b[38;5;241m*\u001b[39mkwargs)\n",
      "File \u001b[1;32mD:\\Programs\\Anaconda\\envs\\logica\\lib\\site-packages\\pysmt\\fnode.py:705\u001b[0m, in \u001b[0;36mFNode._apply_infix\u001b[1;34m(self, right, function, bv_function)\u001b[0m\n\u001b[0;32m    703\u001b[0m right \u001b[38;5;241m=\u001b[39m \u001b[38;5;28mself\u001b[39m\u001b[38;5;241m.\u001b[39m_infix_prepare_arg(right, \u001b[38;5;28mself\u001b[39m\u001b[38;5;241m.\u001b[39mget_type())\n\u001b[0;32m    704\u001b[0m \u001b[38;5;28;01mif\u001b[39;00m \u001b[38;5;28mself\u001b[39m\u001b[38;5;241m.\u001b[39mget_type()\u001b[38;5;241m.\u001b[39mis_bv_type():\n\u001b[1;32m--> 705\u001b[0m     \u001b[38;5;28;01mreturn\u001b[39;00m \u001b[43mbv_function\u001b[49m\u001b[43m(\u001b[49m\u001b[38;5;28;43mself\u001b[39;49m\u001b[43m,\u001b[49m\u001b[43m \u001b[49m\u001b[43mright\u001b[49m\u001b[43m)\u001b[49m\n\u001b[0;32m    706\u001b[0m \u001b[38;5;28;01mreturn\u001b[39;00m function(\u001b[38;5;28mself\u001b[39m, right)\n",
      "File \u001b[1;32mD:\\Programs\\Anaconda\\envs\\logica\\lib\\site-packages\\pysmt\\formula.py:755\u001b[0m, in \u001b[0;36mFormulaManager.BVAdd\u001b[1;34m(self, *args)\u001b[0m\n\u001b[0;32m    753\u001b[0m res \u001b[38;5;241m=\u001b[39m args[\u001b[38;5;241m0\u001b[39m]\n\u001b[0;32m    754\u001b[0m \u001b[38;5;28;01mfor\u001b[39;00m arg \u001b[38;5;129;01min\u001b[39;00m args[\u001b[38;5;241m1\u001b[39m:]:\n\u001b[1;32m--> 755\u001b[0m     res \u001b[38;5;241m=\u001b[39m \u001b[38;5;28;43mself\u001b[39;49m\u001b[38;5;241;43m.\u001b[39;49m\u001b[43mcreate_node\u001b[49m\u001b[43m(\u001b[49m\u001b[43mnode_type\u001b[49m\u001b[38;5;241;43m=\u001b[39;49m\u001b[43mop\u001b[49m\u001b[38;5;241;43m.\u001b[39;49m\u001b[43mBV_ADD\u001b[49m\u001b[43m,\u001b[49m\n\u001b[0;32m    756\u001b[0m \u001b[43m                     \u001b[49m\u001b[43margs\u001b[49m\u001b[38;5;241;43m=\u001b[39;49m\u001b[43m(\u001b[49m\u001b[43mres\u001b[49m\u001b[43m,\u001b[49m\u001b[43marg\u001b[49m\u001b[43m)\u001b[49m\u001b[43m,\u001b[49m\n\u001b[0;32m    757\u001b[0m \u001b[43m                     \u001b[49m\u001b[43mpayload\u001b[49m\u001b[38;5;241;43m=\u001b[39;49m\u001b[43m(\u001b[49m\u001b[43mres\u001b[49m\u001b[38;5;241;43m.\u001b[39;49m\u001b[43mbv_width\u001b[49m\u001b[43m(\u001b[49m\u001b[43m)\u001b[49m\u001b[43m,\u001b[49m\u001b[43m)\u001b[49m\u001b[43m)\u001b[49m\n\u001b[0;32m    758\u001b[0m \u001b[38;5;28;01mreturn\u001b[39;00m res\n",
      "File \u001b[1;32mD:\\Programs\\Anaconda\\envs\\logica\\lib\\site-packages\\pysmt\\formula.py:96\u001b[0m, in \u001b[0;36mFormulaManager.create_node\u001b[1;34m(self, node_type, args, payload)\u001b[0m\n\u001b[0;32m     94\u001b[0m \u001b[38;5;28mself\u001b[39m\u001b[38;5;241m.\u001b[39m_next_free_id \u001b[38;5;241m+\u001b[39m\u001b[38;5;241m=\u001b[39m \u001b[38;5;241m1\u001b[39m\n\u001b[0;32m     95\u001b[0m \u001b[38;5;28mself\u001b[39m\u001b[38;5;241m.\u001b[39mformulae[content] \u001b[38;5;241m=\u001b[39m n\n\u001b[1;32m---> 96\u001b[0m \u001b[38;5;28;43mself\u001b[39;49m\u001b[38;5;241;43m.\u001b[39;49m\u001b[43m_do_type_check\u001b[49m\u001b[43m(\u001b[49m\u001b[43mn\u001b[49m\u001b[43m)\u001b[49m\n\u001b[0;32m     97\u001b[0m \u001b[38;5;28;01mreturn\u001b[39;00m n\n",
      "File \u001b[1;32mD:\\Programs\\Anaconda\\envs\\logica\\lib\\site-packages\\pysmt\\formula.py:81\u001b[0m, in \u001b[0;36mFormulaManager._do_type_check_real\u001b[1;34m(self, formula)\u001b[0m\n\u001b[0;32m     80\u001b[0m \u001b[38;5;28;01mdef\u001b[39;00m \u001b[38;5;21m_do_type_check_real\u001b[39m(\u001b[38;5;28mself\u001b[39m, formula):\n\u001b[1;32m---> 81\u001b[0m     \u001b[38;5;28;43mself\u001b[39;49m\u001b[38;5;241;43m.\u001b[39;49m\u001b[43mget_type\u001b[49m\u001b[43m(\u001b[49m\u001b[43mformula\u001b[49m\u001b[43m)\u001b[49m\n",
      "File \u001b[1;32mD:\\Programs\\Anaconda\\envs\\logica\\lib\\site-packages\\pysmt\\type_checker.py:43\u001b[0m, in \u001b[0;36mSimpleTypeChecker.get_type\u001b[1;34m(self, formula)\u001b[0m\n\u001b[0;32m     41\u001b[0m \u001b[38;5;28;01mdef\u001b[39;00m \u001b[38;5;21mget_type\u001b[39m(\u001b[38;5;28mself\u001b[39m, formula):\n\u001b[0;32m     42\u001b[0m     \u001b[38;5;124;03m\"\"\" Returns the pysmt.types type of the formula \"\"\"\u001b[39;00m\n\u001b[1;32m---> 43\u001b[0m     res \u001b[38;5;241m=\u001b[39m \u001b[38;5;28;43mself\u001b[39;49m\u001b[38;5;241;43m.\u001b[39;49m\u001b[43mwalk\u001b[49m\u001b[43m(\u001b[49m\u001b[43mformula\u001b[49m\u001b[43m)\u001b[49m\n\u001b[0;32m     44\u001b[0m     \u001b[38;5;28;01mif\u001b[39;00m \u001b[38;5;129;01mnot\u001b[39;00m \u001b[38;5;28mself\u001b[39m\u001b[38;5;241m.\u001b[39mbe_nice \u001b[38;5;129;01mand\u001b[39;00m res \u001b[38;5;129;01mis\u001b[39;00m \u001b[38;5;28;01mNone\u001b[39;00m:\n\u001b[0;32m     45\u001b[0m         \u001b[38;5;28;01mraise\u001b[39;00m PysmtTypeError(\u001b[38;5;124m\"\u001b[39m\u001b[38;5;124mThe formula \u001b[39m\u001b[38;5;124m'\u001b[39m\u001b[38;5;132;01m%s\u001b[39;00m\u001b[38;5;124m'\u001b[39m\u001b[38;5;124m is not well-formed\u001b[39m\u001b[38;5;124m\"\u001b[39m \\\n\u001b[0;32m     46\u001b[0m                              \u001b[38;5;241m%\u001b[39m \u001b[38;5;28mstr\u001b[39m(formula))\n",
      "File \u001b[1;32mD:\\Programs\\Anaconda\\envs\\logica\\lib\\site-packages\\pysmt\\walkers\\dag.py:106\u001b[0m, in \u001b[0;36mDagWalker.walk\u001b[1;34m(self, formula, **kwargs)\u001b[0m\n\u001b[0;32m    103\u001b[0m \u001b[38;5;28;01mif\u001b[39;00m formula \u001b[38;5;129;01min\u001b[39;00m \u001b[38;5;28mself\u001b[39m\u001b[38;5;241m.\u001b[39mmemoization:\n\u001b[0;32m    104\u001b[0m     \u001b[38;5;28;01mreturn\u001b[39;00m \u001b[38;5;28mself\u001b[39m\u001b[38;5;241m.\u001b[39mmemoization[formula]\n\u001b[1;32m--> 106\u001b[0m res \u001b[38;5;241m=\u001b[39m \u001b[38;5;28mself\u001b[39m\u001b[38;5;241m.\u001b[39miter_walk(formula, \u001b[38;5;241m*\u001b[39m\u001b[38;5;241m*\u001b[39mkwargs)\n\u001b[0;32m    108\u001b[0m \u001b[38;5;28;01mif\u001b[39;00m \u001b[38;5;28mself\u001b[39m\u001b[38;5;241m.\u001b[39minvalidate_memoization:\n\u001b[0;32m    109\u001b[0m     \u001b[38;5;28mself\u001b[39m\u001b[38;5;241m.\u001b[39mmemoization\u001b[38;5;241m.\u001b[39mclear()\n",
      "File \u001b[1;32mD:\\Programs\\Anaconda\\envs\\logica\\lib\\site-packages\\pysmt\\walkers\\dag.py:98\u001b[0m, in \u001b[0;36mDagWalker.iter_walk\u001b[1;34m(self, formula, **kwargs)\u001b[0m\n\u001b[0;32m     96\u001b[0m \u001b[38;5;124;03m\"\"\"Performs an iterative walk of the DAG\"\"\"\u001b[39;00m\n\u001b[0;32m     97\u001b[0m \u001b[38;5;28mself\u001b[39m\u001b[38;5;241m.\u001b[39mstack\u001b[38;5;241m.\u001b[39mappend((\u001b[38;5;28;01mFalse\u001b[39;00m, formula))\n\u001b[1;32m---> 98\u001b[0m \u001b[38;5;28mself\u001b[39m\u001b[38;5;241m.\u001b[39m_process_stack(\u001b[38;5;241m*\u001b[39m\u001b[38;5;241m*\u001b[39mkwargs)\n\u001b[0;32m     99\u001b[0m res_key \u001b[38;5;241m=\u001b[39m \u001b[38;5;28mself\u001b[39m\u001b[38;5;241m.\u001b[39m_get_key(formula, \u001b[38;5;241m*\u001b[39m\u001b[38;5;241m*\u001b[39mkwargs)\n\u001b[0;32m    100\u001b[0m \u001b[38;5;28;01mreturn\u001b[39;00m \u001b[38;5;28mself\u001b[39m\u001b[38;5;241m.\u001b[39mmemoization[res_key]\n",
      "File \u001b[1;32mD:\\Programs\\Anaconda\\envs\\logica\\lib\\site-packages\\pysmt\\walkers\\dag.py:91\u001b[0m, in \u001b[0;36mDagWalker._process_stack\u001b[1;34m(self, **kwargs)\u001b[0m\n\u001b[0;32m     89\u001b[0m (was_expanded, formula) \u001b[38;5;241m=\u001b[39m \u001b[38;5;28mself\u001b[39m\u001b[38;5;241m.\u001b[39mstack\u001b[38;5;241m.\u001b[39mpop()\n\u001b[0;32m     90\u001b[0m \u001b[38;5;28;01mif\u001b[39;00m was_expanded:\n\u001b[1;32m---> 91\u001b[0m     \u001b[38;5;28mself\u001b[39m\u001b[38;5;241m.\u001b[39m_compute_node_result(formula, \u001b[38;5;241m*\u001b[39m\u001b[38;5;241m*\u001b[39mkwargs)\n\u001b[0;32m     92\u001b[0m \u001b[38;5;28;01melse\u001b[39;00m:\n\u001b[0;32m     93\u001b[0m     \u001b[38;5;28mself\u001b[39m\u001b[38;5;241m.\u001b[39m_push_with_children_to_stack(formula, \u001b[38;5;241m*\u001b[39m\u001b[38;5;241m*\u001b[39mkwargs)\n",
      "File \u001b[1;32mD:\\Programs\\Anaconda\\envs\\logica\\lib\\site-packages\\pysmt\\walkers\\dag.py:75\u001b[0m, in \u001b[0;36mDagWalker._compute_node_result\u001b[1;34m(self, formula, **kwargs)\u001b[0m\n\u001b[0;32m     71\u001b[0m         f \u001b[38;5;241m=\u001b[39m \u001b[38;5;28mself\u001b[39m\u001b[38;5;241m.\u001b[39mwalk_error\n\u001b[0;32m     73\u001b[0m     args \u001b[38;5;241m=\u001b[39m [\u001b[38;5;28mself\u001b[39m\u001b[38;5;241m.\u001b[39mmemoization[\u001b[38;5;28mself\u001b[39m\u001b[38;5;241m.\u001b[39m_get_key(s, \u001b[38;5;241m*\u001b[39m\u001b[38;5;241m*\u001b[39mkwargs)] \\\n\u001b[0;32m     74\u001b[0m             \u001b[38;5;28;01mfor\u001b[39;00m s \u001b[38;5;129;01min\u001b[39;00m \u001b[38;5;28mself\u001b[39m\u001b[38;5;241m.\u001b[39m_get_children(formula)]\n\u001b[1;32m---> 75\u001b[0m     \u001b[38;5;28mself\u001b[39m\u001b[38;5;241m.\u001b[39mmemoization[key] \u001b[38;5;241m=\u001b[39m f(formula, args\u001b[38;5;241m=\u001b[39margs, \u001b[38;5;241m*\u001b[39m\u001b[38;5;241m*\u001b[39mkwargs)\n\u001b[0;32m     76\u001b[0m \u001b[38;5;28;01melse\u001b[39;00m:\n\u001b[0;32m     77\u001b[0m     \u001b[38;5;28;01mpass\u001b[39;00m\n",
      "File \u001b[1;32mD:\\Programs\\Anaconda\\envs\\logica\\lib\\site-packages\\pysmt\\type_checker.py:89\u001b[0m, in \u001b[0;36mSimpleTypeChecker.walk_bv_to_bv\u001b[1;34m(self, formula, args, **kwargs)\u001b[0m\n\u001b[0;32m     82\u001b[0m \u001b[38;5;129m@walkers\u001b[39m\u001b[38;5;241m.\u001b[39mhandles(op\u001b[38;5;241m.\u001b[39mBV_ADD, op\u001b[38;5;241m.\u001b[39mBV_SUB, op\u001b[38;5;241m.\u001b[39mBV_NOT, op\u001b[38;5;241m.\u001b[39mBV_AND, op\u001b[38;5;241m.\u001b[39mBV_OR)\n\u001b[0;32m     83\u001b[0m \u001b[38;5;129m@walkers\u001b[39m\u001b[38;5;241m.\u001b[39mhandles(op\u001b[38;5;241m.\u001b[39mBV_XOR, op\u001b[38;5;241m.\u001b[39mBV_NEG, op\u001b[38;5;241m.\u001b[39mBV_MUL)\n\u001b[0;32m     84\u001b[0m \u001b[38;5;129m@walkers\u001b[39m\u001b[38;5;241m.\u001b[39mhandles(op\u001b[38;5;241m.\u001b[39mBV_UDIV, op\u001b[38;5;241m.\u001b[39mBV_UREM, op\u001b[38;5;241m.\u001b[39mBV_LSHL, op\u001b[38;5;241m.\u001b[39mBV_LSHR)\n\u001b[1;32m   (...)\u001b[0m\n\u001b[0;32m     87\u001b[0m     \u001b[38;5;66;03m#pylint: disable=unused-argument\u001b[39;00m\n\u001b[0;32m     88\u001b[0m     \u001b[38;5;66;03m# We check that all children are BV and the same size\u001b[39;00m\n\u001b[1;32m---> 89\u001b[0m     target_bv_type \u001b[38;5;241m=\u001b[39m BVType(\u001b[43mformula\u001b[49m\u001b[38;5;241;43m.\u001b[39;49m\u001b[43mbv_width\u001b[49m\u001b[43m(\u001b[49m\u001b[43m)\u001b[49m)\n\u001b[0;32m     90\u001b[0m     \u001b[38;5;28;01mfor\u001b[39;00m a \u001b[38;5;129;01min\u001b[39;00m args:\n\u001b[0;32m     91\u001b[0m         \u001b[38;5;28;01mif\u001b[39;00m \u001b[38;5;129;01mnot\u001b[39;00m a \u001b[38;5;241m==\u001b[39m target_bv_type:\n",
      "File \u001b[1;32mD:\\Programs\\Anaconda\\envs\\logica\\lib\\site-packages\\pysmt\\fnode.py:481\u001b[0m, in \u001b[0;36mFNode.bv_width\u001b[1;34m(self)\u001b[0m\n\u001b[0;32m    479\u001b[0m \u001b[38;5;28;01mif\u001b[39;00m \u001b[38;5;28mself\u001b[39m\u001b[38;5;241m.\u001b[39mis_bv_constant():\n\u001b[0;32m    480\u001b[0m     \u001b[38;5;28;01mreturn\u001b[39;00m \u001b[38;5;28mself\u001b[39m\u001b[38;5;241m.\u001b[39m_content\u001b[38;5;241m.\u001b[39mpayload[\u001b[38;5;241m1\u001b[39m]\n\u001b[1;32m--> 481\u001b[0m \u001b[38;5;28;01melif\u001b[39;00m \u001b[38;5;28;43mself\u001b[39;49m\u001b[38;5;241;43m.\u001b[39;49m\u001b[43mis_symbol\u001b[49m\u001b[43m(\u001b[49m\u001b[43m)\u001b[49m:\n\u001b[0;32m    482\u001b[0m     \u001b[38;5;28;01massert\u001b[39;00m \u001b[38;5;28mself\u001b[39m\u001b[38;5;241m.\u001b[39msymbol_type()\u001b[38;5;241m.\u001b[39mis_bv_type()\n\u001b[0;32m    483\u001b[0m     \u001b[38;5;28;01mreturn\u001b[39;00m \u001b[38;5;28mself\u001b[39m\u001b[38;5;241m.\u001b[39msymbol_type()\u001b[38;5;241m.\u001b[39mwidth\n",
      "\u001b[1;31mKeyboardInterrupt\u001b[0m: "
     ]
    }
   ],
   "source": [
    "from pysmt.shortcuts import *\n",
    "import pysmt.typing as types\n",
    "import numpy as np\n",
    "import random as rn\n",
    "import matplotlib.pyplot as plt\n",
    "from functools import reduce\n",
    "\n",
    "n = 16     # dimensão do espaço de amostras\n",
    "m = 64     # numero de amostras\n",
    "p = 0\n",
    "# Escolha de \"solver\"\n",
    "#name = \"msat\"\n",
    "name = \"z3\"\n",
    "\n",
    "def print_state(s):\n",
    "    x = list(map(int, list(s.bv_str())))\n",
    "    x = [x[i:i + n] for i in range(0, len(x), n)]\n",
    "    plt.imshow(x)\n",
    "    plt.axis('off')\n",
    "    plt.show()\n",
    "\n",
    "# Funções auxiliares para BitVec's\n",
    "def bv_rn():       # gera pseudo-aleatoriamente um BitVec para representar o autómato, a partir de um inteiro\n",
    "    I = 0\n",
    "    J = 0\n",
    "    c_x = np.random.randint(1, n-2)\n",
    "    c_y = np.random.randint(1, n-2)\n",
    "    for i in range(n-1):\n",
    "        I = I | np.random.binomial(1,p) * 2**(i + n*(n-1))\n",
    "        I = I | np.random.binomial(1,p) * 2**(n*i+n-1)\n",
    "    I = I | np.random.binomial(1,p) * 2**(n*n-1)\n",
    "    J = I\n",
    "    for i in range(c_x-1, c_x+2):\n",
    "        for j in range(c_y-1, c_y+2):\n",
    "            I = I | 2**(i+j*n)\n",
    "    return (BV(I,n*n), BV(J,n*n))\n",
    "\n",
    "#vai ser preciso definir isto dentro do modelo, provavelmente. \n",
    "#Conseguir gerar mais que um e um número máximo de iterações para tentar provar as proprieadas\n",
    "#Tentar gerar contra exemplos para as expressões ditas (sei que são falsas)\n",
    "\n",
    "def bv_selZE(z,i,j):                    # seleciona o bit (i,j) do BitVec \"z\" e estende n*n-1\n",
    "    return BVZExt(BVExtract(z,start=i+j*n,end=i+j*n),n*n-1)\n",
    "\n",
    "def bv_sel(z,i,j):                    # seleciona o bit (i,j) do BitVec \"z\"\n",
    "    return BVExtract(z,start=i+j*n,end=i+j*n)\n",
    "\n",
    "def declare(i): #declara um bitvector de tamanho n*n\n",
    "    state = Symbol('s'+str(i),types.BVType(n*n))\n",
    "    return state\n",
    "\n",
    "def trans(curr, prox): #define uma transição entre dois estados do problema\n",
    "    r = []\n",
    "    for i in range(n):\n",
    "        r.append(Equals(bv_sel(prox,i,n-1), bv_sel(border,i,n-1)))\n",
    "        r.append(Equals(bv_sel(prox,n-1,i), bv_sel(border,n-1,i)))\n",
    "    for i in range(n-1):\n",
    "        for j in range(n-1):\n",
    "            #t0 = And(Equals(bv_sel(next,i,j), Int(0)), E)\n",
    "            #prox[i][j] == 1 sse curr[i][j] == 1 e s == 4 ou s == 3\n",
    "            s = sum([bv_selZE(curr,a,b) for a in [i-1,i,i+1] for b in [j-1,j,j+1] if a >= 0 and a < n and b >= 0 and b < n])\n",
    "            t1 = Iff(Equals(bv_sel(prox,i,j), BVOne(1)), Or(Equals(s, BV(3,n*n)), And(Equals(bv_sel(curr,i,j),BVOne(1)), Equals(s, BV(4,n*n)))))\n",
    "            r.append(t1)\n",
    "    return And(r)\n",
    "\n",
    "#fazer 2 solves resolve as VARIAVEIS TODAS definidas no solver. Se quero só a próxima, basta-me declarar 1/2 (como na indução) desde que me lembre de como era o resultado anterior\n",
    "def generate_trace(initial, p=True):\n",
    "    with Solver(name=name) as solver:\n",
    "        i = 0\n",
    "        last = initial\n",
    "        if p:\n",
    "            print_state(last)\n",
    "        trace = {}\n",
    "        #só precisamos de uma variável porque guardamos os valores progressivos das anteriores\n",
    "        prox = declare(0)\n",
    "        while last not in trace:\n",
    "            trace[last] = i\n",
    "            i += 1\n",
    "            solver.push()\n",
    "            solver.add_assertion(trans(last, prox))\n",
    "            if not solver.solve():\n",
    "                print(\"Algo deu asneira.\")\n",
    "                break\n",
    "            last = solver.get_value(prox)\n",
    "            #if p:\n",
    "            #    print_state(last)\n",
    "            solver.pop()\n",
    "        if p:\n",
    "            for k,v in sorted(trace.items(), key = lambda x: x[1]):\n",
    "                print_state(k)\n",
    "        return trace\n",
    "\n",
    "with Solver(name=name) as solver:\n",
    "    initial, border = bv_rn()\n",
    "    trace = generate_trace(initial)\n",
    "    solver.push()    \n",
    "    #state é uma constante de BitVector\n",
    "    for state in trace:\n",
    "        solver.add_assertion(Not(Equals(state, border)))\n",
    "    if solver.solve():\n",
    "        print(solver.get_model())\n",
    "        print(\"Todos os estados têm pelo menos uma célula viva.\")\n",
    "    else:\n",
    "        print(\"Existe um estado sem células vivas.\")\n",
    "    solver.pop()\n",
    "    #fazer o OR lógico de todos os bitvectors e ver se é igual ou diferente de BVZero(n*n)\n",
    "    solver.push()\n",
    "    solver.add_assertion(Equals(reduce(BVOr, list(trace)), BVNot(border)))\n",
    "    if solver.solve():\n",
    "        print(\"Todas as células estiveram vivas pelo menos uma vez.\")\n",
    "    else:\n",
    "        print(\"Existem células que não ficaram vivas.\")\n",
    "    solver.pop()"
   ]
  },
  {
   "cell_type": "code",
   "execution_count": 12,
   "id": "c6b92c59-627e-462c-8c27-16884ee4e4ba",
   "metadata": {
    "collapsed": true,
    "jupyter": {
     "outputs_hidden": true
    },
    "tags": []
   },
   "outputs": [
    {
     "name": "stderr",
     "output_type": "stream",
     "text": [
      "Exception ignored in: <function Z3Converter.__del__ at 0x0000019F307F9750>\n",
      "Traceback (most recent call last):\n",
      "  File \"D:\\Programs\\Anaconda\\envs\\logica\\lib\\site-packages\\pysmt\\solvers\\z3.py\", line 926, in __del__\n",
      "    if self.ctx.ref():\n",
      "  File \"C:\\Users\\andre\\AppData\\Roaming\\Python\\Python310\\site-packages\\z3\\z3.py\", line 196, in ref\n",
      "    def ref(self):\n",
      "KeyboardInterrupt: \n"
     ]
    },
    {
     "name": "stdout",
     "output_type": "stream",
     "text": [
      "Todos os estados têm pelo menos uma célula viva.\n",
      "Todos os estados têm pelo menos uma célula viva.\n",
      "Todos os estados têm pelo menos uma célula viva.\n",
      "Todos os estados têm pelo menos uma célula viva.\n",
      "Todos os estados têm pelo menos uma célula viva.\n",
      "Todos os estados têm pelo menos uma célula viva.\n"
     ]
    },
    {
     "ename": "KeyboardInterrupt",
     "evalue": "",
     "output_type": "error",
     "traceback": [
      "\u001b[1;31m---------------------------------------------------------------------------\u001b[0m",
      "\u001b[1;31mKeyboardInterrupt\u001b[0m                         Traceback (most recent call last)",
      "Input \u001b[1;32mIn [12]\u001b[0m, in \u001b[0;36m<cell line: 1>\u001b[1;34m()\u001b[0m\n\u001b[0;32m     15\u001b[0m     initial, border \u001b[38;5;241m=\u001b[39m bv_rn()\n\u001b[0;32m     16\u001b[0m visited\u001b[38;5;241m.\u001b[39madd(initial)\n\u001b[1;32m---> 17\u001b[0m trace \u001b[38;5;241m=\u001b[39m \u001b[43mgenerate_trace\u001b[49m\u001b[43m(\u001b[49m\u001b[43minitial\u001b[49m\u001b[43m,\u001b[49m\u001b[43mp\u001b[49m\u001b[38;5;241;43m=\u001b[39;49m\u001b[38;5;28;43;01mFalse\u001b[39;49;00m\u001b[43m)\u001b[49m\n\u001b[0;32m     18\u001b[0m solver\u001b[38;5;241m.\u001b[39mpush()\n\u001b[0;32m     19\u001b[0m solver\u001b[38;5;241m.\u001b[39madd_assertion(Or([Equals(state, border) \u001b[38;5;28;01mfor\u001b[39;00m state \u001b[38;5;129;01min\u001b[39;00m trace]))\n",
      "Input \u001b[1;32mIn [9]\u001b[0m, in \u001b[0;36mgenerate_trace\u001b[1;34m(initial, p)\u001b[0m\n\u001b[0;32m     78\u001b[0m i \u001b[38;5;241m+\u001b[39m\u001b[38;5;241m=\u001b[39m \u001b[38;5;241m1\u001b[39m\n\u001b[0;32m     79\u001b[0m solver\u001b[38;5;241m.\u001b[39mpush()\n\u001b[1;32m---> 80\u001b[0m solver\u001b[38;5;241m.\u001b[39madd_assertion(\u001b[43mtrans\u001b[49m\u001b[43m(\u001b[49m\u001b[43mlast\u001b[49m\u001b[43m,\u001b[49m\u001b[43m \u001b[49m\u001b[43mprox\u001b[49m\u001b[43m)\u001b[49m)\n\u001b[0;32m     81\u001b[0m \u001b[38;5;28;01mif\u001b[39;00m \u001b[38;5;129;01mnot\u001b[39;00m solver\u001b[38;5;241m.\u001b[39msolve():\n\u001b[0;32m     82\u001b[0m     \u001b[38;5;28mprint\u001b[39m(\u001b[38;5;124m\"\u001b[39m\u001b[38;5;124mAlgo deu asneira.\u001b[39m\u001b[38;5;124m\"\u001b[39m)\n",
      "Input \u001b[1;32mIn [9]\u001b[0m, in \u001b[0;36mtrans\u001b[1;34m(curr, prox)\u001b[0m\n\u001b[0;32m     57\u001b[0m \u001b[38;5;28;01mfor\u001b[39;00m i \u001b[38;5;129;01min\u001b[39;00m \u001b[38;5;28mrange\u001b[39m(n\u001b[38;5;241m-\u001b[39m\u001b[38;5;241m1\u001b[39m):\n\u001b[0;32m     58\u001b[0m     \u001b[38;5;28;01mfor\u001b[39;00m j \u001b[38;5;129;01min\u001b[39;00m \u001b[38;5;28mrange\u001b[39m(n\u001b[38;5;241m-\u001b[39m\u001b[38;5;241m1\u001b[39m):\n\u001b[0;32m     59\u001b[0m         \u001b[38;5;66;03m#t0 = And(Equals(bv_sel(next,i,j), Int(0)), E)\u001b[39;00m\n\u001b[0;32m     60\u001b[0m         \u001b[38;5;66;03m#prox[i][j] == 1 sse curr[i][j] == 1 e s == 4 ou s == 3\u001b[39;00m\n\u001b[1;32m---> 61\u001b[0m         s \u001b[38;5;241m=\u001b[39m \u001b[38;5;28;43msum\u001b[39;49m\u001b[43m(\u001b[49m\u001b[43m[\u001b[49m\u001b[43mbv_selZE\u001b[49m\u001b[43m(\u001b[49m\u001b[43mcurr\u001b[49m\u001b[43m,\u001b[49m\u001b[43ma\u001b[49m\u001b[43m,\u001b[49m\u001b[43mb\u001b[49m\u001b[43m)\u001b[49m\u001b[43m \u001b[49m\u001b[38;5;28;43;01mfor\u001b[39;49;00m\u001b[43m \u001b[49m\u001b[43ma\u001b[49m\u001b[43m \u001b[49m\u001b[38;5;129;43;01min\u001b[39;49;00m\u001b[43m \u001b[49m\u001b[43m[\u001b[49m\u001b[43mi\u001b[49m\u001b[38;5;241;43m-\u001b[39;49m\u001b[38;5;241;43m1\u001b[39;49m\u001b[43m,\u001b[49m\u001b[43mi\u001b[49m\u001b[43m,\u001b[49m\u001b[43mi\u001b[49m\u001b[38;5;241;43m+\u001b[39;49m\u001b[38;5;241;43m1\u001b[39;49m\u001b[43m]\u001b[49m\u001b[43m \u001b[49m\u001b[38;5;28;43;01mfor\u001b[39;49;00m\u001b[43m \u001b[49m\u001b[43mb\u001b[49m\u001b[43m \u001b[49m\u001b[38;5;129;43;01min\u001b[39;49;00m\u001b[43m \u001b[49m\u001b[43m[\u001b[49m\u001b[43mj\u001b[49m\u001b[38;5;241;43m-\u001b[39;49m\u001b[38;5;241;43m1\u001b[39;49m\u001b[43m,\u001b[49m\u001b[43mj\u001b[49m\u001b[43m,\u001b[49m\u001b[43mj\u001b[49m\u001b[38;5;241;43m+\u001b[39;49m\u001b[38;5;241;43m1\u001b[39;49m\u001b[43m]\u001b[49m\u001b[43m \u001b[49m\u001b[38;5;28;43;01mif\u001b[39;49;00m\u001b[43m \u001b[49m\u001b[43ma\u001b[49m\u001b[43m \u001b[49m\u001b[38;5;241;43m>\u001b[39;49m\u001b[38;5;241;43m=\u001b[39;49m\u001b[43m \u001b[49m\u001b[38;5;241;43m0\u001b[39;49m\u001b[43m \u001b[49m\u001b[38;5;129;43;01mand\u001b[39;49;00m\u001b[43m \u001b[49m\u001b[43ma\u001b[49m\u001b[43m \u001b[49m\u001b[38;5;241;43m<\u001b[39;49m\u001b[43m \u001b[49m\u001b[43mn\u001b[49m\u001b[43m \u001b[49m\u001b[38;5;129;43;01mand\u001b[39;49;00m\u001b[43m \u001b[49m\u001b[43mb\u001b[49m\u001b[43m \u001b[49m\u001b[38;5;241;43m>\u001b[39;49m\u001b[38;5;241;43m=\u001b[39;49m\u001b[43m \u001b[49m\u001b[38;5;241;43m0\u001b[39;49m\u001b[43m \u001b[49m\u001b[38;5;129;43;01mand\u001b[39;49;00m\u001b[43m \u001b[49m\u001b[43mb\u001b[49m\u001b[43m \u001b[49m\u001b[38;5;241;43m<\u001b[39;49m\u001b[43m \u001b[49m\u001b[43mn\u001b[49m\u001b[43m]\u001b[49m\u001b[43m)\u001b[49m\n\u001b[0;32m     62\u001b[0m         t1 \u001b[38;5;241m=\u001b[39m Iff(Equals(bv_sel(prox,i,j), BVOne(\u001b[38;5;241m1\u001b[39m)), Or(Equals(s, BV(\u001b[38;5;241m3\u001b[39m,n\u001b[38;5;241m*\u001b[39mn)), And(Equals(bv_sel(curr,i,j),BVOne(\u001b[38;5;241m1\u001b[39m)), Equals(s, BV(\u001b[38;5;241m4\u001b[39m,n\u001b[38;5;241m*\u001b[39mn)))))\n\u001b[0;32m     63\u001b[0m         r\u001b[38;5;241m.\u001b[39mappend(t1)\n",
      "File \u001b[1;32mD:\\Programs\\Anaconda\\envs\\logica\\lib\\site-packages\\pysmt\\fnode.py:863\u001b[0m, in \u001b[0;36mFNode.__add__\u001b[1;34m(self, right)\u001b[0m\n\u001b[0;32m    862\u001b[0m \u001b[38;5;28;01mdef\u001b[39;00m \u001b[38;5;21m__add__\u001b[39m(\u001b[38;5;28mself\u001b[39m, right):\n\u001b[1;32m--> 863\u001b[0m     \u001b[38;5;28;01mreturn\u001b[39;00m \u001b[38;5;28;43mself\u001b[39;49m\u001b[38;5;241;43m.\u001b[39;49m\u001b[43m_apply_infix\u001b[49m\u001b[43m(\u001b[49m\u001b[43mright\u001b[49m\u001b[43m,\u001b[49m\u001b[43m \u001b[49m\u001b[43m_mgr\u001b[49m\u001b[43m(\u001b[49m\u001b[43m)\u001b[49m\u001b[38;5;241;43m.\u001b[39;49m\u001b[43mPlus\u001b[49m\u001b[43m,\u001b[49m\u001b[43m \u001b[49m\u001b[43m_mgr\u001b[49m\u001b[43m(\u001b[49m\u001b[43m)\u001b[49m\u001b[38;5;241;43m.\u001b[39;49m\u001b[43mBVAdd\u001b[49m\u001b[43m)\u001b[49m\n",
      "File \u001b[1;32mD:\\Programs\\Anaconda\\envs\\logica\\lib\\site-packages\\pysmt\\decorators.py:107\u001b[0m, in \u001b[0;36massert_infix_enabled.<locals>.assert_infix_enabled_wrap\u001b[1;34m(*args, **kwargs)\u001b[0m\n\u001b[0;32m    105\u001b[0m \u001b[38;5;28;01mif\u001b[39;00m \u001b[38;5;129;01mnot\u001b[39;00m get_env()\u001b[38;5;241m.\u001b[39menable_infix_notation:\n\u001b[0;32m    106\u001b[0m     \u001b[38;5;28;01mraise\u001b[39;00m PysmtModeError(INFIX_ERROR_MSG)\n\u001b[1;32m--> 107\u001b[0m \u001b[38;5;28;01mreturn\u001b[39;00m f(\u001b[38;5;241m*\u001b[39margs, \u001b[38;5;241m*\u001b[39m\u001b[38;5;241m*\u001b[39mkwargs)\n",
      "File \u001b[1;32mD:\\Programs\\Anaconda\\envs\\logica\\lib\\site-packages\\pysmt\\fnode.py:705\u001b[0m, in \u001b[0;36mFNode._apply_infix\u001b[1;34m(self, right, function, bv_function)\u001b[0m\n\u001b[0;32m    703\u001b[0m right \u001b[38;5;241m=\u001b[39m \u001b[38;5;28mself\u001b[39m\u001b[38;5;241m.\u001b[39m_infix_prepare_arg(right, \u001b[38;5;28mself\u001b[39m\u001b[38;5;241m.\u001b[39mget_type())\n\u001b[0;32m    704\u001b[0m \u001b[38;5;28;01mif\u001b[39;00m \u001b[38;5;28mself\u001b[39m\u001b[38;5;241m.\u001b[39mget_type()\u001b[38;5;241m.\u001b[39mis_bv_type():\n\u001b[1;32m--> 705\u001b[0m     \u001b[38;5;28;01mreturn\u001b[39;00m \u001b[43mbv_function\u001b[49m\u001b[43m(\u001b[49m\u001b[38;5;28;43mself\u001b[39;49m\u001b[43m,\u001b[49m\u001b[43m \u001b[49m\u001b[43mright\u001b[49m\u001b[43m)\u001b[49m\n\u001b[0;32m    706\u001b[0m \u001b[38;5;28;01mreturn\u001b[39;00m function(\u001b[38;5;28mself\u001b[39m, right)\n",
      "File \u001b[1;32mD:\\Programs\\Anaconda\\envs\\logica\\lib\\site-packages\\pysmt\\formula.py:755\u001b[0m, in \u001b[0;36mFormulaManager.BVAdd\u001b[1;34m(self, *args)\u001b[0m\n\u001b[0;32m    753\u001b[0m res \u001b[38;5;241m=\u001b[39m args[\u001b[38;5;241m0\u001b[39m]\n\u001b[0;32m    754\u001b[0m \u001b[38;5;28;01mfor\u001b[39;00m arg \u001b[38;5;129;01min\u001b[39;00m args[\u001b[38;5;241m1\u001b[39m:]:\n\u001b[1;32m--> 755\u001b[0m     res \u001b[38;5;241m=\u001b[39m \u001b[38;5;28;43mself\u001b[39;49m\u001b[38;5;241;43m.\u001b[39;49m\u001b[43mcreate_node\u001b[49m\u001b[43m(\u001b[49m\u001b[43mnode_type\u001b[49m\u001b[38;5;241;43m=\u001b[39;49m\u001b[43mop\u001b[49m\u001b[38;5;241;43m.\u001b[39;49m\u001b[43mBV_ADD\u001b[49m\u001b[43m,\u001b[49m\n\u001b[0;32m    756\u001b[0m \u001b[43m                     \u001b[49m\u001b[43margs\u001b[49m\u001b[38;5;241;43m=\u001b[39;49m\u001b[43m(\u001b[49m\u001b[43mres\u001b[49m\u001b[43m,\u001b[49m\u001b[43marg\u001b[49m\u001b[43m)\u001b[49m\u001b[43m,\u001b[49m\n\u001b[0;32m    757\u001b[0m \u001b[43m                     \u001b[49m\u001b[43mpayload\u001b[49m\u001b[38;5;241;43m=\u001b[39;49m\u001b[43m(\u001b[49m\u001b[43mres\u001b[49m\u001b[38;5;241;43m.\u001b[39;49m\u001b[43mbv_width\u001b[49m\u001b[43m(\u001b[49m\u001b[43m)\u001b[49m\u001b[43m,\u001b[49m\u001b[43m)\u001b[49m\u001b[43m)\u001b[49m\n\u001b[0;32m    758\u001b[0m \u001b[38;5;28;01mreturn\u001b[39;00m res\n",
      "File \u001b[1;32mD:\\Programs\\Anaconda\\envs\\logica\\lib\\site-packages\\pysmt\\formula.py:96\u001b[0m, in \u001b[0;36mFormulaManager.create_node\u001b[1;34m(self, node_type, args, payload)\u001b[0m\n\u001b[0;32m     94\u001b[0m \u001b[38;5;28mself\u001b[39m\u001b[38;5;241m.\u001b[39m_next_free_id \u001b[38;5;241m+\u001b[39m\u001b[38;5;241m=\u001b[39m \u001b[38;5;241m1\u001b[39m\n\u001b[0;32m     95\u001b[0m \u001b[38;5;28mself\u001b[39m\u001b[38;5;241m.\u001b[39mformulae[content] \u001b[38;5;241m=\u001b[39m n\n\u001b[1;32m---> 96\u001b[0m \u001b[38;5;28;43mself\u001b[39;49m\u001b[38;5;241;43m.\u001b[39;49m\u001b[43m_do_type_check\u001b[49m\u001b[43m(\u001b[49m\u001b[43mn\u001b[49m\u001b[43m)\u001b[49m\n\u001b[0;32m     97\u001b[0m \u001b[38;5;28;01mreturn\u001b[39;00m n\n",
      "File \u001b[1;32mD:\\Programs\\Anaconda\\envs\\logica\\lib\\site-packages\\pysmt\\formula.py:81\u001b[0m, in \u001b[0;36mFormulaManager._do_type_check_real\u001b[1;34m(self, formula)\u001b[0m\n\u001b[0;32m     80\u001b[0m \u001b[38;5;28;01mdef\u001b[39;00m \u001b[38;5;21m_do_type_check_real\u001b[39m(\u001b[38;5;28mself\u001b[39m, formula):\n\u001b[1;32m---> 81\u001b[0m     \u001b[38;5;28;43mself\u001b[39;49m\u001b[38;5;241;43m.\u001b[39;49m\u001b[43mget_type\u001b[49m\u001b[43m(\u001b[49m\u001b[43mformula\u001b[49m\u001b[43m)\u001b[49m\n",
      "File \u001b[1;32mD:\\Programs\\Anaconda\\envs\\logica\\lib\\site-packages\\pysmt\\type_checker.py:43\u001b[0m, in \u001b[0;36mSimpleTypeChecker.get_type\u001b[1;34m(self, formula)\u001b[0m\n\u001b[0;32m     41\u001b[0m \u001b[38;5;28;01mdef\u001b[39;00m \u001b[38;5;21mget_type\u001b[39m(\u001b[38;5;28mself\u001b[39m, formula):\n\u001b[0;32m     42\u001b[0m     \u001b[38;5;124;03m\"\"\" Returns the pysmt.types type of the formula \"\"\"\u001b[39;00m\n\u001b[1;32m---> 43\u001b[0m     res \u001b[38;5;241m=\u001b[39m \u001b[38;5;28;43mself\u001b[39;49m\u001b[38;5;241;43m.\u001b[39;49m\u001b[43mwalk\u001b[49m\u001b[43m(\u001b[49m\u001b[43mformula\u001b[49m\u001b[43m)\u001b[49m\n\u001b[0;32m     44\u001b[0m     \u001b[38;5;28;01mif\u001b[39;00m \u001b[38;5;129;01mnot\u001b[39;00m \u001b[38;5;28mself\u001b[39m\u001b[38;5;241m.\u001b[39mbe_nice \u001b[38;5;129;01mand\u001b[39;00m res \u001b[38;5;129;01mis\u001b[39;00m \u001b[38;5;28;01mNone\u001b[39;00m:\n\u001b[0;32m     45\u001b[0m         \u001b[38;5;28;01mraise\u001b[39;00m PysmtTypeError(\u001b[38;5;124m\"\u001b[39m\u001b[38;5;124mThe formula \u001b[39m\u001b[38;5;124m'\u001b[39m\u001b[38;5;132;01m%s\u001b[39;00m\u001b[38;5;124m'\u001b[39m\u001b[38;5;124m is not well-formed\u001b[39m\u001b[38;5;124m\"\u001b[39m \\\n\u001b[0;32m     46\u001b[0m                              \u001b[38;5;241m%\u001b[39m \u001b[38;5;28mstr\u001b[39m(formula))\n",
      "File \u001b[1;32mD:\\Programs\\Anaconda\\envs\\logica\\lib\\site-packages\\pysmt\\walkers\\dag.py:106\u001b[0m, in \u001b[0;36mDagWalker.walk\u001b[1;34m(self, formula, **kwargs)\u001b[0m\n\u001b[0;32m    103\u001b[0m \u001b[38;5;28;01mif\u001b[39;00m formula \u001b[38;5;129;01min\u001b[39;00m \u001b[38;5;28mself\u001b[39m\u001b[38;5;241m.\u001b[39mmemoization:\n\u001b[0;32m    104\u001b[0m     \u001b[38;5;28;01mreturn\u001b[39;00m \u001b[38;5;28mself\u001b[39m\u001b[38;5;241m.\u001b[39mmemoization[formula]\n\u001b[1;32m--> 106\u001b[0m res \u001b[38;5;241m=\u001b[39m \u001b[38;5;28mself\u001b[39m\u001b[38;5;241m.\u001b[39miter_walk(formula, \u001b[38;5;241m*\u001b[39m\u001b[38;5;241m*\u001b[39mkwargs)\n\u001b[0;32m    108\u001b[0m \u001b[38;5;28;01mif\u001b[39;00m \u001b[38;5;28mself\u001b[39m\u001b[38;5;241m.\u001b[39minvalidate_memoization:\n\u001b[0;32m    109\u001b[0m     \u001b[38;5;28mself\u001b[39m\u001b[38;5;241m.\u001b[39mmemoization\u001b[38;5;241m.\u001b[39mclear()\n",
      "File \u001b[1;32mD:\\Programs\\Anaconda\\envs\\logica\\lib\\site-packages\\pysmt\\walkers\\dag.py:98\u001b[0m, in \u001b[0;36mDagWalker.iter_walk\u001b[1;34m(self, formula, **kwargs)\u001b[0m\n\u001b[0;32m     96\u001b[0m \u001b[38;5;124;03m\"\"\"Performs an iterative walk of the DAG\"\"\"\u001b[39;00m\n\u001b[0;32m     97\u001b[0m \u001b[38;5;28mself\u001b[39m\u001b[38;5;241m.\u001b[39mstack\u001b[38;5;241m.\u001b[39mappend((\u001b[38;5;28;01mFalse\u001b[39;00m, formula))\n\u001b[1;32m---> 98\u001b[0m \u001b[38;5;28mself\u001b[39m\u001b[38;5;241m.\u001b[39m_process_stack(\u001b[38;5;241m*\u001b[39m\u001b[38;5;241m*\u001b[39mkwargs)\n\u001b[0;32m     99\u001b[0m res_key \u001b[38;5;241m=\u001b[39m \u001b[38;5;28mself\u001b[39m\u001b[38;5;241m.\u001b[39m_get_key(formula, \u001b[38;5;241m*\u001b[39m\u001b[38;5;241m*\u001b[39mkwargs)\n\u001b[0;32m    100\u001b[0m \u001b[38;5;28;01mreturn\u001b[39;00m \u001b[38;5;28mself\u001b[39m\u001b[38;5;241m.\u001b[39mmemoization[res_key]\n",
      "File \u001b[1;32mD:\\Programs\\Anaconda\\envs\\logica\\lib\\site-packages\\pysmt\\walkers\\dag.py:91\u001b[0m, in \u001b[0;36mDagWalker._process_stack\u001b[1;34m(self, **kwargs)\u001b[0m\n\u001b[0;32m     89\u001b[0m (was_expanded, formula) \u001b[38;5;241m=\u001b[39m \u001b[38;5;28mself\u001b[39m\u001b[38;5;241m.\u001b[39mstack\u001b[38;5;241m.\u001b[39mpop()\n\u001b[0;32m     90\u001b[0m \u001b[38;5;28;01mif\u001b[39;00m was_expanded:\n\u001b[1;32m---> 91\u001b[0m     \u001b[38;5;28mself\u001b[39m\u001b[38;5;241m.\u001b[39m_compute_node_result(formula, \u001b[38;5;241m*\u001b[39m\u001b[38;5;241m*\u001b[39mkwargs)\n\u001b[0;32m     92\u001b[0m \u001b[38;5;28;01melse\u001b[39;00m:\n\u001b[0;32m     93\u001b[0m     \u001b[38;5;28mself\u001b[39m\u001b[38;5;241m.\u001b[39m_push_with_children_to_stack(formula, \u001b[38;5;241m*\u001b[39m\u001b[38;5;241m*\u001b[39mkwargs)\n",
      "File \u001b[1;32mD:\\Programs\\Anaconda\\envs\\logica\\lib\\site-packages\\pysmt\\walkers\\dag.py:73\u001b[0m, in \u001b[0;36mDagWalker._compute_node_result\u001b[1;34m(self, formula, **kwargs)\u001b[0m\n\u001b[0;32m     70\u001b[0m     \u001b[38;5;28;01mexcept\u001b[39;00m \u001b[38;5;167;01mKeyError\u001b[39;00m:\n\u001b[0;32m     71\u001b[0m         f \u001b[38;5;241m=\u001b[39m \u001b[38;5;28mself\u001b[39m\u001b[38;5;241m.\u001b[39mwalk_error\n\u001b[1;32m---> 73\u001b[0m     args \u001b[38;5;241m=\u001b[39m [\u001b[38;5;28mself\u001b[39m\u001b[38;5;241m.\u001b[39mmemoization[\u001b[38;5;28mself\u001b[39m\u001b[38;5;241m.\u001b[39m_get_key(s, \u001b[38;5;241m*\u001b[39m\u001b[38;5;241m*\u001b[39mkwargs)] \\\n\u001b[0;32m     74\u001b[0m             \u001b[38;5;28;01mfor\u001b[39;00m s \u001b[38;5;129;01min\u001b[39;00m \u001b[38;5;28mself\u001b[39m\u001b[38;5;241m.\u001b[39m_get_children(formula)]\n\u001b[0;32m     75\u001b[0m     \u001b[38;5;28mself\u001b[39m\u001b[38;5;241m.\u001b[39mmemoization[key] \u001b[38;5;241m=\u001b[39m f(formula, args\u001b[38;5;241m=\u001b[39margs, \u001b[38;5;241m*\u001b[39m\u001b[38;5;241m*\u001b[39mkwargs)\n\u001b[0;32m     76\u001b[0m \u001b[38;5;28;01melse\u001b[39;00m:\n",
      "\u001b[1;31mKeyboardInterrupt\u001b[0m: "
     ]
    }
   ],
   "source": [
    "with Solver(name=name) as solver:\n",
    "    visited = set()\n",
    "    #state é uma constante de BitVector\n",
    "    initial, border = bv_rn()\n",
    "    visited.add(initial)\n",
    "    trace = generate_trace(initial,False)\n",
    "    solver.push()\n",
    "    solver.add_assertion(Or([Equals(state, border) for state in trace]))\n",
    "    while not solver.solve():\n",
    "        print(\"Todos os estados têm pelo menos uma célula viva.\")    \n",
    "        solver.pop()\n",
    "        initial, border = bv_rn()\n",
    "        #possivelmente contar quantas vezes se fez para se exaustar, ou até manter cuidado com o tamanho de visited\n",
    "        while initial in visited:\n",
    "            initial, border = bv_rn()\n",
    "        visited.add(initial)\n",
    "        trace = generate_trace(initial,p=False)\n",
    "        solver.push()\n",
    "        solver.add_assertion(Or([Equals(state, border) for state in trace]))\n",
    "    print(\"Existe um estado que não tem uma célula viva.\")\n",
    "    for k,v in sorted(trace.items(), key = lambda x: x[1]):\n",
    "        print_state(k)\n",
    "    solver.pop()\n",
    "    "
   ]
  },
  {
   "cell_type": "code",
   "execution_count": 13,
   "id": "601316f8-29a8-4b1b-86f0-0e2adfeba3ff",
   "metadata": {},
   "outputs": [
    {
     "name": "stdout",
     "output_type": "stream",
     "text": [
      "Todas as células estiveram vivas pelo menos uma vez.\n"
     ]
    },
    {
     "data": {
      "image/png": "[encoded data removed]",
      "text/plain": [
       "<Figure size 640x480 with 1 Axes>"
      ]
     },
     "metadata": {},
     "output_type": "display_data"
    },
    {
     "data": {
      "image/png": "[encoded data removed]",
      "text/plain": [
       "<Figure size 640x480 with 1 Axes>"
      ]
     },
     "metadata": {},
     "output_type": "display_data"
    },
    {
     "data": {
      "image/png": "[encoded data removed]",
      "text/plain": [
       "<Figure size 640x480 with 1 Axes>"
      ]
     },
     "metadata": {},
     "output_type": "display_data"
    },
    {
     "data": {
      "image/png": "[encoded data removed]",
      "text/plain": [
       "<Figure size 640x480 with 1 Axes>"
      ]
     },
     "metadata": {},
     "output_type": "display_data"
    },
    {
     "data": {
      "image/png": "[encoded data removed]",
      "text/plain": [
       "<Figure size 640x480 with 1 Axes>"
      ]
     },
     "metadata": {},
     "output_type": "display_data"
    },
    {
     "data": {
      "image/png": "[encoded data removed]",
      "text/plain": [
       "<Figure size 640x480 with 1 Axes>"
      ]
     },
     "metadata": {},
     "output_type": "display_data"
    },
    {
     "data": {
      "image/png": "[encoded data removed]",
      "text/plain": [
       "<Figure size 640x480 with 1 Axes>"
      ]
     },
     "metadata": {},
     "output_type": "display_data"
    },
    {
     "data": {
      "image/png": "[encoded data removed]",
      "text/plain": [
       "<Figure size 640x480 with 1 Axes>"
      ]
     },
     "metadata": {},
     "output_type": "display_data"
    },
    {
     "data": {
      "image/png": "[encoded data removed]",
      "text/plain": [
       "<Figure size 640x480 with 1 Axes>"
      ]
     },
     "metadata": {},
     "output_type": "display_data"
    },
    {
     "data": {
      "image/png": "[encoded data removed]",
      "text/plain": [
       "<Figure size 640x480 with 1 Axes>"
      ]
     },
     "metadata": {},
     "output_type": "display_data"
    },
    {
     "data": {
      "image/png": "[encoded data removed]",
      "text/plain": [
       "<Figure size 640x480 with 1 Axes>"
      ]
     },
     "metadata": {},
     "output_type": "display_data"
    },
    {
     "data": {
      "image/png": "[encoded data removed]",
      "text/plain": [
       "<Figure size 640x480 with 1 Axes>"
      ]
     },
     "metadata": {},
     "output_type": "display_data"
    },
    {
     "data": {
      "image/png": "[encoded data removed]",
      "text/plain": [
       "<Figure size 640x480 with 1 Axes>"
      ]
     },
     "metadata": {},
     "output_type": "display_data"
    },
    {
     "data": {
      "image/png": "[encoded data removed]",
      "text/plain": [
       "<Figure size 640x480 with 1 Axes>"
      ]
     },
     "metadata": {},
     "output_type": "display_data"
    },
    {
     "data": {
      "image/png": "[encoded data removed]",
      "text/plain": [
       "<Figure size 640x480 with 1 Axes>"
      ]
     },
     "metadata": {},
     "output_type": "display_data"
    },
    {
     "data": {
      "image/png": "[encoded data removed]",
      "text/plain": [
       "<Figure size 640x480 with 1 Axes>"
      ]
     },
     "metadata": {},
     "output_type": "display_data"
    },
    {
     "data": {
      "image/png": "[encoded data removed]",
      "text/plain": [
       "<Figure size 640x480 with 1 Axes>"
      ]
     },
     "metadata": {},
     "output_type": "display_data"
    },
    {
     "data": {
      "image/png": "[encoded data removed]",
      "text/plain": [
       "<Figure size 640x480 with 1 Axes>"
      ]
     },
     "metadata": {},
     "output_type": "display_data"
    },
    {
     "data": {
      "image/png": "[encoded data removed]",
      "text/plain": [
       "<Figure size 640x480 with 1 Axes>"
      ]
     },
     "metadata": {},
     "output_type": "display_data"
    },
    {
     "data": {
      "image/png": "[encoded data removed]",
      "text/plain": [
       "<Figure size 640x480 with 1 Axes>"
      ]
     },
     "metadata": {},
     "output_type": "display_data"
    },
    {
     "data": {
      "image/png": "[encoded data removed]",
      "text/plain": [
       "<Figure size 640x480 with 1 Axes>"
      ]
     },
     "metadata": {},
     "output_type": "display_data"
    },
    {
     "data": {
      "image/png": "[encoded data removed]",
      "text/plain": [
       "<Figure size 640x480 with 1 Axes>"
      ]
     },
     "metadata": {},
     "output_type": "display_data"
    },
    {
     "data": {
      "image/png": "[encoded data removed]",
      "text/plain": [
       "<Figure size 640x480 with 1 Axes>"
      ]
     },
     "metadata": {},
     "output_type": "display_data"
    },
    {
     "data": {
      "image/png": "[encoded data removed]",
      "text/plain": [
       "<Figure size 640x480 with 1 Axes>"
      ]
     },
     "metadata": {},
     "output_type": "display_data"
    },
    {
     "data": {
      "image/png": "[encoded data removed]",
      "text/plain": [
       "<Figure size 640x480 with 1 Axes>"
      ]
     },
     "metadata": {},
     "output_type": "display_data"
    },
    {
     "data": {
      "image/png": "[encoded data removed]",
      "text/plain": [
       "<Figure size 640x480 with 1 Axes>"
      ]
     },
     "metadata": {},
     "output_type": "display_data"
    },
    {
     "data": {
      "image/png": "[encoded data removed]",
      "text/plain": [
       "<Figure size 640x480 with 1 Axes>"
      ]
     },
     "metadata": {},
     "output_type": "display_data"
    }
   ],
   "source": [
    "with Solver(name=name) as solver:\n",
    "    #fazer o OR lógico de todos os bitvectors e ver se é igual ou diferente de BVZero(n*n)\n",
    "    visited = set()\n",
    "    #state é uma constante de BitVector\n",
    "    initial, border = bv_rn()\n",
    "    visited.add(initial)\n",
    "    trace = generate_trace(initial,False)\n",
    "    solver.push()\n",
    "    solver.add_assertion(Not(Equals(reduce(BVOr, list(trace)), BVNot(border))))\n",
    "    while not solver.solve():\n",
    "        print(\"Existe uma célula que não esteve viva.\")\n",
    "        solver.pop()\n",
    "        initial, border = bv_rn()\n",
    "        #possivelmente contar quantas vezes se fez para se exaustar, ou até manter cuidado com o tamanho de visited\n",
    "        while initial in visited:\n",
    "            initial, border = bv_rn()\n",
    "        visited.add(initial)\n",
    "        trace = generate_trace(initial,p=False)\n",
    "        solver.push()\n",
    "        solver.add_assertion((Equals(reduce(BVOr, list(trace)), )))\n",
    "    print(\"Todas as células estiveram vivas pelo menos uma vez.\")\n",
    "    for k,v in sorted(trace.items(), key = lambda x: x[1]):\n",
    "        print_state(k)\n",
    "    solver.pop()"
   ]
  },
  {
   "cell_type": "code",
   "execution_count": null,
   "id": "bda561be-198c-4c5a-b5ba-0363c6642181",
   "metadata": {},
   "outputs": [],
   "source": []
  }
 ],
 "metadata": {
  "kernelspec": {
   "display_name": "Python 3 (ipykernel)",
   "language": "python",
   "name": "python3"
  },
  "language_info": {
   "codemirror_mode": {
    "name": "ipython",
    "version": 3
   },
   "file_extension": ".py",
   "mimetype": "text/x-python",
   "name": "python",
   "nbconvert_exporter": "python",
   "pygments_lexer": "ipython3",
   "version": "3.10.4"
  }
 },
 "nbformat": 4,
 "nbformat_minor": 5
}
