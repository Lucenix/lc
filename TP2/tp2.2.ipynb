{
 "cells": [
  {
   "cell_type": "code",
   "execution_count": 38,
   "id": "277cdcc7-9d1c-44d3-8f6d-fccadf32e685",
   "metadata": {},
   "outputs": [
    {
     "name": "stdout",
     "output_type": "stream",
     "text": [
      "1239282502365493782184462336\n",
      "1239282502365493782184462336_100\n",
      "(1239282502365493782184462336_100[0:0] ZEXT 100)\n"
     ]
    },
    {
     "data": {
      "text/plain": [
       "\"# Variáveis e Problema\\nx = Symbol('x',types.BVType(n))\\ne = Symbol('e',types.BVType(n))\\nproblem = And([(bv_hamm(w,x) <= e)  for w in W])\\n\\n# Solução e Pseudo Optimização\\nwith Solver(name=name) as solver:\\n    solver.add_assertion(problem)\\n    for t in range(1,n):\\n        solver.push()\\n        solver.add_assertion(e <= t)\\n        if solver.solve():\\n            print(solver.get_model())\\n            break\\n        solver.pop()\""
      ]
     },
     "execution_count": 38,
     "metadata": {},
     "output_type": "execute_result"
    }
   ],
   "source": [
    "from pysmt.shortcuts import *\n",
    "import pysmt.typing as types\n",
    "import numpy as np\n",
    "\n",
    "n = 10     # dimensão do espaço de amostras\n",
    "m = 64     # numero de amostras\n",
    "p = 1\n",
    "\n",
    "# Escolha de \"solver\"\n",
    "#name = \"msat\"\n",
    "name = \"z3\"\n",
    "\n",
    "# Funções auxiliares para BitVec's\n",
    "def bv_rn():       # gera pseudo-aleatoriamente um BitVec para representar o autómato\n",
    "    I = 0\n",
    "    c_x = np.random.randint(1, n-1)\n",
    "    c_y = np.random.randint(1, n-1)\n",
    "    for i in range(n):\n",
    "        I += np.random.binomial(1,p) * 2**i\n",
    "    for j in range(n):\n",
    "        I += np.random.binomial(1,p) * 2**(n*j)\n",
    "    for i in range(c_x-1, c_x+2):\n",
    "        for j in range(c_y-1, c_y+2):\n",
    "            I += 2**(n*j+i)\n",
    "    print(I)\n",
    "    return BV(I,n*n)\n",
    "\n",
    "b = bv_rn()\n",
    "print(b)\n",
    "\n",
    "def bv_sel(z,i,j):                    # seleciona o bit (i,j) do BitVec \"z\"\n",
    "    return BVZExt(BVExtract(z,start=i+j*n,end=i+j*n),n*n)\n",
    "\n",
    "print(bv_sel(b,0,0))\n",
    "\n",
    "\"\"\"# Variáveis e Problema\n",
    "x = Symbol('x',types.BVType(n))\n",
    "e = Symbol('e',types.BVType(n))\n",
    "problem = And([(bv_hamm(w,x) <= e)  for w in W])\n",
    "\n",
    "# Solução e Pseudo Optimização\n",
    "with Solver(name=name) as solver:\n",
    "    solver.add_assertion(problem)\n",
    "    for t in range(1,n):\n",
    "        solver.push()\n",
    "        solver.add_assertion(e <= t)\n",
    "        if solver.solve():\n",
    "            print(solver.get_model())\n",
    "            break\n",
    "        solver.pop()\"\"\""
   ]
  },
  {
   "cell_type": "code",
   "execution_count": null,
   "id": "493237bb-804d-433c-aa99-20eeebccacba",
   "metadata": {},
   "outputs": [],
   "source": []
  }
 ],
 "metadata": {
  "kernelspec": {
   "display_name": "Python 3 (ipykernel)",
   "language": "python",
   "name": "python3"
  },
  "language_info": {
   "codemirror_mode": {
    "name": "ipython",
    "version": 3
   },
   "file_extension": ".py",
   "mimetype": "text/x-python",
   "name": "python",
   "nbconvert_exporter": "python",
   "pygments_lexer": "ipython3",
   "version": "3.10.4"
  }
 },
 "nbformat": 4,
 "nbformat_minor": 5
}
