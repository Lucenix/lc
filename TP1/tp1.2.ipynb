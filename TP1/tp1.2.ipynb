{
 "cells": [
  {
   "cell_type": "markdown",
   "id": "c86fb674-22aa-4a48-85bf-ca76bca93b0d",
   "metadata": {},
   "source": [
    "# TP1 - Grupo 14\n",
    "\n",
    "André Lucena Ribas Ferreira - A94956\n",
    "\n",
    "Paulo André Alegre Pinto - A97391"
   ]
  },
  {
   "cell_type": "markdown",
   "id": "8919de04-b89b-488a-9b52-bfa2c4686f0b",
   "metadata": {},
   "source": [
    "## Problema 2 - Cálculo do SVP\n",
    "\n",
    "Na criptografia pós-quântica os reticulados inteiros (“hard lattices”) e os problemas a eles associados são uma componente essencial. Um reticulado inteiro pode ser definido por uma matriz $L \\in \\mathbb{Z}^{m\\times n}$ (com $m > n$) de inteiros e por um inteiro primo $q \\geq 3$.\n",
    "\n",
    "Como 'inputs', o problema recebe:\n",
    "1. Número natural $n$;\n",
    "2. Número natural $m$, tal que $|m| > |n| + 1$;\n",
    "3. Número natural primo $q$, tal que $|q| > |m|$.\n",
    "4. Os elementos $L_{j,i}$ são gerados aleatória e uniformemente no intervalo inteiro $\\{-d, \\cdots, d\\}$ sendo  $d = (q-1)/2$.\n",
    "\n",
    "O chamado problema do vetor curto (SVP) consiste no cálculo de um vetor de inteiros: $e\\in \\{-1,0,1\\}^m$\n",
    "não nulo que verifique a seguinte relação matricial:\n",
    "$$\\forall_{i < n}, \\quad (\\sum_{j< m} e_j \\times \\mathsf{L}_{j,i}) \\equiv 0 \\mod q$$\n"
   ]
  },
  {
   "cell_type": "markdown",
   "id": "09c713a6-5ade-47d2-8da6-e18e583334d7",
   "metadata": {},
   "source": [
    "### Análise\n",
    "\n",
    "Para resolver o problema do SVP, decidimos usar duas famílias de variáveis, uma binária e outra inteira.\n",
    "\n",
    "A família de variáveis binárias $e_{j,l}$ é definida com a seguinte semântica, para $l \\in \\{0,1,2\\}$ e $0 <= j < m$:\n",
    "\n",
    "$$e_{j,0} == 1 \\quad \\mbox{se e só se} \\quad e[j] == -1$$\n",
    "$$e_{j,1} == 1 \\quad \\mbox{se e só se} \\quad e[j] == 0$$\n",
    "$$e_{j,2} == 1 \\quad \\mbox{se e só se} \\quad e[j] == 1$$\n",
    "\n",
    "A família de variáveis inteiras $k_{i}$, para $i < n$ servirá para conseguir iterar pelos números inteiros, de modo a se encontrar os múltiplos de $q$ para cada resultado da multiplicação entre $e$ e $L$.\n",
    "\n",
    "O problema dispõe de restrições que deverão ser tratadas:\n",
    "\n",
    "1. Para cada posição $j < m$ de $e$, $e[j]$ só admite um único valor;\n",
    "2. Pelo menos um elemento de $e$ tem de ser não nulo;\n",
    "3. Multiplicar o vetor $e$ pela matriz $L$ deve resultar num vetor de múltiplos de $q$.\n",
    "\n",
    "Do mesmo modo, o problema admite a seguinte optimização:\n",
    "\n",
    "1. Maximizar o número de componentes nulas de $e$."
   ]
  },
  {
   "cell_type": "markdown",
   "id": "73169407",
   "metadata": {},
   "source": [
    "## Implementação\n",
    "\n",
    "Para a resolução do problema, utilizaremos a biblioteca de programação linear do $OR-Tools$, o $pywraplp$. Portanto, começamos por instalar o OR-Tools, importar a biblioteca e inicializar o $solver$, que chamaremos de 'solver'."
   ]
  },
  {
   "cell_type": "code",
   "execution_count": null,
   "id": "4c4395ac",
   "metadata": {},
   "outputs": [],
   "source": [
    "!pip install ortools"
   ]
  },
  {
   "cell_type": "code",
   "execution_count": null,
   "id": "70407e94",
   "metadata": {},
   "outputs": [],
   "source": [
    "from ortools.linear_solver import pywraplp\n",
    "solver = pywraplp.Solver.CreateSolver('SCIP')"
   ]
  },
  {
   "cell_type": "markdown",
   "id": "a8d9c3f9",
   "metadata": {},
   "source": [
    "Como exemplo introdutório, daremos os seguintes valores aos 'inputs' do problema."
   ]
  },
  {
   "cell_type": "code",
   "execution_count": null,
   "id": "48802c8c",
   "metadata": {},
   "outputs": [],
   "source": [
    "n = 3\n",
    "m = 8\n",
    "q = 17"
   ]
  },
  {
   "cell_type": "markdown",
   "id": "fc3f53a9",
   "metadata": {},
   "source": [
    "Para a família de variáveis binárias $e_{j,l}$, construíremos uma matriz de alocação $e$ de valores em $\\{0,1\\}^{M \\times 3}$, para representar as variáveis binárias. Para a família de variáveis inteiras $k_{i}$ declaramos um vetor $k \\in \\mathbb{Z}^{n}$ Declaramos ambos como dicionários:"
   ]
  },
  {
   "cell_type": "code",
   "execution_count": null,
   "id": "a535f0af",
   "metadata": {},
   "outputs": [],
   "source": [
    "e = {}\n",
    "k = {}\n",
    "for j in range(m):\n",
    "    e[j] = [solver.BoolVar('e[%i][-1]' % j),\n",
    "            solver.BoolVar('e[%i][0]' % j),\n",
    "            solver.BoolVar('e[%i][1]' % j)]\n",
    "for i in range(n):\n",
    "    k[i] = solver.IntVar(-solver.infinity(), solver.infinity(), 'k[%i]' % i)"
   ]
  },
  {
   "cell_type": "markdown",
   "id": "aa44bde1",
   "metadata": {},
   "source": [
    "### Restrições\n",
    "\n",
    "Nesta seccção, apresentamos as implementações das restrições ao problema.\n",
    "\n",
    "1. Para cada posição $j < m$ de $e$, $e[j]$ só admite um único valor;\n",
    "\n",
    "$$ \\forall_{j<m}, \\quad e_{j,0} + e_{j,1} + e_{j,2} == 1 $$"
   ]
  },
  {
   "cell_type": "code",
   "execution_count": null,
   "id": "49082d37",
   "metadata": {},
   "outputs": [],
   "source": [
    "for j in range(m):\n",
    "    solver.Add(e[j][0] + e[j][1] + e[j][2] == 1)"
   ]
  },
  {
   "cell_type": "markdown",
   "id": "add877da",
   "metadata": {},
   "source": [
    "2. Pelo menos um elemento de $e$ tem de ser não nulo;\n",
    "\n",
    "Deste modo, o sumatório das variáveis $e_{j,1}$ não deve igualar o máximo de posições do vetor $e$, $m$.\n",
    "\n",
    "$$ \\sum_{j<m} e_{j,1} <= m-1 $$"
   ]
  },
  {
   "cell_type": "code",
   "execution_count": null,
   "id": "38447b43",
   "metadata": {},
   "outputs": [],
   "source": [
    "solver.Add(sum([e[j][1] for j in range(m)]) <= m-1)"
   ]
  },
  {
   "cell_type": "markdown",
   "id": "3e080e2f",
   "metadata": {},
   "source": [
    "3. Multiplicar o vetor $e$ pela matriz $L$ deve resultar num vetor de múltiplos de $q$.\n",
    "\n",
    "Para cada valor de $j<m$, no máximo uma das variáveis $e_{j,0}$ e $e_{j,2}$ é igual a $1$, representando $-1$ e $1$, respetivamente. Desse modo:\n",
    "\n",
    "$$ \\forall_{j<m}, \\quad e[j] == (e_{j,2} - e_{j,0}) $$\n",
    "\n",
    "$$ \\forall_{i<n}, \\quad (\\sum_{j<m} (e_{j,2} - e_{j,0}) * L[j][i])  == q * k[i]$$"
   ]
  },
  {
   "cell_type": "code",
   "execution_count": null,
   "id": "4af704d7",
   "metadata": {},
   "outputs": [],
   "source": [
    "for i in range(n):\n",
    "    solver.Add((sum([(e[j][2] - e[j][0])*L[j][i] for j in range(m)])) == q * k[i])"
   ]
  },
  {
   "cell_type": "markdown",
   "id": "de8a758d",
   "metadata": {},
   "source": [
    "### Optimização\n",
    "\n",
    "O critério de optimização para este problma é o seguinte:\n",
    "\n",
    "1. Maximizar o número de componentes nulas de $e$.\n",
    "\n",
    "$$ max (\\sum_{j<m} e_{j,1}) $$"
   ]
  },
  {
   "cell_type": "code",
   "execution_count": null,
   "id": "04e27a67",
   "metadata": {},
   "outputs": [],
   "source": [
    "solver.Maximize(sum([e[j][1] for j in range(m)]))"
   ]
  },
  {
   "cell_type": "markdown",
   "id": "a514d5d0",
   "metadata": {},
   "source": [
    "Por fim, tenta-se calcular uma solução:"
   ]
  },
  {
   "cell_type": "code",
   "execution_count": null,
   "id": "32cc8e23",
   "metadata": {},
   "outputs": [],
   "source": [
    "status = solver.Solve()\n",
    "if status == pywraplp.Solver.OPTIMAL:\n",
    "    print(L)\n",
    "    print(\"\")\n",
    "    for i in range(n):\n",
    "        print(k[i].solution_value(), end = \" \")\n",
    "    print(\"\")\n",
    "    for j in range(m):\n",
    "        for k in range(3):\n",
    "            if e[j][k].solution_value():\n",
    "                print(k-1, end = \" \")\n",
    "else:\n",
    "    print(L)\n",
    "    print(\"Não é possível resolver o problema\")"
   ]
  },
  {
   "cell_type": "markdown",
   "id": "0e556a5b",
   "metadata": {},
   "source": [
    "## Exemplos\n",
    "\n",
    "Nesta seccção, experimentamos com valores progressivamente maiores de $n$, o que necessariamente aumenta a complexidade do problema, tal como, na nossa experiência, a duração e a probabilidade de não haver solução.\n",
    "\n",
    "De modo a facilitar a testagem dos exemplos, na célula colapsada seguinte encontra-se a função $SVP(m,n,q)$. Esta função compõe todos os passos da implementação."
   ]
  },
  {
   "cell_type": "code",
   "execution_count": null,
   "id": "e68b5981-a63b-463f-a987-f59a51d01030",
   "metadata": {
    "tags": []
   },
   "outputs": [
    {
     "name": "stdout",
     "output_type": "stream",
     "text": [
      "[[ -5  12  -1  -8  14  15]\n",
      " [ -4 -13  -5 -11  -1   4]\n",
      " [ 10 -12  -1 -18 -13 -15]\n",
      " [ -6 -18 -12  -7 -13  -8]\n",
      " [  4   1 -17 -16  -2  -5]\n",
      " [-15  -8 -13  11 -10   9]\n",
      " [ 17   6  -5   9  14   1]\n",
      " [ -5 -13   5   6   1  10]\n",
      " [  5 -11  -6   4  16  -1]\n",
      " [  1  -2 -15 -15   7  -8]\n",
      " [-11 -17 -10   8  15  -9]\n",
      " [ 17   0   8   7   2   7]\n",
      " [ 17  -4 -14   3   6  -8]\n",
      " [-15   4  16  -3  11   9]\n",
      " [ 17  -2  -3   2 -16   6]\n",
      " [ 15  -2   4  -6  12   7]]\n",
      "Não é possível resolver o problema\n",
      "[[ -8  -5  -2 -14 -16  -6]\n",
      " [  0   2   8  -8   2   3]\n",
      " [ 13  -5  -5  -7 -18  12]\n",
      " [ 16  -6  10   0 -13  12]\n",
      " [ 14  -1 -14   5 -18 -11]\n",
      " [ -2  -8  16  -5   1   5]\n",
      " [ 11 -15   7 -13  14   5]\n",
      " [  4 -14 -12   7 -17   5]\n",
      " [ -9  15   7 -11 -16 -15]\n",
      " [-12   8  14 -18 -11   0]\n",
      " [-11 -14   8  -2  11 -15]\n",
      " [-17  -6   0 -10  -5 -18]\n",
      " [ -9 -16   5   5   5  -6]\n",
      " [ -1   3  -9  -6   4 -10]\n",
      " [ 13 -12  -9   8 -10  -6]\n",
      " [ 17   4   7  -5   3  13]]\n",
      "Não é possível resolver o problema\n",
      "[[ -2   7   5   5 -15 -12]\n",
      " [  7 -17  -1   3  11   6]\n",
      " [  6 -14 -10  13  -9  14]\n",
      " [ 15  -7  12 -16 -17   8]\n",
      " [-13   6   7  12  10  14]\n",
      " [  6  11   9  -4  -3  -9]\n",
      " [ 10   8 -15  -1  12 -10]\n",
      " [ -8  -7  -1  17  12   3]\n",
      " [-11 -10 -15   2 -15   6]\n",
      " [-16 -12  11  12 -13  13]\n",
      " [-15   9 -13  -2  -3  15]\n",
      " [ 16  16 -11  10  12 -13]\n",
      " [ -7  -3 -16   4  -7   1]\n",
      " [ 12 -14  13 -12  -2   3]\n",
      " [  8  -7  -3  -7  16   8]\n",
      " [ 11  -8  15   0   1  13]]\n",
      "Não é possível resolver o problema\n",
      "[[  9  11 -10  14  11  -2]\n",
      " [ 15  -1  -5   7  15   8]\n",
      " [ -9  11 -16   2 -14  -4]\n",
      " [  6  -2  -1 -17  14  -1]\n",
      " [  0   6  -4 -12 -17  -7]\n",
      " [ -3  11 -11  15   0  12]\n",
      " [  2  -1  14   6   5   8]\n",
      " [ 13 -10  14 -13   1   1]\n",
      " [ 12  -2  -1  -7   3 -17]\n",
      " [ -9   2 -18  -8  10  -4]\n",
      " [ -1   1  16 -16  -1  15]\n",
      " [-12 -14  -6  -5   0  -1]\n",
      " [-18  15  16 -10   5  11]\n",
      " [ -6  15  16 -18   5   6]\n",
      " [ 11 -12  17 -15 -14   9]\n",
      " [ -1   4 -16 -17  -9  15]]\n",
      "Não é possível resolver o problema\n",
      "[[ -5  13   7  -3   2   3]\n",
      " [  8   6  -4 -17   1   4]\n",
      " [ -5 -18   3   2  -9  10]\n",
      " [  2   0  11   6  12 -11]\n",
      " [-18  -9  17  11  13 -12]\n",
      " [ -4 -17 -12  14  15   4]\n",
      " [ -2  -2 -16  -6 -18  10]\n",
      " [ 17  -8  -5 -15 -14  -3]\n",
      " [ 17  -1  15   0  15   5]\n",
      " [ 17   8  -1 -12 -16  -2]\n",
      " [  3  17  11 -13   0  13]\n",
      " [ -8   1   1  12  17 -10]\n",
      " [-12   2 -18 -15   2  12]\n",
      " [ 13  -6   0   3  -1 -14]\n",
      " [  9 -12  13   0   0   1]\n",
      " [ 14   4  15  -5  10 -16]]\n",
      "Não é possível resolver o problema\n",
      "[[  5  10  -2  16  14 -15]\n",
      " [  3  -3  -5   8  11 -18]\n",
      " [-10  -1  -9  -8 -14 -17]\n",
      " [  3  -5   5  -5  -7  -3]\n",
      " [-10 -12  -7   3   5 -10]\n",
      " [ 13  -9   8   2  -2   7]\n",
      " [  5   6   2 -15  12 -16]\n",
      " [ -1   0   6  17   4  13]\n",
      " [-16   2  -5  -3   3 -14]\n",
      " [  9  10   4   5 -11   3]\n",
      " [ 15  -7  -2  -8   4 -15]\n",
      " [-11 -13   1  15   8   7]\n",
      " [-15  -9   1   9 -12   7]\n",
      " [-12  -6 -18  13  -6  13]\n",
      " [ -1  -6  12   2  16   8]\n",
      " [  2  15 -16   6  10 -12]]\n",
      "Não é possível resolver o problema\n",
      "[[ -6  -5  14  13 -12  -4]\n",
      " [  3   7  -7  17  17  -5]\n",
      " [ 17 -16  -3   2  -3  11]\n",
      " [-18 -16  12 -15   8  -5]\n",
      " [-13  -9  -8  13 -10 -13]\n",
      " [  4  -3   9  -3  -1  11]\n",
      " [ -5  15  -3  -6   4   8]\n",
      " [ -3   6  -4  15   6  -1]\n",
      " [  0  -6 -16 -12  17  -3]\n",
      " [ -3  -5 -18  -2  10   7]\n",
      " [ -9  -3 -13 -10 -14  17]\n",
      " [ 17  -3  -1  -9 -13  -9]\n",
      " [ -6  -5  -5  -2   1   3]\n",
      " [ 15  -7 -17   6 -13  12]\n",
      " [-15 -12 -15  -3 -13   9]\n",
      " [  2 -14  -5  -5   3 -10]]\n",
      "Não é possível resolver o problema\n",
      "[[ 15 -12 -17   2  -4  -9]\n",
      " [ -2 -16  11 -11   1  -4]\n",
      " [ -6  -8  -8   8  12  -4]\n",
      " [ -3   5 -13  -6   7  -5]\n",
      " [-15 -11 -13   5   7   6]\n",
      " [  1 -16  17   9 -14  17]\n",
      " [  2  -1  -5 -14  16   8]\n",
      " [ 10  -9   9   6  11  -2]\n",
      " [  3  -2 -11  -3  13  14]\n",
      " [  1   8   3  -4  -8 -18]\n",
      " [ 14   0  -6  -6   1 -13]\n",
      " [ -6  13  -3   8   1  -5]\n",
      " [-12 -15 -14 -11   7 -16]\n",
      " [-18   7 -10  -2  10  16]\n",
      " [  6 -15 -18   5 -15 -12]\n",
      " [-17  -1  12 -15 -14  -6]]\n",
      "Não é possível resolver o problema\n"
     ]
    }
   ],
   "source": [
    "from ortools.linear_solver import pywraplp\n",
    "import numpy\n",
    "\n",
    "#  n  > 30, impossível\n",
    "# |m| > 1 + |n|\n",
    "# |q| > |m|\n",
    "\n",
    "def SVP(m,n,q):\n",
    "    solver = pywraplp.Solver.CreateSolver('SCIP')\n",
    "    L = numpy.random.randint(-(q-1)/2, (q-1)/2, (m, n))\n",
    "    e = {}\n",
    "    k = {}\n",
    "    #e é um vetor de tamanho m com valores inteiros -1, 0 ou 1\n",
    "    for j in range(m):\n",
    "        e[j] = [solver.BoolVar('e[%i][-1]' % j),\n",
    "                solver.BoolVar('e[%i][0]' % j),\n",
    "                solver.BoolVar('e[%i][1]' % j)]\n",
    "        #1. e só pode ter um elemento por cada j\n",
    "        solver.Add(e[j][0] + e[j][1] + e[j][2] == 1)\n",
    "    \n",
    "            \n",
    "    #k é um vetor de tamanho n com valores inteiros\n",
    "    for i in range(n):\n",
    "        k[i] = solver.IntVar(-solver.infinity(), solver.infinity(), 'k[%i]' % i)\n",
    "    \n",
    "    #2. Tem de existir um elemento não nulo em e\n",
    "    solver.Add(sum([e[j][1] for j in range(m)]) <= m-1)\n",
    "    \n",
    "    #3. Multiplicar e por L deve resultar num vetor de múltiplos de q\n",
    "    for i in range(n):\n",
    "        solver.Add((sum([(e[j][2] - e[j][0])*L[j][i] for j in range(m)])) == q * k[i])\n",
    "    \n",
    "    solver.Maximize(sum([e[j][1] for j in range(m)]))\n",
    "    status = solver.Solve()\n",
    "    if status == pywraplp.Solver.OPTIMAL:\n",
    "        print(L)\n",
    "        print(\"\")\n",
    "        for i in range(n):\n",
    "            print(k[i].solution_value(), end = \" \")\n",
    "        print(\"\")\n",
    "        for j in range(m):\n",
    "            for k in range(3):\n",
    "                if e[j][k].solution_value():\n",
    "                    print(k-1, end = \" \")\n",
    "        return True\n",
    "    else:\n",
    "        print(L)\n",
    "        print(\"Não é possível resolver o problema\")\n",
    "        return False"
   ]
  },
  {
   "cell_type": "markdown",
   "id": "316c018f",
   "metadata": {},
   "source": [
    "### Exemplo 1"
   ]
  },
  {
   "cell_type": "code",
   "execution_count": null,
   "id": "9d5a9b59",
   "metadata": {},
   "outputs": [],
   "source": [
    "SVP(1, 4, 11)"
   ]
  },
  {
   "cell_type": "markdown",
   "id": "7e701919",
   "metadata": {},
   "source": [
    "### Exemplo 2 "
   ]
  },
  {
   "cell_type": "code",
   "execution_count": null,
   "id": "9e23b511",
   "metadata": {},
   "outputs": [],
   "source": [
    "SVP(3, 8, 11)"
   ]
  },
  {
   "cell_type": "markdown",
   "id": "353bfd41",
   "metadata": {},
   "source": [
    "### Exemplo 3"
   ]
  },
  {
   "cell_type": "code",
   "execution_count": null,
   "id": "90dced82",
   "metadata": {},
   "outputs": [],
   "source": [
    "SVP(5, 16, 37)"
   ]
  },
  {
   "cell_type": "markdown",
   "id": "d24e8d87",
   "metadata": {},
   "source": [
    "### Exemplo 4"
   ]
  },
  {
   "cell_type": "code",
   "execution_count": null,
   "id": "23532893",
   "metadata": {},
   "outputs": [],
   "source": [
    "SVP(7, 16, 37)"
   ]
  },
  {
   "cell_type": "markdown",
   "id": "2786b245-739e-4b99-825b-b6ef7bcda5d6",
   "metadata": {
    "tags": []
   },
   "source": [
    "###### "
   ]
  }
 ],
 "metadata": {
  "kernelspec": {
   "display_name": "Python 3 (ipykernel)",
   "language": "python",
   "name": "python3"
  },
  "language_info": {
   "codemirror_mode": {
    "name": "ipython",
    "version": 3
   },
   "file_extension": ".py",
   "mimetype": "text/x-python",
   "name": "python",
   "nbconvert_exporter": "python",
   "pygments_lexer": "ipython3",
   "version": "3.10.4"
  }
 },
 "nbformat": 4,
 "nbformat_minor": 5
}
