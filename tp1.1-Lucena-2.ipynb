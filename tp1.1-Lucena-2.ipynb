{
 "cells": [
  {
   "cell_type": "markdown",
   "id": "b311497d-37f1-4f29-aa68-888443a1ef8d",
   "metadata": {
    "tags": []
   },
   "source": [
    "# TP1 - Grupo 14\n",
    "\n",
    "André Lucena Ribas Ferreira - A94956\n",
    "\n",
    "Paulo André Alegre Pinto - A97391"
   ]
  },
  {
   "cell_type": "markdown",
   "id": "22989b04-5da7-4e3d-89bc-58d5554d4586",
   "metadata": {},
   "source": [
    "## Problema 1 - Alocação de Horário de uma StartUp\n",
    "\n",
    "Pretende-se construir um horário semanal para o plano de reuniões de projeto de uma “StartUp” de acordo com as seguintes condições:\n",
    "\n",
    "1. Cada reunião ocupa uma sala (enumeradas 1...S) durante um “slot”  1..T (hora,dia).  \n",
    "2. Cada reunião tem associado um projeto (enumerados 1..P) e um conjunto de participantes. Os diferentes colaboradores são enumerados 1..C.\n",
    "3. Cada projeto tem associado um conjunto de colaboradores, dos quais um  é o líder. Cada projeto realiza um dado número de reuniões semanais. \n",
    "4. O líder do projeto participa em todas as reuniões do seu projeto; os restantes colaboradores podem ou não participar consoante a sua disponibilidade, num mínimo (“quorum”) de  50 do total de colaboradores do projeto. \n",
    "\n",
    "Como 'inputs', o problema recebe:\n",
    "1. O número de 'Timeslots' $T$;\n",
    "2. O número de Salas $S$;\n",
    "3. O número de Projetos $P$;\n",
    "4. O número de Colaboradores $C$;\n",
    "5. O conjunto de Colaboradores de cada Projeto, o seu Líder e o número mínimo de reuniões semanais, num dicionário $proj$.\n",
    "6. A disponibilidade de cada Colaborador. Essa disponibilidade é representada numa matriz booleana de acessibilidade $disp$."
   ]
  },
  {
   "cell_type": "markdown",
   "id": "7a63ea2a-5d62-4f09-a8b6-4b62a26fa5e8",
   "metadata": {},
   "source": [
    "## Análise\n",
    "\n",
    "Pretende-se alocar reuniões de Projetos a certas Salas, dentro de determinados 'Timeslots', aos Colaboradores de uma StartUp.\n",
    "\n",
    "Para tal decidimos usar uma família de variáveis binárias $x_{t,s,p,c}$ definidas com a seguinte semântica:\n",
    "\n",
    "$$ x_{t,s,p,c} == 1 \\quad \\mbox{se e só se} \\quad \\mbox{o Colaborador $c$ estará Presente numa reunião do Projeto $p$ na Sala $s$ no 'Timeslot' $t$} $$\n",
    "\n",
    "O problema dispõe de limitações que deverão ser tratadas:\n",
    "\n",
    "1. Para cada 'Timeslot', cada Líder tem de estar Presente nas reuniões do seu próprio Projeto;\n",
    "2. Para cada 'Timeslot', cada Colaborador está Presente, no máximo, numa reunião;\n",
    "3. Para cada 'Timeslot', cada Colaborador está Presente numa reunião só se pertencer a esse Projeto;\n",
    "4. Para cada 'Timeslot', cada Colaborador está Presente numa reunião só se estiver disponível nesse 'Timeslot';\n",
    "5. Para cada 'Timeslot', cada Sala tem a reunião de, no máximo, um Projeto;\n",
    "6. Para cada 'Timeslot', numa dada Sala, cada Projeto pode ter reunião só se houver 'quórum';\n",
    "7. Para cada Projeto, o número das suas reuniões tem de ser maior ou igual ao mínimo descrito.\n",
    "\n",
    "Do mesmo modo, o problema admite certas optimizações:\n",
    "1. Maximizar o número de reuniões efetivamente realizadas;\n",
    "2. Minimizar o número médio de reuniões por participante."
   ]
  },
  {
   "cell_type": "markdown",
   "id": "554b5f00-b22a-4f15-b7b4-29da42347ffe",
   "metadata": {},
   "source": [
    "## Implementação\n",
    "\n",
    "Para a resolução do problema em questão, utilizaremos a biblioteca de programação linear do OR-Tools, o pywraplp. Portanto, começaremos por instalar o OR-Tools, importar tal biblioteca e inicializar o solver, que chamaremos de horario."
   ]
  },
  {
   "cell_type": "code",
   "execution_count": 1,
   "id": "c0087d6a-8f90-4f47-bdce-6adb2518d382",
   "metadata": {},
   "outputs": [
    {
     "name": "stdout",
     "output_type": "stream",
     "text": [
      "Requirement already satisfied: ortools in c:\\users\\paapm\\anaconda3\\envs\\logica\\lib\\site-packages (9.4.1874)\n",
      "Requirement already satisfied: numpy>=1.13.3 in c:\\users\\paapm\\anaconda3\\envs\\logica\\lib\\site-packages (from ortools) (1.23.3)\n",
      "Requirement already satisfied: absl-py>=0.13 in c:\\users\\paapm\\anaconda3\\envs\\logica\\lib\\site-packages (from ortools) (1.2.0)\n",
      "Requirement already satisfied: protobuf>=3.19.4 in c:\\users\\paapm\\anaconda3\\envs\\logica\\lib\\site-packages (from ortools) (4.21.6)\n"
     ]
    }
   ],
   "source": [
    "!pip install ortools"
   ]
  },
  {
   "cell_type": "code",
   "execution_count": 2,
   "id": "28d7c16e-77c0-45ca-9eb9-0e497d6e4ea7",
   "metadata": {},
   "outputs": [],
   "source": [
    "from ortools.linear_solver import pywraplp"
   ]
  },
  {
   "cell_type": "markdown",
   "id": "cc59c0be-4c69-4f5f-9126-14b3aea9fb7c",
   "metadata": {},
   "source": [
    "## Problema 1 - Horário"
   ]
  },
  {
   "cell_type": "markdown",
   "id": "92331934-01a0-4fbb-87f4-1c72bd52594e",
   "metadata": {},
   "source": [
    "Definimos o seguinte exemplo introdutório com solução, com mais exemplos no final do relatório"
   ]
  },
  {
   "cell_type": "code",
   "execution_count": 3,
   "id": "577174cf-2c8e-453c-9c4c-93623308c104",
   "metadata": {},
   "outputs": [],
   "source": [
    "T, S, P, C = 6, 2, 5, 8 \n",
    "\n",
    "proj = {}\n",
    "proj[0] = {'colaboradores':[0,1,2,4], 'lider':4, 'min':1}\n",
    "proj[1] = {'colaboradores':[1,2,3], 'lider':1, 'min':2}\n",
    "proj[2] = {'colaboradores':[0,2,3,4], 'lider':3, 'min':2}\n",
    "proj[3] = {'colaboradores':[0,1,7], 'lider':7, 'min':3}\n",
    "proj[4] = {'colaboradores':[2,3,4], 'lider':2, 'min':1}\n",
    "\n",
    "disp = {}\n",
    "disp[0] = [1,0,1,1,0,1]\n",
    "disp[1] = [1,1,1,1,0,1]\n",
    "disp[2] = [1,1,0,1,0,1]\n",
    "disp[3] = [1,1,1,0,1,1]\n",
    "disp[4] = [1,1,1,0,1,1]\n",
    "disp[5] = [1,0,1,0,1,1]\n",
    "disp[6] = [1,1,1,0,1,1]\n",
    "disp[7] = [1,1,1,0,0,1]"
   ]
  },
  {
   "cell_type": "markdown",
   "id": "4571df55-d260-4ba2-8a6c-ad3149b3a663",
   "metadata": {},
   "source": [
    "Para a família de variáveis binárias $x_{t,s,p,c}$, construíremos uma matriz de alocação $X \\subseteq \\{0,1\\}^{TxSxPxC}$, para representar as  variáveis binárias. Declaramos a matriz de alocação $X$ como um dicionário:"
   ]
  },
  {
   "cell_type": "code",
   "execution_count": 4,
   "id": "b43e5145-c871-4d8a-9325-f52c6711f1cd",
   "metadata": {},
   "outputs": [],
   "source": [
    "X = {}\n",
    "horario = pywraplp.Solver.CreateSolver('SCIP')\n",
    "#dicionário com T*P*C*S variáveis -> X[t][p][c][s] == 1 sse c estará presente na reunião do projeto p no timeslot t na sala s.\n",
    "for t in range(T):\n",
    "    X[t] = {}\n",
    "    for s in range(S):\n",
    "        X[t][s] = {}\n",
    "        for p in range(P):\n",
    "            if disp[proj[p]['lider']][t] == 1:\n",
    "                X[t][s][p] = {}\n",
    "                #Cada Colaborador apenas pode participar dos seus proj -> Obrigatório pela definição dos dicionários\n",
    "                for c in proj[p]['colaboradores']:\n",
    "                    #Cada Colaborador tem de ter horário -> Obrigatório pela definição dos dicionários\n",
    "                    if disp[c][t] == 1:\n",
    "                        X[t][s][p][c] = horario.BoolVar('x[%i][%i][%i}[%i]' % (t,s,p,c))"
   ]
  },
  {
   "cell_type": "markdown",
   "id": "fdce4a3a-e48f-47ff-a8e2-f5d25f22aee7",
   "metadata": {
    "jp-MarkdownHeadingCollapsed": true,
    "tags": []
   },
   "source": [
    "### Restrições\n",
    "\n",
    "1. Para cada Timeslot, cada Colaborador está Presente na reunião de um Projeto numa Sala só se o seu Líder também estiver.\n",
    "\n",
    "Nota: A notação utilizada refere-se a, por exemplo, um 'Timeslot' $t$ pertencente ao dicionário $X$. Com isto, ao longo de todo o relatório, pretendemos ilustrar que o 'Timeslot' $t$ pertence às chaves do dicionário $X$. Tal é análogo a todas as restantes ocorrências de notação de elementos a pertencerem a dicionários.\n",
    "\n",
    "$$ \\forall_{t \\in X}, \\forall_{s \\in X[t]}, \\forall_{p \\in X[t][s]}, \\forall_{c \\in X[t][s][p]}, \\quad x_{t,s,p,c} <= x_{t,s,p,l}, \\quad l = proj[p]['lider'] $$"
   ]
  },
  {
   "cell_type": "code",
   "execution_count": 5,
   "id": "7549c287-036c-49de-bdfc-63029465a3ea",
   "metadata": {},
   "outputs": [],
   "source": [
    "for t in X:\n",
    "    for s in X[t]:\n",
    "        for p in X[t][s]:\n",
    "            for c in X[t][s][p]:\n",
    "                horario.Add(X[t][s][p][c] <= X[t][s][p][proj[p]['lider']])"
   ]
  },
  {
   "cell_type": "markdown",
   "id": "1c522e45-900f-42cf-8c06-46f2813aa83b",
   "metadata": {},
   "source": [
    "2. Para cada 'Timeslot', cada Colaborador está Presente, no máximo, numa reunião:\n",
    "\n",
    "$$ \\forall_{t \\in X}, \\forall_{c < C}, \\sum_{s \\in X[t], p \\in X[t][s]} x_{t,s,p,c} \\le 1, \\quad se \\ c \\in X[t][s][p] $$"
   ]
  },
  {
   "cell_type": "code",
   "execution_count": 6,
   "id": "785bf75d-5c60-4993-ab1f-496a3f2a1d67",
   "metadata": {},
   "outputs": [],
   "source": [
    "for t in X:\n",
    "    for c in range(C):\n",
    "        horario.Add(sum([X[t][s][p][c] for s in X[t] for p in X[t][s] if c in X[t][s][p]]) <= 1)"
   ]
  },
  {
   "cell_type": "markdown",
   "id": "021cfad5-75a2-477f-857a-6fec1e06bf2e",
   "metadata": {},
   "source": [
    "3. Para cada 'Timeslot', cada Colaborador está Presente numa reunião só se pertencer a esse Projeto;\n",
    "\n",
    "$$\\forall_{t \\in X}, \\forall_{s \\in X[t]}, \\forall_{p \\in X[t][s]}, \\forall_{c \\in X[t][s][p]}, x_{t,s,p,c} == 1 \\quad se \\ e \\ só \\ se \\ o \\ colaborador \\ c \\ estiver \\ no \\ projeto \\ p $$\n",
    "\n",
    "De acordo com a implementação que escolhemos para a nossa matriz de valores binários, não é possível um Colaborador $c$ participar de uma reunião na Sala $s$ do Projeto $p$ num 'Timeslot' $t$ ao qual não pertence. Isso deve-se tanto ao facto de sempre se iterar sobre os elementos do dicionário como de não existirem entradas $X[t][s][p][c]$ para Colaboradores $c$ que não pertençam ao Projeto $p$."
   ]
  },
  {
   "cell_type": "markdown",
   "id": "399bdd88-26c2-4055-a635-c5f61600941e",
   "metadata": {},
   "source": [
    "4. Para cada 'Timeslot', cada Colaborador está Presente numa reunião só se estiver disponível nesse 'Timeslot';\n",
    "\n",
    "$$\\forall_{t \\in X}, \\forall_{s \\in X}, \\forall_{p \\in X}, \\forall_{c \\in X}, x_{t,s,p,c} == 1 \\quad se \\ e \\ só \\ se \\ o \\ colaborador \\ c \\ tiver \\ disponibilidade $$\n",
    "\n",
    "De acordo com a implementação que escolhemos para a nossa matriz de valores binários, não é possível um Colaborador $c$ participar de uma reunião na Sala $s$ do Projeto $p$ num 'Timeslot' $t$ ao qual não tem disponibilidade. Isso deve-se tanto ao facto de sempre se iterar sobre os elementos do dicionário como de não existirem entradas $X[t][s][p][c]$ para Colaboradores sem disponibilidade."
   ]
  },
  {
   "cell_type": "markdown",
   "id": "44ff8b93-d597-4814-a427-3f8916dcec6f",
   "metadata": {},
   "source": [
    "5. Para cada 'Timeslot', cada Sala tem a reunião de, no máximo, um Projeto;\n",
    "\n",
    "Para verificar se um dado Projeto tem ou não reunião num dado 'Timeslot', pode-se tirar partido da variável $x_{t,s,p,l}$, onde $l$ é o Líder do projeto $p$. Isto dá-se pelo facto que:\n",
    "\n",
    "$$ x_{t,s,p,l} == 1 \\quad \\mbox{se e só se} \\quad \\mbox{o Projeto $p$ tem reunião no 'Timeslot' $t$ na Sala $s$.} $$"
   ]
  },
  {
   "cell_type": "code",
   "execution_count": 7,
   "id": "1049c58a-9c2e-4a32-87ed-d36f948ad935",
   "metadata": {},
   "outputs": [],
   "source": [
    "for t in X:\n",
    "    for s in X[t]:\n",
    "        horario.Add(sum([X[t][s][p][proj[p]['lider']] for p in X[t][s]]) <= 1)"
   ]
  },
  {
   "cell_type": "markdown",
   "id": "4c559a05-0310-41c5-afd9-fefa656bc81d",
   "metadata": {},
   "source": [
    "6. Para cada 'Timeslot', numa dada Sala, cada Projeto pode ter reunião só se houver 'quórum';\n",
    "\n",
    "Por 'quórum' entende-se estarem Presentes, pelo menos, metade dos Colaboradores associados a esse Projeto.\n",
    "\n",
    "Como dito anteriormente, a variável $x_{t,s,p,l}$, com $l$ o lider do Projeto $p$, indica se esse Projeto tem reunião no 'Timeslot' $t$ e na Sala $s$. Como tal, podemos utilizá-la para garantir o 'quórum' apenas se a reunião ocorrer.\n",
    "\n",
    "Para evitar cálculos de divisões que possam resultar em valores não inteiros, em vez de se considerar a restrição:\n",
    "\n",
    "$$ \\forall_{t \\in X}, \\forall_{s \\in X[t]}, \\forall_{p \\in X[t][s]}, (\\sum_{c \\in X[t][s][p]} x_{t,s,p,c}) >= \\frac{\\mbox{número de colaboradores de $p$}}{2} * x_{t,s,p,l} $$\n",
    "\n",
    "Considerar-se-á a seguinte restrição equivalente:\n",
    "\n",
    "$$ \\forall_{t \\in X}, \\forall_{s \\in X[t]}, \\forall_{p \\in X[t][s]}, (2 * \\sum_{c \\in X[t][s][p]} x_{t,s,p,c}) >= (\\mbox{número de colaboradores de $p$}) * x_{t,s,p,l} $$"
   ]
  },
  {
   "cell_type": "code",
   "execution_count": 8,
   "id": "658e89fc-50a5-44d3-a7ad-0fcfd61a678d",
   "metadata": {},
   "outputs": [],
   "source": [
    "for t in X:\n",
    "    for s in X[t]:\n",
    "        for p in X[t][s]:\n",
    "            horario.Add(2*sum([X[t][s][p][c] for c in X[t][s][p]]) >= \n",
    "                       len(proj[p]['colaboradores']) * X[t][s][p][proj[p]['lider']])"
   ]
  },
  {
   "cell_type": "markdown",
   "id": "d0656100-9d96-45af-a92c-78541e586e66",
   "metadata": {},
   "source": [
    "7. Para cada Projeto, o número das suas reuniões tem de ser maior ou igual ao mínimo descrito.\n",
    "\n",
    "Da mesma forma, $x_{t,s,p,l}$ com $l$ o líder do Projeto $p$ indica se o esse Projeto tem reunião no 'Timeslot' $t$ e na Sala $s$."
   ]
  },
  {
   "cell_type": "markdown",
   "id": "381aa416-a415-4de1-a8a4-f7508b02f8d5",
   "metadata": {},
   "source": [
    "Seja $min$ o valor mínimo de reuniões semanais temos então:\n",
    "\n",
    "$$ \\forall_ {p < P}, \\sum_{t \\in X, s \\in X[t], c \\in X[t][s][p]} x_{t,s,p,l} \\ge min, \\quad se \\ p \\in X[t][s] $$"
   ]
  },
  {
   "cell_type": "code",
   "execution_count": 9,
   "id": "2c488029-8d99-42ad-a218-bb2f845e7e86",
   "metadata": {},
   "outputs": [],
   "source": [
    "for p in range(P):\n",
    "        horario.Add(sum([X[t][s][p][proj[p]['lider']] for t in X for s in X[t] if p in X[t][s]]) >= proj[p]['min'])"
   ]
  },
  {
   "cell_type": "markdown",
   "id": "eaf9407b-7474-4d89-96aa-60411d2be46f",
   "metadata": {},
   "source": [
    "Pode-se então tentar construir um horário para o exemplo dado. Nesta altura, ainda não se encontra otimizado para as especificações do problema."
   ]
  },
  {
   "cell_type": "code",
   "execution_count": 10,
   "id": "734287df-d60b-40d1-8467-6c3e7e98c754",
   "metadata": {},
   "outputs": [
    {
     "name": "stdout",
     "output_type": "stream",
     "text": [
      "Slot: 0\n",
      "Projeto 4 de líder 2 na Sala 0\n",
      "Colaboradores: 2 4 \n",
      "Projeto 1 de líder 1 na Sala 1\n",
      "Colaboradores: 1 3 \n",
      "\n",
      "Slot: 1\n",
      "Projeto 4 de líder 2 na Sala 0\n",
      "Colaboradores: 2 3 \n",
      "Projeto 3 de líder 7 na Sala 1\n",
      "Colaboradores: 1 7 \n",
      "\n",
      "Slot: 2\n",
      "Projeto 0 de líder 4 na Sala 0\n",
      "Colaboradores: 0 4 \n",
      "Projeto 3 de líder 7 na Sala 1\n",
      "Colaboradores: 1 7 \n",
      "\n",
      "Slot: 3\n",
      "Projeto 1 de líder 1 na Sala 0\n",
      "Colaboradores: 1 2 \n",
      "\n",
      "Slot: 4\n",
      "Projeto 2 de líder 3 na Sala 0\n",
      "Colaboradores: 3 4 \n",
      "\n",
      "Slot: 5\n",
      "Projeto 2 de líder 3 na Sala 0\n",
      "Colaboradores: 0 3 \n",
      "Projeto 3 de líder 7 na Sala 1\n",
      "Colaboradores: 1 7 \n",
      "\n"
     ]
    }
   ],
   "source": [
    "status = horario.Solve() \n",
    "if status == pywraplp.Solver.OPTIMAL:\n",
    "    for t in X:\n",
    "        print(f'Slot: {t}')\n",
    "        for s in X[t]:\n",
    "            for p in X[t][s]:\n",
    "                if proj[p]['lider'] in X[t][s][p] and X[t][s][p][proj[p]['lider']].solution_value() == 1:\n",
    "                    l = proj[p]['lider']\n",
    "                    print(f'Projeto {p} de líder {l} na Sala {s}')\n",
    "                    print('Colaboradores:', end = ' ')\n",
    "                    for c in X[t][s][p]:\n",
    "                        if X[t][s][p][c].solution_value() == 1:\n",
    "                            print(f'{c}', end = ' ')\n",
    "                    print('')\n",
    "        print('')\n",
    "else:\n",
    "    print('Nao é possivel construir o hórario')"
   ]
  },
  {
   "cell_type": "markdown",
   "id": "e76f6d84-f668-47c3-b6ee-986f850bff42",
   "metadata": {},
   "source": [
    "### Optimização\n",
    "\n",
    "Os critérios de optimização para este problema são os seguintes:\n",
    "1. Maximizar o número de reuniões efetivamente realizadas - função $r$;\n",
    "2. Minimizar o número médio de reuniões por participante - função $m$.\n",
    "\n",
    "Para 1. o somatório dos $x_{t,s,p,l}$, para $l$ o líder do Projeto $p$, é o número de reuniões realizadas.\n",
    "Para 2. o número médio de reuniões por participante dá-se por:\n"
   ]
  },
  {
   "cell_type": "markdown",
   "id": "3a38a35a-c0c8-43fe-ab51-0980476023ff",
   "metadata": {},
   "source": [
    "### Optimização\n",
    "\n",
    "Os critérios de optimização para este problema são os seguintes:\n",
    "1. Maximizar o número de reuniões efetivamente realizadas - função $r$;\n",
    "2. Minimizar o número médio de reuniões por participante - função $m$.\n",
    "\n",
    "Para 1. o somatório dos $x_{t,s,p,l}$, para $l$ o líder do Projeto $p$, é o número de reuniões realizadas.\n",
    "Para 2. o número médio de reuniões por participante dá-se por:\n",
    "\n",
    "$$ \\frac{\\sum_{t \\in X} \\sum_{s \\in X[t]} \\sum_{p \\in X[t][s]} \\sum_{c \\in X[t][s][p]} x_{t,s,p,c}}{C} $$\n",
    "\n",
    "Como $C$ é um número constante, basta minimzar o numerador da expressão.\n",
    "\n",
    "Desse modo:\n",
    "\n",
    "\\begin{align*}\n",
    "    r \\quad &:= \\quad \\sum_{t \\in X} \\sum_{s \\in X[t]} \\sum_{p \\in X[t][s]} x_{t,s,p,l} \\\\\n",
    "    m \\quad &:= \\quad \\sum_{t \\in X} \\sum_{s \\in X[t]} \\sum_{p \\in X[t][s]} \\sum_{c \\in X[t][s][p]} x_{t,s,p,c} \\\\\n",
    "\\end{align*}\n",
    "\n",
    "Pode-se obter esta optimização através de uma única maximização, considerando a seguinte função a necessária para maximizar:\n",
    "\n",
    "$$(1- \\lambda) * r - \\lambda * m$$\n",
    "\n",
    "O parâmetro $\\lambda$ pode ser ajustado para tender a optimização ora a favor de maximizar $r$ como de maximizar $m$, desde que $\\lambda \\in [0,1]$."
   ]
  },
  {
   "cell_type": "code",
   "execution_count": 11,
   "id": "78aab050-8e09-48cc-886b-00eff75b3d2a",
   "metadata": {},
   "outputs": [],
   "source": [
    "lambd = 0.5\n",
    "horario.Maximize((1 - lambd) * sum([X[t][s][p][proj[p]['lider']] for t in X for s in X[t] for p in X[t][s]]) - \n",
    "                  lambd * sum([X[t][s][p][c] for t in X for s in X[t] for p in X[t][s] for c in X[t][s][p]]))"
   ]
  },
  {
   "cell_type": "markdown",
   "id": "0337f3d2-dd04-456c-ba72-a547a8e568f9",
   "metadata": {},
   "source": [
    "## Exemplos\n",
    "\n",
    "Nesta secção, apresentamos mais exemplos de horários criados pela resolução do problema.\n",
    "\n",
    "De modo a facilitar a testagem dos exemplos, na célula colapsada seguinte encontra-se a função $scheduleStartUp(T, S, P, C, proj, disp)$. Esta função compõe todos os passos da implementação."
   ]
  },
  {
   "cell_type": "code",
   "execution_count": 13,
   "id": "2a17008a",
   "metadata": {
    "jupyter": {
     "source_hidden": true
    },
    "tags": []
   },
   "outputs": [
    {
     "name": "stdout",
     "output_type": "stream",
     "text": [
      "Slot: 0\n",
      "Projeto 0 de líder 4 na Sala 0\n",
      "Colaboradores: 1 4 \n",
      "Projeto 4 de líder 2 na Sala 1\n",
      "Colaboradores: 2 3 \n",
      "\n",
      "Slot: 1\n",
      "Projeto 3 de líder 7 na Sala 0\n",
      "Colaboradores: 1 7 \n",
      "Projeto 2 de líder 3 na Sala 1\n",
      "Colaboradores: 2 3 \n",
      "\n",
      "Slot: 2\n",
      "Projeto 3 de líder 7 na Sala 0\n",
      "Colaboradores: 1 7 \n",
      "Projeto 2 de líder 3 na Sala 1\n",
      "Colaboradores: 3 4 \n",
      "\n",
      "Slot: 3\n",
      "Projeto 1 de líder 1 na Sala 0\n",
      "Colaboradores: 1 2 \n",
      "\n",
      "Slot: 4\n",
      "\n",
      "Slot: 5\n",
      "Projeto 1 de líder 1 na Sala 0\n",
      "Colaboradores: 1 3 \n",
      "Projeto 3 de líder 7 na Sala 1\n",
      "Colaboradores: 0 7 \n",
      "\n",
      "Número médio de reuniões por colaborador: 2.25\n",
      "Número de reuniões: 9\n"
     ]
    }
   ],
   "source": [
    "def scheduleStartUp(T, S, P, C, proj, disp):\n",
    "    X = {}\n",
    "    result = dict()\n",
    "    horario = pywraplp.Solver.CreateSolver('SCIP')\n",
    "    #dicionário com T*P*C*S variáveis -> X[t][p][c][s] == 1 sse c estará presente na reunião do projeto p no timeslot t na sala s.\n",
    "    for t in range(T):\n",
    "        X[t] = {}\n",
    "        for s in range(S):\n",
    "            X[t][s] = {}\n",
    "            for p in range(P):\n",
    "                if disp[proj[p]['lider']][t] == 1:\n",
    "                    X[t][s][p] = {}\n",
    "                    for c in proj[p]['colaboradores']:\n",
    "                        if disp[c][t] == 1:\n",
    "                            X[t][s][p][c] = horario.BoolVar('x[%i][%i][%i}[%i]' % (t,s,p,c))",
    "                \n",
    "#Para cada Timeslot,\n",
    "for t in X:\n",
    "    #Cada Sala apenas pode ter um projeto\n",
    "    for s in X[t]:\n",
    "        horario.Add(sum([X[t][s][p][proj[p]['lider']] for p in X[t][s]]) <= 1)\n",
    "            \n",
    "    #Cada Colaborador possível nesse timeslot pode ter, no máximo, 1 reunião\n",
    "    for c in range(C):\n",
    "        horario.Add(sum([X[t][s][p][c] for s in X[t] for p in X[t][s] if c in X[t][s][p]]) <= 1)\n",
    "            \n",
    "    #Cada Colaborador tem de ter horário -> Obrigatório pela definição dos dicionários\n",
    "    #Cada Colaborador apenas pode participar dos seus proj -> Obrigatório pela definição dos dicionários\n",
    "        \n",
    "    #Cada Líder tem de participar do seu projeto OU SEJA\n",
    "        #Cada Colaborador participa apenas de um projeto se o seu líder participar\n",
    "    for s in X[t]:\n",
    "        for p in X[t][s]:\n",
    "            for c in X[t][s][p]:\n",
    "                horario.Add(X[t][s][p][c] <= X[t][s][p][proj[p]['lider']])\n",
    "                    \n",
    "     #Cada Projeto apenas pode ser selecionado se houver 'quórum', o projeto só existe se o líder existe\n",
    "        #Apenas se pode olhar para uma dada sala, ou podemos ver salas de outros proj para algum colaborador\n",
    "        #Número de participantes efetivos / total de colaboradores >= 1 / 2\n",
    "            #Com cálculos chega-se a: 2*Número de participantes efetivos >= total de colaboradores\n",
    "        #É necessário multiplicar pelo valor do líder para que não obriguemos a ter um somatório de 0's (pessoas não vão) >= quorum\n",
    "    for s in X[t]:\n",
    "        for p in X[t][s]:\n",
    "            horario.Add(2*sum([X[t][s][p][c] for c in X[t][s][p]]) >= \n",
    "                        len(proj[p]['colaboradores']) * X[t][s][p][proj[p]['lider']])\n",
    "        \n",
    "#Para cada Projeto, o número de vezes que foi selecionado tem de ser igual ou maior ao seu mínimo\n",
    "for p in range(P):\n",
    "    horario.Add(sum([X[t][s][p][proj[p]['lider']] for t in X for s in X[t] if p in X[t][s]]) >= proj[p]['min'])\n",
    "    \n",
    "#Deve-se Maximizar o Número total de reuniões realizadas e Minimizar o número médio de reuniões por participante\n",
    "lambd = 0.5\n",
    "horario.Maximize((1 - lambd) * sum([X[t][s][p][proj[p]['lider']] for t in X for s in X[t] for p in X[t][s]]) - \n",
    "                    lambd * sum([X[t][s][p][c] for t in X for s in X[t] for p in X[t][s] for c in X[t][s][p]]))\n",
    "    \n",
    "status = horario.Solve()\n",
    "    \n",
    "if status == pywraplp.Solver.OPTIMAL:\n",
    "    count = 0\n",
    "    projects = 0\n",
    "    for t in X:\n",
    "        print(f'Slot: {t}')\n",
    "        for s in X[t]:\n",
    "            for p in X[t][s]:\n",
    "                if proj[p]['lider'] in X[t][s][p] and X[t][s][p][proj[p]['lider']].solution_value() == 1:\n",
    "                    projects += 1\n",
    "                    l = proj[p]['lider']\n",
    "                    print(f'Projeto {p} de líder {l} na Sala {s}')\n",
    "                    print('Colaboradores:', end = ' ')\n",
    "                    for c in X[t][s][p]:\n",
    "                        if X[t][s][p][c].solution_value() == 1:\n",
    "                            print(f'{c}', end = ' ')\n",
    "                            count += 1\n",
    "                    print('')\n",
    "        print('')\n",
    "    print(f'Número médio de reuniões por colaborador: {count/C}')\n",
    "    print(f'Número de reuniões: {projects}')\n",
    "else:\n",
    "    print('Nao é possivel construir o hórario')"
   ]
  },
  {
   "cell_type": "markdown",
   "id": "18dfbb25-0616-4495-b22a-ab7c04bba345",
   "metadata": {},
   "source": [
    "#### Exemplo 1 (Introdutório)"
   ]
  },
  {
   "cell_type": "code",
   "execution_count": 19,
   "id": "6f4622f2-36ef-4c37-9d08-3837e67cda09",
   "metadata": {},
   "outputs": [],
   "source": [
    "T, S, P, C = 6, 2, 5, 8 \n",
    "\n",
    "proj = {}\n",
    "proj[0] = {'colaboradores':[0,1,2,4], 'lider':4, 'min':1}\n",
    "proj[1] = {'colaboradores':[1,2,3], 'lider':1, 'min':2}\n",
    "proj[2] = {'colaboradores':[0,2,3,4], 'lider':3, 'min':2}\n",
    "proj[3] = {'colaboradores':[0,1,7], 'lider':7, 'min':3}\n",
    "proj[4] = {'colaboradores':[2,3,4], 'lider':2, 'min':1}\n",
    "\n",
    "disp = {}\n",
    "disp[0] = [1,0,1,1,0,1]\n",
    "disp[1] = [1,1,1,1,0,1]\n",
    "disp[2] = [1,1,0,1,0,1]\n",
    "disp[3] = [1,1,1,0,1,1]\n",
    "disp[4] = [1,1,1,0,1,1]\n",
    "disp[5] = [1,0,1,0,1,1]\n",
    "disp[6] = [1,1,1,0,1,1]\n",
    "disp[7] = [1,1,1,0,0,1]\n",
    "\n",
    "scheduleStartUp(T, S, P, C, proj, disp)"
   ]
  },
  {
   "cell_type": "markdown",
   "id": "4723110a-9cdd-4b3b-a237-0a12aee68964",
   "metadata": {},
   "source": [
    "#### Exemplo 2 (impossível)"
   ]
  },
  {
   "cell_type": "code",
   "execution_count": null,
   "id": "c81d8ec3-29d3-4bc4-9165-742707036f33",
   "metadata": {},
   "outputs": [],
   "source": [
    "T, S, P, C = 6, 2, 5, 8 \n",
    "\n",
    "proj = {}\n",
    "proj[0] = {'colaboradores':[0,1,2,4], 'lider':4, 'min':1}\n",
    "proj[1] = {'colaboradores':[1,2,3], 'lider':1, 'min':2}\n",
    "proj[2] = {'colaboradores':[0,2,3,4], 'lider':3, 'min':2}\n",
    "proj[3] = {'colaboradores':[0,1,7], 'lider':7, 'min':3}\n",
    "proj[4] = {'colaboradores':[2,3,4], 'lider':2, 'min':1}\n",
    "\n",
    "disp = {}\n",
    "disp[0] = [0,0,0,1,0,1]\n",
    "disp[1] = [1,1,1,0,0,0]\n",
    "disp[2] = [1,1,0,1,0,1]\n",
    "disp[3] = [1,1,1,0,1,1]\n",
    "disp[4] = [1,1,1,0,1,0]\n",
    "disp[5] = [1,0,1,0,1,1]\n",
    "disp[6] = [1,1,1,0,1,1]\n",
    "disp[7] = [1,1,1,0,0,1]\n",
    "\n",
    "#Não há disponibilidade dos colaboradores para se realizarem as reuniões do proj[0]\n",
    "\n",
    "scheduleStartUp(T, S, P, C, proj, disp)"
   ]
  },
  {
   "cell_type": "markdown",
   "id": "d51f4faf-ac83-41b0-8eb9-abecc3ab7d64",
   "metadata": {},
   "source": [
    "### Exemplo 3 (Possível)"
   ]
  },
  {
   "cell_type": "code",
   "execution_count": null,
   "id": "ef0a95c4-8fe5-48a5-9a42-64c15abcb4e1",
   "metadata": {},
   "outputs": [],
   "source": [
    "T, S, P, C = 6, 2, 5, 8 \n",
    "\n",
    "proj = {}\n",
    "proj[0] = {'colaboradores':[0,1,2,4], 'lider':4, 'min':1}\n",
    "proj[1] = {'colaboradores':[1,2,3], 'lider':1, 'min':2}\n",
    "proj[2] = {'colaboradores':[0,2,3,4], 'lider':3, 'min':2}\n",
    "proj[3] = {'colaboradores':[0,1,7], 'lider':7, 'min':3}\n",
    "proj[4] = {'colaboradores':[2,3,4], 'lider':2, 'min':1}\n",
    "\n",
    "disp = {}\n",
    "disp[0] = [0,0,0,1,0,1]\n",
    "disp[1] = [1,1,1,0,0,0]\n",
    "disp[2] = [1,1,0,1,0,1]\n",
    "disp[3] = [1,1,1,0,1,1]\n",
    "disp[4] = [1,1,1,0,1,0]\n",
    "disp[5] = [1,0,1,0,1,1]\n",
    "disp[6] = [1,1,1,0,1,1]\n",
    "disp[7] = [1,1,1,0,0,1]\n",
    "disp[8] = []\n",
    "disp[9} = []\n",
    "\n",
    "scheduleStartUp(T, S, P, C, proj, disp)"
   ]
  },
  {
   "cell_type": "markdown",
   "id": "bb1f7b2a-f687-4517-8224-d92f7bce5b19",
   "metadata": {},
   "source": [
    "### Exemplo 4 (Possível)"
   ]
  },
  {
   "cell_type": "code",
   "execution_count": 23,
   "id": "0fcbf5e4-bc41-48ff-8e54-c02e9fc8c049",
   "metadata": {},
   "outputs": [
    {
     "ename": "KeyError",
     "evalue": "2",
     "output_type": "error",
     "traceback": [
      "\u001b[1;31m---------------------------------------------------------------------------\u001b[0m",
      "\u001b[1;31mKeyError\u001b[0m                                  Traceback (most recent call last)",
      "Input \u001b[1;32mIn [23]\u001b[0m, in \u001b[0;36m<cell line: 17>\u001b[1;34m()\u001b[0m\n\u001b[0;32m     14\u001b[0m disp[\u001b[38;5;241m6\u001b[39m] \u001b[38;5;241m=\u001b[39m [\u001b[38;5;241m1\u001b[39m,\u001b[38;5;241m1\u001b[39m,\u001b[38;5;241m1\u001b[39m,\u001b[38;5;241m1\u001b[39m,\u001b[38;5;241m1\u001b[39m,\u001b[38;5;241m1\u001b[39m]\n\u001b[0;32m     15\u001b[0m disp[\u001b[38;5;241m7\u001b[39m] \u001b[38;5;241m=\u001b[39m [\u001b[38;5;241m1\u001b[39m,\u001b[38;5;241m1\u001b[39m,\u001b[38;5;241m1\u001b[39m,\u001b[38;5;241m1\u001b[39m,\u001b[38;5;241m1\u001b[39m,\u001b[38;5;241m1\u001b[39m]\n\u001b[1;32m---> 17\u001b[0m \u001b[43mscheduleStartUp\u001b[49m\u001b[43m(\u001b[49m\u001b[43mT\u001b[49m\u001b[43m,\u001b[49m\u001b[43m \u001b[49m\u001b[43mS\u001b[49m\u001b[43m,\u001b[49m\u001b[43m \u001b[49m\u001b[43mP\u001b[49m\u001b[43m,\u001b[49m\u001b[43m \u001b[49m\u001b[43mC\u001b[49m\u001b[43m,\u001b[49m\u001b[43m \u001b[49m\u001b[43mproj\u001b[49m\u001b[43m,\u001b[49m\u001b[43m \u001b[49m\u001b[43mdisp\u001b[49m\u001b[43m)\u001b[49m\n",
      "Input \u001b[1;32mIn [12]\u001b[0m, in \u001b[0;36mscheduleStartUp\u001b[1;34m(T, S, P, C, proj, disp)\u001b[0m\n\u001b[0;32m      9\u001b[0m X[t][s] \u001b[38;5;241m=\u001b[39m {}\n\u001b[0;32m     10\u001b[0m \u001b[38;5;28;01mfor\u001b[39;00m p \u001b[38;5;129;01min\u001b[39;00m \u001b[38;5;28mrange\u001b[39m(P):\n\u001b[1;32m---> 11\u001b[0m     \u001b[38;5;28;01mif\u001b[39;00m disp[\u001b[43mproj\u001b[49m\u001b[43m[\u001b[49m\u001b[43mp\u001b[49m\u001b[43m]\u001b[49m[\u001b[38;5;124m'\u001b[39m\u001b[38;5;124mlider\u001b[39m\u001b[38;5;124m'\u001b[39m]][t] \u001b[38;5;241m==\u001b[39m \u001b[38;5;241m1\u001b[39m:\n\u001b[0;32m     12\u001b[0m         X[t][s][p] \u001b[38;5;241m=\u001b[39m {}\n\u001b[0;32m     13\u001b[0m         \u001b[38;5;28;01mfor\u001b[39;00m c \u001b[38;5;129;01min\u001b[39;00m proj[p][\u001b[38;5;124m'\u001b[39m\u001b[38;5;124mcolaboradores\u001b[39m\u001b[38;5;124m'\u001b[39m]:\n",
      "\u001b[1;31mKeyError\u001b[0m: 2"
     ]
    }
   ],
   "source": [
    "T, S, P, C = 6, 2, 5, 8 \n",
    "\n",
    "proj = {}\n",
    "proj[0] = {'colaboradores':[0,1,2,3,4,5,6,7], 'lider':4, 'min':3}\n",
    "proj[1] = {'colaboradores':[0,1,2,3,4,5,6,7], 'lider':1, 'min':3}\n",
    "\n",
    "disp = {}\n",
    "disp[0] = [1,1,1,1,1,1]\n",
    "disp[1] = [1,1,1,1,1,1]\n",
    "disp[2] = [1,1,1,1,1,1]\n",
    "disp[3] = [1,1,1,1,1,1]\n",
    "disp[4] = [1,1,1,1,1,1]\n",
    "disp[5] = [1,1,1,1,1,1]\n",
    "disp[6] = [1,1,1,1,1,1]\n",
    "disp[7] = [1,1,1,1,1,1]\n",
    "\n",
    "scheduleStartUp(T, S, P, C, proj, disp)"
   ]
  },
  {
   "cell_type": "markdown",
   "id": "891c2e3d-8ba8-4516-b719-1179ccac5101",
   "metadata": {},
   "source": [
    "### Exemplo 5 (Possível)"
   ]
  },
  {
   "cell_type": "code",
   "execution_count": null,
   "id": "29eaa8d5-a4d5-4c2e-acef-611266088105",
   "metadata": {},
   "outputs": [],
   "source": [
    "T, S, P, C = 6, 2, 5, 8 \n",
    "\n",
    "proj = {}\n",
    "proj[0] = {'colaboradores':[0,1,2,4,5,6,7], 'lider':4, 'min':3}\n",
    "proj[1] = {'colaboradores':[1,2,3,4,5,6,7], 'lider':1, 'min':3}\n",
    "\n",
    "disp = {}\n",
    "disp[0] = [1,1,1,0,0,0]\n",
    "disp[1] = [1,1,1,0,0,0]\n",
    "disp[2] = [1,1,1,0,0,0]\n",
    "disp[3] = [1,1,1,0,0,0]\n",
    "disp[4] = [0,0,0,1,1,1]\n",
    "disp[5] = [0,0,0,1,1,1]\n",
    "disp[6] = [0,0,0,1,1,1]\n",
    "disp[7] = [0,0,0,1,1,1]\n",
    "\n",
    "#É possível por comparecer 50% dos colaboradores (com líder)\n",
    "\n",
    "scheduleStartUp(T, S, P, C, proj, disp)"
   ]
  },
  {
   "cell_type": "markdown",
   "id": "f415ec05-38e0-4761-a4ae-b1188f0127ae",
   "metadata": {},
   "source": [
    "### Exemplo 6 (Impossível)"
   ]
  },
  {
   "cell_type": "code",
   "execution_count": 24,
   "id": "853dae6b-9832-428a-a591-a78ed813275b",
   "metadata": {},
   "outputs": [
    {
     "ename": "KeyError",
     "evalue": "2",
     "output_type": "error",
     "traceback": [
      "\u001b[1;31m---------------------------------------------------------------------------\u001b[0m",
      "\u001b[1;31mKeyError\u001b[0m                                  Traceback (most recent call last)",
      "Input \u001b[1;32mIn [24]\u001b[0m, in \u001b[0;36m<cell line: 19>\u001b[1;34m()\u001b[0m\n\u001b[0;32m     15\u001b[0m disp[\u001b[38;5;241m7\u001b[39m] \u001b[38;5;241m=\u001b[39m [\u001b[38;5;241m1\u001b[39m,\u001b[38;5;241m1\u001b[39m,\u001b[38;5;241m1\u001b[39m,\u001b[38;5;241m1\u001b[39m,\u001b[38;5;241m1\u001b[39m,\u001b[38;5;241m1\u001b[39m]\n\u001b[0;32m     17\u001b[0m \u001b[38;5;66;03m# O colaborador 1 (líder do segundo projeto), não tem disponibilidade em nenhum dia.\u001b[39;00m\n\u001b[1;32m---> 19\u001b[0m \u001b[43mscheduleStartUp\u001b[49m\u001b[43m(\u001b[49m\u001b[43mT\u001b[49m\u001b[43m,\u001b[49m\u001b[43m \u001b[49m\u001b[43mS\u001b[49m\u001b[43m,\u001b[49m\u001b[43m \u001b[49m\u001b[43mP\u001b[49m\u001b[43m,\u001b[49m\u001b[43m \u001b[49m\u001b[43mC\u001b[49m\u001b[43m,\u001b[49m\u001b[43m \u001b[49m\u001b[43mproj\u001b[49m\u001b[43m,\u001b[49m\u001b[43m \u001b[49m\u001b[43mdisp\u001b[49m\u001b[43m)\u001b[49m\n",
      "Input \u001b[1;32mIn [12]\u001b[0m, in \u001b[0;36mscheduleStartUp\u001b[1;34m(T, S, P, C, proj, disp)\u001b[0m\n\u001b[0;32m      9\u001b[0m X[t][s] \u001b[38;5;241m=\u001b[39m {}\n\u001b[0;32m     10\u001b[0m \u001b[38;5;28;01mfor\u001b[39;00m p \u001b[38;5;129;01min\u001b[39;00m \u001b[38;5;28mrange\u001b[39m(P):\n\u001b[1;32m---> 11\u001b[0m     \u001b[38;5;28;01mif\u001b[39;00m disp[\u001b[43mproj\u001b[49m\u001b[43m[\u001b[49m\u001b[43mp\u001b[49m\u001b[43m]\u001b[49m[\u001b[38;5;124m'\u001b[39m\u001b[38;5;124mlider\u001b[39m\u001b[38;5;124m'\u001b[39m]][t] \u001b[38;5;241m==\u001b[39m \u001b[38;5;241m1\u001b[39m:\n\u001b[0;32m     12\u001b[0m         X[t][s][p] \u001b[38;5;241m=\u001b[39m {}\n\u001b[0;32m     13\u001b[0m         \u001b[38;5;28;01mfor\u001b[39;00m c \u001b[38;5;129;01min\u001b[39;00m proj[p][\u001b[38;5;124m'\u001b[39m\u001b[38;5;124mcolaboradores\u001b[39m\u001b[38;5;124m'\u001b[39m]:\n",
      "\u001b[1;31mKeyError\u001b[0m: 2"
     ]
    }
   ],
   "source": [
    "T, S, P, C = 6, 2, 5, 8 \n",
    "\n",
    "proj = {}\n",
    "proj[0] = {'colaboradores':[0,1,2,4,5,6,7], 'lider':4, 'min':3}\n",
    "proj[1] = {'colaboradores':[1,2,3,4,5,6,7], 'lider':1, 'min':3}\n",
    "\n",
    "disp = {}\n",
    "disp[0] = [1,1,1,1,1,1]\n",
    "disp[1] = [0,0,0,0,0,0]\n",
    "disp[2] = [1,1,1,1,1,1]\n",
    "disp[3] = [1,1,1,1,1,1]\n",
    "disp[4] = [1,1,1,1,1,1]\n",
    "disp[5] = [1,1,1,1,1,1]\n",
    "disp[6] = [1,1,1,1,1,1]\n",
    "disp[7] = [1,1,1,1,1,1]\n",
    "\n",
    "# O colaborador 1 (líder do segundo projeto), não tem disponibilidade em nenhum dia.\n",
    "\n",
    "scheduleStartUp(T, S, P, C, proj, disp)"
   ]
  },
  {
   "cell_type": "code",
   "execution_count": null,
   "id": "3a6f22f4-a7b0-4400-9caa-18a619977a2e",
   "metadata": {},
   "outputs": [],
   "source": []
  }
 ],
 "metadata": {
  "kernelspec": {
   "display_name": "Python 3 (ipykernel)",
   "language": "python",
   "name": "python3"
  },
  "language_info": {
   "codemirror_mode": {
    "name": "ipython",
    "version": 3
   },
   "file_extension": ".py",
   "mimetype": "text/x-python",
   "name": "python",
   "nbconvert_exporter": "python",
   "pygments_lexer": "ipython3",
   "version": "3.10.4"
  }
 },
 "nbformat": 4,
 "nbformat_minor": 5
}
