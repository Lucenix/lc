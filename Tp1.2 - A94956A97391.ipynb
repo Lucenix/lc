{
 "cells": [
  {
   "cell_type": "markdown",
   "id": "c86fb674-22aa-4a48-85bf-ca76bca93b0d",
   "metadata": {},
   "source": [
    "# TP1 - Grupo 14\n",
    "\n",
    "André Lucena Ribas Ferreira - A94956\n",
    "\n",
    "Paulo André Alegre Pinto - A97391"
   ]
  },
  {
   "cell_type": "markdown",
   "id": "8919de04-b89b-488a-9b52-bfa2c4686f0b",
   "metadata": {},
   "source": [
    "## Problema 2 - Cálculo do SVP\n",
    "\n",
    "Na criptografia pós-quântica os reticulados inteiros (“hard lattices”) e os problemas a eles associados são uma componente essencial. Um reticulado inteiro pode ser definido por uma matriz $L \\in \\mathbb{Z}^{m\\times n}$ (com $m > n$) de inteiros e por um inteiro primo $q \\geq 3$.\n",
    "\n",
    "Como 'inputs', o problema recebe:\n",
    "1. Número natural $n$;\n",
    "2. Número natural $m$, tal que $|m| > |n| + 1$;\n",
    "3. Número natural primo $q$, tal que $|q| > |m|$.\n",
    "4. Os elementos $L_{j,i}$ são gerados aleatória e uniformemente no intervalo inteiro $\\{-d, \\cdots, d\\}$ sendo  $d = (q-1)/2$.\n",
    "\n",
    "O chamado problema do vetor curto (SVP) consiste no cálculo de um vetor de inteiros: $e\\in \\{-1,0,1\\}^m$\n",
    "não nulo que verifique a seguinte relação matricial:\n",
    "$$\\forall_{i < n}, \\quad (\\sum_{j< m} e_j \\times \\mathsf{L}_{j,i}) \\equiv 0 \\mod q$$\n"
   ]
  },
  {
   "cell_type": "markdown",
   "id": "09c713a6-5ade-47d2-8da6-e18e583334d7",
   "metadata": {},
   "source": [
    "### Análise\n",
    "\n",
    "Para resolver o problema do SVP, decidimos usar duas famílias de variáveis, uma binária e outra inteira.\n",
    "\n",
    "A família de variáveis binárias $e_{j,l}$ é definida com a seguinte semântica, para $l \\in \\{0,1,2\\}$ e $0 <= j < m$:\n",
    "\n",
    "$$e_{j,0} == 1 \\quad \\mbox{se e só se} \\quad e[j] == -1$$\n",
    "$$e_{j,1} == 1 \\quad \\mbox{se e só se} \\quad e[j] == 0$$\n",
    "$$e_{j,2} == 1 \\quad \\mbox{se e só se} \\quad e[j] == 1$$\n",
    "\n",
    "A família de variáveis inteiras $k_{i}$, para $i < n$ servirá para conseguir iterar pelos números inteiros, de modo a se encontrar os múltiplos de $q$ para cada resultado da multiplicação entre $e$ e $L$.\n",
    "\n",
    "O problema dispõe de restrições que deverão ser tratadas:\n",
    "\n",
    "1. Para cada posição $j < m$ de $e$, $e[j]$ só admite um único valor;\n",
    "2. Pelo menos um elemento de $e$ tem de ser não nulo;\n",
    "3. Multiplicar o vetor $e$ pela matriz $L$ deve resultar num vetor de múltiplos de $q$.\n",
    "\n",
    "Do mesmo modo, o problema admite a seguinte optimização:\n",
    "\n",
    "1. Maximizar o número de componentes nulas de $e$."
   ]
  },
  {
   "cell_type": "markdown",
   "id": "73169407",
   "metadata": {},
   "source": [
    "## Implementação\n",
    "\n",
    "Para a resolução do problema, utilizaremos a biblioteca de programação linear do $OR-Tools$, o $pywraplp$. Portanto, começamos por instalar o OR-Tools, importar a biblioteca e inicializar o $solver$, que chamaremos de 'solver'."
   ]
  },
  {
   "cell_type": "code",
   "execution_count": 1,
   "id": "4c4395ac",
   "metadata": {},
   "outputs": [
    {
     "name": "stdout",
     "output_type": "stream",
     "text": [
      "Requirement already satisfied: ortools in c:\\users\\paapm\\anaconda3\\envs\\logica\\lib\\site-packages (9.4.1874)\n",
      "Requirement already satisfied: protobuf>=3.19.4 in c:\\users\\paapm\\anaconda3\\envs\\logica\\lib\\site-packages (from ortools) (4.21.6)\n",
      "Requirement already satisfied: numpy>=1.13.3 in c:\\users\\paapm\\anaconda3\\envs\\logica\\lib\\site-packages (from ortools) (1.23.3)\n",
      "Requirement already satisfied: absl-py>=0.13 in c:\\users\\paapm\\anaconda3\\envs\\logica\\lib\\site-packages (from ortools) (1.2.0)\n"
     ]
    }
   ],
   "source": [
    "!pip install ortools"
   ]
  },
  {
   "cell_type": "code",
   "execution_count": 2,
   "id": "70407e94",
   "metadata": {},
   "outputs": [],
   "source": [
    "from ortools.linear_solver import pywraplp\n",
    "solver = pywraplp.Solver.CreateSolver('SCIP')\n",
    "import numpy"
   ]
  },
  {
   "cell_type": "markdown",
   "id": "a8d9c3f9",
   "metadata": {},
   "source": [
    "Como exemplo introdutório, daremos os seguintes valores aos 'inputs' do problema."
   ]
  },
  {
   "cell_type": "code",
   "execution_count": 3,
   "id": "48802c8c",
   "metadata": {},
   "outputs": [],
   "source": [
    "n = 3\n",
    "m = 8\n",
    "q = 17"
   ]
  },
  {
   "cell_type": "markdown",
   "id": "fc3f53a9",
   "metadata": {},
   "source": [
    "Para a família de variáveis binárias $e_{j,l}$, construíremos uma matriz de alocação $e$ de valores em $\\{0,1\\}^{M \\times 3}$, para representar as variáveis binárias. Para a família de variáveis inteiras $k_{i}$ declaramos um vetor $k \\in \\mathbb{Z}^{n}$ Declaramos ambos como dicionários:"
   ]
  },
  {
   "cell_type": "code",
   "execution_count": 4,
   "id": "a535f0af",
   "metadata": {},
   "outputs": [],
   "source": [
    "e = {}\n",
    "k = {}\n",
    "L = numpy.random.randint(-(q-1)/2, (q-1)/2, (m, n))\n",
    "\n",
    "for j in range(m):\n",
    "    e[j] = [solver.BoolVar('e[%i][-1]' % j),\n",
    "            solver.BoolVar('e[%i][0]' % j),\n",
    "            solver.BoolVar('e[%i][1]' % j)]\n",
    "for i in range(n):\n",
    "    k[i] = solver.IntVar(-solver.infinity(), solver.infinity(), 'k[%i]' % i)"
   ]
  },
  {
   "cell_type": "markdown",
   "id": "aa44bde1",
   "metadata": {},
   "source": [
    "### Restrições\n",
    "\n",
    "Nesta seccção, apresentamos as implementações das restrições ao problema.\n",
    "\n",
    "1. Para cada posição $j < m$ de $e$, $e[j]$ só admite um único valor;\n",
    "\n",
    "$$ \\forall_{j<m}, \\quad e_{j,0} + e_{j,1} + e_{j,2} == 1 $$"
   ]
  },
  {
   "cell_type": "code",
   "execution_count": 5,
   "id": "49082d37",
   "metadata": {},
   "outputs": [],
   "source": [
    "for j in range(m):\n",
    "    solver.Add(e[j][0] + e[j][1] + e[j][2] == 1)"
   ]
  },
  {
   "cell_type": "markdown",
   "id": "add877da",
   "metadata": {},
   "source": [
    "2. Pelo menos um elemento de $e$ tem de ser não nulo;\n",
    "\n",
    "Deste modo, o sumatório das variáveis $e_{j,1}$ não deve igualar o máximo de posições do vetor $e$, $m$.\n",
    "\n",
    "$$ \\sum_{j<m} e_{j,1} <= m-1 $$"
   ]
  },
  {
   "cell_type": "code",
   "execution_count": 6,
   "id": "38447b43",
   "metadata": {},
   "outputs": [
    {
     "data": {
      "text/plain": [
       "<ortools.linear_solver.pywraplp.Constraint; proxy of <Swig Object of type 'operations_research::MPConstraint *' at 0x000001A07FCB1020> >"
      ]
     },
     "execution_count": 6,
     "metadata": {},
     "output_type": "execute_result"
    }
   ],
   "source": [
    "solver.Add(sum([e[j][1] for j in range(m)]) <= m-1)"
   ]
  },
  {
   "cell_type": "markdown",
   "id": "3e080e2f",
   "metadata": {},
   "source": [
    "3. Multiplicar o vetor $e$ pela matriz $L$ deve resultar num vetor de múltiplos de $q$.\n",
    "\n",
    "Para cada valor de $j<m$, no máximo uma das variáveis $e_{j,0}$ e $e_{j,2}$ é igual a $1$, representando $-1$ e $1$, respetivamente. Desse modo:\n",
    "\n",
    "$$ \\forall_{j<m}, \\quad e[j] == (e_{j,2} - e_{j,0}) $$\n",
    "\n",
    "$$ \\forall_{i<n}, \\quad (\\sum_{j<m} (e_{j,2} - e_{j,0}) * L[j][i])  == q * k[i]$$"
   ]
  },
  {
   "cell_type": "code",
   "execution_count": 7,
   "id": "4af704d7",
   "metadata": {},
   "outputs": [],
   "source": [
    "for i in range(n):\n",
    "    solver.Add((sum([(e[j][2] - e[j][0])*L[j][i] for j in range(m)])) == q * k[i])"
   ]
  },
  {
   "cell_type": "markdown",
   "id": "de8a758d",
   "metadata": {},
   "source": [
    "### Otimização\n",
    "\n",
    "O critério de otimização para este problma é o seguinte:\n",
    "\n",
    "1. Maximizar o número de componentes nulas de $e$.\n",
    "\n",
    "$$ max (\\sum_{j<m} e_{j,1}) $$"
   ]
  },
  {
   "cell_type": "code",
   "execution_count": 8,
   "id": "04e27a67",
   "metadata": {},
   "outputs": [],
   "source": [
    "solver.Maximize(sum([e[j][1] for j in range(m)]))"
   ]
  },
  {
   "cell_type": "markdown",
   "id": "a514d5d0",
   "metadata": {},
   "source": [
    "Por fim, tenta-se calcular uma solução:"
   ]
  },
  {
   "cell_type": "code",
   "execution_count": 9,
   "id": "32cc8e23",
   "metadata": {},
   "outputs": [
    {
     "name": "stdout",
     "output_type": "stream",
     "text": [
      "[[ 4 -3 -6]\n",
      " [-6  2  2]\n",
      " [-2 -1 -5]\n",
      " [ 5  0 -2]\n",
      " [ 7  2 -2]\n",
      " [-6 -4  4]\n",
      " [ 6 -4  7]\n",
      " [-7  4 -1]]\n",
      "\n",
      "-1.0 0.0 0.0 \n",
      "0 1 0 -1 -1 0 -1 -1 "
     ]
    }
   ],
   "source": [
    "status = solver.Solve()\n",
    "if status == pywraplp.Solver.OPTIMAL:\n",
    "    print(L)\n",
    "    print(\"\")\n",
    "    for i in range(n):\n",
    "        print(k[i].solution_value(), end = \" \")\n",
    "    print(\"\")\n",
    "    for j in range(m):\n",
    "        for k in range(3):\n",
    "            if e[j][k].solution_value():\n",
    "                print(k-1, end = \" \")\n",
    "else:\n",
    "    print(L)\n",
    "    print(\"Não é possível resolver o problema\")"
   ]
  },
  {
   "cell_type": "markdown",
   "id": "0e556a5b",
   "metadata": {},
   "source": [
    "## Exemplos\n",
    "\n",
    "Nesta seccção, experimentamos com valores progressivamente maiores de $n$, o que necessariamente aumenta a complexidade do problema, tal como, na nossa experiência, a duração e a probabilidade de não haver solução.\n",
    "\n",
    "De modo a facilitar a testagem dos exemplos, na célula colapsada seguinte encontra-se a função $SVP(m,n,q)$. Esta função compõe todos os passos da implementação."
   ]
  },
  {
   "cell_type": "code",
   "execution_count": 10,
   "id": "e68b5981-a63b-463f-a987-f59a51d01030",
   "metadata": {
    "tags": []
   },
   "outputs": [],
   "source": [
    "from ortools.linear_solver import pywraplp\n",
    "import numpy\n",
    "\n",
    "#  n  > 30, impossível\n",
    "# |m| > 1 + |n|\n",
    "# |q| > |m|\n",
    "\n",
    "def SVP(n,m,q):\n",
    "    solver = pywraplp.Solver.CreateSolver('SCIP')\n",
    "    L = numpy.random.randint(-(q-1)/2, (q-1)/2, (m, n))\n",
    "    e = {}\n",
    "    k = {}\n",
    "    #e é um vetor de tamanho m com valores inteiros -1, 0 ou 1\n",
    "    for j in range(m):\n",
    "        e[j] = [solver.BoolVar('e[%i][-1]' % j),\n",
    "                solver.BoolVar('e[%i][0]' % j),\n",
    "                solver.BoolVar('e[%i][1]' % j)]\n",
    "        #1. e só pode ter um elemento por cada j\n",
    "        solver.Add(e[j][0] + e[j][1] + e[j][2] == 1)\n",
    "    \n",
    "            \n",
    "    #k é um vetor de tamanho n com valores inteiros\n",
    "    for i in range(n):\n",
    "        k[i] = solver.IntVar(-solver.infinity(), solver.infinity(), 'k[%i]' % i)\n",
    "    \n",
    "    #2. Tem de existir um elemento não nulo em e\n",
    "    solver.Add(sum([e[j][1] for j in range(m)]) <= m-1)\n",
    "    \n",
    "    #3. Multiplicar e por L deve resultar num vetor de múltiplos de q\n",
    "    for i in range(n):\n",
    "        solver.Add((sum([(e[j][2] - e[j][0])*L[j][i] for j in range(m)])) == q * k[i])\n",
    "    \n",
    "    solver.Maximize(sum([e[j][1] for j in range(m)]))\n",
    "    status = solver.Solve()\n",
    "    if status == pywraplp.Solver.OPTIMAL:\n",
    "        print(\"e:\")\n",
    "        print(\"[\", end = \" \")\n",
    "        for j in range(m):\n",
    "            for p in range(3):\n",
    "                if e[j][p].solution_value():\n",
    "                    print(p-1, end = \" \")\n",
    "        print(\"]\", end = \" \")\n",
    "        print(\"\\n\\nL:\")\n",
    "        print(L)\n",
    "        print(\"\")\n",
    "        print(\"k:\")\n",
    "        print(\"[\", end = \" \")\n",
    "        for i in range(n):\n",
    "            print (k[i].solution_value(),end= \" \")\n",
    "        print(\"]\", end = \" \")\n",
    "        print(\"\")\n",
    "        return (print(\"Solução computada com sucesso!\"))\n",
    "    else:\n",
    "        print(L)\n",
    "        print(\"Não é possível resolver o problema\")\n",
    "        return False"
   ]
  },
  {
   "cell_type": "markdown",
   "id": "316c018f",
   "metadata": {},
   "source": [
    "### Exemplo 1"
   ]
  },
  {
   "cell_type": "code",
   "execution_count": 11,
   "id": "9d5a9b59",
   "metadata": {},
   "outputs": [
    {
     "name": "stdout",
     "output_type": "stream",
     "text": [
      "e:\n",
      "[ 0 0 0 -1 ] \n",
      "\n",
      "L:\n",
      "[[-4]\n",
      " [-2]\n",
      " [-1]\n",
      " [ 0]]\n",
      "\n",
      "k:\n",
      "[ 0.0 ] \n",
      "Solução computada com sucesso!\n"
     ]
    }
   ],
   "source": [
    "SVP(1, 4, 11)"
   ]
  },
  {
   "cell_type": "markdown",
   "id": "7e701919",
   "metadata": {},
   "source": [
    "### Exemplo 2 "
   ]
  },
  {
   "cell_type": "code",
   "execution_count": 12,
   "id": "9e23b511",
   "metadata": {},
   "outputs": [
    {
     "name": "stdout",
     "output_type": "stream",
     "text": [
      "e:\n",
      "[ 1 -1 0 0 -1 0 1 -1 ] \n",
      "\n",
      "L:\n",
      "[[-4  4 -4]\n",
      " [-3 -1  0]\n",
      " [ 4 -2  3]\n",
      " [ 3 -2  2]\n",
      " [ 4 -1  3]\n",
      " [ 3  4  4]\n",
      " [ 3 -5 -1]\n",
      " [-2  1  3]]\n",
      "\n",
      "k:\n",
      "[ 0.0 0.0 -1.0 ] \n",
      "Solução computada com sucesso!\n"
     ]
    }
   ],
   "source": [
    "SVP(3, 8, 11)"
   ]
  },
  {
   "cell_type": "markdown",
   "id": "353bfd41",
   "metadata": {
    "tags": []
   },
   "source": [
    "### Exemplo 3"
   ]
  },
  {
   "cell_type": "code",
   "execution_count": 13,
   "id": "90dced82",
   "metadata": {},
   "outputs": [
    {
     "name": "stdout",
     "output_type": "stream",
     "text": [
      "[[  0  -7 -13  -2   9]\n",
      " [-17  16 -15   1 -15]\n",
      " [ 16 -13   0   0   9]\n",
      " [  6  -5 -15  -7   6]\n",
      " [ 16 -14 -11   2 -10]\n",
      " [-15  -4   4   4  -2]\n",
      " [ 10  -3  14   9   7]\n",
      " [  4  -2   3 -11   5]\n",
      " [  9  -8   0  16   7]\n",
      " [ -2   3  -4   8   2]\n",
      " [ 14 -17 -11  -8  14]\n",
      " [-14   4  -1   8  16]\n",
      " [ -8 -17   4   9   6]\n",
      " [ -2  -1 -13   3 -16]\n",
      " [  7  -1 -15  -5   2]\n",
      " [-17  13   4 -13  -7]]\n",
      "Não é possível resolver o problema\n"
     ]
    },
    {
     "data": {
      "text/plain": [
       "False"
      ]
     },
     "execution_count": 13,
     "metadata": {},
     "output_type": "execute_result"
    }
   ],
   "source": [
    "SVP(5, 16, 37)"
   ]
  },
  {
   "cell_type": "markdown",
   "id": "d24e8d87",
   "metadata": {},
   "source": [
    "### Exemplo 4"
   ]
  },
  {
   "cell_type": "code",
   "execution_count": 14,
   "id": "23532893",
   "metadata": {},
   "outputs": [
    {
     "name": "stdout",
     "output_type": "stream",
     "text": [
      "[[ -8  13   6   1 -11  -4  -2]\n",
      " [ 13  -8   8 -11  10 -13  -7]\n",
      " [  9 -17   2  -3  -6   1 -16]\n",
      " [ -4   3  -5 -13  -4   7 -13]\n",
      " [-17 -18  -7  -6  -8 -15 -15]\n",
      " [ -4 -17   9  15  -4   2   6]\n",
      " [-15 -11  16   9  -6   1 -15]\n",
      " [ -4   3   7   1 -14  15   7]\n",
      " [  7  -6  -2   9 -11   3   0]\n",
      " [  9 -14  17  -6 -15 -12 -14]\n",
      " [ 15  -5   3   4  -8 -16  -2]\n",
      " [ -9  -8  -3  13  -2  -9  13]\n",
      " [ -4   6  10  -5  -9  14 -13]\n",
      " [  8 -17   0  12  13  -3 -13]\n",
      " [  6 -15   4   1  -9 -11   7]\n",
      " [ -7  11 -12  17 -14 -15   0]]\n",
      "Não é possível resolver o problema\n"
     ]
    },
    {
     "data": {
      "text/plain": [
       "False"
      ]
     },
     "execution_count": 14,
     "metadata": {},
     "output_type": "execute_result"
    }
   ],
   "source": [
    "SVP(7, 16, 37)"
   ]
  }
 ],
 "metadata": {
  "kernelspec": {
   "display_name": "Python 3 (ipykernel)",
   "language": "python",
   "name": "python3"
  },
  "language_info": {
   "codemirror_mode": {
    "name": "ipython",
    "version": 3
   },
   "file_extension": ".py",
   "mimetype": "text/x-python",
   "name": "python",
   "nbconvert_exporter": "python",
   "pygments_lexer": "ipython3",
   "version": "3.10.4"
  }
 },
 "nbformat": 4,
 "nbformat_minor": 5
}
